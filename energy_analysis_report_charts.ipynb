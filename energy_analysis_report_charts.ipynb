{
 "cells": [
  {
   "cell_type": "code",
   "execution_count": 2,
   "metadata": {},
   "outputs": [
    {
     "name": "stdout",
     "output_type": "stream",
     "text": [
      "d:\\Users\\sean.ogara\\Documents\\ons-energy-analysis\n"
     ]
    }
   ],
   "source": [
    "%cd \"D:\\Users\\sean.ogara\\Documents\\ons-energy-analysis\""
   ]
  },
  {
   "cell_type": "code",
   "execution_count": 3,
   "metadata": {},
   "outputs": [],
   "source": [
    "import pandas as pd\n",
    "import plotly.express as px\n",
    "import matplotlib.pyplot as plt\n",
    "import numpy as np\n",
    "import seaborn as sns\n",
    "import statsmodels.api as sm\n",
    "from sklearn.preprocessing import StandardScaler\n",
    "\n",
    "from src.visualisations.scatter_chart import scatter_chart"
   ]
  },
  {
   "cell_type": "code",
   "execution_count": 4,
   "metadata": {},
   "outputs": [],
   "source": [
    "electricity_price_data = pd.read_csv(\"data/processed/global_electricity_household_prices.csv\")"
   ]
  },
  {
   "cell_type": "code",
   "execution_count": 22,
   "metadata": {},
   "outputs": [
    {
     "name": "stderr",
     "output_type": "stream",
     "text": [
      "D:\\Users\\sean.ogara\\AppData\\Local\\Temp\\1/ipykernel_7172/3707468962.py:17: UserWarning: Matplotlib is currently using module://matplotlib_inline.backend_inline, which is a non-GUI backend, so cannot show the figure.\n",
      "  fig.show()\n"
     ]
    },
    {
     "data": {
      "image/png": "[encoded data removed]",
      "text/plain": [
       "<Figure size 576x432 with 1 Axes>"
      ]
     },
     "metadata": {
      "needs_background": "light"
     },
     "output_type": "display_data"
    }
   ],
   "source": [
    "#distribution of prices\n",
    "num_bins = 20\n",
    "fig, ax = plt.subplots(figsize=(8, 6))\n",
    "n, bins, patches = ax.hist(electricity_price_data['price'], num_bins,\n",
    "                            density = 1,\n",
    "                            color ='#80b1d3',\n",
    "                            alpha = 1)\n",
    "#add uk elec price\n",
    "ax.axvline(x=0.387, ymin=0, ymax=0.9, color='grey', linestyle='--')\n",
    "ax.set_ylabel('Count', fontname=\"Arial\", size=14)\n",
    "ax.set_xlabel('Price (£/kWh)', fontname=\"Arial\", size=14)\n",
    "ax.grid(which='major', axis='y', c='lightgrey')\n",
    "ax.set(axisbelow=True)\n",
    "ax.tick_params(axis='both', which='both', length=0)\n",
    "ax.spines[['top','right', 'bottom', 'left']].set_visible(False)\n",
    "\n",
    "fig.show()"
   ]
  },
  {
   "cell_type": "code",
   "execution_count": 23,
   "metadata": {},
   "outputs": [
    {
     "name": "stderr",
     "output_type": "stream",
     "text": [
      "D:\\Users\\sean.ogara\\AppData\\Local\\Temp\\1/ipykernel_7172/1633594305.py:17: UserWarning: Matplotlib is currently using module://matplotlib_inline.backend_inline, which is a non-GUI backend, so cannot show the figure.\n",
      "  fig.show()\n"
     ]
    },
    {
     "data": {
      "image/png": "[encoded data removed]",
      "text/plain": [
       "<Figure size 576x432 with 1 Axes>"
      ]
     },
     "metadata": {
      "needs_background": "light"
     },
     "output_type": "display_data"
    }
   ],
   "source": [
    "#cumlative distribution of prices\n",
    "num_bins = 20\n",
    "fig, ax = plt.subplots(figsize=(8, 6))\n",
    "n, bins, patches = ax.hist(electricity_price_data['price'], num_bins,\n",
    "                            density =1,\n",
    "                            color ='#8dd3c7',\n",
    "                            alpha =1,\n",
    "                            cumulative=True)\n",
    "ax.axvline(x=0.387, ymin=0, ymax=0.9, color='grey', linestyle='--')\n",
    "ax.set_ylabel('Proportion', fontname=\"Arial\", size=14)\n",
    "ax.set_xlabel('Price (£/kWh)', fontname=\"Arial\", size=14)\n",
    "ax.grid(which='major', axis='y', c='lightgrey')\n",
    "ax.set(axisbelow=True)\n",
    "ax.tick_params(axis='both', which='both', length=0)\n",
    "ax.spines[['top','right', 'bottom', 'left']].set_visible(False)\n",
    "\n",
    "fig.show()"
   ]
  }
 ],
 "metadata": {
  "kernelspec": {
   "display_name": "Python 3.9.7 ('base')",
   "language": "python",
   "name": "python3"
  },
  "language_info": {
   "codemirror_mode": {
    "name": "ipython",
    "version": 3
   },
   "file_extension": ".py",
   "mimetype": "text/x-python",
   "name": "python",
   "nbconvert_exporter": "python",
   "pygments_lexer": "ipython3",
   "version": "3.9.7"
  },
  "orig_nbformat": 4,
  "vscode": {
   "interpreter": {
    "hash": "caf831573a0ff294614842876d2763885d6da16fb80bd95fae4076843946dd1d"
   }
  }
 },
 "nbformat": 4,
 "nbformat_minor": 2
}
