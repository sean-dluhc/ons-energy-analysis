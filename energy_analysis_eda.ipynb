{
 "cells": [
  {
   "cell_type": "code",
   "execution_count": 1,
   "metadata": {},
   "outputs": [
    {
     "name": "stdout",
     "output_type": "stream",
     "text": [
      "d:\\Users\\sean.ogara\\Documents\\ons-energy-analysis\n"
     ]
    }
   ],
   "source": [
    "%cd \"D:\\Users\\sean.ogara\\Documents\\ons-energy-analysis\""
   ]
  },
  {
   "cell_type": "code",
   "execution_count": 2,
   "metadata": {},
   "outputs": [],
   "source": [
    "import pandas as pd\n",
    "import plotly.express as px\n",
    "import matplotlib.pyplot as plt\n",
    "import numpy as np\n",
    "import seaborn as sns\n",
    "import statsmodels.api as sm\n",
    "from sklearn.preprocessing import StandardScaler\n",
    "\n",
    "from src.visualisations.scatter_chart import scatter_chart"
   ]
  },
  {
   "cell_type": "code",
   "execution_count": 3,
   "metadata": {},
   "outputs": [
    {
     "data": {
      "text/html": [
       "<div>\n",
       "<style scoped>\n",
       "    .dataframe tbody tr th:only-of-type {\n",
       "        vertical-align: middle;\n",
       "    }\n",
       "\n",
       "    .dataframe tbody tr th {\n",
       "        vertical-align: top;\n",
       "    }\n",
       "\n",
       "    .dataframe thead th {\n",
       "        text-align: right;\n",
       "    }\n",
       "</style>\n",
       "<table border=\"1\" class=\"dataframe\">\n",
       "  <thead>\n",
       "    <tr style=\"text-align: right;\">\n",
       "      <th></th>\n",
       "      <th>country</th>\n",
       "      <th>iso2</th>\n",
       "      <th>iso3</th>\n",
       "      <th>price</th>\n",
       "    </tr>\n",
       "  </thead>\n",
       "  <tbody>\n",
       "    <tr>\n",
       "      <th>0</th>\n",
       "      <td>Lebanon</td>\n",
       "      <td>LB</td>\n",
       "      <td>LBN</td>\n",
       "      <td>0.001</td>\n",
       "    </tr>\n",
       "    <tr>\n",
       "      <th>1</th>\n",
       "      <td>Iran</td>\n",
       "      <td>IR</td>\n",
       "      <td>IRN</td>\n",
       "      <td>0.002</td>\n",
       "    </tr>\n",
       "    <tr>\n",
       "      <th>2</th>\n",
       "      <td>Syria</td>\n",
       "      <td>SY</td>\n",
       "      <td>SYR</td>\n",
       "      <td>0.004</td>\n",
       "    </tr>\n",
       "    <tr>\n",
       "      <th>3</th>\n",
       "      <td>Ethiopia</td>\n",
       "      <td>ET</td>\n",
       "      <td>ETH</td>\n",
       "      <td>0.005</td>\n",
       "    </tr>\n",
       "    <tr>\n",
       "      <th>4</th>\n",
       "      <td>Sudan</td>\n",
       "      <td>SD</td>\n",
       "      <td>SDN</td>\n",
       "      <td>0.007</td>\n",
       "    </tr>\n",
       "  </tbody>\n",
       "</table>\n",
       "</div>"
      ],
      "text/plain": [
       "    country iso2 iso3  price\n",
       "0   Lebanon   LB  LBN  0.001\n",
       "1      Iran   IR  IRN  0.002\n",
       "2     Syria   SY  SYR  0.004\n",
       "3  Ethiopia   ET  ETH  0.005\n",
       "4     Sudan   SD  SDN  0.007"
      ]
     },
     "execution_count": 3,
     "metadata": {},
     "output_type": "execute_result"
    }
   ],
   "source": [
    "electricity_price_data = pd.read_csv(\"data/processed/global_electricity_household_prices.csv\")\n",
    "electricity_price_data.head()"
   ]
  },
  {
   "cell_type": "code",
   "execution_count": 4,
   "metadata": {},
   "outputs": [
    {
     "data": {
      "image/png": "[encoded data removed]",
      "text/plain": [
       "<Figure size 432x288 with 1 Axes>"
      ]
     },
     "metadata": {
      "needs_background": "light"
     },
     "output_type": "display_data"
    }
   ],
   "source": [
    "#distribution of prices\n",
    "num_bins = 20\n",
    "n, bins, patches = plt.hist(electricity_price_data['price'], num_bins,\n",
    "                            density = 1,\n",
    "                            color ='#80b1d3',\n",
    "                            alpha = 0.7)\n",
    "\n",
    "plt.xlabel('Price (£/kWh)')\n",
    "plt.ylabel('Count')\n",
    "plt.title('International Electricty Prices December 2022',\n",
    "          fontweight = 'bold')\n",
    "plt.show()"
   ]
  },
  {
   "cell_type": "code",
   "execution_count": 5,
   "metadata": {},
   "outputs": [
    {
     "data": {
      "image/png": "[encoded data removed]",
      "text/plain": [
       "<Figure size 432x288 with 1 Axes>"
      ]
     },
     "metadata": {
      "needs_background": "light"
     },
     "output_type": "display_data"
    }
   ],
   "source": [
    "#distribution of prices\n",
    "num_bins = 20\n",
    "n, bins, patches = plt.hist(electricity_price_data['price'], num_bins,\n",
    "                            density = 1,\n",
    "                            color ='#8dd3c7',\n",
    "                            alpha = 0.7,\n",
    "                            cumulative=True)\n",
    "\n",
    "plt.xlabel('Price (£/kWh)')\n",
    "plt.ylabel('Proportion')\n",
    "plt.title('International Electricty Prices December 2022',\n",
    "          fontweight = 'bold')\n",
    "plt.show()"
   ]
  },
  {
   "cell_type": "code",
   "execution_count": 6,
   "metadata": {},
   "outputs": [
    {
     "data": {
      "text/plain": [
       "0.13707586206896552"
      ]
     },
     "execution_count": 6,
     "metadata": {},
     "output_type": "execute_result"
    }
   ],
   "source": [
    "#global mean price\n",
    "global_mean_price = electricity_price_data['price'].mean()\n",
    "global_mean_price"
   ]
  },
  {
   "cell_type": "code",
   "execution_count": 7,
   "metadata": {},
   "outputs": [
    {
     "data": {
      "text/plain": [
       "0.387"
      ]
     },
     "execution_count": 7,
     "metadata": {},
     "output_type": "execute_result"
    }
   ],
   "source": [
    "#uk price\n",
    "uk_price = electricity_price_data[electricity_price_data['iso2'] == 'GB']['price'].values[0]\n",
    "uk_price"
   ]
  },
  {
   "cell_type": "code",
   "execution_count": 8,
   "metadata": {},
   "outputs": [
    {
     "data": {
      "text/plain": [
       "2.823254175890521"
      ]
     },
     "execution_count": 8,
     "metadata": {},
     "output_type": "execute_result"
    }
   ],
   "source": [
    "#ratio between uk and global mean\n",
    "uk_price / global_mean_price"
   ]
  },
  {
   "cell_type": "code",
   "execution_count": 9,
   "metadata": {},
   "outputs": [
    {
     "data": {
      "text/html": [
       "<div>\n",
       "<style scoped>\n",
       "    .dataframe tbody tr th:only-of-type {\n",
       "        vertical-align: middle;\n",
       "    }\n",
       "\n",
       "    .dataframe tbody tr th {\n",
       "        vertical-align: top;\n",
       "    }\n",
       "\n",
       "    .dataframe thead th {\n",
       "        text-align: right;\n",
       "    }\n",
       "</style>\n",
       "<table border=\"1\" class=\"dataframe\">\n",
       "  <thead>\n",
       "    <tr style=\"text-align: right;\">\n",
       "      <th></th>\n",
       "      <th>country</th>\n",
       "      <th>year</th>\n",
       "      <th>iso_code</th>\n",
       "      <th>population</th>\n",
       "      <th>gdp</th>\n",
       "      <th>biofuel_cons_change_pct</th>\n",
       "      <th>biofuel_cons_change_twh</th>\n",
       "      <th>biofuel_cons_per_capita</th>\n",
       "      <th>biofuel_consumption</th>\n",
       "      <th>biofuel_elec_per_capita</th>\n",
       "      <th>...</th>\n",
       "      <th>solar_share_elec</th>\n",
       "      <th>solar_share_energy</th>\n",
       "      <th>wind_cons_change_pct</th>\n",
       "      <th>wind_cons_change_twh</th>\n",
       "      <th>wind_consumption</th>\n",
       "      <th>wind_elec_per_capita</th>\n",
       "      <th>wind_electricity</th>\n",
       "      <th>wind_energy_per_capita</th>\n",
       "      <th>wind_share_elec</th>\n",
       "      <th>wind_share_energy</th>\n",
       "    </tr>\n",
       "  </thead>\n",
       "  <tbody>\n",
       "    <tr>\n",
       "      <th>22007</th>\n",
       "      <td>Zimbabwe</td>\n",
       "      <td>2018</td>\n",
       "      <td>ZWE</td>\n",
       "      <td>15052191.0</td>\n",
       "      <td>2.271535e+10</td>\n",
       "      <td>NaN</td>\n",
       "      <td>NaN</td>\n",
       "      <td>NaN</td>\n",
       "      <td>NaN</td>\n",
       "      <td>25.910</td>\n",
       "      <td>...</td>\n",
       "      <td>0.218</td>\n",
       "      <td>NaN</td>\n",
       "      <td>NaN</td>\n",
       "      <td>NaN</td>\n",
       "      <td>NaN</td>\n",
       "      <td>0.0</td>\n",
       "      <td>0.0</td>\n",
       "      <td>NaN</td>\n",
       "      <td>0.0</td>\n",
       "      <td>NaN</td>\n",
       "    </tr>\n",
       "    <tr>\n",
       "      <th>22008</th>\n",
       "      <td>Zimbabwe</td>\n",
       "      <td>2019</td>\n",
       "      <td>ZWE</td>\n",
       "      <td>15354606.0</td>\n",
       "      <td>NaN</td>\n",
       "      <td>NaN</td>\n",
       "      <td>NaN</td>\n",
       "      <td>NaN</td>\n",
       "      <td>NaN</td>\n",
       "      <td>24.748</td>\n",
       "      <td>...</td>\n",
       "      <td>0.364</td>\n",
       "      <td>NaN</td>\n",
       "      <td>NaN</td>\n",
       "      <td>NaN</td>\n",
       "      <td>NaN</td>\n",
       "      <td>0.0</td>\n",
       "      <td>0.0</td>\n",
       "      <td>NaN</td>\n",
       "      <td>0.0</td>\n",
       "      <td>NaN</td>\n",
       "    </tr>\n",
       "    <tr>\n",
       "      <th>22009</th>\n",
       "      <td>Zimbabwe</td>\n",
       "      <td>2020</td>\n",
       "      <td>ZWE</td>\n",
       "      <td>15669663.0</td>\n",
       "      <td>NaN</td>\n",
       "      <td>NaN</td>\n",
       "      <td>NaN</td>\n",
       "      <td>NaN</td>\n",
       "      <td>NaN</td>\n",
       "      <td>22.336</td>\n",
       "      <td>...</td>\n",
       "      <td>0.395</td>\n",
       "      <td>NaN</td>\n",
       "      <td>NaN</td>\n",
       "      <td>NaN</td>\n",
       "      <td>NaN</td>\n",
       "      <td>0.0</td>\n",
       "      <td>0.0</td>\n",
       "      <td>NaN</td>\n",
       "      <td>0.0</td>\n",
       "      <td>NaN</td>\n",
       "    </tr>\n",
       "    <tr>\n",
       "      <th>22010</th>\n",
       "      <td>Zimbabwe</td>\n",
       "      <td>2021</td>\n",
       "      <td>ZWE</td>\n",
       "      <td>15993525.0</td>\n",
       "      <td>NaN</td>\n",
       "      <td>NaN</td>\n",
       "      <td>NaN</td>\n",
       "      <td>NaN</td>\n",
       "      <td>NaN</td>\n",
       "      <td>23.760</td>\n",
       "      <td>...</td>\n",
       "      <td>0.498</td>\n",
       "      <td>NaN</td>\n",
       "      <td>NaN</td>\n",
       "      <td>NaN</td>\n",
       "      <td>NaN</td>\n",
       "      <td>0.0</td>\n",
       "      <td>0.0</td>\n",
       "      <td>NaN</td>\n",
       "      <td>0.0</td>\n",
       "      <td>NaN</td>\n",
       "    </tr>\n",
       "    <tr>\n",
       "      <th>22011</th>\n",
       "      <td>Zimbabwe</td>\n",
       "      <td>2022</td>\n",
       "      <td>ZWE</td>\n",
       "      <td>16320539.0</td>\n",
       "      <td>NaN</td>\n",
       "      <td>NaN</td>\n",
       "      <td>NaN</td>\n",
       "      <td>NaN</td>\n",
       "      <td>NaN</td>\n",
       "      <td>NaN</td>\n",
       "      <td>...</td>\n",
       "      <td>NaN</td>\n",
       "      <td>NaN</td>\n",
       "      <td>NaN</td>\n",
       "      <td>NaN</td>\n",
       "      <td>NaN</td>\n",
       "      <td>NaN</td>\n",
       "      <td>NaN</td>\n",
       "      <td>NaN</td>\n",
       "      <td>NaN</td>\n",
       "      <td>NaN</td>\n",
       "    </tr>\n",
       "  </tbody>\n",
       "</table>\n",
       "<p>5 rows × 129 columns</p>\n",
       "</div>"
      ],
      "text/plain": [
       "        country  year iso_code  population           gdp  \\\n",
       "22007  Zimbabwe  2018      ZWE  15052191.0  2.271535e+10   \n",
       "22008  Zimbabwe  2019      ZWE  15354606.0           NaN   \n",
       "22009  Zimbabwe  2020      ZWE  15669663.0           NaN   \n",
       "22010  Zimbabwe  2021      ZWE  15993525.0           NaN   \n",
       "22011  Zimbabwe  2022      ZWE  16320539.0           NaN   \n",
       "\n",
       "       biofuel_cons_change_pct  biofuel_cons_change_twh  \\\n",
       "22007                      NaN                      NaN   \n",
       "22008                      NaN                      NaN   \n",
       "22009                      NaN                      NaN   \n",
       "22010                      NaN                      NaN   \n",
       "22011                      NaN                      NaN   \n",
       "\n",
       "       biofuel_cons_per_capita  biofuel_consumption  biofuel_elec_per_capita  \\\n",
       "22007                      NaN                  NaN                   25.910   \n",
       "22008                      NaN                  NaN                   24.748   \n",
       "22009                      NaN                  NaN                   22.336   \n",
       "22010                      NaN                  NaN                   23.760   \n",
       "22011                      NaN                  NaN                      NaN   \n",
       "\n",
       "       ...  solar_share_elec  solar_share_energy  wind_cons_change_pct  \\\n",
       "22007  ...             0.218                 NaN                   NaN   \n",
       "22008  ...             0.364                 NaN                   NaN   \n",
       "22009  ...             0.395                 NaN                   NaN   \n",
       "22010  ...             0.498                 NaN                   NaN   \n",
       "22011  ...               NaN                 NaN                   NaN   \n",
       "\n",
       "       wind_cons_change_twh  wind_consumption  wind_elec_per_capita  \\\n",
       "22007                   NaN               NaN                   0.0   \n",
       "22008                   NaN               NaN                   0.0   \n",
       "22009                   NaN               NaN                   0.0   \n",
       "22010                   NaN               NaN                   0.0   \n",
       "22011                   NaN               NaN                   NaN   \n",
       "\n",
       "       wind_electricity  wind_energy_per_capita  wind_share_elec  \\\n",
       "22007               0.0                     NaN              0.0   \n",
       "22008               0.0                     NaN              0.0   \n",
       "22009               0.0                     NaN              0.0   \n",
       "22010               0.0                     NaN              0.0   \n",
       "22011               NaN                     NaN              NaN   \n",
       "\n",
       "       wind_share_energy  \n",
       "22007                NaN  \n",
       "22008                NaN  \n",
       "22009                NaN  \n",
       "22010                NaN  \n",
       "22011                NaN  \n",
       "\n",
       "[5 rows x 129 columns]"
      ]
     },
     "execution_count": 9,
     "metadata": {},
     "output_type": "execute_result"
    }
   ],
   "source": [
    "#bring in energy mix data\n",
    "energy_mix_data = pd.read_csv(\"data/raw/owid-energy-data.csv\")\n",
    "energy_mix_data.tail()"
   ]
  },
  {
   "cell_type": "code",
   "execution_count": 10,
   "metadata": {},
   "outputs": [
    {
     "data": {
      "text/html": [
       "<div>\n",
       "<style scoped>\n",
       "    .dataframe tbody tr th:only-of-type {\n",
       "        vertical-align: middle;\n",
       "    }\n",
       "\n",
       "    .dataframe tbody tr th {\n",
       "        vertical-align: top;\n",
       "    }\n",
       "\n",
       "    .dataframe thead th {\n",
       "        text-align: right;\n",
       "    }\n",
       "</style>\n",
       "<table border=\"1\" class=\"dataframe\">\n",
       "  <thead>\n",
       "    <tr style=\"text-align: right;\">\n",
       "      <th></th>\n",
       "      <th>country</th>\n",
       "      <th>year</th>\n",
       "      <th>iso_code</th>\n",
       "      <th>population</th>\n",
       "      <th>gdp</th>\n",
       "      <th>biofuel_cons_change_pct</th>\n",
       "      <th>biofuel_cons_change_twh</th>\n",
       "      <th>biofuel_cons_per_capita</th>\n",
       "      <th>biofuel_consumption</th>\n",
       "      <th>biofuel_elec_per_capita</th>\n",
       "      <th>...</th>\n",
       "      <th>solar_share_elec</th>\n",
       "      <th>solar_share_energy</th>\n",
       "      <th>wind_cons_change_pct</th>\n",
       "      <th>wind_cons_change_twh</th>\n",
       "      <th>wind_consumption</th>\n",
       "      <th>wind_elec_per_capita</th>\n",
       "      <th>wind_electricity</th>\n",
       "      <th>wind_energy_per_capita</th>\n",
       "      <th>wind_share_elec</th>\n",
       "      <th>wind_share_energy</th>\n",
       "    </tr>\n",
       "  </thead>\n",
       "  <tbody>\n",
       "    <tr>\n",
       "      <th>21</th>\n",
       "      <td>ASEAN (Ember)</td>\n",
       "      <td>2021</td>\n",
       "      <td>NaN</td>\n",
       "      <td>NaN</td>\n",
       "      <td>NaN</td>\n",
       "      <td>NaN</td>\n",
       "      <td>NaN</td>\n",
       "      <td>NaN</td>\n",
       "      <td>NaN</td>\n",
       "      <td>NaN</td>\n",
       "      <td>...</td>\n",
       "      <td>2.983</td>\n",
       "      <td>NaN</td>\n",
       "      <td>NaN</td>\n",
       "      <td>NaN</td>\n",
       "      <td>NaN</td>\n",
       "      <td>NaN</td>\n",
       "      <td>8.30</td>\n",
       "      <td>NaN</td>\n",
       "      <td>0.719</td>\n",
       "      <td>NaN</td>\n",
       "    </tr>\n",
       "    <tr>\n",
       "      <th>144</th>\n",
       "      <td>Afghanistan</td>\n",
       "      <td>2021</td>\n",
       "      <td>AFG</td>\n",
       "      <td>4.009946e+07</td>\n",
       "      <td>NaN</td>\n",
       "      <td>NaN</td>\n",
       "      <td>NaN</td>\n",
       "      <td>NaN</td>\n",
       "      <td>NaN</td>\n",
       "      <td>0.000</td>\n",
       "      <td>...</td>\n",
       "      <td>9.639</td>\n",
       "      <td>NaN</td>\n",
       "      <td>NaN</td>\n",
       "      <td>NaN</td>\n",
       "      <td>NaN</td>\n",
       "      <td>0.000</td>\n",
       "      <td>0.00</td>\n",
       "      <td>NaN</td>\n",
       "      <td>0.000</td>\n",
       "      <td>NaN</td>\n",
       "    </tr>\n",
       "    <tr>\n",
       "      <th>266</th>\n",
       "      <td>Africa</td>\n",
       "      <td>2021</td>\n",
       "      <td>NaN</td>\n",
       "      <td>1.393677e+09</td>\n",
       "      <td>NaN</td>\n",
       "      <td>27.27</td>\n",
       "      <td>0.238</td>\n",
       "      <td>0.796</td>\n",
       "      <td>1.11</td>\n",
       "      <td>2.705</td>\n",
       "      <td>...</td>\n",
       "      <td>2.040</td>\n",
       "      <td>0.835</td>\n",
       "      <td>19.233</td>\n",
       "      <td>9.431</td>\n",
       "      <td>59.609</td>\n",
       "      <td>14.989</td>\n",
       "      <td>20.89</td>\n",
       "      <td>42.771</td>\n",
       "      <td>2.489</td>\n",
       "      <td>1.062</td>\n",
       "    </tr>\n",
       "    <tr>\n",
       "      <th>324</th>\n",
       "      <td>Africa (EI)</td>\n",
       "      <td>2021</td>\n",
       "      <td>NaN</td>\n",
       "      <td>NaN</td>\n",
       "      <td>NaN</td>\n",
       "      <td>27.27</td>\n",
       "      <td>0.238</td>\n",
       "      <td>NaN</td>\n",
       "      <td>1.11</td>\n",
       "      <td>NaN</td>\n",
       "      <td>...</td>\n",
       "      <td>1.996</td>\n",
       "      <td>0.835</td>\n",
       "      <td>19.233</td>\n",
       "      <td>9.432</td>\n",
       "      <td>59.609</td>\n",
       "      <td>NaN</td>\n",
       "      <td>22.78</td>\n",
       "      <td>NaN</td>\n",
       "      <td>2.540</td>\n",
       "      <td>1.062</td>\n",
       "    </tr>\n",
       "    <tr>\n",
       "      <th>347</th>\n",
       "      <td>Africa (Ember)</td>\n",
       "      <td>2021</td>\n",
       "      <td>NaN</td>\n",
       "      <td>NaN</td>\n",
       "      <td>NaN</td>\n",
       "      <td>NaN</td>\n",
       "      <td>NaN</td>\n",
       "      <td>NaN</td>\n",
       "      <td>NaN</td>\n",
       "      <td>NaN</td>\n",
       "      <td>...</td>\n",
       "      <td>2.040</td>\n",
       "      <td>NaN</td>\n",
       "      <td>NaN</td>\n",
       "      <td>NaN</td>\n",
       "      <td>NaN</td>\n",
       "      <td>NaN</td>\n",
       "      <td>20.89</td>\n",
       "      <td>NaN</td>\n",
       "      <td>2.489</td>\n",
       "      <td>NaN</td>\n",
       "    </tr>\n",
       "  </tbody>\n",
       "</table>\n",
       "<p>5 rows × 129 columns</p>\n",
       "</div>"
      ],
      "text/plain": [
       "            country  year iso_code    population  gdp  \\\n",
       "21    ASEAN (Ember)  2021      NaN           NaN  NaN   \n",
       "144     Afghanistan  2021      AFG  4.009946e+07  NaN   \n",
       "266          Africa  2021      NaN  1.393677e+09  NaN   \n",
       "324     Africa (EI)  2021      NaN           NaN  NaN   \n",
       "347  Africa (Ember)  2021      NaN           NaN  NaN   \n",
       "\n",
       "     biofuel_cons_change_pct  biofuel_cons_change_twh  \\\n",
       "21                       NaN                      NaN   \n",
       "144                      NaN                      NaN   \n",
       "266                    27.27                    0.238   \n",
       "324                    27.27                    0.238   \n",
       "347                      NaN                      NaN   \n",
       "\n",
       "     biofuel_cons_per_capita  biofuel_consumption  biofuel_elec_per_capita  \\\n",
       "21                       NaN                  NaN                      NaN   \n",
       "144                      NaN                  NaN                    0.000   \n",
       "266                    0.796                 1.11                    2.705   \n",
       "324                      NaN                 1.11                      NaN   \n",
       "347                      NaN                  NaN                      NaN   \n",
       "\n",
       "     ...  solar_share_elec  solar_share_energy  wind_cons_change_pct  \\\n",
       "21   ...             2.983                 NaN                   NaN   \n",
       "144  ...             9.639                 NaN                   NaN   \n",
       "266  ...             2.040               0.835                19.233   \n",
       "324  ...             1.996               0.835                19.233   \n",
       "347  ...             2.040                 NaN                   NaN   \n",
       "\n",
       "     wind_cons_change_twh  wind_consumption  wind_elec_per_capita  \\\n",
       "21                    NaN               NaN                   NaN   \n",
       "144                   NaN               NaN                 0.000   \n",
       "266                 9.431            59.609                14.989   \n",
       "324                 9.432            59.609                   NaN   \n",
       "347                   NaN               NaN                   NaN   \n",
       "\n",
       "     wind_electricity  wind_energy_per_capita  wind_share_elec  \\\n",
       "21               8.30                     NaN            0.719   \n",
       "144              0.00                     NaN            0.000   \n",
       "266             20.89                  42.771            2.489   \n",
       "324             22.78                     NaN            2.540   \n",
       "347             20.89                     NaN            2.489   \n",
       "\n",
       "     wind_share_energy  \n",
       "21                 NaN  \n",
       "144                NaN  \n",
       "266              1.062  \n",
       "324              1.062  \n",
       "347                NaN  \n",
       "\n",
       "[5 rows x 129 columns]"
      ]
     },
     "execution_count": 10,
     "metadata": {},
     "output_type": "execute_result"
    }
   ],
   "source": [
    "#filter for 2021 as this is the most recent complete data\n",
    "energy_mix_2021 = energy_mix_data.loc[energy_mix_data['year'] == 2021, :]\n",
    "energy_mix_2021.head()"
   ]
  },
  {
   "cell_type": "code",
   "execution_count": 11,
   "metadata": {},
   "outputs": [],
   "source": [
    "#fileter for columns of interest\n",
    "cols_of_interest = [\n",
    "                    'country', \n",
    "                    'year',\n",
    "                    'iso_code',\n",
    "                    'population',\n",
    "                    'energy_per_capita',\n",
    "                    'fossil_elec_per_capita',\n",
    "                    'low_carbon_energy_per_capita',\n",
    "                    'low_carbon_share_energy',\n",
    "                    'low_carbon_share_elec',\n",
    "                    'gas_prod_per_capita',\n",
    "                    'oil_prod_per_capita',\n",
    "                    'gas_production',\n",
    "                    'oil_production'\n",
    "                    ]           \n",
    "energy_mix_2021 = energy_mix_2021[cols_of_interest]"
   ]
  },
  {
   "cell_type": "code",
   "execution_count": 12,
   "metadata": {},
   "outputs": [
    {
     "data": {
      "text/plain": [
       "<AxesSubplot:>"
      ]
     },
     "execution_count": 12,
     "metadata": {},
     "output_type": "execute_result"
    },
    {
     "data": {
      "image/png": "[encoded data removed]",
      "text/plain": [
       "<Figure size 432x288 with 1 Axes>"
      ]
     },
     "metadata": {
      "needs_background": "light"
     },
     "output_type": "display_data"
    }
   ],
   "source": [
    "energy_mix_2021['energy_per_capita'].hist()"
   ]
  },
  {
   "cell_type": "code",
   "execution_count": 13,
   "metadata": {},
   "outputs": [
    {
     "data": {
      "text/plain": [
       "<AxesSubplot:>"
      ]
     },
     "execution_count": 13,
     "metadata": {},
     "output_type": "execute_result"
    },
    {
     "data": {
      "image/png": "[encoded data removed]",
      "text/plain": [
       "<Figure size 432x288 with 1 Axes>"
      ]
     },
     "metadata": {
      "needs_background": "light"
     },
     "output_type": "display_data"
    }
   ],
   "source": [
    "energy_mix_2021['energy_per_capita_log'] = np.log10(energy_mix_2021[energy_mix_2021['energy_per_capita'] != 0]['energy_per_capita'])\n",
    "energy_mix_2021['energy_per_capita_log'].hist()"
   ]
  },
  {
   "cell_type": "code",
   "execution_count": 14,
   "metadata": {},
   "outputs": [
    {
     "data": {
      "text/plain": [
       "<AxesSubplot:>"
      ]
     },
     "execution_count": 14,
     "metadata": {},
     "output_type": "execute_result"
    },
    {
     "data": {
      "image/png": "[encoded data removed]",
      "text/plain": [
       "<Figure size 432x288 with 1 Axes>"
      ]
     },
     "metadata": {
      "needs_background": "light"
     },
     "output_type": "display_data"
    }
   ],
   "source": [
    "energy_mix_2021['gas_prod_per_capita'].hist()"
   ]
  },
  {
   "cell_type": "code",
   "execution_count": 15,
   "metadata": {},
   "outputs": [
    {
     "data": {
      "text/plain": [
       "<AxesSubplot:>"
      ]
     },
     "execution_count": 15,
     "metadata": {},
     "output_type": "execute_result"
    },
    {
     "data": {
      "image/png": "[encoded data removed]",
      "text/plain": [
       "<Figure size 432x288 with 1 Axes>"
      ]
     },
     "metadata": {
      "needs_background": "light"
     },
     "output_type": "display_data"
    }
   ],
   "source": [
    "energy_mix_2021['oil_prod_per_capita'].hist()"
   ]
  },
  {
   "cell_type": "code",
   "execution_count": 16,
   "metadata": {},
   "outputs": [
    {
     "data": {
      "text/html": [
       "<div>\n",
       "<style scoped>\n",
       "    .dataframe tbody tr th:only-of-type {\n",
       "        vertical-align: middle;\n",
       "    }\n",
       "\n",
       "    .dataframe tbody tr th {\n",
       "        vertical-align: top;\n",
       "    }\n",
       "\n",
       "    .dataframe thead th {\n",
       "        text-align: right;\n",
       "    }\n",
       "</style>\n",
       "<table border=\"1\" class=\"dataframe\">\n",
       "  <thead>\n",
       "    <tr style=\"text-align: right;\">\n",
       "      <th></th>\n",
       "      <th>year</th>\n",
       "      <th>population</th>\n",
       "      <th>energy_per_capita</th>\n",
       "      <th>fossil_elec_per_capita</th>\n",
       "      <th>low_carbon_energy_per_capita</th>\n",
       "      <th>low_carbon_share_energy</th>\n",
       "      <th>low_carbon_share_elec</th>\n",
       "      <th>gas_prod_per_capita</th>\n",
       "      <th>oil_prod_per_capita</th>\n",
       "      <th>gas_production</th>\n",
       "      <th>oil_production</th>\n",
       "      <th>energy_per_capita_log</th>\n",
       "    </tr>\n",
       "  </thead>\n",
       "  <tbody>\n",
       "    <tr>\n",
       "      <th>count</th>\n",
       "      <td>284.0</td>\n",
       "      <td>2.300000e+02</td>\n",
       "      <td>229.000000</td>\n",
       "      <td>227.000000</td>\n",
       "      <td>83.000000</td>\n",
       "      <td>92.000000</td>\n",
       "      <td>242.000000</td>\n",
       "      <td>61.000000</td>\n",
       "      <td>61.000000</td>\n",
       "      <td>70.000000</td>\n",
       "      <td>72.000000</td>\n",
       "      <td>224.000000</td>\n",
       "    </tr>\n",
       "    <tr>\n",
       "      <th>mean</th>\n",
       "      <td>2021.0</td>\n",
       "      <td>1.393474e+08</td>\n",
       "      <td>25306.549157</td>\n",
       "      <td>2212.945555</td>\n",
       "      <td>9308.633614</td>\n",
       "      <td>20.936554</td>\n",
       "      <td>38.993694</td>\n",
       "      <td>37367.316066</td>\n",
       "      <td>38340.872213</td>\n",
       "      <td>3456.870557</td>\n",
       "      <td>4765.646514</td>\n",
       "      <td>4.064274</td>\n",
       "    </tr>\n",
       "    <tr>\n",
       "      <th>std</th>\n",
       "      <td>0.0</td>\n",
       "      <td>6.869374e+08</td>\n",
       "      <td>31268.617712</td>\n",
       "      <td>3151.742140</td>\n",
       "      <td>17896.213514</td>\n",
       "      <td>14.716594</td>\n",
       "      <td>31.087067</td>\n",
       "      <td>95240.535562</td>\n",
       "      <td>72437.117222</td>\n",
       "      <td>6805.827420</td>\n",
       "      <td>9052.501225</td>\n",
       "      <td>0.648696</td>\n",
       "    </tr>\n",
       "    <tr>\n",
       "      <th>min</th>\n",
       "      <td>2021.0</td>\n",
       "      <td>1.957000e+03</td>\n",
       "      <td>0.000000</td>\n",
       "      <td>0.000000</td>\n",
       "      <td>5.258000</td>\n",
       "      <td>0.009000</td>\n",
       "      <td>0.000000</td>\n",
       "      <td>39.504000</td>\n",
       "      <td>280.590000</td>\n",
       "      <td>1.303000</td>\n",
       "      <td>24.662000</td>\n",
       "      <td>2.337280</td>\n",
       "    </tr>\n",
       "    <tr>\n",
       "      <th>25%</th>\n",
       "      <td>2021.0</td>\n",
       "      <td>1.127240e+06</td>\n",
       "      <td>3833.954000</td>\n",
       "      <td>163.530500</td>\n",
       "      <td>1704.780000</td>\n",
       "      <td>10.643250</td>\n",
       "      <td>11.178750</td>\n",
       "      <td>2116.934000</td>\n",
       "      <td>2507.912000</td>\n",
       "      <td>174.322500</td>\n",
       "      <td>163.483750</td>\n",
       "      <td>3.605638</td>\n",
       "    </tr>\n",
       "    <tr>\n",
       "      <th>50%</th>\n",
       "      <td>2021.0</td>\n",
       "      <td>7.459818e+06</td>\n",
       "      <td>16552.881000</td>\n",
       "      <td>1136.651000</td>\n",
       "      <td>5755.948000</td>\n",
       "      <td>17.928000</td>\n",
       "      <td>34.664000</td>\n",
       "      <td>5240.560000</td>\n",
       "      <td>8511.506000</td>\n",
       "      <td>480.473000</td>\n",
       "      <td>685.296500</td>\n",
       "      <td>4.234060</td>\n",
       "    </tr>\n",
       "    <tr>\n",
       "      <th>75%</th>\n",
       "      <td>2021.0</td>\n",
       "      <td>3.294449e+07</td>\n",
       "      <td>32491.648000</td>\n",
       "      <td>3126.855000</td>\n",
       "      <td>10167.826000</td>\n",
       "      <td>30.109500</td>\n",
       "      <td>63.667250</td>\n",
       "      <td>28450.100000</td>\n",
       "      <td>27904.283000</td>\n",
       "      <td>2452.274000</td>\n",
       "      <td>4026.251250</td>\n",
       "      <td>4.518836</td>\n",
       "    </tr>\n",
       "    <tr>\n",
       "      <th>max</th>\n",
       "      <td>2021.0</td>\n",
       "      <td>7.909295e+09</td>\n",
       "      <td>199419.203000</td>\n",
       "      <td>21704.871000</td>\n",
       "      <td>137492.266000</td>\n",
       "      <td>73.180000</td>\n",
       "      <td>100.000000</td>\n",
       "      <td>658350.688000</td>\n",
       "      <td>355502.219000</td>\n",
       "      <td>40534.203000</td>\n",
       "      <td>49192.051000</td>\n",
       "      <td>5.299767</td>\n",
       "    </tr>\n",
       "  </tbody>\n",
       "</table>\n",
       "</div>"
      ],
      "text/plain": [
       "         year    population  energy_per_capita  fossil_elec_per_capita  \\\n",
       "count   284.0  2.300000e+02         229.000000              227.000000   \n",
       "mean   2021.0  1.393474e+08       25306.549157             2212.945555   \n",
       "std       0.0  6.869374e+08       31268.617712             3151.742140   \n",
       "min    2021.0  1.957000e+03           0.000000                0.000000   \n",
       "25%    2021.0  1.127240e+06        3833.954000              163.530500   \n",
       "50%    2021.0  7.459818e+06       16552.881000             1136.651000   \n",
       "75%    2021.0  3.294449e+07       32491.648000             3126.855000   \n",
       "max    2021.0  7.909295e+09      199419.203000            21704.871000   \n",
       "\n",
       "       low_carbon_energy_per_capita  low_carbon_share_energy  \\\n",
       "count                     83.000000                92.000000   \n",
       "mean                    9308.633614                20.936554   \n",
       "std                    17896.213514                14.716594   \n",
       "min                        5.258000                 0.009000   \n",
       "25%                     1704.780000                10.643250   \n",
       "50%                     5755.948000                17.928000   \n",
       "75%                    10167.826000                30.109500   \n",
       "max                   137492.266000                73.180000   \n",
       "\n",
       "       low_carbon_share_elec  gas_prod_per_capita  oil_prod_per_capita  \\\n",
       "count             242.000000            61.000000            61.000000   \n",
       "mean               38.993694         37367.316066         38340.872213   \n",
       "std                31.087067         95240.535562         72437.117222   \n",
       "min                 0.000000            39.504000           280.590000   \n",
       "25%                11.178750          2116.934000          2507.912000   \n",
       "50%                34.664000          5240.560000          8511.506000   \n",
       "75%                63.667250         28450.100000         27904.283000   \n",
       "max               100.000000        658350.688000        355502.219000   \n",
       "\n",
       "       gas_production  oil_production  energy_per_capita_log  \n",
       "count       70.000000       72.000000             224.000000  \n",
       "mean      3456.870557     4765.646514               4.064274  \n",
       "std       6805.827420     9052.501225               0.648696  \n",
       "min          1.303000       24.662000               2.337280  \n",
       "25%        174.322500      163.483750               3.605638  \n",
       "50%        480.473000      685.296500               4.234060  \n",
       "75%       2452.274000     4026.251250               4.518836  \n",
       "max      40534.203000    49192.051000               5.299767  "
      ]
     },
     "execution_count": 16,
     "metadata": {},
     "output_type": "execute_result"
    }
   ],
   "source": [
    "energy_mix_2021.describe()"
   ]
  },
  {
   "cell_type": "code",
   "execution_count": 17,
   "metadata": {},
   "outputs": [],
   "source": [
    "energy_mix_2021[['oil_prod_per_capita', 'gas_prod_per_capita']] = energy_mix_2021[['oil_prod_per_capita', 'gas_prod_per_capita']].fillna(0)\n"
   ]
  },
  {
   "cell_type": "code",
   "execution_count": 18,
   "metadata": {},
   "outputs": [
    {
     "data": {
      "text/html": [
       "<div>\n",
       "<style scoped>\n",
       "    .dataframe tbody tr th:only-of-type {\n",
       "        vertical-align: middle;\n",
       "    }\n",
       "\n",
       "    .dataframe tbody tr th {\n",
       "        vertical-align: top;\n",
       "    }\n",
       "\n",
       "    .dataframe thead th {\n",
       "        text-align: right;\n",
       "    }\n",
       "</style>\n",
       "<table border=\"1\" class=\"dataframe\">\n",
       "  <thead>\n",
       "    <tr style=\"text-align: right;\">\n",
       "      <th></th>\n",
       "      <th>year</th>\n",
       "      <th>population</th>\n",
       "      <th>energy_per_capita</th>\n",
       "      <th>fossil_elec_per_capita</th>\n",
       "      <th>low_carbon_energy_per_capita</th>\n",
       "      <th>low_carbon_share_energy</th>\n",
       "      <th>low_carbon_share_elec</th>\n",
       "      <th>gas_prod_per_capita</th>\n",
       "      <th>oil_prod_per_capita</th>\n",
       "      <th>gas_production</th>\n",
       "      <th>oil_production</th>\n",
       "      <th>energy_per_capita_log</th>\n",
       "    </tr>\n",
       "  </thead>\n",
       "  <tbody>\n",
       "    <tr>\n",
       "      <th>count</th>\n",
       "      <td>284.0</td>\n",
       "      <td>2.300000e+02</td>\n",
       "      <td>229.000000</td>\n",
       "      <td>227.000000</td>\n",
       "      <td>83.000000</td>\n",
       "      <td>92.000000</td>\n",
       "      <td>242.000000</td>\n",
       "      <td>284.000000</td>\n",
       "      <td>284.000000</td>\n",
       "      <td>70.000000</td>\n",
       "      <td>72.000000</td>\n",
       "      <td>224.000000</td>\n",
       "    </tr>\n",
       "    <tr>\n",
       "      <th>mean</th>\n",
       "      <td>2021.0</td>\n",
       "      <td>1.393474e+08</td>\n",
       "      <td>25306.549157</td>\n",
       "      <td>2212.945555</td>\n",
       "      <td>9308.633614</td>\n",
       "      <td>20.936554</td>\n",
       "      <td>38.993694</td>\n",
       "      <td>8026.078451</td>\n",
       "      <td>8235.187342</td>\n",
       "      <td>3456.870557</td>\n",
       "      <td>4765.646514</td>\n",
       "      <td>4.064274</td>\n",
       "    </tr>\n",
       "    <tr>\n",
       "      <th>std</th>\n",
       "      <td>0.0</td>\n",
       "      <td>6.869374e+08</td>\n",
       "      <td>31268.617712</td>\n",
       "      <td>3151.742140</td>\n",
       "      <td>17896.213514</td>\n",
       "      <td>14.716594</td>\n",
       "      <td>31.087067</td>\n",
       "      <td>46469.952225</td>\n",
       "      <td>36895.379177</td>\n",
       "      <td>6805.827420</td>\n",
       "      <td>9052.501225</td>\n",
       "      <td>0.648696</td>\n",
       "    </tr>\n",
       "    <tr>\n",
       "      <th>min</th>\n",
       "      <td>2021.0</td>\n",
       "      <td>1.957000e+03</td>\n",
       "      <td>0.000000</td>\n",
       "      <td>0.000000</td>\n",
       "      <td>5.258000</td>\n",
       "      <td>0.009000</td>\n",
       "      <td>0.000000</td>\n",
       "      <td>0.000000</td>\n",
       "      <td>0.000000</td>\n",
       "      <td>1.303000</td>\n",
       "      <td>24.662000</td>\n",
       "      <td>2.337280</td>\n",
       "    </tr>\n",
       "    <tr>\n",
       "      <th>25%</th>\n",
       "      <td>2021.0</td>\n",
       "      <td>1.127240e+06</td>\n",
       "      <td>3833.954000</td>\n",
       "      <td>163.530500</td>\n",
       "      <td>1704.780000</td>\n",
       "      <td>10.643250</td>\n",
       "      <td>11.178750</td>\n",
       "      <td>0.000000</td>\n",
       "      <td>0.000000</td>\n",
       "      <td>174.322500</td>\n",
       "      <td>163.483750</td>\n",
       "      <td>3.605638</td>\n",
       "    </tr>\n",
       "    <tr>\n",
       "      <th>50%</th>\n",
       "      <td>2021.0</td>\n",
       "      <td>7.459818e+06</td>\n",
       "      <td>16552.881000</td>\n",
       "      <td>1136.651000</td>\n",
       "      <td>5755.948000</td>\n",
       "      <td>17.928000</td>\n",
       "      <td>34.664000</td>\n",
       "      <td>0.000000</td>\n",
       "      <td>0.000000</td>\n",
       "      <td>480.473000</td>\n",
       "      <td>685.296500</td>\n",
       "      <td>4.234060</td>\n",
       "    </tr>\n",
       "    <tr>\n",
       "      <th>75%</th>\n",
       "      <td>2021.0</td>\n",
       "      <td>3.294449e+07</td>\n",
       "      <td>32491.648000</td>\n",
       "      <td>3126.855000</td>\n",
       "      <td>10167.826000</td>\n",
       "      <td>30.109500</td>\n",
       "      <td>63.667250</td>\n",
       "      <td>0.000000</td>\n",
       "      <td>0.000000</td>\n",
       "      <td>2452.274000</td>\n",
       "      <td>4026.251250</td>\n",
       "      <td>4.518836</td>\n",
       "    </tr>\n",
       "    <tr>\n",
       "      <th>max</th>\n",
       "      <td>2021.0</td>\n",
       "      <td>7.909295e+09</td>\n",
       "      <td>199419.203000</td>\n",
       "      <td>21704.871000</td>\n",
       "      <td>137492.266000</td>\n",
       "      <td>73.180000</td>\n",
       "      <td>100.000000</td>\n",
       "      <td>658350.688000</td>\n",
       "      <td>355502.219000</td>\n",
       "      <td>40534.203000</td>\n",
       "      <td>49192.051000</td>\n",
       "      <td>5.299767</td>\n",
       "    </tr>\n",
       "  </tbody>\n",
       "</table>\n",
       "</div>"
      ],
      "text/plain": [
       "         year    population  energy_per_capita  fossil_elec_per_capita  \\\n",
       "count   284.0  2.300000e+02         229.000000              227.000000   \n",
       "mean   2021.0  1.393474e+08       25306.549157             2212.945555   \n",
       "std       0.0  6.869374e+08       31268.617712             3151.742140   \n",
       "min    2021.0  1.957000e+03           0.000000                0.000000   \n",
       "25%    2021.0  1.127240e+06        3833.954000              163.530500   \n",
       "50%    2021.0  7.459818e+06       16552.881000             1136.651000   \n",
       "75%    2021.0  3.294449e+07       32491.648000             3126.855000   \n",
       "max    2021.0  7.909295e+09      199419.203000            21704.871000   \n",
       "\n",
       "       low_carbon_energy_per_capita  low_carbon_share_energy  \\\n",
       "count                     83.000000                92.000000   \n",
       "mean                    9308.633614                20.936554   \n",
       "std                    17896.213514                14.716594   \n",
       "min                        5.258000                 0.009000   \n",
       "25%                     1704.780000                10.643250   \n",
       "50%                     5755.948000                17.928000   \n",
       "75%                    10167.826000                30.109500   \n",
       "max                   137492.266000                73.180000   \n",
       "\n",
       "       low_carbon_share_elec  gas_prod_per_capita  oil_prod_per_capita  \\\n",
       "count             242.000000           284.000000           284.000000   \n",
       "mean               38.993694          8026.078451          8235.187342   \n",
       "std                31.087067         46469.952225         36895.379177   \n",
       "min                 0.000000             0.000000             0.000000   \n",
       "25%                11.178750             0.000000             0.000000   \n",
       "50%                34.664000             0.000000             0.000000   \n",
       "75%                63.667250             0.000000             0.000000   \n",
       "max               100.000000        658350.688000        355502.219000   \n",
       "\n",
       "       gas_production  oil_production  energy_per_capita_log  \n",
       "count       70.000000       72.000000             224.000000  \n",
       "mean      3456.870557     4765.646514               4.064274  \n",
       "std       6805.827420     9052.501225               0.648696  \n",
       "min          1.303000       24.662000               2.337280  \n",
       "25%        174.322500      163.483750               3.605638  \n",
       "50%        480.473000      685.296500               4.234060  \n",
       "75%       2452.274000     4026.251250               4.518836  \n",
       "max      40534.203000    49192.051000               5.299767  "
      ]
     },
     "execution_count": 18,
     "metadata": {},
     "output_type": "execute_result"
    }
   ],
   "source": [
    "energy_mix_2021.describe()"
   ]
  },
  {
   "cell_type": "code",
   "execution_count": 19,
   "metadata": {},
   "outputs": [
    {
     "data": {
      "text/plain": [
       "<AxesSubplot:>"
      ]
     },
     "execution_count": 19,
     "metadata": {},
     "output_type": "execute_result"
    },
    {
     "data": {
      "image/png": "[encoded data removed]",
      "text/plain": [
       "<Figure size 432x288 with 1 Axes>"
      ]
     },
     "metadata": {
      "needs_background": "light"
     },
     "output_type": "display_data"
    }
   ],
   "source": [
    "#combine oil and gas energy production per cap for total and log to make normally distributed\n",
    "energy_mix_2021['oil_and_gas_prod_per_capita'] = energy_mix_2021['oil_prod_per_capita'] + energy_mix_2021['gas_prod_per_capita']\n",
    "#fill all 0 values as 1 before log\n",
    "energy_mix_2021['oil_and_gas_prod_per_capita'].replace(0, np.nan, inplace=True)\n",
    "energy_mix_2021['oil_and_gas_prod_per_capita_log'] = np.log10(energy_mix_2021['oil_and_gas_prod_per_capita'])\n",
    "energy_mix_2021['oil_and_gas_prod_per_capita_log'].hist()"
   ]
  },
  {
   "cell_type": "code",
   "execution_count": 20,
   "metadata": {},
   "outputs": [
    {
     "data": {
      "text/plain": [
       "<AxesSubplot:>"
      ]
     },
     "execution_count": 20,
     "metadata": {},
     "output_type": "execute_result"
    },
    {
     "data": {
      "image/png": "[encoded data removed]",
      "text/plain": [
       "<Figure size 432x288 with 1 Axes>"
      ]
     },
     "metadata": {
      "needs_background": "light"
     },
     "output_type": "display_data"
    }
   ],
   "source": [
    "energy_mix_2021['low_carbon_energy_per_capita'].hist()"
   ]
  },
  {
   "cell_type": "code",
   "execution_count": 21,
   "metadata": {},
   "outputs": [
    {
     "data": {
      "text/plain": [
       "<AxesSubplot:>"
      ]
     },
     "execution_count": 21,
     "metadata": {},
     "output_type": "execute_result"
    },
    {
     "data": {
      "image/png": "[encoded data removed]",
      "text/plain": [
       "<Figure size 432x288 with 1 Axes>"
      ]
     },
     "metadata": {
      "needs_background": "light"
     },
     "output_type": "display_data"
    }
   ],
   "source": [
    "energy_mix_2021['low_carbon_energy_per_capita_log'] = np.log10(energy_mix_2021['low_carbon_energy_per_capita'])\n",
    "energy_mix_2021['low_carbon_energy_per_capita_log'].hist()"
   ]
  },
  {
   "cell_type": "code",
   "execution_count": 22,
   "metadata": {},
   "outputs": [],
   "source": [
    "#join on 2018 gdp data\n",
    "joined_energy_data = pd.merge(left=energy_mix_data.loc[energy_mix_data['year'] == 2018, :][['iso_code', 'gdp']], right=energy_mix_2021, on='iso_code')"
   ]
  },
  {
   "cell_type": "code",
   "execution_count": 23,
   "metadata": {},
   "outputs": [],
   "source": [
    "#join with price data\n",
    "joined_energy_data = pd.merge(left=electricity_price_data[['iso3', 'price']], right=joined_energy_data, left_on='iso3', right_on='iso_code')"
   ]
  },
  {
   "cell_type": "code",
   "execution_count": 24,
   "metadata": {},
   "outputs": [
    {
     "data": {
      "text/html": [
       "<div>\n",
       "<style scoped>\n",
       "    .dataframe tbody tr th:only-of-type {\n",
       "        vertical-align: middle;\n",
       "    }\n",
       "\n",
       "    .dataframe tbody tr th {\n",
       "        vertical-align: top;\n",
       "    }\n",
       "\n",
       "    .dataframe thead th {\n",
       "        text-align: right;\n",
       "    }\n",
       "</style>\n",
       "<table border=\"1\" class=\"dataframe\">\n",
       "  <thead>\n",
       "    <tr style=\"text-align: right;\">\n",
       "      <th></th>\n",
       "      <th>price</th>\n",
       "      <th>gdp</th>\n",
       "      <th>year</th>\n",
       "      <th>population</th>\n",
       "      <th>energy_per_capita</th>\n",
       "      <th>fossil_elec_per_capita</th>\n",
       "      <th>low_carbon_energy_per_capita</th>\n",
       "      <th>low_carbon_share_energy</th>\n",
       "      <th>low_carbon_share_elec</th>\n",
       "      <th>gas_prod_per_capita</th>\n",
       "      <th>oil_prod_per_capita</th>\n",
       "      <th>gas_production</th>\n",
       "      <th>oil_production</th>\n",
       "      <th>energy_per_capita_log</th>\n",
       "      <th>oil_and_gas_prod_per_capita</th>\n",
       "      <th>oil_and_gas_prod_per_capita_log</th>\n",
       "      <th>low_carbon_energy_per_capita_log</th>\n",
       "    </tr>\n",
       "  </thead>\n",
       "  <tbody>\n",
       "    <tr>\n",
       "      <th>count</th>\n",
       "      <td>144.000000</td>\n",
       "      <td>1.340000e+02</td>\n",
       "      <td>144.0</td>\n",
       "      <td>1.440000e+02</td>\n",
       "      <td>144.000000</td>\n",
       "      <td>144.000000</td>\n",
       "      <td>69.00000</td>\n",
       "      <td>66.000000</td>\n",
       "      <td>143.000000</td>\n",
       "      <td>144.000000</td>\n",
       "      <td>144.000000</td>\n",
       "      <td>45.000000</td>\n",
       "      <td>42.000000</td>\n",
       "      <td>144.000000</td>\n",
       "      <td>50.000000</td>\n",
       "      <td>50.000000</td>\n",
       "      <td>69.000000</td>\n",
       "    </tr>\n",
       "    <tr>\n",
       "      <th>mean</th>\n",
       "      <td>0.136431</td>\n",
       "      <td>8.419677e+11</td>\n",
       "      <td>2021.0</td>\n",
       "      <td>5.288978e+07</td>\n",
       "      <td>29425.612153</td>\n",
       "      <td>2400.821882</td>\n",
       "      <td>10075.35342</td>\n",
       "      <td>21.267182</td>\n",
       "      <td>45.378818</td>\n",
       "      <td>12364.002736</td>\n",
       "      <td>13951.645757</td>\n",
       "      <td>858.653356</td>\n",
       "      <td>1139.351762</td>\n",
       "      <td>4.153792</td>\n",
       "      <td>75789.067660</td>\n",
       "      <td>4.217399</td>\n",
       "      <td>3.544606</td>\n",
       "    </tr>\n",
       "    <tr>\n",
       "      <th>std</th>\n",
       "      <td>0.124700</td>\n",
       "      <td>2.403683e+12</td>\n",
       "      <td>0.0</td>\n",
       "      <td>1.710560e+08</td>\n",
       "      <td>34735.356452</td>\n",
       "      <td>3464.584797</td>\n",
       "      <td>19477.10308</td>\n",
       "      <td>16.407477</td>\n",
       "      <td>32.701061</td>\n",
       "      <td>60451.248892</td>\n",
       "      <td>49729.695395</td>\n",
       "      <td>1731.290644</td>\n",
       "      <td>1791.377926</td>\n",
       "      <td>0.612174</td>\n",
       "      <td>159794.779423</td>\n",
       "      <td>0.822867</td>\n",
       "      <td>0.763921</td>\n",
       "    </tr>\n",
       "    <tr>\n",
       "      <th>min</th>\n",
       "      <td>0.001000</td>\n",
       "      <td>3.516161e+09</td>\n",
       "      <td>2021.0</td>\n",
       "      <td>6.421300e+04</td>\n",
       "      <td>410.887000</td>\n",
       "      <td>0.000000</td>\n",
       "      <td>9.54800</td>\n",
       "      <td>0.009000</td>\n",
       "      <td>0.000000</td>\n",
       "      <td>0.000000</td>\n",
       "      <td>0.000000</td>\n",
       "      <td>14.596000</td>\n",
       "      <td>24.662000</td>\n",
       "      <td>2.613722</td>\n",
       "      <td>483.343000</td>\n",
       "      <td>2.684255</td>\n",
       "      <td>0.979912</td>\n",
       "    </tr>\n",
       "    <tr>\n",
       "      <th>25%</th>\n",
       "      <td>0.041750</td>\n",
       "      <td>4.883595e+10</td>\n",
       "      <td>2021.0</td>\n",
       "      <td>4.325976e+06</td>\n",
       "      <td>6602.493000</td>\n",
       "      <td>264.986000</td>\n",
       "      <td>1693.77700</td>\n",
       "      <td>8.661000</td>\n",
       "      <td>15.824000</td>\n",
       "      <td>0.000000</td>\n",
       "      <td>0.000000</td>\n",
       "      <td>144.742000</td>\n",
       "      <td>123.440750</td>\n",
       "      <td>3.819038</td>\n",
       "      <td>4038.748000</td>\n",
       "      <td>3.605942</td>\n",
       "      <td>3.228856</td>\n",
       "    </tr>\n",
       "    <tr>\n",
       "      <th>50%</th>\n",
       "      <td>0.102000</td>\n",
       "      <td>1.745153e+11</td>\n",
       "      <td>2021.0</td>\n",
       "      <td>1.143389e+07</td>\n",
       "      <td>19880.212000</td>\n",
       "      <td>1190.897500</td>\n",
       "      <td>5755.94800</td>\n",
       "      <td>17.691000</td>\n",
       "      <td>40.494000</td>\n",
       "      <td>0.000000</td>\n",
       "      <td>0.000000</td>\n",
       "      <td>315.259000</td>\n",
       "      <td>430.586500</td>\n",
       "      <td>4.298408</td>\n",
       "      <td>13927.801000</td>\n",
       "      <td>4.139398</td>\n",
       "      <td>3.760117</td>\n",
       "    </tr>\n",
       "    <tr>\n",
       "      <th>75%</th>\n",
       "      <td>0.180250</td>\n",
       "      <td>6.365048e+11</td>\n",
       "      <td>2021.0</td>\n",
       "      <td>4.095745e+07</td>\n",
       "      <td>36037.927000</td>\n",
       "      <td>3255.787000</td>\n",
       "      <td>10187.27400</td>\n",
       "      <td>30.884750</td>\n",
       "      <td>74.226500</td>\n",
       "      <td>1448.451250</td>\n",
       "      <td>1481.619250</td>\n",
       "      <td>677.994000</td>\n",
       "      <td>1114.547750</td>\n",
       "      <td>4.556759</td>\n",
       "      <td>65812.590000</td>\n",
       "      <td>4.818307</td>\n",
       "      <td>4.008058</td>\n",
       "    </tr>\n",
       "    <tr>\n",
       "      <th>max</th>\n",
       "      <td>0.613000</td>\n",
       "      <td>1.815162e+13</td>\n",
       "      <td>2021.0</td>\n",
       "      <td>1.425894e+09</td>\n",
       "      <td>199419.203000</td>\n",
       "      <td>21704.871000</td>\n",
       "      <td>137492.26600</td>\n",
       "      <td>73.180000</td>\n",
       "      <td>100.000000</td>\n",
       "      <td>658350.688000</td>\n",
       "      <td>355502.219000</td>\n",
       "      <td>9441.419000</td>\n",
       "      <td>8317.922000</td>\n",
       "      <td>5.299767</td>\n",
       "      <td>973392.750000</td>\n",
       "      <td>5.988288</td>\n",
       "      <td>5.138278</td>\n",
       "    </tr>\n",
       "  </tbody>\n",
       "</table>\n",
       "</div>"
      ],
      "text/plain": [
       "            price           gdp    year    population  energy_per_capita  \\\n",
       "count  144.000000  1.340000e+02   144.0  1.440000e+02         144.000000   \n",
       "mean     0.136431  8.419677e+11  2021.0  5.288978e+07       29425.612153   \n",
       "std      0.124700  2.403683e+12     0.0  1.710560e+08       34735.356452   \n",
       "min      0.001000  3.516161e+09  2021.0  6.421300e+04         410.887000   \n",
       "25%      0.041750  4.883595e+10  2021.0  4.325976e+06        6602.493000   \n",
       "50%      0.102000  1.745153e+11  2021.0  1.143389e+07       19880.212000   \n",
       "75%      0.180250  6.365048e+11  2021.0  4.095745e+07       36037.927000   \n",
       "max      0.613000  1.815162e+13  2021.0  1.425894e+09      199419.203000   \n",
       "\n",
       "       fossil_elec_per_capita  low_carbon_energy_per_capita  \\\n",
       "count              144.000000                      69.00000   \n",
       "mean              2400.821882                   10075.35342   \n",
       "std               3464.584797                   19477.10308   \n",
       "min                  0.000000                       9.54800   \n",
       "25%                264.986000                    1693.77700   \n",
       "50%               1190.897500                    5755.94800   \n",
       "75%               3255.787000                   10187.27400   \n",
       "max              21704.871000                  137492.26600   \n",
       "\n",
       "       low_carbon_share_energy  low_carbon_share_elec  gas_prod_per_capita  \\\n",
       "count                66.000000             143.000000           144.000000   \n",
       "mean                 21.267182              45.378818         12364.002736   \n",
       "std                  16.407477              32.701061         60451.248892   \n",
       "min                   0.009000               0.000000             0.000000   \n",
       "25%                   8.661000              15.824000             0.000000   \n",
       "50%                  17.691000              40.494000             0.000000   \n",
       "75%                  30.884750              74.226500          1448.451250   \n",
       "max                  73.180000             100.000000        658350.688000   \n",
       "\n",
       "       oil_prod_per_capita  gas_production  oil_production  \\\n",
       "count           144.000000       45.000000       42.000000   \n",
       "mean          13951.645757      858.653356     1139.351762   \n",
       "std           49729.695395     1731.290644     1791.377926   \n",
       "min               0.000000       14.596000       24.662000   \n",
       "25%               0.000000      144.742000      123.440750   \n",
       "50%               0.000000      315.259000      430.586500   \n",
       "75%            1481.619250      677.994000     1114.547750   \n",
       "max          355502.219000     9441.419000     8317.922000   \n",
       "\n",
       "       energy_per_capita_log  oil_and_gas_prod_per_capita  \\\n",
       "count             144.000000                    50.000000   \n",
       "mean                4.153792                 75789.067660   \n",
       "std                 0.612174                159794.779423   \n",
       "min                 2.613722                   483.343000   \n",
       "25%                 3.819038                  4038.748000   \n",
       "50%                 4.298408                 13927.801000   \n",
       "75%                 4.556759                 65812.590000   \n",
       "max                 5.299767                973392.750000   \n",
       "\n",
       "       oil_and_gas_prod_per_capita_log  low_carbon_energy_per_capita_log  \n",
       "count                        50.000000                         69.000000  \n",
       "mean                          4.217399                          3.544606  \n",
       "std                           0.822867                          0.763921  \n",
       "min                           2.684255                          0.979912  \n",
       "25%                           3.605942                          3.228856  \n",
       "50%                           4.139398                          3.760117  \n",
       "75%                           4.818307                          4.008058  \n",
       "max                           5.988288                          5.138278  "
      ]
     },
     "execution_count": 24,
     "metadata": {},
     "output_type": "execute_result"
    }
   ],
   "source": [
    "#check data\n",
    "joined_energy_data.describe()"
   ]
  },
  {
   "cell_type": "code",
   "execution_count": 25,
   "metadata": {},
   "outputs": [],
   "source": [
    "joined_energy_data['gdp_per_cap'] = joined_energy_data['gdp'] / joined_energy_data['population']\n",
    "joined_energy_data['gdp_per_cap_log'] = np.log10(joined_energy_data['gdp'] / joined_energy_data['population'])"
   ]
  },
  {
   "cell_type": "code",
   "execution_count": 26,
   "metadata": {},
   "outputs": [],
   "source": [
    "#VALUES FOR REPORT"
   ]
  },
  {
   "cell_type": "code",
   "execution_count": 27,
   "metadata": {},
   "outputs": [
    {
     "data": {
      "text/plain": [
       "11936.478"
      ]
     },
     "execution_count": 27,
     "metadata": {},
     "output_type": "execute_result"
    }
   ],
   "source": [
    "#uk oil and gas prod per cap\n",
    "joined_energy_data[joined_energy_data['iso_code'] == 'GBR']['oil_and_gas_prod_per_capita'].values[0]"
   ]
  },
  {
   "cell_type": "code",
   "execution_count": 28,
   "metadata": {},
   "outputs": [
    {
     "data": {
      "text/plain": [
       "4.076876201935375"
      ]
     },
     "execution_count": 28,
     "metadata": {},
     "output_type": "execute_result"
    }
   ],
   "source": [
    "#uk oil and gas prod per cap log\n",
    "joined_energy_data[joined_energy_data['iso_code'] == 'GBR']['oil_and_gas_prod_per_capita_log'].values[0]"
   ]
  },
  {
   "cell_type": "code",
   "execution_count": 29,
   "metadata": {},
   "outputs": [
    {
     "data": {
      "text/plain": [
       "26315.64849305556"
      ]
     },
     "execution_count": 29,
     "metadata": {},
     "output_type": "execute_result"
    }
   ],
   "source": [
    "#global oil and gas prod per cap\n",
    "joined_energy_data['oil_and_gas_prod_per_capita'].replace(np.nan, 0).mean()"
   ]
  },
  {
   "cell_type": "code",
   "execution_count": 30,
   "metadata": {},
   "outputs": [
    {
     "data": {
      "text/plain": [
       "55.046"
      ]
     },
     "execution_count": 30,
     "metadata": {},
     "output_type": "execute_result"
    }
   ],
   "source": [
    "#UK low carbon share\n",
    "joined_energy_data[joined_energy_data['iso_code'] == 'GBR']['low_carbon_share_elec'].values[0]"
   ]
  },
  {
   "cell_type": "code",
   "execution_count": 31,
   "metadata": {},
   "outputs": [
    {
     "data": {
      "text/plain": [
       "4.576976963896021"
      ]
     },
     "execution_count": 31,
     "metadata": {},
     "output_type": "execute_result"
    }
   ],
   "source": [
    "#UK GDP\n",
    "joined_energy_data[joined_energy_data['iso_code'] == 'GBR']['gdp_per_cap_log'].values[0]"
   ]
  },
  {
   "cell_type": "code",
   "execution_count": 32,
   "metadata": {},
   "outputs": [
    {
     "data": {
      "text/plain": [
       "45.063687499999986"
      ]
     },
     "execution_count": 32,
     "metadata": {},
     "output_type": "execute_result"
    }
   ],
   "source": [
    "#global low carbon share\n",
    "joined_energy_data['low_carbon_share_elec'].replace(np.nan, 0).mean()"
   ]
  },
  {
   "cell_type": "code",
   "execution_count": 33,
   "metadata": {},
   "outputs": [],
   "source": [
    "#SCATTER PLOTS FOR SECTION 3"
   ]
  },
  {
   "cell_type": "code",
   "execution_count": 34,
   "metadata": {},
   "outputs": [
    {
     "data": {
      "application/vnd.plotly.v1+json": {
       "config": {
        "plotlyServerURL": "https://plot.ly"
       },
       "data": [
        {
         "customdata": [
          [
           "Lebanon"
          ],
          [
           "Iran"
          ],
          [
           "Syria"
          ],
          [
           "Ethiopia"
          ],
          [
           "Sudan"
          ],
          [
           "Kyrgyzstan"
          ],
          [
           "Libya"
          ],
          [
           "Angola"
          ],
          [
           "Zimbabwe"
          ],
          [
           "Iraq"
          ],
          [
           "Bhutan"
          ],
          [
           "Suriname"
          ],
          [
           "Uzbekistan"
          ],
          [
           "Argentina"
          ],
          [
           "Oman"
          ],
          [
           "Egypt"
          ],
          [
           "Zambia"
          ],
          [
           "Kuwait"
          ],
          [
           "Myanmar"
          ],
          [
           "Laos"
          ],
          [
           "Cuba"
          ],
          [
           "Nigeria"
          ],
          [
           "Qatar"
          ],
          [
           "Uganda"
          ],
          [
           "Algeria"
          ],
          [
           "Nepal"
          ],
          [
           "Venezuela"
          ],
          [
           "Kazakhstan"
          ],
          [
           "Azerbaijan"
          ],
          [
           "Malaysia"
          ],
          [
           "Bahrain"
          ],
          [
           "Saudi Arabia"
          ],
          [
           "Pakistan"
          ],
          [
           "Bangladesh"
          ],
          [
           "Russia"
          ],
          [
           "Afghanistan"
          ],
          [
           "Trinidad and Tobago"
          ],
          [
           "Paraguay"
          ],
          [
           "Democratic Republic of Congo"
          ],
          [
           "Tunisia"
          ],
          [
           "Ghana"
          ],
          [
           "China"
          ],
          [
           "Georgia"
          ],
          [
           "Vietnam"
          ],
          [
           "India"
          ],
          [
           "Ukraine"
          ],
          [
           "Cameroon"
          ],
          [
           "Turkey"
          ],
          [
           "Lesotho"
          ],
          [
           "Taiwan"
          ],
          [
           "Sri Lanka"
          ],
          [
           "Jordan"
          ],
          [
           "Belarus"
          ],
          [
           "Tanzania"
          ],
          [
           "Botswana"
          ],
          [
           "Eswatini"
          ],
          [
           "Indonesia"
          ],
          [
           "Ecuador"
          ],
          [
           "Mexico"
          ],
          [
           "Bosnia and Herzegovina"
          ],
          [
           "Maldives"
          ],
          [
           "Serbia"
          ],
          [
           "Armenia"
          ],
          [
           "Malawi"
          ],
          [
           "Hungary"
          ],
          [
           "South Korea"
          ],
          [
           "Albania"
          ],
          [
           "Namibia"
          ],
          [
           "Morocco"
          ],
          [
           "Cote d'Ivoire"
          ],
          [
           "Canada"
          ],
          [
           "Mozambique"
          ],
          [
           "Madagascar"
          ],
          [
           "Mauritius"
          ],
          [
           "Bulgaria"
          ],
          [
           "Thailand"
          ],
          [
           "Malta"
          ],
          [
           "South Africa"
          ],
          [
           "Cambodia"
          ],
          [
           "Costa Rica"
          ],
          [
           "Iceland"
          ],
          [
           "Sierra Leone"
          ],
          [
           "Macao"
          ],
          [
           "Israel"
          ],
          [
           "Brazil"
          ],
          [
           "Senegal"
          ],
          [
           "Chile"
          ],
          [
           "Panama"
          ],
          [
           "Romania"
          ],
          [
           "Kenya"
          ],
          [
           "Philippines"
          ],
          [
           "United States"
          ],
          [
           "Nicaragua"
          ],
          [
           "United Arab Emirates"
          ],
          [
           "New Zealand"
          ],
          [
           "Norway"
          ],
          [
           "Hong Kong"
          ],
          [
           "Colombia"
          ],
          [
           "Togo"
          ],
          [
           "Poland"
          ],
          [
           "Gabon"
          ],
          [
           "Burkina Faso"
          ],
          [
           "Mali"
          ],
          [
           "France"
          ],
          [
           "Belize"
          ],
          [
           "Rwanda"
          ],
          [
           "Slovakia"
          ],
          [
           "Aruba"
          ],
          [
           "Australia"
          ],
          [
           "Slovenia"
          ],
          [
           "Singapore"
          ],
          [
           "Japan"
          ],
          [
           "El Salvador"
          ],
          [
           "Peru"
          ],
          [
           "Uruguay"
          ],
          [
           "Honduras"
          ],
          [
           "Moldova"
          ],
          [
           "Barbados"
          ],
          [
           "Greece"
          ],
          [
           "Portugal"
          ],
          [
           "Guatemala"
          ],
          [
           "Spain"
          ],
          [
           "Bahamas"
          ],
          [
           "Cape Verde"
          ],
          [
           "Jamaica"
          ],
          [
           "Luxembourg"
          ],
          [
           "Switzerland"
          ],
          [
           "Cyprus"
          ],
          [
           "Finland"
          ],
          [
           "Sweden"
          ],
          [
           "Bermuda"
          ],
          [
           "Latvia"
          ],
          [
           "Czechia"
          ],
          [
           "Estonia"
          ],
          [
           "Cayman Islands"
          ],
          [
           "United Kingdom"
          ],
          [
           "Netherlands"
          ],
          [
           "Lithuania"
          ],
          [
           "Ireland"
          ],
          [
           "Germany"
          ],
          [
           "Denmark"
          ],
          [
           "Belgium"
          ],
          [
           "Austria"
          ],
          [
           "Italy"
          ]
         ],
         "hovertemplate": "GDP log($)=%{x}<br>Price (£/kWh)=%{y}<br>country=%{customdata[0]}<extra></extra>",
         "legendgroup": "",
         "marker": {
          "color": "#80b1d3",
          "symbol": "circle"
         },
         "mode": "markers",
         "name": "",
         "orientation": "v",
         "showlegend": false,
         "type": "scatter",
         "x": [
          4.238260452814697,
          4.201711823217592,
          3.424788229422818,
          3.2114759553732037,
          null,
          3.6565455867362404,
          4.1734473511607515,
          3.707472223856793,
          3.1523752983515343,
          4.071794329905868,
          null,
          null,
          3.99495039220223,
          4.2628744320222705,
          4.581248029239132,
          4.048541833275761,
          3.4957418014653014,
          4.814263117106964,
          3.771112316934065,
          3.7983098441659293,
          3.914982697776612,
          3.6964388231834326,
          5.17329660632835,
          3.2760628748563763,
          4.125879999113361,
          3.4311386885544035,
          4.040291601182104,
          4.383035009565215,
          4.191890696236162,
          4.362547876262618,
          4.63096863877512,
          4.668917064754443,
          3.7191677462267125,
          3.6078531156575275,
          4.396241648076457,
          3.2267758495464194,
          4.35683543033487,
          3.995145596491146,
          2.9312074896147275,
          4.026423134547817,
          3.5587754348060074,
          4.104828305769413,
          4.195785186360685,
          3.831660072742587,
          3.7977756672186023,
          3.995996630225981,
          3.4472268661193466,
          4.290786307105245,
          3.370983236013164,
          4.640094639421117,
          4.0659775169586725,
          3.973543337102529,
          4.270198047406638,
          3.406278317276078,
          4.141385191508425,
          3.8667110378671796,
          4.050550353949476,
          3.9939734185750897,
          4.199666529897796,
          4.101132578814744,
          null,
          4.136747902940822,
          4.076643457217363,
          3.0549919815590356,
          4.411470699093969,
          4.577317300794251,
          4.0760333033594405,
          3.960380845197199,
          3.9079926779858187,
          3.57208067668995,
          4.6410092160081255,
          2.9628901359309947,
          3.103129760903462,
          4.3253500852289815,
          4.283218640620047,
          4.195858926603319,
          4.4716972226735505,
          4.054460839927546,
          3.5550013213419147,
          4.153182107742017,
          4.6165261089713425,
          3.101139679727393,
          null,
          4.495909690698676,
          4.141008190525521,
          3.404211851715219,
          4.325892266918761,
          4.29606347856988,
          4.300653837325472,
          3.5149923730160375,
          3.9037572138760477,
          4.731025894954344,
          3.643373089041826,
          4.894717232025993,
          4.522936109336441,
          4.919937457756246,
          4.697755616616062,
          4.1022344927669225,
          3.1375837412750314,
          4.439339672409569,
          4.1951505929404656,
          3.1513469426167715,
          3.0991309666724964,
          4.6021299577885255,
          null,
          3.2324124762067954,
          4.42950165111307,
          null,
          4.67926359027254,
          4.4551090217936755,
          4.8390678134838065,
          4.591700584870545,
          3.938118515140877,
          4.059113675882414,
          4.301254367171658,
          3.6449675382705733,
          3.8814094581067353,
          4.097047261511857,
          4.379078531933713,
          4.429029415103151,
          3.8599584300827106,
          4.4972820858513645,
          null,
          3.8198014092720287,
          3.837080938217745,
          4.738529758920488,
          4.786797889255152,
          4.349003227581696,
          4.588304969629612,
          4.64613684379001,
          null,
          4.3980728252387005,
          4.491717601514252,
          4.425690624490317,
          null,
          4.576976963896021,
          4.6697029002215285,
          4.439245371566522,
          4.799576317046316,
          4.668287849357945,
          4.6611782288523695,
          4.592538151991103,
          4.631903193859809,
          4.544862710337162
         ],
         "xaxis": "x",
         "y": [
          0.001,
          0.002,
          0.004,
          0.005,
          0.007,
          0.008,
          0.008,
          0.011,
          0.012,
          0.012,
          0.012,
          0.012,
          0.019,
          0.02,
          0.021,
          0.021,
          0.022,
          0.023,
          0.023,
          0.024,
          0.024,
          0.024,
          0.025,
          0.031,
          0.031,
          0.035,
          0.036,
          0.036,
          0.037,
          0.038,
          0.038,
          0.038,
          0.039,
          0.041,
          0.041,
          0.041,
          0.042,
          0.044,
          0.053,
          0.054,
          0.057,
          0.059,
          0.06,
          0.062,
          0.062,
          0.063,
          0.065,
          0.065,
          0.07,
          0.07,
          0.071,
          0.072,
          0.073,
          0.074,
          0.074,
          0.074,
          0.075,
          0.076,
          0.077,
          0.077,
          0.079,
          0.082,
          0.083,
          0.084,
          0.087,
          0.087,
          0.09,
          0.091,
          0.092,
          0.094,
          0.096,
          0.101,
          0.103,
          0.106,
          0.108,
          0.111,
          0.114,
          0.115,
          0.117,
          0.119,
          0.121,
          0.124,
          0.125,
          0.129,
          0.132,
          0.134,
          0.135,
          0.136,
          0.138,
          0.138,
          0.138,
          0.138,
          0.139,
          0.139,
          0.143,
          0.144,
          0.145,
          0.146,
          0.151,
          0.155,
          0.16,
          0.161,
          0.171,
          0.172,
          0.172,
          0.172,
          0.173,
          0.18,
          0.181,
          0.184,
          0.186,
          0.188,
          0.193,
          0.193,
          0.2,
          0.209,
          0.213,
          0.215,
          0.219,
          0.22,
          0.231,
          0.236,
          0.246,
          0.246,
          0.26,
          0.26,
          0.268,
          0.286,
          0.288,
          0.333,
          0.34,
          0.347,
          0.35,
          0.37,
          0.383,
          0.387,
          0.405,
          0.447,
          0.469,
          0.48,
          0.49,
          0.507,
          0.542,
          0.613
         ],
         "yaxis": "y"
        },
        {
         "hovertemplate": "<b>OLS trendline</b><br>price = 0.0948339 * gdp_per_cap_log + -0.253394<br>R<sup>2</sup>=0.141958<br><br>GDP log($)=%{x}<br>Price (£/kWh)=%{y} <b>(trend)</b><extra></extra>",
         "legendgroup": "Overall Trendline",
         "line": {
          "color": "#969696"
         },
         "mode": "lines",
         "name": "Overall Trendline",
         "showlegend": true,
         "type": "scatter",
         "x": [
          2.9312074896147275,
          2.9628901359309947,
          3.0549919815590356,
          3.0991309666724964,
          3.101139679727393,
          3.103129760903462,
          3.1375837412750314,
          3.1513469426167715,
          3.1523752983515343,
          3.2114759553732037,
          3.2267758495464194,
          3.2324124762067954,
          3.2760628748563763,
          3.370983236013164,
          3.404211851715219,
          3.406278317276078,
          3.424788229422818,
          3.4311386885544035,
          3.4472268661193466,
          3.4957418014653014,
          3.5149923730160375,
          3.5550013213419147,
          3.5587754348060074,
          3.57208067668995,
          3.6078531156575275,
          3.643373089041826,
          3.6449675382705733,
          3.6565455867362404,
          3.6964388231834326,
          3.707472223856793,
          3.7191677462267125,
          3.771112316934065,
          3.7977756672186023,
          3.7983098441659293,
          3.8198014092720287,
          3.831660072742587,
          3.837080938217745,
          3.8599584300827106,
          3.8667110378671796,
          3.8814094581067353,
          3.9037572138760477,
          3.9079926779858187,
          3.914982697776612,
          3.938118515140877,
          3.960380845197199,
          3.973543337102529,
          3.9939734185750897,
          3.99495039220223,
          3.995145596491146,
          3.995996630225981,
          4.026423134547817,
          4.040291601182104,
          4.048541833275761,
          4.050550353949476,
          4.054460839927546,
          4.059113675882414,
          4.0659775169586725,
          4.071794329905868,
          4.0760333033594405,
          4.076643457217363,
          4.097047261511857,
          4.101132578814744,
          4.1022344927669225,
          4.104828305769413,
          4.125879999113361,
          4.136747902940822,
          4.141008190525521,
          4.141385191508425,
          4.153182107742017,
          4.1734473511607515,
          4.191890696236162,
          4.1951505929404656,
          4.195785186360685,
          4.195858926603319,
          4.199666529897796,
          4.201711823217592,
          4.238260452814697,
          4.2628744320222705,
          4.270198047406638,
          4.283218640620047,
          4.290786307105245,
          4.29606347856988,
          4.300653837325472,
          4.301254367171658,
          4.3253500852289815,
          4.325892266918761,
          4.349003227581696,
          4.35683543033487,
          4.362547876262618,
          4.379078531933713,
          4.383035009565215,
          4.396241648076457,
          4.3980728252387005,
          4.411470699093969,
          4.425690624490317,
          4.429029415103151,
          4.42950165111307,
          4.439245371566522,
          4.439339672409569,
          4.4551090217936755,
          4.4716972226735505,
          4.491717601514252,
          4.495909690698676,
          4.4972820858513645,
          4.522936109336441,
          4.544862710337162,
          4.576976963896021,
          4.577317300794251,
          4.581248029239132,
          4.588304969629612,
          4.591700584870545,
          4.592538151991103,
          4.6021299577885255,
          4.6165261089713425,
          4.63096863877512,
          4.631903193859809,
          4.640094639421117,
          4.6410092160081255,
          4.64613684379001,
          4.6611782288523695,
          4.668287849357945,
          4.668917064754443,
          4.6697029002215285,
          4.67926359027254,
          4.697755616616062,
          4.731025894954344,
          4.738529758920488,
          4.786797889255152,
          4.799576317046316,
          4.814263117106964,
          4.8390678134838065,
          4.894717232025993,
          4.919937457756246,
          5.17329660632835
         ],
         "xaxis": "x",
         "y": [
          0.02458394333603825,
          0.027588532316624337,
          0.03632290973267899,
          0.040508781927895976,
          0.04069927602518997,
          0.04088800318871033,
          0.0441554085919198,
          0.045460626681222804,
          0.04555814966834787,
          0.051162895593297064,
          0.05261384426021365,
          0.053148387561375576,
          0.05728792519568554,
          0.06628959343759949,
          0.06944079272764309,
          0.06963676372043642,
          0.07139213091775148,
          0.07199436973763906,
          0.07352007439459257,
          0.0781209350259679,
          0.07994654184472749,
          0.08374074653535796,
          0.0840986604423119,
          0.08536044844920576,
          0.0887528884258969,
          0.09212138610616732,
          0.09227259394830828,
          0.09337058546358057,
          0.09715381674523038,
          0.09820015718506131,
          0.09930928920907456,
          0.10423539554472022,
          0.10676398509657514,
          0.10681464318092831,
          0.1088527721632343,
          0.1099773754944221,
          0.11049145732045745,
          0.11266101914539978,
          0.11330139529128436,
          0.1146953038380309,
          0.11681462872191312,
          0.11721629431085578,
          0.11787918516371715,
          0.12007324500378275,
          0.12218446863395821,
          0.12343271910334852,
          0.12537018345061846,
          0.12546283367197708,
          0.12548134565641128,
          0.12556205250634633,
          0.1284475166399469,
          0.129762717447703,
          0.13054511915078143,
          0.13073559500381732,
          0.13110644164841756,
          0.13154768823807805,
          0.1321986130710719,
          0.13275024414092668,
          0.13315224253463603,
          0.13321010580589432,
          0.1351450781858307,
          0.13553250476718132,
          0.13563700356709907,
          0.13588298497557072,
          0.13787939920222664,
          0.13891004493036752,
          0.13931406462630247,
          0.13934981710062533,
          0.1404685647003847,
          0.1423903968117876,
          0.14413945119397387,
          0.14444859991904646,
          0.14450878088936414,
          0.14451577396431853,
          0.14487686384257015,
          0.14507082698912616,
          0.1485368761520271,
          0.1508711158477017,
          0.15156564287244156,
          0.15280043653516712,
          0.15351810787812248,
          0.15401856264042446,
          0.15445388427348222,
          0.1545108348621531,
          0.1567959258306172,
          0.1568473430359329,
          0.15903904561801674,
          0.15978180396752428,
          0.1603235375056692,
          0.1618912040880447,
          0.16226641230060623,
          0.16351884936490185,
          0.16369250704072397,
          0.1649630796989225,
          0.1663116107125293,
          0.16662824125480363,
          0.1666730252383597,
          0.16759706027041193,
          0.1676060031873341,
          0.16910147212378368,
          0.17067459594285778,
          0.17257320659082775,
          0.17297075876634432,
          0.17310090835396447,
          0.1755337795068827,
          0.17761316464065063,
          0.1806586846202476,
          0.18069096009635205,
          0.18106372641306923,
          0.18173296360753305,
          0.18205498305102819,
          0.18213441280938258,
          0.18304404118180995,
          0.18440928437440696,
          0.18577892583260602,
          0.1858675533380605,
          0.1866443800848825,
          0.1867311129514428,
          0.18721738590276776,
          0.1886438191419607,
          0.18931805219730474,
          0.18937772314864704,
          0.189452246992438,
          0.19035892453721492,
          0.19211259555401777,
          0.19526774587442863,
          0.19597936657553516,
          0.2005568217246198,
          0.20176864989538829,
          0.20316145645522526,
          0.20551378260426856,
          0.21079123411696077,
          0.21318296653604552,
          0.2372100032403488
         ],
         "yaxis": "y"
        }
       ],
       "layout": {
        "font": {
         "family": "Arial",
         "size": 22
        },
        "height": 750,
        "legend": {
         "tracegroupgap": 0
        },
        "margin": {
         "pad": 20,
         "t": 60
        },
        "paper_bgcolor": "white",
        "plot_bgcolor": "white",
        "template": {
         "data": {
          "bar": [
           {
            "error_x": {
             "color": "#2a3f5f"
            },
            "error_y": {
             "color": "#2a3f5f"
            },
            "marker": {
             "line": {
              "color": "#E5ECF6",
              "width": 0.5
             },
             "pattern": {
              "fillmode": "overlay",
              "size": 10,
              "solidity": 0.2
             }
            },
            "type": "bar"
           }
          ],
          "barpolar": [
           {
            "marker": {
             "line": {
              "color": "#E5ECF6",
              "width": 0.5
             },
             "pattern": {
              "fillmode": "overlay",
              "size": 10,
              "solidity": 0.2
             }
            },
            "type": "barpolar"
           }
          ],
          "carpet": [
           {
            "aaxis": {
             "endlinecolor": "#2a3f5f",
             "gridcolor": "white",
             "linecolor": "white",
             "minorgridcolor": "white",
             "startlinecolor": "#2a3f5f"
            },
            "baxis": {
             "endlinecolor": "#2a3f5f",
             "gridcolor": "white",
             "linecolor": "white",
             "minorgridcolor": "white",
             "startlinecolor": "#2a3f5f"
            },
            "type": "carpet"
           }
          ],
          "choropleth": [
           {
            "colorbar": {
             "outlinewidth": 0,
             "ticks": ""
            },
            "type": "choropleth"
           }
          ],
          "contour": [
           {
            "colorbar": {
             "outlinewidth": 0,
             "ticks": ""
            },
            "colorscale": [
             [
              0,
              "#0d0887"
             ],
             [
              0.1111111111111111,
              "#46039f"
             ],
             [
              0.2222222222222222,
              "#7201a8"
             ],
             [
              0.3333333333333333,
              "#9c179e"
             ],
             [
              0.4444444444444444,
              "#bd3786"
             ],
             [
              0.5555555555555556,
              "#d8576b"
             ],
             [
              0.6666666666666666,
              "#ed7953"
             ],
             [
              0.7777777777777778,
              "#fb9f3a"
             ],
             [
              0.8888888888888888,
              "#fdca26"
             ],
             [
              1,
              "#f0f921"
             ]
            ],
            "type": "contour"
           }
          ],
          "contourcarpet": [
           {
            "colorbar": {
             "outlinewidth": 0,
             "ticks": ""
            },
            "type": "contourcarpet"
           }
          ],
          "heatmap": [
           {
            "colorbar": {
             "outlinewidth": 0,
             "ticks": ""
            },
            "colorscale": [
             [
              0,
              "#0d0887"
             ],
             [
              0.1111111111111111,
              "#46039f"
             ],
             [
              0.2222222222222222,
              "#7201a8"
             ],
             [
              0.3333333333333333,
              "#9c179e"
             ],
             [
              0.4444444444444444,
              "#bd3786"
             ],
             [
              0.5555555555555556,
              "#d8576b"
             ],
             [
              0.6666666666666666,
              "#ed7953"
             ],
             [
              0.7777777777777778,
              "#fb9f3a"
             ],
             [
              0.8888888888888888,
              "#fdca26"
             ],
             [
              1,
              "#f0f921"
             ]
            ],
            "type": "heatmap"
           }
          ],
          "heatmapgl": [
           {
            "colorbar": {
             "outlinewidth": 0,
             "ticks": ""
            },
            "colorscale": [
             [
              0,
              "#0d0887"
             ],
             [
              0.1111111111111111,
              "#46039f"
             ],
             [
              0.2222222222222222,
              "#7201a8"
             ],
             [
              0.3333333333333333,
              "#9c179e"
             ],
             [
              0.4444444444444444,
              "#bd3786"
             ],
             [
              0.5555555555555556,
              "#d8576b"
             ],
             [
              0.6666666666666666,
              "#ed7953"
             ],
             [
              0.7777777777777778,
              "#fb9f3a"
             ],
             [
              0.8888888888888888,
              "#fdca26"
             ],
             [
              1,
              "#f0f921"
             ]
            ],
            "type": "heatmapgl"
           }
          ],
          "histogram": [
           {
            "marker": {
             "pattern": {
              "fillmode": "overlay",
              "size": 10,
              "solidity": 0.2
             }
            },
            "type": "histogram"
           }
          ],
          "histogram2d": [
           {
            "colorbar": {
             "outlinewidth": 0,
             "ticks": ""
            },
            "colorscale": [
             [
              0,
              "#0d0887"
             ],
             [
              0.1111111111111111,
              "#46039f"
             ],
             [
              0.2222222222222222,
              "#7201a8"
             ],
             [
              0.3333333333333333,
              "#9c179e"
             ],
             [
              0.4444444444444444,
              "#bd3786"
             ],
             [
              0.5555555555555556,
              "#d8576b"
             ],
             [
              0.6666666666666666,
              "#ed7953"
             ],
             [
              0.7777777777777778,
              "#fb9f3a"
             ],
             [
              0.8888888888888888,
              "#fdca26"
             ],
             [
              1,
              "#f0f921"
             ]
            ],
            "type": "histogram2d"
           }
          ],
          "histogram2dcontour": [
           {
            "colorbar": {
             "outlinewidth": 0,
             "ticks": ""
            },
            "colorscale": [
             [
              0,
              "#0d0887"
             ],
             [
              0.1111111111111111,
              "#46039f"
             ],
             [
              0.2222222222222222,
              "#7201a8"
             ],
             [
              0.3333333333333333,
              "#9c179e"
             ],
             [
              0.4444444444444444,
              "#bd3786"
             ],
             [
              0.5555555555555556,
              "#d8576b"
             ],
             [
              0.6666666666666666,
              "#ed7953"
             ],
             [
              0.7777777777777778,
              "#fb9f3a"
             ],
             [
              0.8888888888888888,
              "#fdca26"
             ],
             [
              1,
              "#f0f921"
             ]
            ],
            "type": "histogram2dcontour"
           }
          ],
          "mesh3d": [
           {
            "colorbar": {
             "outlinewidth": 0,
             "ticks": ""
            },
            "type": "mesh3d"
           }
          ],
          "parcoords": [
           {
            "line": {
             "colorbar": {
              "outlinewidth": 0,
              "ticks": ""
             }
            },
            "type": "parcoords"
           }
          ],
          "pie": [
           {
            "automargin": true,
            "type": "pie"
           }
          ],
          "scatter": [
           {
            "fillpattern": {
             "fillmode": "overlay",
             "size": 10,
             "solidity": 0.2
            },
            "type": "scatter"
           }
          ],
          "scatter3d": [
           {
            "line": {
             "colorbar": {
              "outlinewidth": 0,
              "ticks": ""
             }
            },
            "marker": {
             "colorbar": {
              "outlinewidth": 0,
              "ticks": ""
             }
            },
            "type": "scatter3d"
           }
          ],
          "scattercarpet": [
           {
            "marker": {
             "colorbar": {
              "outlinewidth": 0,
              "ticks": ""
             }
            },
            "type": "scattercarpet"
           }
          ],
          "scattergeo": [
           {
            "marker": {
             "colorbar": {
              "outlinewidth": 0,
              "ticks": ""
             }
            },
            "type": "scattergeo"
           }
          ],
          "scattergl": [
           {
            "marker": {
             "colorbar": {
              "outlinewidth": 0,
              "ticks": ""
             }
            },
            "type": "scattergl"
           }
          ],
          "scattermapbox": [
           {
            "marker": {
             "colorbar": {
              "outlinewidth": 0,
              "ticks": ""
             }
            },
            "type": "scattermapbox"
           }
          ],
          "scatterpolar": [
           {
            "marker": {
             "colorbar": {
              "outlinewidth": 0,
              "ticks": ""
             }
            },
            "type": "scatterpolar"
           }
          ],
          "scatterpolargl": [
           {
            "marker": {
             "colorbar": {
              "outlinewidth": 0,
              "ticks": ""
             }
            },
            "type": "scatterpolargl"
           }
          ],
          "scatterternary": [
           {
            "marker": {
             "colorbar": {
              "outlinewidth": 0,
              "ticks": ""
             }
            },
            "type": "scatterternary"
           }
          ],
          "surface": [
           {
            "colorbar": {
             "outlinewidth": 0,
             "ticks": ""
            },
            "colorscale": [
             [
              0,
              "#0d0887"
             ],
             [
              0.1111111111111111,
              "#46039f"
             ],
             [
              0.2222222222222222,
              "#7201a8"
             ],
             [
              0.3333333333333333,
              "#9c179e"
             ],
             [
              0.4444444444444444,
              "#bd3786"
             ],
             [
              0.5555555555555556,
              "#d8576b"
             ],
             [
              0.6666666666666666,
              "#ed7953"
             ],
             [
              0.7777777777777778,
              "#fb9f3a"
             ],
             [
              0.8888888888888888,
              "#fdca26"
             ],
             [
              1,
              "#f0f921"
             ]
            ],
            "type": "surface"
           }
          ],
          "table": [
           {
            "cells": {
             "fill": {
              "color": "#EBF0F8"
             },
             "line": {
              "color": "white"
             }
            },
            "header": {
             "fill": {
              "color": "#C8D4E3"
             },
             "line": {
              "color": "white"
             }
            },
            "type": "table"
           }
          ]
         },
         "layout": {
          "annotationdefaults": {
           "arrowcolor": "#2a3f5f",
           "arrowhead": 0,
           "arrowwidth": 1
          },
          "autotypenumbers": "strict",
          "coloraxis": {
           "colorbar": {
            "outlinewidth": 0,
            "ticks": ""
           }
          },
          "colorscale": {
           "diverging": [
            [
             0,
             "#8e0152"
            ],
            [
             0.1,
             "#c51b7d"
            ],
            [
             0.2,
             "#de77ae"
            ],
            [
             0.3,
             "#f1b6da"
            ],
            [
             0.4,
             "#fde0ef"
            ],
            [
             0.5,
             "#f7f7f7"
            ],
            [
             0.6,
             "#e6f5d0"
            ],
            [
             0.7,
             "#b8e186"
            ],
            [
             0.8,
             "#7fbc41"
            ],
            [
             0.9,
             "#4d9221"
            ],
            [
             1,
             "#276419"
            ]
           ],
           "sequential": [
            [
             0,
             "#0d0887"
            ],
            [
             0.1111111111111111,
             "#46039f"
            ],
            [
             0.2222222222222222,
             "#7201a8"
            ],
            [
             0.3333333333333333,
             "#9c179e"
            ],
            [
             0.4444444444444444,
             "#bd3786"
            ],
            [
             0.5555555555555556,
             "#d8576b"
            ],
            [
             0.6666666666666666,
             "#ed7953"
            ],
            [
             0.7777777777777778,
             "#fb9f3a"
            ],
            [
             0.8888888888888888,
             "#fdca26"
            ],
            [
             1,
             "#f0f921"
            ]
           ],
           "sequentialminus": [
            [
             0,
             "#0d0887"
            ],
            [
             0.1111111111111111,
             "#46039f"
            ],
            [
             0.2222222222222222,
             "#7201a8"
            ],
            [
             0.3333333333333333,
             "#9c179e"
            ],
            [
             0.4444444444444444,
             "#bd3786"
            ],
            [
             0.5555555555555556,
             "#d8576b"
            ],
            [
             0.6666666666666666,
             "#ed7953"
            ],
            [
             0.7777777777777778,
             "#fb9f3a"
            ],
            [
             0.8888888888888888,
             "#fdca26"
            ],
            [
             1,
             "#f0f921"
            ]
           ]
          },
          "colorway": [
           "#636efa",
           "#EF553B",
           "#00cc96",
           "#ab63fa",
           "#FFA15A",
           "#19d3f3",
           "#FF6692",
           "#B6E880",
           "#FF97FF",
           "#FECB52"
          ],
          "font": {
           "color": "#2a3f5f"
          },
          "geo": {
           "bgcolor": "white",
           "lakecolor": "white",
           "landcolor": "#E5ECF6",
           "showlakes": true,
           "showland": true,
           "subunitcolor": "white"
          },
          "hoverlabel": {
           "align": "left"
          },
          "hovermode": "closest",
          "mapbox": {
           "style": "light"
          },
          "paper_bgcolor": "white",
          "plot_bgcolor": "#E5ECF6",
          "polar": {
           "angularaxis": {
            "gridcolor": "white",
            "linecolor": "white",
            "ticks": ""
           },
           "bgcolor": "#E5ECF6",
           "radialaxis": {
            "gridcolor": "white",
            "linecolor": "white",
            "ticks": ""
           }
          },
          "scene": {
           "xaxis": {
            "backgroundcolor": "#E5ECF6",
            "gridcolor": "white",
            "gridwidth": 2,
            "linecolor": "white",
            "showbackground": true,
            "ticks": "",
            "zerolinecolor": "white"
           },
           "yaxis": {
            "backgroundcolor": "#E5ECF6",
            "gridcolor": "white",
            "gridwidth": 2,
            "linecolor": "white",
            "showbackground": true,
            "ticks": "",
            "zerolinecolor": "white"
           },
           "zaxis": {
            "backgroundcolor": "#E5ECF6",
            "gridcolor": "white",
            "gridwidth": 2,
            "linecolor": "white",
            "showbackground": true,
            "ticks": "",
            "zerolinecolor": "white"
           }
          },
          "shapedefaults": {
           "line": {
            "color": "#2a3f5f"
           }
          },
          "ternary": {
           "aaxis": {
            "gridcolor": "white",
            "linecolor": "white",
            "ticks": ""
           },
           "baxis": {
            "gridcolor": "white",
            "linecolor": "white",
            "ticks": ""
           },
           "bgcolor": "#E5ECF6",
           "caxis": {
            "gridcolor": "white",
            "linecolor": "white",
            "ticks": ""
           }
          },
          "title": {
           "x": 0.05
          },
          "xaxis": {
           "automargin": true,
           "gridcolor": "white",
           "linecolor": "white",
           "ticks": "",
           "title": {
            "standoff": 15
           },
           "zerolinecolor": "white",
           "zerolinewidth": 2
          },
          "yaxis": {
           "automargin": true,
           "gridcolor": "white",
           "linecolor": "white",
           "ticks": "",
           "title": {
            "standoff": 15
           },
           "zerolinecolor": "white",
           "zerolinewidth": 2
          }
         }
        },
        "width": 1400,
        "xaxis": {
         "anchor": "y",
         "domain": [
          0,
          1
         ],
         "showgrid": false,
         "title": {
          "text": "GDP log($)"
         }
        },
        "yaxis": {
         "anchor": "x",
         "domain": [
          0,
          1
         ],
         "gridcolor": "LightGrey",
         "gridwidth": 1,
         "showgrid": true,
         "title": {
          "text": "Price (£/kWh)"
         }
        }
       }
      }
     },
     "metadata": {},
     "output_type": "display_data"
    }
   ],
   "source": [
    "scatter_chart(data=joined_energy_data, x_var='gdp_per_cap_log', y_var='price', x_label='GDP log($)', y_label='Price (£/kWh)', hover_labels='country')"
   ]
  },
  {
   "cell_type": "code",
   "execution_count": 35,
   "metadata": {},
   "outputs": [
    {
     "data": {
      "application/vnd.plotly.v1+json": {
       "config": {
        "plotlyServerURL": "https://plot.ly"
       },
       "data": [
        {
         "customdata": [
          [
           "Lebanon"
          ],
          [
           "Iran"
          ],
          [
           "Syria"
          ],
          [
           "Ethiopia"
          ],
          [
           "Sudan"
          ],
          [
           "Kyrgyzstan"
          ],
          [
           "Libya"
          ],
          [
           "Angola"
          ],
          [
           "Zimbabwe"
          ],
          [
           "Iraq"
          ],
          [
           "Bhutan"
          ],
          [
           "Suriname"
          ],
          [
           "Uzbekistan"
          ],
          [
           "Argentina"
          ],
          [
           "Oman"
          ],
          [
           "Egypt"
          ],
          [
           "Zambia"
          ],
          [
           "Kuwait"
          ],
          [
           "Myanmar"
          ],
          [
           "Laos"
          ],
          [
           "Cuba"
          ],
          [
           "Nigeria"
          ],
          [
           "Qatar"
          ],
          [
           "Uganda"
          ],
          [
           "Algeria"
          ],
          [
           "Nepal"
          ],
          [
           "Venezuela"
          ],
          [
           "Kazakhstan"
          ],
          [
           "Azerbaijan"
          ],
          [
           "Malaysia"
          ],
          [
           "Bahrain"
          ],
          [
           "Saudi Arabia"
          ],
          [
           "Pakistan"
          ],
          [
           "Bangladesh"
          ],
          [
           "Russia"
          ],
          [
           "Afghanistan"
          ],
          [
           "Trinidad and Tobago"
          ],
          [
           "Paraguay"
          ],
          [
           "Democratic Republic of Congo"
          ],
          [
           "Tunisia"
          ],
          [
           "Ghana"
          ],
          [
           "China"
          ],
          [
           "Georgia"
          ],
          [
           "Vietnam"
          ],
          [
           "India"
          ],
          [
           "Ukraine"
          ],
          [
           "Cameroon"
          ],
          [
           "Turkey"
          ],
          [
           "Lesotho"
          ],
          [
           "Taiwan"
          ],
          [
           "Sri Lanka"
          ],
          [
           "Jordan"
          ],
          [
           "Belarus"
          ],
          [
           "Tanzania"
          ],
          [
           "Botswana"
          ],
          [
           "Eswatini"
          ],
          [
           "Indonesia"
          ],
          [
           "Ecuador"
          ],
          [
           "Mexico"
          ],
          [
           "Bosnia and Herzegovina"
          ],
          [
           "Maldives"
          ],
          [
           "Serbia"
          ],
          [
           "Armenia"
          ],
          [
           "Malawi"
          ],
          [
           "Hungary"
          ],
          [
           "South Korea"
          ],
          [
           "Albania"
          ],
          [
           "Namibia"
          ],
          [
           "Morocco"
          ],
          [
           "Cote d'Ivoire"
          ],
          [
           "Canada"
          ],
          [
           "Mozambique"
          ],
          [
           "Madagascar"
          ],
          [
           "Mauritius"
          ],
          [
           "Bulgaria"
          ],
          [
           "Thailand"
          ],
          [
           "Malta"
          ],
          [
           "South Africa"
          ],
          [
           "Cambodia"
          ],
          [
           "Costa Rica"
          ],
          [
           "Iceland"
          ],
          [
           "Sierra Leone"
          ],
          [
           "Macao"
          ],
          [
           "Israel"
          ],
          [
           "Brazil"
          ],
          [
           "Senegal"
          ],
          [
           "Chile"
          ],
          [
           "Panama"
          ],
          [
           "Romania"
          ],
          [
           "Kenya"
          ],
          [
           "Philippines"
          ],
          [
           "United States"
          ],
          [
           "Nicaragua"
          ],
          [
           "United Arab Emirates"
          ],
          [
           "New Zealand"
          ],
          [
           "Norway"
          ],
          [
           "Hong Kong"
          ],
          [
           "Colombia"
          ],
          [
           "Togo"
          ],
          [
           "Poland"
          ],
          [
           "Gabon"
          ],
          [
           "Burkina Faso"
          ],
          [
           "Mali"
          ],
          [
           "France"
          ],
          [
           "Belize"
          ],
          [
           "Rwanda"
          ],
          [
           "Slovakia"
          ],
          [
           "Aruba"
          ],
          [
           "Australia"
          ],
          [
           "Slovenia"
          ],
          [
           "Singapore"
          ],
          [
           "Japan"
          ],
          [
           "El Salvador"
          ],
          [
           "Peru"
          ],
          [
           "Uruguay"
          ],
          [
           "Honduras"
          ],
          [
           "Moldova"
          ],
          [
           "Barbados"
          ],
          [
           "Greece"
          ],
          [
           "Portugal"
          ],
          [
           "Guatemala"
          ],
          [
           "Spain"
          ],
          [
           "Bahamas"
          ],
          [
           "Cape Verde"
          ],
          [
           "Jamaica"
          ],
          [
           "Luxembourg"
          ],
          [
           "Switzerland"
          ],
          [
           "Cyprus"
          ],
          [
           "Finland"
          ],
          [
           "Sweden"
          ],
          [
           "Bermuda"
          ],
          [
           "Latvia"
          ],
          [
           "Czechia"
          ],
          [
           "Estonia"
          ],
          [
           "Cayman Islands"
          ],
          [
           "United Kingdom"
          ],
          [
           "Netherlands"
          ],
          [
           "Lithuania"
          ],
          [
           "Ireland"
          ],
          [
           "Germany"
          ],
          [
           "Denmark"
          ],
          [
           "Belgium"
          ],
          [
           "Austria"
          ],
          [
           "Italy"
          ]
         ],
         "hovertemplate": "Oil and gas production per capita log(tWh)=%{x}<br>Price (£/kWh)=%{y}<br>country=%{customdata[0]}<extra></extra>",
         "legendgroup": "",
         "marker": {
          "color": "#80b1d3",
          "symbol": "circle"
         },
         "mode": "markers",
         "name": "",
         "orientation": "v",
         "showlegend": false,
         "type": "scatter",
         "x": [
          null,
          4.711951787094338,
          3.596608090284298,
          null,
          2.905306281399003,
          null,
          5.095131156255973,
          4.284507388515535,
          null,
          4.746194327028382,
          null,
          null,
          4.201919165635729,
          4.204068298537313,
          5.321122626782307,
          3.9710907237438375,
          null,
          5.584277294990131,
          3.504095671218532,
          null,
          null,
          3.805372249890922,
          5.988288107218028,
          null,
          4.582127422307589,
          null,
          4.382393850276806,
          4.819114218936313,
          4.848868087426388,
          4.508693400309022,
          5.070917834602233,
          5.297649197114063,
          3.1496808824829383,
          3.144312929697508,
          4.961758545015676,
          null,
          5.275657824769682,
          null,
          null,
          3.303430858663699,
          null,
          3.489870206074218,
          null,
          3.271235726503035,
          2.684255433318093,
          3.6339420832029927,
          null,
          null,
          null,
          null,
          null,
          null,
          null,
          null,
          null,
          null,
          3.556383682119967,
          4.219105044645429,
          4.074977954994644,
          null,
          null,
          null,
          null,
          null,
          null,
          null,
          null,
          null,
          null,
          null,
          5.10187952387181,
          null,
          null,
          null,
          null,
          3.8253767131490575,
          null,
          null,
          null,
          null,
          null,
          null,
          null,
          null,
          3.9843839950219584,
          null,
          null,
          null,
          3.8106818407735403,
          null,
          null,
          4.7217999925857255,
          null,
          5.4236764199400325,
          null,
          5.616626876158399,
          null,
          4.0490159899745395,
          null,
          3.006023820923238,
          4.652600982837403,
          null,
          null,
          null,
          null,
          null,
          null,
          null,
          4.815884275934656,
          null,
          null,
          null,
          null,
          3.7189852883396406,
          null,
          null,
          null,
          null,
          null,
          null,
          null,
          null,
          null,
          null,
          null,
          null,
          null,
          null,
          null,
          null,
          null,
          null,
          null,
          null,
          null,
          4.076876201935375,
          4.013263383102894,
          null,
          null,
          2.7355406173001393,
          3.950523644693247,
          null,
          null,
          3.172526455959315
         ],
         "xaxis": "x",
         "y": [
          0.001,
          0.002,
          0.004,
          0.005,
          0.007,
          0.008,
          0.008,
          0.011,
          0.012,
          0.012,
          0.012,
          0.012,
          0.019,
          0.02,
          0.021,
          0.021,
          0.022,
          0.023,
          0.023,
          0.024,
          0.024,
          0.024,
          0.025,
          0.031,
          0.031,
          0.035,
          0.036,
          0.036,
          0.037,
          0.038,
          0.038,
          0.038,
          0.039,
          0.041,
          0.041,
          0.041,
          0.042,
          0.044,
          0.053,
          0.054,
          0.057,
          0.059,
          0.06,
          0.062,
          0.062,
          0.063,
          0.065,
          0.065,
          0.07,
          0.07,
          0.071,
          0.072,
          0.073,
          0.074,
          0.074,
          0.074,
          0.075,
          0.076,
          0.077,
          0.077,
          0.079,
          0.082,
          0.083,
          0.084,
          0.087,
          0.087,
          0.09,
          0.091,
          0.092,
          0.094,
          0.096,
          0.101,
          0.103,
          0.106,
          0.108,
          0.111,
          0.114,
          0.115,
          0.117,
          0.119,
          0.121,
          0.124,
          0.125,
          0.129,
          0.132,
          0.134,
          0.135,
          0.136,
          0.138,
          0.138,
          0.138,
          0.138,
          0.139,
          0.139,
          0.143,
          0.144,
          0.145,
          0.146,
          0.151,
          0.155,
          0.16,
          0.161,
          0.171,
          0.172,
          0.172,
          0.172,
          0.173,
          0.18,
          0.181,
          0.184,
          0.186,
          0.188,
          0.193,
          0.193,
          0.2,
          0.209,
          0.213,
          0.215,
          0.219,
          0.22,
          0.231,
          0.236,
          0.246,
          0.246,
          0.26,
          0.26,
          0.268,
          0.286,
          0.288,
          0.333,
          0.34,
          0.347,
          0.35,
          0.37,
          0.383,
          0.387,
          0.405,
          0.447,
          0.469,
          0.48,
          0.49,
          0.507,
          0.542,
          0.613
         ],
         "yaxis": "y"
        },
        {
         "hovertemplate": "<b>OLS trendline</b><br>price = -0.0450189 * oil_and_gas_prod_per_capita_log + 0.295323<br>R<sup>2</sup>=0.073280<br><br>Oil and gas production per capita log(tWh)=%{x}<br>Price (£/kWh)=%{y} <b>(trend)</b><extra></extra>",
         "legendgroup": "Overall Trendline",
         "line": {
          "color": "#969696"
         },
         "mode": "lines",
         "name": "Overall Trendline",
         "showlegend": true,
         "type": "scatter",
         "x": [
          2.684255433318093,
          2.7355406173001393,
          2.905306281399003,
          3.006023820923238,
          3.144312929697508,
          3.1496808824829383,
          3.172526455959315,
          3.271235726503035,
          3.303430858663699,
          3.489870206074218,
          3.504095671218532,
          3.556383682119967,
          3.596608090284298,
          3.6339420832029927,
          3.7189852883396406,
          3.805372249890922,
          3.8106818407735403,
          3.8253767131490575,
          3.950523644693247,
          3.9710907237438375,
          3.9843839950219584,
          4.013263383102894,
          4.0490159899745395,
          4.074977954994644,
          4.076876201935375,
          4.201919165635729,
          4.204068298537313,
          4.219105044645429,
          4.284507388515535,
          4.382393850276806,
          4.508693400309022,
          4.582127422307589,
          4.652600982837403,
          4.711951787094338,
          4.7217999925857255,
          4.746194327028382,
          4.815884275934656,
          4.819114218936313,
          4.848868087426388,
          4.961758545015676,
          5.070917834602233,
          5.095131156255973,
          5.10187952387181,
          5.275657824769682,
          5.297649197114063,
          5.321122626782307,
          5.4236764199400325,
          5.584277294990131,
          5.616626876158399,
          5.988288107218028
         ],
         "xaxis": "x",
         "y": [
          0.174480482769596,
          0.17217167940061062,
          0.16452901329753666,
          0.15999481888671274,
          0.15376919317103252,
          0.1535275337576648,
          0.15249905081360193,
          0.1480552664945048,
          0.1466058765571792,
          0.13821257931243242,
          0.1375721642977944,
          0.1352182147483682,
          0.13340735551234084,
          0.13172661963629265,
          0.12789806676227852,
          0.12400901943165316,
          0.12376998740786213,
          0.12310844018870265,
          0.11747446104048401,
          0.11654855344466031,
          0.11595010478700304,
          0.1146499860525389,
          0.1130404424614666,
          0.11187166294953424,
          0.11178620593073016,
          0.10615690730209773,
          0.10606015566939792,
          0.1053832176655263,
          0.10243887506709273,
          0.09803213270712388,
          0.09234626392447895,
          0.08904034388629037,
          0.0858677006130871,
          0.0831957917657215,
          0.08275243623393799,
          0.08165422975065659,
          0.07851686382299314,
          0.0783714552916234,
          0.07703196839743029,
          0.07194976241568532,
          0.06703552957132775,
          0.06594547208751231,
          0.06564166789540779,
          0.05781835723496409,
          0.05682832949956407,
          0.05577158115059341,
          0.051154720592431535,
          0.04392464335399415,
          0.042468300289831395,
          0.02573651469865329
         ],
         "yaxis": "y"
        }
       ],
       "layout": {
        "font": {
         "family": "Arial",
         "size": 22
        },
        "height": 750,
        "legend": {
         "tracegroupgap": 0
        },
        "margin": {
         "pad": 20,
         "t": 60
        },
        "paper_bgcolor": "white",
        "plot_bgcolor": "white",
        "template": {
         "data": {
          "bar": [
           {
            "error_x": {
             "color": "#2a3f5f"
            },
            "error_y": {
             "color": "#2a3f5f"
            },
            "marker": {
             "line": {
              "color": "#E5ECF6",
              "width": 0.5
             },
             "pattern": {
              "fillmode": "overlay",
              "size": 10,
              "solidity": 0.2
             }
            },
            "type": "bar"
           }
          ],
          "barpolar": [
           {
            "marker": {
             "line": {
              "color": "#E5ECF6",
              "width": 0.5
             },
             "pattern": {
              "fillmode": "overlay",
              "size": 10,
              "solidity": 0.2
             }
            },
            "type": "barpolar"
           }
          ],
          "carpet": [
           {
            "aaxis": {
             "endlinecolor": "#2a3f5f",
             "gridcolor": "white",
             "linecolor": "white",
             "minorgridcolor": "white",
             "startlinecolor": "#2a3f5f"
            },
            "baxis": {
             "endlinecolor": "#2a3f5f",
             "gridcolor": "white",
             "linecolor": "white",
             "minorgridcolor": "white",
             "startlinecolor": "#2a3f5f"
            },
            "type": "carpet"
           }
          ],
          "choropleth": [
           {
            "colorbar": {
             "outlinewidth": 0,
             "ticks": ""
            },
            "type": "choropleth"
           }
          ],
          "contour": [
           {
            "colorbar": {
             "outlinewidth": 0,
             "ticks": ""
            },
            "colorscale": [
             [
              0,
              "#0d0887"
             ],
             [
              0.1111111111111111,
              "#46039f"
             ],
             [
              0.2222222222222222,
              "#7201a8"
             ],
             [
              0.3333333333333333,
              "#9c179e"
             ],
             [
              0.4444444444444444,
              "#bd3786"
             ],
             [
              0.5555555555555556,
              "#d8576b"
             ],
             [
              0.6666666666666666,
              "#ed7953"
             ],
             [
              0.7777777777777778,
              "#fb9f3a"
             ],
             [
              0.8888888888888888,
              "#fdca26"
             ],
             [
              1,
              "#f0f921"
             ]
            ],
            "type": "contour"
           }
          ],
          "contourcarpet": [
           {
            "colorbar": {
             "outlinewidth": 0,
             "ticks": ""
            },
            "type": "contourcarpet"
           }
          ],
          "heatmap": [
           {
            "colorbar": {
             "outlinewidth": 0,
             "ticks": ""
            },
            "colorscale": [
             [
              0,
              "#0d0887"
             ],
             [
              0.1111111111111111,
              "#46039f"
             ],
             [
              0.2222222222222222,
              "#7201a8"
             ],
             [
              0.3333333333333333,
              "#9c179e"
             ],
             [
              0.4444444444444444,
              "#bd3786"
             ],
             [
              0.5555555555555556,
              "#d8576b"
             ],
             [
              0.6666666666666666,
              "#ed7953"
             ],
             [
              0.7777777777777778,
              "#fb9f3a"
             ],
             [
              0.8888888888888888,
              "#fdca26"
             ],
             [
              1,
              "#f0f921"
             ]
            ],
            "type": "heatmap"
           }
          ],
          "heatmapgl": [
           {
            "colorbar": {
             "outlinewidth": 0,
             "ticks": ""
            },
            "colorscale": [
             [
              0,
              "#0d0887"
             ],
             [
              0.1111111111111111,
              "#46039f"
             ],
             [
              0.2222222222222222,
              "#7201a8"
             ],
             [
              0.3333333333333333,
              "#9c179e"
             ],
             [
              0.4444444444444444,
              "#bd3786"
             ],
             [
              0.5555555555555556,
              "#d8576b"
             ],
             [
              0.6666666666666666,
              "#ed7953"
             ],
             [
              0.7777777777777778,
              "#fb9f3a"
             ],
             [
              0.8888888888888888,
              "#fdca26"
             ],
             [
              1,
              "#f0f921"
             ]
            ],
            "type": "heatmapgl"
           }
          ],
          "histogram": [
           {
            "marker": {
             "pattern": {
              "fillmode": "overlay",
              "size": 10,
              "solidity": 0.2
             }
            },
            "type": "histogram"
           }
          ],
          "histogram2d": [
           {
            "colorbar": {
             "outlinewidth": 0,
             "ticks": ""
            },
            "colorscale": [
             [
              0,
              "#0d0887"
             ],
             [
              0.1111111111111111,
              "#46039f"
             ],
             [
              0.2222222222222222,
              "#7201a8"
             ],
             [
              0.3333333333333333,
              "#9c179e"
             ],
             [
              0.4444444444444444,
              "#bd3786"
             ],
             [
              0.5555555555555556,
              "#d8576b"
             ],
             [
              0.6666666666666666,
              "#ed7953"
             ],
             [
              0.7777777777777778,
              "#fb9f3a"
             ],
             [
              0.8888888888888888,
              "#fdca26"
             ],
             [
              1,
              "#f0f921"
             ]
            ],
            "type": "histogram2d"
           }
          ],
          "histogram2dcontour": [
           {
            "colorbar": {
             "outlinewidth": 0,
             "ticks": ""
            },
            "colorscale": [
             [
              0,
              "#0d0887"
             ],
             [
              0.1111111111111111,
              "#46039f"
             ],
             [
              0.2222222222222222,
              "#7201a8"
             ],
             [
              0.3333333333333333,
              "#9c179e"
             ],
             [
              0.4444444444444444,
              "#bd3786"
             ],
             [
              0.5555555555555556,
              "#d8576b"
             ],
             [
              0.6666666666666666,
              "#ed7953"
             ],
             [
              0.7777777777777778,
              "#fb9f3a"
             ],
             [
              0.8888888888888888,
              "#fdca26"
             ],
             [
              1,
              "#f0f921"
             ]
            ],
            "type": "histogram2dcontour"
           }
          ],
          "mesh3d": [
           {
            "colorbar": {
             "outlinewidth": 0,
             "ticks": ""
            },
            "type": "mesh3d"
           }
          ],
          "parcoords": [
           {
            "line": {
             "colorbar": {
              "outlinewidth": 0,
              "ticks": ""
             }
            },
            "type": "parcoords"
           }
          ],
          "pie": [
           {
            "automargin": true,
            "type": "pie"
           }
          ],
          "scatter": [
           {
            "fillpattern": {
             "fillmode": "overlay",
             "size": 10,
             "solidity": 0.2
            },
            "type": "scatter"
           }
          ],
          "scatter3d": [
           {
            "line": {
             "colorbar": {
              "outlinewidth": 0,
              "ticks": ""
             }
            },
            "marker": {
             "colorbar": {
              "outlinewidth": 0,
              "ticks": ""
             }
            },
            "type": "scatter3d"
           }
          ],
          "scattercarpet": [
           {
            "marker": {
             "colorbar": {
              "outlinewidth": 0,
              "ticks": ""
             }
            },
            "type": "scattercarpet"
           }
          ],
          "scattergeo": [
           {
            "marker": {
             "colorbar": {
              "outlinewidth": 0,
              "ticks": ""
             }
            },
            "type": "scattergeo"
           }
          ],
          "scattergl": [
           {
            "marker": {
             "colorbar": {
              "outlinewidth": 0,
              "ticks": ""
             }
            },
            "type": "scattergl"
           }
          ],
          "scattermapbox": [
           {
            "marker": {
             "colorbar": {
              "outlinewidth": 0,
              "ticks": ""
             }
            },
            "type": "scattermapbox"
           }
          ],
          "scatterpolar": [
           {
            "marker": {
             "colorbar": {
              "outlinewidth": 0,
              "ticks": ""
             }
            },
            "type": "scatterpolar"
           }
          ],
          "scatterpolargl": [
           {
            "marker": {
             "colorbar": {
              "outlinewidth": 0,
              "ticks": ""
             }
            },
            "type": "scatterpolargl"
           }
          ],
          "scatterternary": [
           {
            "marker": {
             "colorbar": {
              "outlinewidth": 0,
              "ticks": ""
             }
            },
            "type": "scatterternary"
           }
          ],
          "surface": [
           {
            "colorbar": {
             "outlinewidth": 0,
             "ticks": ""
            },
            "colorscale": [
             [
              0,
              "#0d0887"
             ],
             [
              0.1111111111111111,
              "#46039f"
             ],
             [
              0.2222222222222222,
              "#7201a8"
             ],
             [
              0.3333333333333333,
              "#9c179e"
             ],
             [
              0.4444444444444444,
              "#bd3786"
             ],
             [
              0.5555555555555556,
              "#d8576b"
             ],
             [
              0.6666666666666666,
              "#ed7953"
             ],
             [
              0.7777777777777778,
              "#fb9f3a"
             ],
             [
              0.8888888888888888,
              "#fdca26"
             ],
             [
              1,
              "#f0f921"
             ]
            ],
            "type": "surface"
           }
          ],
          "table": [
           {
            "cells": {
             "fill": {
              "color": "#EBF0F8"
             },
             "line": {
              "color": "white"
             }
            },
            "header": {
             "fill": {
              "color": "#C8D4E3"
             },
             "line": {
              "color": "white"
             }
            },
            "type": "table"
           }
          ]
         },
         "layout": {
          "annotationdefaults": {
           "arrowcolor": "#2a3f5f",
           "arrowhead": 0,
           "arrowwidth": 1
          },
          "autotypenumbers": "strict",
          "coloraxis": {
           "colorbar": {
            "outlinewidth": 0,
            "ticks": ""
           }
          },
          "colorscale": {
           "diverging": [
            [
             0,
             "#8e0152"
            ],
            [
             0.1,
             "#c51b7d"
            ],
            [
             0.2,
             "#de77ae"
            ],
            [
             0.3,
             "#f1b6da"
            ],
            [
             0.4,
             "#fde0ef"
            ],
            [
             0.5,
             "#f7f7f7"
            ],
            [
             0.6,
             "#e6f5d0"
            ],
            [
             0.7,
             "#b8e186"
            ],
            [
             0.8,
             "#7fbc41"
            ],
            [
             0.9,
             "#4d9221"
            ],
            [
             1,
             "#276419"
            ]
           ],
           "sequential": [
            [
             0,
             "#0d0887"
            ],
            [
             0.1111111111111111,
             "#46039f"
            ],
            [
             0.2222222222222222,
             "#7201a8"
            ],
            [
             0.3333333333333333,
             "#9c179e"
            ],
            [
             0.4444444444444444,
             "#bd3786"
            ],
            [
             0.5555555555555556,
             "#d8576b"
            ],
            [
             0.6666666666666666,
             "#ed7953"
            ],
            [
             0.7777777777777778,
             "#fb9f3a"
            ],
            [
             0.8888888888888888,
             "#fdca26"
            ],
            [
             1,
             "#f0f921"
            ]
           ],
           "sequentialminus": [
            [
             0,
             "#0d0887"
            ],
            [
             0.1111111111111111,
             "#46039f"
            ],
            [
             0.2222222222222222,
             "#7201a8"
            ],
            [
             0.3333333333333333,
             "#9c179e"
            ],
            [
             0.4444444444444444,
             "#bd3786"
            ],
            [
             0.5555555555555556,
             "#d8576b"
            ],
            [
             0.6666666666666666,
             "#ed7953"
            ],
            [
             0.7777777777777778,
             "#fb9f3a"
            ],
            [
             0.8888888888888888,
             "#fdca26"
            ],
            [
             1,
             "#f0f921"
            ]
           ]
          },
          "colorway": [
           "#636efa",
           "#EF553B",
           "#00cc96",
           "#ab63fa",
           "#FFA15A",
           "#19d3f3",
           "#FF6692",
           "#B6E880",
           "#FF97FF",
           "#FECB52"
          ],
          "font": {
           "color": "#2a3f5f"
          },
          "geo": {
           "bgcolor": "white",
           "lakecolor": "white",
           "landcolor": "#E5ECF6",
           "showlakes": true,
           "showland": true,
           "subunitcolor": "white"
          },
          "hoverlabel": {
           "align": "left"
          },
          "hovermode": "closest",
          "mapbox": {
           "style": "light"
          },
          "paper_bgcolor": "white",
          "plot_bgcolor": "#E5ECF6",
          "polar": {
           "angularaxis": {
            "gridcolor": "white",
            "linecolor": "white",
            "ticks": ""
           },
           "bgcolor": "#E5ECF6",
           "radialaxis": {
            "gridcolor": "white",
            "linecolor": "white",
            "ticks": ""
           }
          },
          "scene": {
           "xaxis": {
            "backgroundcolor": "#E5ECF6",
            "gridcolor": "white",
            "gridwidth": 2,
            "linecolor": "white",
            "showbackground": true,
            "ticks": "",
            "zerolinecolor": "white"
           },
           "yaxis": {
            "backgroundcolor": "#E5ECF6",
            "gridcolor": "white",
            "gridwidth": 2,
            "linecolor": "white",
            "showbackground": true,
            "ticks": "",
            "zerolinecolor": "white"
           },
           "zaxis": {
            "backgroundcolor": "#E5ECF6",
            "gridcolor": "white",
            "gridwidth": 2,
            "linecolor": "white",
            "showbackground": true,
            "ticks": "",
            "zerolinecolor": "white"
           }
          },
          "shapedefaults": {
           "line": {
            "color": "#2a3f5f"
           }
          },
          "ternary": {
           "aaxis": {
            "gridcolor": "white",
            "linecolor": "white",
            "ticks": ""
           },
           "baxis": {
            "gridcolor": "white",
            "linecolor": "white",
            "ticks": ""
           },
           "bgcolor": "#E5ECF6",
           "caxis": {
            "gridcolor": "white",
            "linecolor": "white",
            "ticks": ""
           }
          },
          "title": {
           "x": 0.05
          },
          "xaxis": {
           "automargin": true,
           "gridcolor": "white",
           "linecolor": "white",
           "ticks": "",
           "title": {
            "standoff": 15
           },
           "zerolinecolor": "white",
           "zerolinewidth": 2
          },
          "yaxis": {
           "automargin": true,
           "gridcolor": "white",
           "linecolor": "white",
           "ticks": "",
           "title": {
            "standoff": 15
           },
           "zerolinecolor": "white",
           "zerolinewidth": 2
          }
         }
        },
        "width": 1400,
        "xaxis": {
         "anchor": "y",
         "domain": [
          0,
          1
         ],
         "showgrid": false,
         "title": {
          "text": "Oil and gas production per capita log(tWh)"
         }
        },
        "yaxis": {
         "anchor": "x",
         "domain": [
          0,
          1
         ],
         "gridcolor": "LightGrey",
         "gridwidth": 1,
         "showgrid": true,
         "title": {
          "text": "Price (£/kWh)"
         }
        }
       }
      }
     },
     "metadata": {},
     "output_type": "display_data"
    }
   ],
   "source": [
    "scatter_chart(data=joined_energy_data, x_var='oil_and_gas_prod_per_capita_log', y_var='price', x_label='Oil and gas production per capita log(tWh)', y_label='Price (£/kWh)', hover_labels='country')"
   ]
  },
  {
   "cell_type": "code",
   "execution_count": 36,
   "metadata": {},
   "outputs": [
    {
     "data": {
      "application/vnd.plotly.v1+json": {
       "config": {
        "plotlyServerURL": "https://plot.ly"
       },
       "data": [
        {
         "customdata": [
          [
           "Lebanon"
          ],
          [
           "Iran"
          ],
          [
           "Syria"
          ],
          [
           "Ethiopia"
          ],
          [
           "Sudan"
          ],
          [
           "Kyrgyzstan"
          ],
          [
           "Libya"
          ],
          [
           "Angola"
          ],
          [
           "Zimbabwe"
          ],
          [
           "Iraq"
          ],
          [
           "Bhutan"
          ],
          [
           "Suriname"
          ],
          [
           "Uzbekistan"
          ],
          [
           "Argentina"
          ],
          [
           "Oman"
          ],
          [
           "Egypt"
          ],
          [
           "Zambia"
          ],
          [
           "Kuwait"
          ],
          [
           "Myanmar"
          ],
          [
           "Laos"
          ],
          [
           "Cuba"
          ],
          [
           "Nigeria"
          ],
          [
           "Qatar"
          ],
          [
           "Uganda"
          ],
          [
           "Algeria"
          ],
          [
           "Nepal"
          ],
          [
           "Venezuela"
          ],
          [
           "Kazakhstan"
          ],
          [
           "Azerbaijan"
          ],
          [
           "Malaysia"
          ],
          [
           "Bahrain"
          ],
          [
           "Saudi Arabia"
          ],
          [
           "Pakistan"
          ],
          [
           "Bangladesh"
          ],
          [
           "Russia"
          ],
          [
           "Afghanistan"
          ],
          [
           "Trinidad and Tobago"
          ],
          [
           "Paraguay"
          ],
          [
           "Democratic Republic of Congo"
          ],
          [
           "Tunisia"
          ],
          [
           "Ghana"
          ],
          [
           "China"
          ],
          [
           "Georgia"
          ],
          [
           "Vietnam"
          ],
          [
           "India"
          ],
          [
           "Ukraine"
          ],
          [
           "Cameroon"
          ],
          [
           "Turkey"
          ],
          [
           "Lesotho"
          ],
          [
           "Taiwan"
          ],
          [
           "Sri Lanka"
          ],
          [
           "Jordan"
          ],
          [
           "Belarus"
          ],
          [
           "Tanzania"
          ],
          [
           "Botswana"
          ],
          [
           "Eswatini"
          ],
          [
           "Indonesia"
          ],
          [
           "Ecuador"
          ],
          [
           "Mexico"
          ],
          [
           "Bosnia and Herzegovina"
          ],
          [
           "Maldives"
          ],
          [
           "Serbia"
          ],
          [
           "Armenia"
          ],
          [
           "Malawi"
          ],
          [
           "Hungary"
          ],
          [
           "South Korea"
          ],
          [
           "Albania"
          ],
          [
           "Namibia"
          ],
          [
           "Morocco"
          ],
          [
           "Cote d'Ivoire"
          ],
          [
           "Canada"
          ],
          [
           "Mozambique"
          ],
          [
           "Madagascar"
          ],
          [
           "Mauritius"
          ],
          [
           "Bulgaria"
          ],
          [
           "Thailand"
          ],
          [
           "Malta"
          ],
          [
           "South Africa"
          ],
          [
           "Cambodia"
          ],
          [
           "Costa Rica"
          ],
          [
           "Iceland"
          ],
          [
           "Sierra Leone"
          ],
          [
           "Macao"
          ],
          [
           "Israel"
          ],
          [
           "Brazil"
          ],
          [
           "Senegal"
          ],
          [
           "Chile"
          ],
          [
           "Panama"
          ],
          [
           "Romania"
          ],
          [
           "Kenya"
          ],
          [
           "Philippines"
          ],
          [
           "United States"
          ],
          [
           "Nicaragua"
          ],
          [
           "United Arab Emirates"
          ],
          [
           "New Zealand"
          ],
          [
           "Norway"
          ],
          [
           "Hong Kong"
          ],
          [
           "Colombia"
          ],
          [
           "Togo"
          ],
          [
           "Poland"
          ],
          [
           "Gabon"
          ],
          [
           "Burkina Faso"
          ],
          [
           "Mali"
          ],
          [
           "France"
          ],
          [
           "Belize"
          ],
          [
           "Rwanda"
          ],
          [
           "Slovakia"
          ],
          [
           "Aruba"
          ],
          [
           "Australia"
          ],
          [
           "Slovenia"
          ],
          [
           "Singapore"
          ],
          [
           "Japan"
          ],
          [
           "El Salvador"
          ],
          [
           "Peru"
          ],
          [
           "Uruguay"
          ],
          [
           "Honduras"
          ],
          [
           "Moldova"
          ],
          [
           "Barbados"
          ],
          [
           "Greece"
          ],
          [
           "Portugal"
          ],
          [
           "Guatemala"
          ],
          [
           "Spain"
          ],
          [
           "Bahamas"
          ],
          [
           "Cape Verde"
          ],
          [
           "Jamaica"
          ],
          [
           "Luxembourg"
          ],
          [
           "Switzerland"
          ],
          [
           "Cyprus"
          ],
          [
           "Finland"
          ],
          [
           "Sweden"
          ],
          [
           "Bermuda"
          ],
          [
           "Latvia"
          ],
          [
           "Czechia"
          ],
          [
           "Estonia"
          ],
          [
           "Cayman Islands"
          ],
          [
           "United Kingdom"
          ],
          [
           "Netherlands"
          ],
          [
           "Lithuania"
          ],
          [
           "Ireland"
          ],
          [
           "Germany"
          ],
          [
           "Denmark"
          ],
          [
           "Belgium"
          ],
          [
           "Austria"
          ],
          [
           "Italy"
          ]
         ],
         "hovertemplate": "Low carbon electricity share (%)=%{x}<br>Price (£/kWh)=%{y}<br>country=%{customdata[0]}<extra></extra>",
         "legendgroup": "",
         "marker": {
          "color": "#80b1d3",
          "symbol": "circle"
         },
         "mode": "markers",
         "name": "",
         "orientation": "v",
         "showlegend": false,
         "type": "scatter",
         "x": [
          5.491,
          5.653,
          4.535,
          99.932,
          63.593,
          89.903,
          0.031,
          70.968,
          55.044,
          5.429,
          100,
          50.495,
          8.463,
          32.281,
          0.438,
          11.387,
          92.208,
          0.07,
          41.816,
          72.955,
          16.608,
          25.652,
          0.063,
          97.045,
          1.174,
          100,
          64.492,
          10.538,
          5.401,
          19.314,
          0.031,
          0.233,
          40.208,
          1.725,
          39.992,
          84.337,
          0.115,
          99.825,
          99.728,
          4.778,
          34.878,
          33.711,
          81.171,
          42.579,
          21.947,
          69.452,
          62.36,
          35.557,
          100,
          15.096,
          37.248,
          23.537,
          16.142,
          44.132,
          0.457,
          94.595,
          18.173,
          80.519,
          27.327,
          41.312,
          7.576,
          33.626,
          56.557,
          84.507,
          63.682,
          33.35,
          100,
          95.541,
          19.806,
          30.146,
          82.126,
          81.407,
          34.45,
          20.833,
          56.66,
          14.507,
          12.162,
          13.006,
          52.934,
          98.741,
          100,
          90.476,
          0,
          6.773,
          78.99,
          19.929,
          42.706,
          74.531,
          63.623,
          91.801,
          22.133,
          39.513,
          54.644,
          6.26,
          80.815,
          99.313,
          0.511,
          73.922,
          26.984,
          17.095,
          44.541,
          13.143,
          35.988,
          91.159,
          37.5,
          60,
          75.86,
          16.129,
          29.135,
          71.52,
          1.964,
          28.998,
          79.573,
          60.561,
          78.066,
          51.963,
          6.306,
          7.477,
          40.494,
          63.815,
          65.512,
          67.32,
          0,
          15.556,
          16.092,
          80.488,
          96.278,
          15.234,
          85.961,
          98.219,
          null,
          63.59,
          49.492,
          39.917,
          2.74,
          55.046,
          36.428,
          62.83,
          36.772,
          51.592,
          78.947,
          73.776,
          78.79,
          40.619
         ],
         "xaxis": "x",
         "y": [
          0.001,
          0.002,
          0.004,
          0.005,
          0.007,
          0.008,
          0.008,
          0.011,
          0.012,
          0.012,
          0.012,
          0.012,
          0.019,
          0.02,
          0.021,
          0.021,
          0.022,
          0.023,
          0.023,
          0.024,
          0.024,
          0.024,
          0.025,
          0.031,
          0.031,
          0.035,
          0.036,
          0.036,
          0.037,
          0.038,
          0.038,
          0.038,
          0.039,
          0.041,
          0.041,
          0.041,
          0.042,
          0.044,
          0.053,
          0.054,
          0.057,
          0.059,
          0.06,
          0.062,
          0.062,
          0.063,
          0.065,
          0.065,
          0.07,
          0.07,
          0.071,
          0.072,
          0.073,
          0.074,
          0.074,
          0.074,
          0.075,
          0.076,
          0.077,
          0.077,
          0.079,
          0.082,
          0.083,
          0.084,
          0.087,
          0.087,
          0.09,
          0.091,
          0.092,
          0.094,
          0.096,
          0.101,
          0.103,
          0.106,
          0.108,
          0.111,
          0.114,
          0.115,
          0.117,
          0.119,
          0.121,
          0.124,
          0.125,
          0.129,
          0.132,
          0.134,
          0.135,
          0.136,
          0.138,
          0.138,
          0.138,
          0.138,
          0.139,
          0.139,
          0.143,
          0.144,
          0.145,
          0.146,
          0.151,
          0.155,
          0.16,
          0.161,
          0.171,
          0.172,
          0.172,
          0.172,
          0.173,
          0.18,
          0.181,
          0.184,
          0.186,
          0.188,
          0.193,
          0.193,
          0.2,
          0.209,
          0.213,
          0.215,
          0.219,
          0.22,
          0.231,
          0.236,
          0.246,
          0.246,
          0.26,
          0.26,
          0.268,
          0.286,
          0.288,
          0.333,
          0.34,
          0.347,
          0.35,
          0.37,
          0.383,
          0.387,
          0.405,
          0.447,
          0.469,
          0.48,
          0.49,
          0.507,
          0.542,
          0.613
         ],
         "yaxis": "y"
        },
        {
         "hovertemplate": "<b>OLS trendline</b><br>price = 0.000489893 * low_carbon_share_elec + 0.112776<br>R<sup>2</sup>=0.016702<br><br>Low carbon electricity share (%)=%{x}<br>Price (£/kWh)=%{y} <b>(trend)</b><extra></extra>",
         "legendgroup": "Overall Trendline",
         "line": {
          "color": "#969696"
         },
         "mode": "lines",
         "name": "Overall Trendline",
         "showlegend": true,
         "type": "scatter",
         "x": [
          0,
          0,
          0.031,
          0.031,
          0.063,
          0.07,
          0.115,
          0.233,
          0.438,
          0.457,
          0.511,
          1.174,
          1.725,
          1.964,
          2.74,
          4.535,
          4.778,
          5.401,
          5.429,
          5.491,
          5.653,
          6.26,
          6.306,
          6.773,
          7.477,
          7.576,
          8.463,
          10.538,
          11.387,
          12.162,
          13.006,
          13.143,
          14.507,
          15.096,
          15.234,
          15.556,
          16.092,
          16.129,
          16.142,
          16.608,
          17.095,
          18.173,
          19.314,
          19.806,
          19.929,
          20.833,
          21.947,
          22.133,
          23.537,
          25.652,
          26.984,
          27.327,
          28.998,
          29.135,
          30.146,
          32.281,
          33.35,
          33.626,
          33.711,
          34.45,
          34.878,
          35.557,
          35.988,
          36.428,
          36.772,
          37.248,
          37.5,
          39.513,
          39.917,
          39.992,
          40.208,
          40.494,
          40.619,
          41.312,
          41.816,
          42.579,
          42.706,
          44.132,
          44.541,
          49.492,
          50.495,
          51.592,
          51.963,
          52.934,
          54.644,
          55.044,
          55.046,
          56.557,
          56.66,
          60,
          60.561,
          62.36,
          62.83,
          63.59,
          63.593,
          63.623,
          63.682,
          63.815,
          64.492,
          65.512,
          67.32,
          69.452,
          70.968,
          71.52,
          72.955,
          73.776,
          73.922,
          74.531,
          75.86,
          78.066,
          78.79,
          78.947,
          78.99,
          79.573,
          80.488,
          80.519,
          80.815,
          81.171,
          81.407,
          82.126,
          84.337,
          84.507,
          85.961,
          89.903,
          90.476,
          91.159,
          91.801,
          92.208,
          94.595,
          95.541,
          96.278,
          97.045,
          98.219,
          98.741,
          99.313,
          99.728,
          99.825,
          99.932,
          100,
          100,
          100,
          100,
          100
         ],
         "xaxis": "x",
         "y": [
          0.11277623951343937,
          0.11277623951343937,
          0.11279142618832233,
          0.11279142618832233,
          0.11280710275594345,
          0.11281053200511057,
          0.11283257717832777,
          0.11289038452143065,
          0.11299081253275343,
          0.11300012049477848,
          0.1130265747026391,
          0.11335137358803916,
          0.1136213044867653,
          0.11373838885118552,
          0.11411854561599764,
          0.11499790308099476,
          0.11511694701636763,
          0.11542215019224128,
          0.11543586718890976,
          0.11546624053867569,
          0.11554560316225759,
          0.11584296805432068,
          0.11586550312027605,
          0.11609428302899674,
          0.11643916751666135,
          0.11648766689773918,
          0.11692220175648706,
          0.11793872918816896,
          0.11835464812286677,
          0.11873431499494073,
          0.11914778446594773,
          0.11921489977107565,
          0.11988311346592583,
          0.12017166028870203,
          0.1202392654865681,
          0.12039701094825561,
          0.12065959345590935,
          0.12067771948722127,
          0.12068408809281735,
          0.12091237810879989,
          0.12115095587228378,
          0.12167906024402021,
          0.12223802785826071,
          0.12247905508543541,
          0.12253931189222908,
          0.12298217492752568,
          0.12352791543783587,
          0.12361903548713363,
          0.1243068448915102,
          0.1253429680327185,
          0.12599550515994756,
          0.12616353836913644,
          0.1269821491346017,
          0.1270492644397296,
          0.12754454599800932,
          0.12859046699398083,
          0.1291141623310738,
          0.12924937272680598,
          0.12929101360954956,
          0.12965304434304978,
          0.12986271843498223,
          0.13019535560419285,
          0.1304064993743398,
          0.13062205217913014,
          0.13079057528105717,
          0.13102376422442133,
          0.13114721719443762,
          0.1321333712763536,
          0.13233128794257024,
          0.13236802989793223,
          0.1324738467293748,
          0.13261395605248852,
          0.13267519264475852,
          0.13301468831230337,
          0.133261594252336,
          0.13363538241155204,
          0.13369759878929835,
          0.13439618583391444,
          0.13459655196382186,
          0.1370220109104518,
          0.13751337332682623,
          0.1380507856605877,
          0.13823253586644504,
          0.13870822171519834,
          0.13954593829745188,
          0.13974189539271586,
          0.13974287517819217,
          0.14048310310555187,
          0.14053356205758233,
          0.14216980380303657,
          0.1424446336291443,
          0.14332595066509407,
          0.14355620025202925,
          0.1439285187330308,
          0.1439299884112453,
          0.1439446851933901,
          0.14397358886494152,
          0.1440387445991168,
          0.1443704019828511,
          0.14487009257577424,
          0.14575581864636744,
          0.14680026996412446,
          0.14754294735517495,
          0.14781336814663926,
          0.14851636422589878,
          0.1489185661639281,
          0.14899009050369943,
          0.14928843518123885,
          0.14993950263025344,
          0.15102020601063432,
          0.15137488835306212,
          0.15145180151295323,
          0.1514728669006941,
          0.15175847436704135,
          0.1522067262224577,
          0.15222191289734066,
          0.152366921147836,
          0.15254132296262096,
          0.1526569376488267,
          0.15300917052756371,
          0.15409232337163536,
          0.15417560513712256,
          0.15488790917840714,
          0.15681906635223367,
          0.1570997748911993,
          0.15743437163136256,
          0.15774888276926124,
          0.15794826911369236,
          0.15911764307968018,
          0.15958108160997947,
          0.15994213255800338,
          0.16031788028817207,
          0.16089301436277184,
          0.16114873837209134,
          0.16142895701831883,
          0.1616322625046552,
          0.16167978210025674,
          0.16173220062323984,
          0.16176551332943473,
          0.16176551332943473,
          0.16176551332943473,
          0.16176551332943473,
          0.16176551332943473
         ],
         "yaxis": "y"
        }
       ],
       "layout": {
        "font": {
         "family": "Arial",
         "size": 22
        },
        "height": 750,
        "legend": {
         "tracegroupgap": 0
        },
        "margin": {
         "pad": 20,
         "t": 60
        },
        "paper_bgcolor": "white",
        "plot_bgcolor": "white",
        "template": {
         "data": {
          "bar": [
           {
            "error_x": {
             "color": "#2a3f5f"
            },
            "error_y": {
             "color": "#2a3f5f"
            },
            "marker": {
             "line": {
              "color": "#E5ECF6",
              "width": 0.5
             },
             "pattern": {
              "fillmode": "overlay",
              "size": 10,
              "solidity": 0.2
             }
            },
            "type": "bar"
           }
          ],
          "barpolar": [
           {
            "marker": {
             "line": {
              "color": "#E5ECF6",
              "width": 0.5
             },
             "pattern": {
              "fillmode": "overlay",
              "size": 10,
              "solidity": 0.2
             }
            },
            "type": "barpolar"
           }
          ],
          "carpet": [
           {
            "aaxis": {
             "endlinecolor": "#2a3f5f",
             "gridcolor": "white",
             "linecolor": "white",
             "minorgridcolor": "white",
             "startlinecolor": "#2a3f5f"
            },
            "baxis": {
             "endlinecolor": "#2a3f5f",
             "gridcolor": "white",
             "linecolor": "white",
             "minorgridcolor": "white",
             "startlinecolor": "#2a3f5f"
            },
            "type": "carpet"
           }
          ],
          "choropleth": [
           {
            "colorbar": {
             "outlinewidth": 0,
             "ticks": ""
            },
            "type": "choropleth"
           }
          ],
          "contour": [
           {
            "colorbar": {
             "outlinewidth": 0,
             "ticks": ""
            },
            "colorscale": [
             [
              0,
              "#0d0887"
             ],
             [
              0.1111111111111111,
              "#46039f"
             ],
             [
              0.2222222222222222,
              "#7201a8"
             ],
             [
              0.3333333333333333,
              "#9c179e"
             ],
             [
              0.4444444444444444,
              "#bd3786"
             ],
             [
              0.5555555555555556,
              "#d8576b"
             ],
             [
              0.6666666666666666,
              "#ed7953"
             ],
             [
              0.7777777777777778,
              "#fb9f3a"
             ],
             [
              0.8888888888888888,
              "#fdca26"
             ],
             [
              1,
              "#f0f921"
             ]
            ],
            "type": "contour"
           }
          ],
          "contourcarpet": [
           {
            "colorbar": {
             "outlinewidth": 0,
             "ticks": ""
            },
            "type": "contourcarpet"
           }
          ],
          "heatmap": [
           {
            "colorbar": {
             "outlinewidth": 0,
             "ticks": ""
            },
            "colorscale": [
             [
              0,
              "#0d0887"
             ],
             [
              0.1111111111111111,
              "#46039f"
             ],
             [
              0.2222222222222222,
              "#7201a8"
             ],
             [
              0.3333333333333333,
              "#9c179e"
             ],
             [
              0.4444444444444444,
              "#bd3786"
             ],
             [
              0.5555555555555556,
              "#d8576b"
             ],
             [
              0.6666666666666666,
              "#ed7953"
             ],
             [
              0.7777777777777778,
              "#fb9f3a"
             ],
             [
              0.8888888888888888,
              "#fdca26"
             ],
             [
              1,
              "#f0f921"
             ]
            ],
            "type": "heatmap"
           }
          ],
          "heatmapgl": [
           {
            "colorbar": {
             "outlinewidth": 0,
             "ticks": ""
            },
            "colorscale": [
             [
              0,
              "#0d0887"
             ],
             [
              0.1111111111111111,
              "#46039f"
             ],
             [
              0.2222222222222222,
              "#7201a8"
             ],
             [
              0.3333333333333333,
              "#9c179e"
             ],
             [
              0.4444444444444444,
              "#bd3786"
             ],
             [
              0.5555555555555556,
              "#d8576b"
             ],
             [
              0.6666666666666666,
              "#ed7953"
             ],
             [
              0.7777777777777778,
              "#fb9f3a"
             ],
             [
              0.8888888888888888,
              "#fdca26"
             ],
             [
              1,
              "#f0f921"
             ]
            ],
            "type": "heatmapgl"
           }
          ],
          "histogram": [
           {
            "marker": {
             "pattern": {
              "fillmode": "overlay",
              "size": 10,
              "solidity": 0.2
             }
            },
            "type": "histogram"
           }
          ],
          "histogram2d": [
           {
            "colorbar": {
             "outlinewidth": 0,
             "ticks": ""
            },
            "colorscale": [
             [
              0,
              "#0d0887"
             ],
             [
              0.1111111111111111,
              "#46039f"
             ],
             [
              0.2222222222222222,
              "#7201a8"
             ],
             [
              0.3333333333333333,
              "#9c179e"
             ],
             [
              0.4444444444444444,
              "#bd3786"
             ],
             [
              0.5555555555555556,
              "#d8576b"
             ],
             [
              0.6666666666666666,
              "#ed7953"
             ],
             [
              0.7777777777777778,
              "#fb9f3a"
             ],
             [
              0.8888888888888888,
              "#fdca26"
             ],
             [
              1,
              "#f0f921"
             ]
            ],
            "type": "histogram2d"
           }
          ],
          "histogram2dcontour": [
           {
            "colorbar": {
             "outlinewidth": 0,
             "ticks": ""
            },
            "colorscale": [
             [
              0,
              "#0d0887"
             ],
             [
              0.1111111111111111,
              "#46039f"
             ],
             [
              0.2222222222222222,
              "#7201a8"
             ],
             [
              0.3333333333333333,
              "#9c179e"
             ],
             [
              0.4444444444444444,
              "#bd3786"
             ],
             [
              0.5555555555555556,
              "#d8576b"
             ],
             [
              0.6666666666666666,
              "#ed7953"
             ],
             [
              0.7777777777777778,
              "#fb9f3a"
             ],
             [
              0.8888888888888888,
              "#fdca26"
             ],
             [
              1,
              "#f0f921"
             ]
            ],
            "type": "histogram2dcontour"
           }
          ],
          "mesh3d": [
           {
            "colorbar": {
             "outlinewidth": 0,
             "ticks": ""
            },
            "type": "mesh3d"
           }
          ],
          "parcoords": [
           {
            "line": {
             "colorbar": {
              "outlinewidth": 0,
              "ticks": ""
             }
            },
            "type": "parcoords"
           }
          ],
          "pie": [
           {
            "automargin": true,
            "type": "pie"
           }
          ],
          "scatter": [
           {
            "fillpattern": {
             "fillmode": "overlay",
             "size": 10,
             "solidity": 0.2
            },
            "type": "scatter"
           }
          ],
          "scatter3d": [
           {
            "line": {
             "colorbar": {
              "outlinewidth": 0,
              "ticks": ""
             }
            },
            "marker": {
             "colorbar": {
              "outlinewidth": 0,
              "ticks": ""
             }
            },
            "type": "scatter3d"
           }
          ],
          "scattercarpet": [
           {
            "marker": {
             "colorbar": {
              "outlinewidth": 0,
              "ticks": ""
             }
            },
            "type": "scattercarpet"
           }
          ],
          "scattergeo": [
           {
            "marker": {
             "colorbar": {
              "outlinewidth": 0,
              "ticks": ""
             }
            },
            "type": "scattergeo"
           }
          ],
          "scattergl": [
           {
            "marker": {
             "colorbar": {
              "outlinewidth": 0,
              "ticks": ""
             }
            },
            "type": "scattergl"
           }
          ],
          "scattermapbox": [
           {
            "marker": {
             "colorbar": {
              "outlinewidth": 0,
              "ticks": ""
             }
            },
            "type": "scattermapbox"
           }
          ],
          "scatterpolar": [
           {
            "marker": {
             "colorbar": {
              "outlinewidth": 0,
              "ticks": ""
             }
            },
            "type": "scatterpolar"
           }
          ],
          "scatterpolargl": [
           {
            "marker": {
             "colorbar": {
              "outlinewidth": 0,
              "ticks": ""
             }
            },
            "type": "scatterpolargl"
           }
          ],
          "scatterternary": [
           {
            "marker": {
             "colorbar": {
              "outlinewidth": 0,
              "ticks": ""
             }
            },
            "type": "scatterternary"
           }
          ],
          "surface": [
           {
            "colorbar": {
             "outlinewidth": 0,
             "ticks": ""
            },
            "colorscale": [
             [
              0,
              "#0d0887"
             ],
             [
              0.1111111111111111,
              "#46039f"
             ],
             [
              0.2222222222222222,
              "#7201a8"
             ],
             [
              0.3333333333333333,
              "#9c179e"
             ],
             [
              0.4444444444444444,
              "#bd3786"
             ],
             [
              0.5555555555555556,
              "#d8576b"
             ],
             [
              0.6666666666666666,
              "#ed7953"
             ],
             [
              0.7777777777777778,
              "#fb9f3a"
             ],
             [
              0.8888888888888888,
              "#fdca26"
             ],
             [
              1,
              "#f0f921"
             ]
            ],
            "type": "surface"
           }
          ],
          "table": [
           {
            "cells": {
             "fill": {
              "color": "#EBF0F8"
             },
             "line": {
              "color": "white"
             }
            },
            "header": {
             "fill": {
              "color": "#C8D4E3"
             },
             "line": {
              "color": "white"
             }
            },
            "type": "table"
           }
          ]
         },
         "layout": {
          "annotationdefaults": {
           "arrowcolor": "#2a3f5f",
           "arrowhead": 0,
           "arrowwidth": 1
          },
          "autotypenumbers": "strict",
          "coloraxis": {
           "colorbar": {
            "outlinewidth": 0,
            "ticks": ""
           }
          },
          "colorscale": {
           "diverging": [
            [
             0,
             "#8e0152"
            ],
            [
             0.1,
             "#c51b7d"
            ],
            [
             0.2,
             "#de77ae"
            ],
            [
             0.3,
             "#f1b6da"
            ],
            [
             0.4,
             "#fde0ef"
            ],
            [
             0.5,
             "#f7f7f7"
            ],
            [
             0.6,
             "#e6f5d0"
            ],
            [
             0.7,
             "#b8e186"
            ],
            [
             0.8,
             "#7fbc41"
            ],
            [
             0.9,
             "#4d9221"
            ],
            [
             1,
             "#276419"
            ]
           ],
           "sequential": [
            [
             0,
             "#0d0887"
            ],
            [
             0.1111111111111111,
             "#46039f"
            ],
            [
             0.2222222222222222,
             "#7201a8"
            ],
            [
             0.3333333333333333,
             "#9c179e"
            ],
            [
             0.4444444444444444,
             "#bd3786"
            ],
            [
             0.5555555555555556,
             "#d8576b"
            ],
            [
             0.6666666666666666,
             "#ed7953"
            ],
            [
             0.7777777777777778,
             "#fb9f3a"
            ],
            [
             0.8888888888888888,
             "#fdca26"
            ],
            [
             1,
             "#f0f921"
            ]
           ],
           "sequentialminus": [
            [
             0,
             "#0d0887"
            ],
            [
             0.1111111111111111,
             "#46039f"
            ],
            [
             0.2222222222222222,
             "#7201a8"
            ],
            [
             0.3333333333333333,
             "#9c179e"
            ],
            [
             0.4444444444444444,
             "#bd3786"
            ],
            [
             0.5555555555555556,
             "#d8576b"
            ],
            [
             0.6666666666666666,
             "#ed7953"
            ],
            [
             0.7777777777777778,
             "#fb9f3a"
            ],
            [
             0.8888888888888888,
             "#fdca26"
            ],
            [
             1,
             "#f0f921"
            ]
           ]
          },
          "colorway": [
           "#636efa",
           "#EF553B",
           "#00cc96",
           "#ab63fa",
           "#FFA15A",
           "#19d3f3",
           "#FF6692",
           "#B6E880",
           "#FF97FF",
           "#FECB52"
          ],
          "font": {
           "color": "#2a3f5f"
          },
          "geo": {
           "bgcolor": "white",
           "lakecolor": "white",
           "landcolor": "#E5ECF6",
           "showlakes": true,
           "showland": true,
           "subunitcolor": "white"
          },
          "hoverlabel": {
           "align": "left"
          },
          "hovermode": "closest",
          "mapbox": {
           "style": "light"
          },
          "paper_bgcolor": "white",
          "plot_bgcolor": "#E5ECF6",
          "polar": {
           "angularaxis": {
            "gridcolor": "white",
            "linecolor": "white",
            "ticks": ""
           },
           "bgcolor": "#E5ECF6",
           "radialaxis": {
            "gridcolor": "white",
            "linecolor": "white",
            "ticks": ""
           }
          },
          "scene": {
           "xaxis": {
            "backgroundcolor": "#E5ECF6",
            "gridcolor": "white",
            "gridwidth": 2,
            "linecolor": "white",
            "showbackground": true,
            "ticks": "",
            "zerolinecolor": "white"
           },
           "yaxis": {
            "backgroundcolor": "#E5ECF6",
            "gridcolor": "white",
            "gridwidth": 2,
            "linecolor": "white",
            "showbackground": true,
            "ticks": "",
            "zerolinecolor": "white"
           },
           "zaxis": {
            "backgroundcolor": "#E5ECF6",
            "gridcolor": "white",
            "gridwidth": 2,
            "linecolor": "white",
            "showbackground": true,
            "ticks": "",
            "zerolinecolor": "white"
           }
          },
          "shapedefaults": {
           "line": {
            "color": "#2a3f5f"
           }
          },
          "ternary": {
           "aaxis": {
            "gridcolor": "white",
            "linecolor": "white",
            "ticks": ""
           },
           "baxis": {
            "gridcolor": "white",
            "linecolor": "white",
            "ticks": ""
           },
           "bgcolor": "#E5ECF6",
           "caxis": {
            "gridcolor": "white",
            "linecolor": "white",
            "ticks": ""
           }
          },
          "title": {
           "x": 0.05
          },
          "xaxis": {
           "automargin": true,
           "gridcolor": "white",
           "linecolor": "white",
           "ticks": "",
           "title": {
            "standoff": 15
           },
           "zerolinecolor": "white",
           "zerolinewidth": 2
          },
          "yaxis": {
           "automargin": true,
           "gridcolor": "white",
           "linecolor": "white",
           "ticks": "",
           "title": {
            "standoff": 15
           },
           "zerolinecolor": "white",
           "zerolinewidth": 2
          }
         }
        },
        "width": 1400,
        "xaxis": {
         "anchor": "y",
         "domain": [
          0,
          1
         ],
         "showgrid": false,
         "title": {
          "text": "Low carbon electricity share (%)"
         }
        },
        "yaxis": {
         "anchor": "x",
         "domain": [
          0,
          1
         ],
         "gridcolor": "LightGrey",
         "gridwidth": 1,
         "showgrid": true,
         "title": {
          "text": "Price (£/kWh)"
         }
        }
       }
      }
     },
     "metadata": {},
     "output_type": "display_data"
    }
   ],
   "source": [
    "#global relationship of price against renewable share shows negative correlation, this could be caused by higher standards of leaving in countries with high renewable share\n",
    "scatter_chart(data=joined_energy_data, x_var='low_carbon_share_elec', y_var='price', x_label='Low carbon electricity share (%)', y_label='Price (£/kWh)', hover_labels='country')"
   ]
  },
  {
   "cell_type": "code",
   "execution_count": 37,
   "metadata": {},
   "outputs": [
    {
     "data": {
      "application/vnd.plotly.v1+json": {
       "config": {
        "plotlyServerURL": "https://plot.ly"
       },
       "data": [
        {
         "customdata": [
          [
           "Hungary"
          ],
          [
           "Bulgaria"
          ],
          [
           "Malta"
          ],
          [
           "Romania"
          ],
          [
           "Poland"
          ],
          [
           "France"
          ],
          [
           "Slovakia"
          ],
          [
           "Slovenia"
          ],
          [
           "Greece"
          ],
          [
           "Portugal"
          ],
          [
           "Spain"
          ],
          [
           "Luxembourg"
          ],
          [
           "Cyprus"
          ],
          [
           "Finland"
          ],
          [
           "Sweden"
          ],
          [
           "Latvia"
          ],
          [
           "Czechia"
          ],
          [
           "Estonia"
          ],
          [
           "United Kingdom"
          ],
          [
           "Netherlands"
          ],
          [
           "Lithuania"
          ],
          [
           "Ireland"
          ],
          [
           "Germany"
          ],
          [
           "Denmark"
          ],
          [
           "Belgium"
          ],
          [
           "Austria"
          ],
          [
           "Italy"
          ]
         ],
         "hovertemplate": "Low carbon electricity share (%)=%{x}<br>Price (£/kWh)=%{y}<br>country=%{customdata[0]}<extra></extra>",
         "legendgroup": "",
         "marker": {
          "color": "#80b1d3",
          "symbol": "circle"
         },
         "mode": "markers",
         "name": "",
         "orientation": "v",
         "showlegend": false,
         "type": "scatter",
         "x": [
          63.682,
          56.66,
          12.162,
          63.623,
          17.095,
          91.159,
          75.86,
          71.52,
          40.494,
          63.815,
          67.32,
          80.488,
          15.234,
          85.961,
          98.219,
          63.59,
          49.492,
          39.917,
          55.046,
          36.428,
          62.83,
          36.772,
          51.592,
          78.947,
          73.776,
          78.79,
          40.619
         ],
         "xaxis": "x",
         "y": [
          0.087,
          0.108,
          0.114,
          0.138,
          0.155,
          0.172,
          0.173,
          0.184,
          0.219,
          0.22,
          0.236,
          0.26,
          0.286,
          0.288,
          0.333,
          0.347,
          0.35,
          0.37,
          0.387,
          0.405,
          0.447,
          0.469,
          0.48,
          0.49,
          0.507,
          0.542,
          0.613
         ],
         "yaxis": "y"
        },
        {
         "hovertemplate": "<b>OLS trendline</b><br>price = 0.000324452 * low_carbon_share_elec + 0.291491<br>R<sup>2</sup>=0.002468<br><br>Low carbon electricity share (%)=%{x}<br>Price (£/kWh)=%{y} <b>(trend)</b><extra></extra>",
         "legendgroup": "Overall Trendline",
         "line": {
          "color": "#969696"
         },
         "mode": "lines",
         "name": "Overall Trendline",
         "showlegend": true,
         "type": "scatter",
         "x": [
          12.162,
          15.234,
          17.095,
          36.428,
          36.772,
          39.917,
          40.494,
          40.619,
          49.492,
          51.592,
          55.046,
          56.66,
          62.83,
          63.59,
          63.623,
          63.682,
          63.815,
          67.32,
          71.52,
          73.776,
          75.86,
          78.79,
          78.947,
          80.488,
          85.961,
          91.159,
          98.219
         ],
         "xaxis": "x",
         "y": [
          0.29543695828681754,
          0.2964336751031629,
          0.2970374804401481,
          0.3033101126700974,
          0.30342172418859437,
          0.30444212600741144,
          0.3046293348625648,
          0.3046698913736466,
          0.30754875475627425,
          0.3082301041424478,
          0.309350761656659,
          0.30987442732774667,
          0.3118762967147423,
          0.31212288030211943,
          0.312133587221045,
          0.31215272989427556,
          0.31219588202206655,
          0.3133330865927991,
          0.31469578536514625,
          0.31542774927714984,
          0.3161039074299049,
          0.3170545520496614,
          0.31710549102758007,
          0.317605471696196,
          0.3193811979773998,
          0.3210676999342237,
          0.3233583316801214
         ],
         "yaxis": "y"
        }
       ],
       "layout": {
        "font": {
         "family": "Arial",
         "size": 22
        },
        "height": 750,
        "legend": {
         "tracegroupgap": 0
        },
        "margin": {
         "pad": 20,
         "t": 60
        },
        "paper_bgcolor": "white",
        "plot_bgcolor": "white",
        "template": {
         "data": {
          "bar": [
           {
            "error_x": {
             "color": "#2a3f5f"
            },
            "error_y": {
             "color": "#2a3f5f"
            },
            "marker": {
             "line": {
              "color": "#E5ECF6",
              "width": 0.5
             },
             "pattern": {
              "fillmode": "overlay",
              "size": 10,
              "solidity": 0.2
             }
            },
            "type": "bar"
           }
          ],
          "barpolar": [
           {
            "marker": {
             "line": {
              "color": "#E5ECF6",
              "width": 0.5
             },
             "pattern": {
              "fillmode": "overlay",
              "size": 10,
              "solidity": 0.2
             }
            },
            "type": "barpolar"
           }
          ],
          "carpet": [
           {
            "aaxis": {
             "endlinecolor": "#2a3f5f",
             "gridcolor": "white",
             "linecolor": "white",
             "minorgridcolor": "white",
             "startlinecolor": "#2a3f5f"
            },
            "baxis": {
             "endlinecolor": "#2a3f5f",
             "gridcolor": "white",
             "linecolor": "white",
             "minorgridcolor": "white",
             "startlinecolor": "#2a3f5f"
            },
            "type": "carpet"
           }
          ],
          "choropleth": [
           {
            "colorbar": {
             "outlinewidth": 0,
             "ticks": ""
            },
            "type": "choropleth"
           }
          ],
          "contour": [
           {
            "colorbar": {
             "outlinewidth": 0,
             "ticks": ""
            },
            "colorscale": [
             [
              0,
              "#0d0887"
             ],
             [
              0.1111111111111111,
              "#46039f"
             ],
             [
              0.2222222222222222,
              "#7201a8"
             ],
             [
              0.3333333333333333,
              "#9c179e"
             ],
             [
              0.4444444444444444,
              "#bd3786"
             ],
             [
              0.5555555555555556,
              "#d8576b"
             ],
             [
              0.6666666666666666,
              "#ed7953"
             ],
             [
              0.7777777777777778,
              "#fb9f3a"
             ],
             [
              0.8888888888888888,
              "#fdca26"
             ],
             [
              1,
              "#f0f921"
             ]
            ],
            "type": "contour"
           }
          ],
          "contourcarpet": [
           {
            "colorbar": {
             "outlinewidth": 0,
             "ticks": ""
            },
            "type": "contourcarpet"
           }
          ],
          "heatmap": [
           {
            "colorbar": {
             "outlinewidth": 0,
             "ticks": ""
            },
            "colorscale": [
             [
              0,
              "#0d0887"
             ],
             [
              0.1111111111111111,
              "#46039f"
             ],
             [
              0.2222222222222222,
              "#7201a8"
             ],
             [
              0.3333333333333333,
              "#9c179e"
             ],
             [
              0.4444444444444444,
              "#bd3786"
             ],
             [
              0.5555555555555556,
              "#d8576b"
             ],
             [
              0.6666666666666666,
              "#ed7953"
             ],
             [
              0.7777777777777778,
              "#fb9f3a"
             ],
             [
              0.8888888888888888,
              "#fdca26"
             ],
             [
              1,
              "#f0f921"
             ]
            ],
            "type": "heatmap"
           }
          ],
          "heatmapgl": [
           {
            "colorbar": {
             "outlinewidth": 0,
             "ticks": ""
            },
            "colorscale": [
             [
              0,
              "#0d0887"
             ],
             [
              0.1111111111111111,
              "#46039f"
             ],
             [
              0.2222222222222222,
              "#7201a8"
             ],
             [
              0.3333333333333333,
              "#9c179e"
             ],
             [
              0.4444444444444444,
              "#bd3786"
             ],
             [
              0.5555555555555556,
              "#d8576b"
             ],
             [
              0.6666666666666666,
              "#ed7953"
             ],
             [
              0.7777777777777778,
              "#fb9f3a"
             ],
             [
              0.8888888888888888,
              "#fdca26"
             ],
             [
              1,
              "#f0f921"
             ]
            ],
            "type": "heatmapgl"
           }
          ],
          "histogram": [
           {
            "marker": {
             "pattern": {
              "fillmode": "overlay",
              "size": 10,
              "solidity": 0.2
             }
            },
            "type": "histogram"
           }
          ],
          "histogram2d": [
           {
            "colorbar": {
             "outlinewidth": 0,
             "ticks": ""
            },
            "colorscale": [
             [
              0,
              "#0d0887"
             ],
             [
              0.1111111111111111,
              "#46039f"
             ],
             [
              0.2222222222222222,
              "#7201a8"
             ],
             [
              0.3333333333333333,
              "#9c179e"
             ],
             [
              0.4444444444444444,
              "#bd3786"
             ],
             [
              0.5555555555555556,
              "#d8576b"
             ],
             [
              0.6666666666666666,
              "#ed7953"
             ],
             [
              0.7777777777777778,
              "#fb9f3a"
             ],
             [
              0.8888888888888888,
              "#fdca26"
             ],
             [
              1,
              "#f0f921"
             ]
            ],
            "type": "histogram2d"
           }
          ],
          "histogram2dcontour": [
           {
            "colorbar": {
             "outlinewidth": 0,
             "ticks": ""
            },
            "colorscale": [
             [
              0,
              "#0d0887"
             ],
             [
              0.1111111111111111,
              "#46039f"
             ],
             [
              0.2222222222222222,
              "#7201a8"
             ],
             [
              0.3333333333333333,
              "#9c179e"
             ],
             [
              0.4444444444444444,
              "#bd3786"
             ],
             [
              0.5555555555555556,
              "#d8576b"
             ],
             [
              0.6666666666666666,
              "#ed7953"
             ],
             [
              0.7777777777777778,
              "#fb9f3a"
             ],
             [
              0.8888888888888888,
              "#fdca26"
             ],
             [
              1,
              "#f0f921"
             ]
            ],
            "type": "histogram2dcontour"
           }
          ],
          "mesh3d": [
           {
            "colorbar": {
             "outlinewidth": 0,
             "ticks": ""
            },
            "type": "mesh3d"
           }
          ],
          "parcoords": [
           {
            "line": {
             "colorbar": {
              "outlinewidth": 0,
              "ticks": ""
             }
            },
            "type": "parcoords"
           }
          ],
          "pie": [
           {
            "automargin": true,
            "type": "pie"
           }
          ],
          "scatter": [
           {
            "fillpattern": {
             "fillmode": "overlay",
             "size": 10,
             "solidity": 0.2
            },
            "type": "scatter"
           }
          ],
          "scatter3d": [
           {
            "line": {
             "colorbar": {
              "outlinewidth": 0,
              "ticks": ""
             }
            },
            "marker": {
             "colorbar": {
              "outlinewidth": 0,
              "ticks": ""
             }
            },
            "type": "scatter3d"
           }
          ],
          "scattercarpet": [
           {
            "marker": {
             "colorbar": {
              "outlinewidth": 0,
              "ticks": ""
             }
            },
            "type": "scattercarpet"
           }
          ],
          "scattergeo": [
           {
            "marker": {
             "colorbar": {
              "outlinewidth": 0,
              "ticks": ""
             }
            },
            "type": "scattergeo"
           }
          ],
          "scattergl": [
           {
            "marker": {
             "colorbar": {
              "outlinewidth": 0,
              "ticks": ""
             }
            },
            "type": "scattergl"
           }
          ],
          "scattermapbox": [
           {
            "marker": {
             "colorbar": {
              "outlinewidth": 0,
              "ticks": ""
             }
            },
            "type": "scattermapbox"
           }
          ],
          "scatterpolar": [
           {
            "marker": {
             "colorbar": {
              "outlinewidth": 0,
              "ticks": ""
             }
            },
            "type": "scatterpolar"
           }
          ],
          "scatterpolargl": [
           {
            "marker": {
             "colorbar": {
              "outlinewidth": 0,
              "ticks": ""
             }
            },
            "type": "scatterpolargl"
           }
          ],
          "scatterternary": [
           {
            "marker": {
             "colorbar": {
              "outlinewidth": 0,
              "ticks": ""
             }
            },
            "type": "scatterternary"
           }
          ],
          "surface": [
           {
            "colorbar": {
             "outlinewidth": 0,
             "ticks": ""
            },
            "colorscale": [
             [
              0,
              "#0d0887"
             ],
             [
              0.1111111111111111,
              "#46039f"
             ],
             [
              0.2222222222222222,
              "#7201a8"
             ],
             [
              0.3333333333333333,
              "#9c179e"
             ],
             [
              0.4444444444444444,
              "#bd3786"
             ],
             [
              0.5555555555555556,
              "#d8576b"
             ],
             [
              0.6666666666666666,
              "#ed7953"
             ],
             [
              0.7777777777777778,
              "#fb9f3a"
             ],
             [
              0.8888888888888888,
              "#fdca26"
             ],
             [
              1,
              "#f0f921"
             ]
            ],
            "type": "surface"
           }
          ],
          "table": [
           {
            "cells": {
             "fill": {
              "color": "#EBF0F8"
             },
             "line": {
              "color": "white"
             }
            },
            "header": {
             "fill": {
              "color": "#C8D4E3"
             },
             "line": {
              "color": "white"
             }
            },
            "type": "table"
           }
          ]
         },
         "layout": {
          "annotationdefaults": {
           "arrowcolor": "#2a3f5f",
           "arrowhead": 0,
           "arrowwidth": 1
          },
          "autotypenumbers": "strict",
          "coloraxis": {
           "colorbar": {
            "outlinewidth": 0,
            "ticks": ""
           }
          },
          "colorscale": {
           "diverging": [
            [
             0,
             "#8e0152"
            ],
            [
             0.1,
             "#c51b7d"
            ],
            [
             0.2,
             "#de77ae"
            ],
            [
             0.3,
             "#f1b6da"
            ],
            [
             0.4,
             "#fde0ef"
            ],
            [
             0.5,
             "#f7f7f7"
            ],
            [
             0.6,
             "#e6f5d0"
            ],
            [
             0.7,
             "#b8e186"
            ],
            [
             0.8,
             "#7fbc41"
            ],
            [
             0.9,
             "#4d9221"
            ],
            [
             1,
             "#276419"
            ]
           ],
           "sequential": [
            [
             0,
             "#0d0887"
            ],
            [
             0.1111111111111111,
             "#46039f"
            ],
            [
             0.2222222222222222,
             "#7201a8"
            ],
            [
             0.3333333333333333,
             "#9c179e"
            ],
            [
             0.4444444444444444,
             "#bd3786"
            ],
            [
             0.5555555555555556,
             "#d8576b"
            ],
            [
             0.6666666666666666,
             "#ed7953"
            ],
            [
             0.7777777777777778,
             "#fb9f3a"
            ],
            [
             0.8888888888888888,
             "#fdca26"
            ],
            [
             1,
             "#f0f921"
            ]
           ],
           "sequentialminus": [
            [
             0,
             "#0d0887"
            ],
            [
             0.1111111111111111,
             "#46039f"
            ],
            [
             0.2222222222222222,
             "#7201a8"
            ],
            [
             0.3333333333333333,
             "#9c179e"
            ],
            [
             0.4444444444444444,
             "#bd3786"
            ],
            [
             0.5555555555555556,
             "#d8576b"
            ],
            [
             0.6666666666666666,
             "#ed7953"
            ],
            [
             0.7777777777777778,
             "#fb9f3a"
            ],
            [
             0.8888888888888888,
             "#fdca26"
            ],
            [
             1,
             "#f0f921"
            ]
           ]
          },
          "colorway": [
           "#636efa",
           "#EF553B",
           "#00cc96",
           "#ab63fa",
           "#FFA15A",
           "#19d3f3",
           "#FF6692",
           "#B6E880",
           "#FF97FF",
           "#FECB52"
          ],
          "font": {
           "color": "#2a3f5f"
          },
          "geo": {
           "bgcolor": "white",
           "lakecolor": "white",
           "landcolor": "#E5ECF6",
           "showlakes": true,
           "showland": true,
           "subunitcolor": "white"
          },
          "hoverlabel": {
           "align": "left"
          },
          "hovermode": "closest",
          "mapbox": {
           "style": "light"
          },
          "paper_bgcolor": "white",
          "plot_bgcolor": "#E5ECF6",
          "polar": {
           "angularaxis": {
            "gridcolor": "white",
            "linecolor": "white",
            "ticks": ""
           },
           "bgcolor": "#E5ECF6",
           "radialaxis": {
            "gridcolor": "white",
            "linecolor": "white",
            "ticks": ""
           }
          },
          "scene": {
           "xaxis": {
            "backgroundcolor": "#E5ECF6",
            "gridcolor": "white",
            "gridwidth": 2,
            "linecolor": "white",
            "showbackground": true,
            "ticks": "",
            "zerolinecolor": "white"
           },
           "yaxis": {
            "backgroundcolor": "#E5ECF6",
            "gridcolor": "white",
            "gridwidth": 2,
            "linecolor": "white",
            "showbackground": true,
            "ticks": "",
            "zerolinecolor": "white"
           },
           "zaxis": {
            "backgroundcolor": "#E5ECF6",
            "gridcolor": "white",
            "gridwidth": 2,
            "linecolor": "white",
            "showbackground": true,
            "ticks": "",
            "zerolinecolor": "white"
           }
          },
          "shapedefaults": {
           "line": {
            "color": "#2a3f5f"
           }
          },
          "ternary": {
           "aaxis": {
            "gridcolor": "white",
            "linecolor": "white",
            "ticks": ""
           },
           "baxis": {
            "gridcolor": "white",
            "linecolor": "white",
            "ticks": ""
           },
           "bgcolor": "#E5ECF6",
           "caxis": {
            "gridcolor": "white",
            "linecolor": "white",
            "ticks": ""
           }
          },
          "title": {
           "x": 0.05
          },
          "xaxis": {
           "automargin": true,
           "gridcolor": "white",
           "linecolor": "white",
           "ticks": "",
           "title": {
            "standoff": 15
           },
           "zerolinecolor": "white",
           "zerolinewidth": 2
          },
          "yaxis": {
           "automargin": true,
           "gridcolor": "white",
           "linecolor": "white",
           "ticks": "",
           "title": {
            "standoff": 15
           },
           "zerolinecolor": "white",
           "zerolinewidth": 2
          }
         }
        },
        "width": 1400,
        "xaxis": {
         "anchor": "y",
         "domain": [
          0,
          1
         ],
         "showgrid": false,
         "title": {
          "text": "Low carbon electricity share (%)"
         }
        },
        "yaxis": {
         "anchor": "x",
         "domain": [
          0,
          1
         ],
         "gridcolor": "LightGrey",
         "gridwidth": 1,
         "showgrid": true,
         "title": {
          "text": "Price (£/kWh)"
         }
        }
       }
      }
     },
     "metadata": {},
     "output_type": "display_data"
    }
   ],
   "source": [
    "#eu + uk only\n",
    "\n",
    "europe_country_codes = [\n",
    "    'GBR', 'AUT', 'BEL', 'BGR', 'HRV', 'CYP', 'CZE', 'DNK', 'EST', 'FIN', 'FRA', 'DEU', \n",
    "    'GRC', 'HUN', 'IRL', 'ITA', 'LVA', 'LTU', 'LUX', 'MLT', 'NLD', 'POL', 'PRT', 'ROU', \n",
    "    'SVK', 'SVN', 'ESP', 'SWE'\n",
    "]\n",
    "\n",
    "#opposite trend is true for europe but weak relationship\n",
    "scatter_chart(data=joined_energy_data[joined_energy_data['iso3'].isin(europe_country_codes)], x_var='low_carbon_share_elec', y_var='price', x_label='Low carbon electricity share (%)', y_label='Price (£/kWh)', hover_labels='country')"
   ]
  },
  {
   "cell_type": "code",
   "execution_count": 38,
   "metadata": {},
   "outputs": [
    {
     "data": {
      "application/vnd.plotly.v1+json": {
       "config": {
        "plotlyServerURL": "https://plot.ly"
       },
       "data": [
        {
         "customdata": [
          [
           "Lebanon"
          ],
          [
           "Iran"
          ],
          [
           "Syria"
          ],
          [
           "Ethiopia"
          ],
          [
           "Sudan"
          ],
          [
           "Kyrgyzstan"
          ],
          [
           "Libya"
          ],
          [
           "Angola"
          ],
          [
           "Zimbabwe"
          ],
          [
           "Iraq"
          ],
          [
           "Bhutan"
          ],
          [
           "Suriname"
          ],
          [
           "Uzbekistan"
          ],
          [
           "Argentina"
          ],
          [
           "Oman"
          ],
          [
           "Egypt"
          ],
          [
           "Zambia"
          ],
          [
           "Kuwait"
          ],
          [
           "Myanmar"
          ],
          [
           "Laos"
          ],
          [
           "Cuba"
          ],
          [
           "Nigeria"
          ],
          [
           "Qatar"
          ],
          [
           "Uganda"
          ],
          [
           "Algeria"
          ],
          [
           "Nepal"
          ],
          [
           "Venezuela"
          ],
          [
           "Kazakhstan"
          ],
          [
           "Azerbaijan"
          ],
          [
           "Malaysia"
          ],
          [
           "Bahrain"
          ],
          [
           "Saudi Arabia"
          ],
          [
           "Pakistan"
          ],
          [
           "Bangladesh"
          ],
          [
           "Russia"
          ],
          [
           "Afghanistan"
          ],
          [
           "Trinidad and Tobago"
          ],
          [
           "Paraguay"
          ],
          [
           "Democratic Republic of Congo"
          ],
          [
           "Tunisia"
          ],
          [
           "Ghana"
          ],
          [
           "China"
          ],
          [
           "Georgia"
          ],
          [
           "Vietnam"
          ],
          [
           "India"
          ],
          [
           "Ukraine"
          ],
          [
           "Cameroon"
          ],
          [
           "Turkey"
          ],
          [
           "Lesotho"
          ],
          [
           "Taiwan"
          ],
          [
           "Sri Lanka"
          ],
          [
           "Jordan"
          ],
          [
           "Belarus"
          ],
          [
           "Tanzania"
          ],
          [
           "Botswana"
          ],
          [
           "Eswatini"
          ],
          [
           "Indonesia"
          ],
          [
           "Ecuador"
          ],
          [
           "Mexico"
          ],
          [
           "Bosnia and Herzegovina"
          ],
          [
           "Maldives"
          ],
          [
           "Serbia"
          ],
          [
           "Armenia"
          ],
          [
           "Malawi"
          ],
          [
           "Hungary"
          ],
          [
           "South Korea"
          ],
          [
           "Albania"
          ],
          [
           "Namibia"
          ],
          [
           "Morocco"
          ],
          [
           "Cote d'Ivoire"
          ],
          [
           "Canada"
          ],
          [
           "Mozambique"
          ],
          [
           "Madagascar"
          ],
          [
           "Mauritius"
          ],
          [
           "Bulgaria"
          ],
          [
           "Thailand"
          ],
          [
           "Malta"
          ],
          [
           "South Africa"
          ],
          [
           "Cambodia"
          ],
          [
           "Costa Rica"
          ],
          [
           "Iceland"
          ],
          [
           "Sierra Leone"
          ],
          [
           "Macao"
          ],
          [
           "Israel"
          ],
          [
           "Brazil"
          ],
          [
           "Senegal"
          ],
          [
           "Chile"
          ],
          [
           "Panama"
          ],
          [
           "Romania"
          ],
          [
           "Kenya"
          ],
          [
           "Philippines"
          ],
          [
           "United States"
          ],
          [
           "Nicaragua"
          ],
          [
           "United Arab Emirates"
          ],
          [
           "New Zealand"
          ],
          [
           "Norway"
          ],
          [
           "Hong Kong"
          ],
          [
           "Colombia"
          ],
          [
           "Togo"
          ],
          [
           "Poland"
          ],
          [
           "Gabon"
          ],
          [
           "Burkina Faso"
          ],
          [
           "Mali"
          ],
          [
           "France"
          ],
          [
           "Belize"
          ],
          [
           "Rwanda"
          ],
          [
           "Slovakia"
          ],
          [
           "Aruba"
          ],
          [
           "Australia"
          ],
          [
           "Slovenia"
          ],
          [
           "Singapore"
          ],
          [
           "Japan"
          ],
          [
           "El Salvador"
          ],
          [
           "Peru"
          ],
          [
           "Uruguay"
          ],
          [
           "Honduras"
          ],
          [
           "Moldova"
          ],
          [
           "Barbados"
          ],
          [
           "Greece"
          ],
          [
           "Portugal"
          ],
          [
           "Guatemala"
          ],
          [
           "Spain"
          ],
          [
           "Bahamas"
          ],
          [
           "Cape Verde"
          ],
          [
           "Jamaica"
          ],
          [
           "Luxembourg"
          ],
          [
           "Switzerland"
          ],
          [
           "Cyprus"
          ],
          [
           "Finland"
          ],
          [
           "Sweden"
          ],
          [
           "Bermuda"
          ],
          [
           "Latvia"
          ],
          [
           "Czechia"
          ],
          [
           "Estonia"
          ],
          [
           "Cayman Islands"
          ],
          [
           "United Kingdom"
          ],
          [
           "Netherlands"
          ],
          [
           "Lithuania"
          ],
          [
           "Ireland"
          ],
          [
           "Germany"
          ],
          [
           "Denmark"
          ],
          [
           "Belgium"
          ],
          [
           "Austria"
          ],
          [
           "Italy"
          ]
         ],
         "hovertemplate": "Energy usage per capita log(tWH)=%{x}<br>Price (£/kWh)=%{y}<br>country=%{customdata[0]}<extra></extra>",
         "legendgroup": "",
         "marker": {
          "color": "#80b1d3",
          "symbol": "circle"
         },
         "mode": "markers",
         "name": "",
         "orientation": "v",
         "showlegend": false,
         "type": "scatter",
         "x": [
          4.274888650636774,
          4.582355481166459,
          3.7409321892551795,
          2.9403092491379055,
          3.3649996907853135,
          3.9672956564640085,
          4.451330939494121,
          3.4458114943864997,
          3.420806000723473,
          4.122781829357265,
          4.443815981187405,
          4.30717492640179,
          4.218873592885831,
          4.328953919505146,
          4.9403198275326,
          3.984037386953765,
          3.5338816981829333,
          4.991516246983445,
          3.48640894071474,
          4.275244212263345,
          3.9651799622315087,
          3.406191583111311,
          5.299766976219299,
          2.8847081565625317,
          4.201791934274033,
          3.2061874526962857,
          4.315685212029166,
          4.627800834536558,
          4.278166541078661,
          4.578606355894813,
          5.207125740493191,
          4.919610984744277,
          3.67057729370243,
          3.451964720546008,
          4.7801085125144445,
          2.8303936093443203,
          5.045524124008304,
          4.198169551488612,
          2.6137224008929794,
          3.978824129107844,
          3.54199873448763,
          4.488110925839638,
          4.318788668849895,
          4.092577212613557,
          3.833122877476998,
          4.331628604571819,
          3.202384771528377,
          4.358262006540512,
          3.3289529828306574,
          4.763348135939335,
          3.6888226924022125,
          3.9629915836707346,
          4.503937991453498,
          2.957800689382388,
          3.97245269416981,
          3.7767819349194727,
          3.896076423721862,
          4.076404411660222,
          4.243415224716673,
          4.361982635471652,
          4.247220942152413,
          4.441551425576105,
          4.247593939586449,
          2.6674370751670424,
          4.466091674877395,
          4.8282105817858865,
          4.149232418495248,
          3.9419223272398107,
          3.8595411692927315,
          3.3748575472635234,
          5.0031971655485785,
          3.3504856519853545,
          2.705559257490922,
          4.295010824929941,
          4.508081120394373,
          4.288375358395467,
          4.871131768390605,
          4.369075227165228,
          3.6058522571497753,
          4.077643948873696,
          5.195688417747899,
          2.6924926442251165,
          4.330404965605433,
          4.513062052160913,
          4.2216743975041435,
          3.3988439632413554,
          4.38850538353292,
          4.432441214012641,
          4.301804628636596,
          3.2906341918164723,
          3.6805111903428434,
          4.886427268420867,
          3.6299466298917236,
          5.145596524985757,
          4.661871562037714,
          5.0225441923480165,
          4.511441799846284,
          4.04719099955403,
          3.0475489901054464,
          4.505164554083857,
          3.9036132136783186,
          2.956517071243279,
          3.067653617794664,
          4.607073802751954,
          3.8714311245868296,
          2.673348118314424,
          4.5543244481822285,
          4.663609761084328,
          4.788450570849432,
          4.558417867868158,
          5.185528431725165,
          4.602006634973379,
          3.8498143991044556,
          3.97369525352081,
          4.262852590879065,
          3.7064561029504524,
          4.204292933134865,
          4.3622184626039555,
          4.461819057060518,
          4.413039612533337,
          3.756797170445208,
          4.51177173963538,
          4.549586517813417,
          3.8603078744740684,
          4.0876318017193025,
          4.830511078926453,
          4.536158164373609,
          4.379939940084904,
          4.761670153228188,
          4.779498807299571,
          4.667361629371669,
          4.354600354458941,
          4.647239854329627,
          4.666333487895786,
          4.645095600304939,
          4.473002143689581,
          4.7635020793796485,
          4.40094179045251,
          4.55620570262983,
          4.628951196974825,
          4.507162767579525,
          4.803403071302696,
          4.655532685515102,
          4.473093605835615
         ],
         "xaxis": "x",
         "y": [
          0.001,
          0.002,
          0.004,
          0.005,
          0.007,
          0.008,
          0.008,
          0.011,
          0.012,
          0.012,
          0.012,
          0.012,
          0.019,
          0.02,
          0.021,
          0.021,
          0.022,
          0.023,
          0.023,
          0.024,
          0.024,
          0.024,
          0.025,
          0.031,
          0.031,
          0.035,
          0.036,
          0.036,
          0.037,
          0.038,
          0.038,
          0.038,
          0.039,
          0.041,
          0.041,
          0.041,
          0.042,
          0.044,
          0.053,
          0.054,
          0.057,
          0.059,
          0.06,
          0.062,
          0.062,
          0.063,
          0.065,
          0.065,
          0.07,
          0.07,
          0.071,
          0.072,
          0.073,
          0.074,
          0.074,
          0.074,
          0.075,
          0.076,
          0.077,
          0.077,
          0.079,
          0.082,
          0.083,
          0.084,
          0.087,
          0.087,
          0.09,
          0.091,
          0.092,
          0.094,
          0.096,
          0.101,
          0.103,
          0.106,
          0.108,
          0.111,
          0.114,
          0.115,
          0.117,
          0.119,
          0.121,
          0.124,
          0.125,
          0.129,
          0.132,
          0.134,
          0.135,
          0.136,
          0.138,
          0.138,
          0.138,
          0.138,
          0.139,
          0.139,
          0.143,
          0.144,
          0.145,
          0.146,
          0.151,
          0.155,
          0.16,
          0.161,
          0.171,
          0.172,
          0.172,
          0.172,
          0.173,
          0.18,
          0.181,
          0.184,
          0.186,
          0.188,
          0.193,
          0.193,
          0.2,
          0.209,
          0.213,
          0.215,
          0.219,
          0.22,
          0.231,
          0.236,
          0.246,
          0.246,
          0.26,
          0.26,
          0.268,
          0.286,
          0.288,
          0.333,
          0.34,
          0.347,
          0.35,
          0.37,
          0.383,
          0.387,
          0.405,
          0.447,
          0.469,
          0.48,
          0.49,
          0.507,
          0.542,
          0.613
         ],
         "yaxis": "y"
        },
        {
         "hovertemplate": "<b>OLS trendline</b><br>price = 0.0561279 * energy_per_capita_log + -0.096713<br>R<sup>2</sup>=0.075923<br><br>Energy usage per capita log(tWH)=%{x}<br>Price (£/kWh)=%{y} <b>(trend)</b><extra></extra>",
         "legendgroup": "Overall Trendline",
         "line": {
          "color": "#969696"
         },
         "mode": "lines",
         "name": "Overall Trendline",
         "showlegend": true,
         "type": "scatter",
         "x": [
          2.6137224008929794,
          2.6674370751670424,
          2.673348118314424,
          2.6924926442251165,
          2.705559257490922,
          2.8303936093443203,
          2.8847081565625317,
          2.9403092491379055,
          2.956517071243279,
          2.957800689382388,
          3.0475489901054464,
          3.067653617794664,
          3.202384771528377,
          3.2061874526962857,
          3.2906341918164723,
          3.3289529828306574,
          3.3504856519853545,
          3.3649996907853135,
          3.3748575472635234,
          3.3988439632413554,
          3.406191583111311,
          3.420806000723473,
          3.4458114943864997,
          3.451964720546008,
          3.48640894071474,
          3.5338816981829333,
          3.54199873448763,
          3.6058522571497753,
          3.6299466298917236,
          3.67057729370243,
          3.6805111903428434,
          3.6888226924022125,
          3.7064561029504524,
          3.7409321892551795,
          3.756797170445208,
          3.7767819349194727,
          3.833122877476998,
          3.8498143991044556,
          3.8595411692927315,
          3.8603078744740684,
          3.8714311245868296,
          3.896076423721862,
          3.9036132136783186,
          3.9419223272398107,
          3.9629915836707346,
          3.9651799622315087,
          3.9672956564640085,
          3.97245269416981,
          3.97369525352081,
          3.978824129107844,
          3.984037386953765,
          4.04719099955403,
          4.076404411660222,
          4.077643948873696,
          4.0876318017193025,
          4.092577212613557,
          4.122781829357265,
          4.149232418495248,
          4.198169551488612,
          4.201791934274033,
          4.204292933134865,
          4.218873592885831,
          4.2216743975041435,
          4.243415224716673,
          4.247220942152413,
          4.247593939586449,
          4.262852590879065,
          4.274888650636774,
          4.275244212263345,
          4.278166541078661,
          4.288375358395467,
          4.295010824929941,
          4.301804628636596,
          4.30717492640179,
          4.315685212029166,
          4.318788668849895,
          4.328953919505146,
          4.330404965605433,
          4.331628604571819,
          4.354600354458941,
          4.358262006540512,
          4.361982635471652,
          4.3622184626039555,
          4.369075227165228,
          4.379939940084904,
          4.38850538353292,
          4.40094179045251,
          4.413039612533337,
          4.432441214012641,
          4.441551425576105,
          4.443815981187405,
          4.451330939494121,
          4.461819057060518,
          4.466091674877395,
          4.473002143689581,
          4.473093605835615,
          4.488110925839638,
          4.503937991453498,
          4.505164554083857,
          4.507162767579525,
          4.508081120394373,
          4.511441799846284,
          4.51177173963538,
          4.513062052160913,
          4.536158164373609,
          4.549586517813417,
          4.5543244481822285,
          4.55620570262983,
          4.558417867868158,
          4.578606355894813,
          4.582355481166459,
          4.602006634973379,
          4.607073802751954,
          4.627800834536558,
          4.628951196974825,
          4.645095600304939,
          4.647239854329627,
          4.655532685515102,
          4.661871562037714,
          4.663609761084328,
          4.666333487895786,
          4.667361629371669,
          4.761670153228188,
          4.763348135939335,
          4.7635020793796485,
          4.779498807299571,
          4.7801085125144445,
          4.788450570849432,
          4.803403071302696,
          4.8282105817858865,
          4.830511078926453,
          4.871131768390605,
          4.886427268420867,
          4.919610984744277,
          4.9403198275326,
          4.991516246983445,
          5.0031971655485785,
          5.0225441923480165,
          5.045524124008304,
          5.145596524985757,
          5.185528431725165,
          5.195688417747899,
          5.207125740493191,
          5.299766976219299
         ],
         "xaxis": "x",
         "y": [
          0.0499897076684814,
          0.05300459913011196,
          0.05333637352426435,
          0.05441091541593851,
          0.055144316880247984,
          0.06215100595743983,
          0.06519956702317428,
          0.06832033916837124,
          0.06923005006464886,
          0.06930209684553126,
          0.07433947981773809,
          0.075467910198796,
          0.08303008590770736,
          0.08324352238739141,
          0.08798333988003756,
          0.0901340928616014,
          0.0913426762004742,
          0.0921573186095207,
          0.09271061931789876,
          0.09405692629460519,
          0.09446933271256483,
          0.09528960917278878,
          0.09669311483222678,
          0.09703848244844149,
          0.09897176393423049,
          0.10163630976058441,
          0.10209190190145664,
          0.10567586555516706,
          0.10702823191752103,
          0.10930874544680871,
          0.10986631412923417,
          0.11033282122307345,
          0.11132254739417646,
          0.11325761745902,
          0.11414808541726734,
          0.11526978812868549,
          0.11843208649412343,
          0.11936894642516357,
          0.11991488953635612,
          0.11995792308232917,
          0.12058224766855752,
          0.12196553636826055,
          0.12238856050449357,
          0.1245387703110333,
          0.12572134327037768,
          0.12584417234691697,
          0.12596292180529478,
          0.12625237546310158,
          0.12632211770074012,
          0.12660999067817302,
          0.12690259985395902,
          0.13044727903097866,
          0.13208696628431046,
          0.13215653889573897,
          0.13271713602624752,
          0.13299471151713238,
          0.1346900329977729,
          0.13617464882063582,
          0.1389213869589999,
          0.13912470367045945,
          0.13926507946558386,
          0.14008346116820464,
          0.1402406644286463,
          0.14146093124060558,
          0.14167453813960396,
          0.1416954736994725,
          0.14255190963843753,
          0.1432274683062616,
          0.1432474252310037,
          0.14341144938850708,
          0.1439844487890945,
          0.14435688354121917,
          0.14473820542511784,
          0.145039628920606,
          0.1455172933171749,
          0.14569148380788913,
          0.14626203790358155,
          0.14634348206306516,
          0.14641216233939064,
          0.14770151824686636,
          0.1479070390611575,
          0.14811587012171945,
          0.1481291066016425,
          0.1485139623456188,
          0.14912377578407462,
          0.14960453607286917,
          0.15030256538314535,
          0.15098159064000002,
          0.15207056164154545,
          0.15258189861654403,
          0.15270900335038384,
          0.15313080212212785,
          0.15371947805709069,
          0.15395929109047496,
          0.1543471611408717,
          0.1543522947183692,
          0.1551951852407188,
          0.15608352507758405,
          0.15615236945300665,
          0.15626452496522047,
          0.15631607017326032,
          0.15650469802815797,
          0.1565232168531614,
          0.15659563937584514,
          0.15789197547855782,
          0.15864568065645518,
          0.1589116107027187,
          0.15901720155005944,
          0.15914136572267867,
          0.16027450300773866,
          0.1604849335078362,
          0.1615879113555913,
          0.1618723208037866,
          0.16303568541498226,
          0.16310025283421697,
          0.16400640416829632,
          0.16412675662761905,
          0.16459221576465605,
          0.1649480035444878,
          0.16504556499366485,
          0.16519844203925171,
          0.1652561494534524,
          0.17054948813932608,
          0.17064366977250117,
          0.1706523102933653,
          0.17155017291790126,
          0.17158439438663908,
          0.1720526165398305,
          0.1728918688774052,
          0.1742842621582148,
          0.17441338421434444,
          0.1766933379045812,
          0.17755184208553043,
          0.17941437414703315,
          0.1805767178482015,
          0.18345026497390637,
          0.18410589031506253,
          0.18519179815484493,
          0.1864816132880051,
          0.1920984662491237,
          0.19433976001665193,
          0.19491001861961654,
          0.19555197144079084,
          0.20075172875776698
         ],
         "yaxis": "y"
        }
       ],
       "layout": {
        "font": {
         "family": "Arial",
         "size": 22
        },
        "height": 750,
        "legend": {
         "tracegroupgap": 0
        },
        "margin": {
         "pad": 20,
         "t": 60
        },
        "paper_bgcolor": "white",
        "plot_bgcolor": "white",
        "template": {
         "data": {
          "bar": [
           {
            "error_x": {
             "color": "#2a3f5f"
            },
            "error_y": {
             "color": "#2a3f5f"
            },
            "marker": {
             "line": {
              "color": "#E5ECF6",
              "width": 0.5
             },
             "pattern": {
              "fillmode": "overlay",
              "size": 10,
              "solidity": 0.2
             }
            },
            "type": "bar"
           }
          ],
          "barpolar": [
           {
            "marker": {
             "line": {
              "color": "#E5ECF6",
              "width": 0.5
             },
             "pattern": {
              "fillmode": "overlay",
              "size": 10,
              "solidity": 0.2
             }
            },
            "type": "barpolar"
           }
          ],
          "carpet": [
           {
            "aaxis": {
             "endlinecolor": "#2a3f5f",
             "gridcolor": "white",
             "linecolor": "white",
             "minorgridcolor": "white",
             "startlinecolor": "#2a3f5f"
            },
            "baxis": {
             "endlinecolor": "#2a3f5f",
             "gridcolor": "white",
             "linecolor": "white",
             "minorgridcolor": "white",
             "startlinecolor": "#2a3f5f"
            },
            "type": "carpet"
           }
          ],
          "choropleth": [
           {
            "colorbar": {
             "outlinewidth": 0,
             "ticks": ""
            },
            "type": "choropleth"
           }
          ],
          "contour": [
           {
            "colorbar": {
             "outlinewidth": 0,
             "ticks": ""
            },
            "colorscale": [
             [
              0,
              "#0d0887"
             ],
             [
              0.1111111111111111,
              "#46039f"
             ],
             [
              0.2222222222222222,
              "#7201a8"
             ],
             [
              0.3333333333333333,
              "#9c179e"
             ],
             [
              0.4444444444444444,
              "#bd3786"
             ],
             [
              0.5555555555555556,
              "#d8576b"
             ],
             [
              0.6666666666666666,
              "#ed7953"
             ],
             [
              0.7777777777777778,
              "#fb9f3a"
             ],
             [
              0.8888888888888888,
              "#fdca26"
             ],
             [
              1,
              "#f0f921"
             ]
            ],
            "type": "contour"
           }
          ],
          "contourcarpet": [
           {
            "colorbar": {
             "outlinewidth": 0,
             "ticks": ""
            },
            "type": "contourcarpet"
           }
          ],
          "heatmap": [
           {
            "colorbar": {
             "outlinewidth": 0,
             "ticks": ""
            },
            "colorscale": [
             [
              0,
              "#0d0887"
             ],
             [
              0.1111111111111111,
              "#46039f"
             ],
             [
              0.2222222222222222,
              "#7201a8"
             ],
             [
              0.3333333333333333,
              "#9c179e"
             ],
             [
              0.4444444444444444,
              "#bd3786"
             ],
             [
              0.5555555555555556,
              "#d8576b"
             ],
             [
              0.6666666666666666,
              "#ed7953"
             ],
             [
              0.7777777777777778,
              "#fb9f3a"
             ],
             [
              0.8888888888888888,
              "#fdca26"
             ],
             [
              1,
              "#f0f921"
             ]
            ],
            "type": "heatmap"
           }
          ],
          "heatmapgl": [
           {
            "colorbar": {
             "outlinewidth": 0,
             "ticks": ""
            },
            "colorscale": [
             [
              0,
              "#0d0887"
             ],
             [
              0.1111111111111111,
              "#46039f"
             ],
             [
              0.2222222222222222,
              "#7201a8"
             ],
             [
              0.3333333333333333,
              "#9c179e"
             ],
             [
              0.4444444444444444,
              "#bd3786"
             ],
             [
              0.5555555555555556,
              "#d8576b"
             ],
             [
              0.6666666666666666,
              "#ed7953"
             ],
             [
              0.7777777777777778,
              "#fb9f3a"
             ],
             [
              0.8888888888888888,
              "#fdca26"
             ],
             [
              1,
              "#f0f921"
             ]
            ],
            "type": "heatmapgl"
           }
          ],
          "histogram": [
           {
            "marker": {
             "pattern": {
              "fillmode": "overlay",
              "size": 10,
              "solidity": 0.2
             }
            },
            "type": "histogram"
           }
          ],
          "histogram2d": [
           {
            "colorbar": {
             "outlinewidth": 0,
             "ticks": ""
            },
            "colorscale": [
             [
              0,
              "#0d0887"
             ],
             [
              0.1111111111111111,
              "#46039f"
             ],
             [
              0.2222222222222222,
              "#7201a8"
             ],
             [
              0.3333333333333333,
              "#9c179e"
             ],
             [
              0.4444444444444444,
              "#bd3786"
             ],
             [
              0.5555555555555556,
              "#d8576b"
             ],
             [
              0.6666666666666666,
              "#ed7953"
             ],
             [
              0.7777777777777778,
              "#fb9f3a"
             ],
             [
              0.8888888888888888,
              "#fdca26"
             ],
             [
              1,
              "#f0f921"
             ]
            ],
            "type": "histogram2d"
           }
          ],
          "histogram2dcontour": [
           {
            "colorbar": {
             "outlinewidth": 0,
             "ticks": ""
            },
            "colorscale": [
             [
              0,
              "#0d0887"
             ],
             [
              0.1111111111111111,
              "#46039f"
             ],
             [
              0.2222222222222222,
              "#7201a8"
             ],
             [
              0.3333333333333333,
              "#9c179e"
             ],
             [
              0.4444444444444444,
              "#bd3786"
             ],
             [
              0.5555555555555556,
              "#d8576b"
             ],
             [
              0.6666666666666666,
              "#ed7953"
             ],
             [
              0.7777777777777778,
              "#fb9f3a"
             ],
             [
              0.8888888888888888,
              "#fdca26"
             ],
             [
              1,
              "#f0f921"
             ]
            ],
            "type": "histogram2dcontour"
           }
          ],
          "mesh3d": [
           {
            "colorbar": {
             "outlinewidth": 0,
             "ticks": ""
            },
            "type": "mesh3d"
           }
          ],
          "parcoords": [
           {
            "line": {
             "colorbar": {
              "outlinewidth": 0,
              "ticks": ""
             }
            },
            "type": "parcoords"
           }
          ],
          "pie": [
           {
            "automargin": true,
            "type": "pie"
           }
          ],
          "scatter": [
           {
            "fillpattern": {
             "fillmode": "overlay",
             "size": 10,
             "solidity": 0.2
            },
            "type": "scatter"
           }
          ],
          "scatter3d": [
           {
            "line": {
             "colorbar": {
              "outlinewidth": 0,
              "ticks": ""
             }
            },
            "marker": {
             "colorbar": {
              "outlinewidth": 0,
              "ticks": ""
             }
            },
            "type": "scatter3d"
           }
          ],
          "scattercarpet": [
           {
            "marker": {
             "colorbar": {
              "outlinewidth": 0,
              "ticks": ""
             }
            },
            "type": "scattercarpet"
           }
          ],
          "scattergeo": [
           {
            "marker": {
             "colorbar": {
              "outlinewidth": 0,
              "ticks": ""
             }
            },
            "type": "scattergeo"
           }
          ],
          "scattergl": [
           {
            "marker": {
             "colorbar": {
              "outlinewidth": 0,
              "ticks": ""
             }
            },
            "type": "scattergl"
           }
          ],
          "scattermapbox": [
           {
            "marker": {
             "colorbar": {
              "outlinewidth": 0,
              "ticks": ""
             }
            },
            "type": "scattermapbox"
           }
          ],
          "scatterpolar": [
           {
            "marker": {
             "colorbar": {
              "outlinewidth": 0,
              "ticks": ""
             }
            },
            "type": "scatterpolar"
           }
          ],
          "scatterpolargl": [
           {
            "marker": {
             "colorbar": {
              "outlinewidth": 0,
              "ticks": ""
             }
            },
            "type": "scatterpolargl"
           }
          ],
          "scatterternary": [
           {
            "marker": {
             "colorbar": {
              "outlinewidth": 0,
              "ticks": ""
             }
            },
            "type": "scatterternary"
           }
          ],
          "surface": [
           {
            "colorbar": {
             "outlinewidth": 0,
             "ticks": ""
            },
            "colorscale": [
             [
              0,
              "#0d0887"
             ],
             [
              0.1111111111111111,
              "#46039f"
             ],
             [
              0.2222222222222222,
              "#7201a8"
             ],
             [
              0.3333333333333333,
              "#9c179e"
             ],
             [
              0.4444444444444444,
              "#bd3786"
             ],
             [
              0.5555555555555556,
              "#d8576b"
             ],
             [
              0.6666666666666666,
              "#ed7953"
             ],
             [
              0.7777777777777778,
              "#fb9f3a"
             ],
             [
              0.8888888888888888,
              "#fdca26"
             ],
             [
              1,
              "#f0f921"
             ]
            ],
            "type": "surface"
           }
          ],
          "table": [
           {
            "cells": {
             "fill": {
              "color": "#EBF0F8"
             },
             "line": {
              "color": "white"
             }
            },
            "header": {
             "fill": {
              "color": "#C8D4E3"
             },
             "line": {
              "color": "white"
             }
            },
            "type": "table"
           }
          ]
         },
         "layout": {
          "annotationdefaults": {
           "arrowcolor": "#2a3f5f",
           "arrowhead": 0,
           "arrowwidth": 1
          },
          "autotypenumbers": "strict",
          "coloraxis": {
           "colorbar": {
            "outlinewidth": 0,
            "ticks": ""
           }
          },
          "colorscale": {
           "diverging": [
            [
             0,
             "#8e0152"
            ],
            [
             0.1,
             "#c51b7d"
            ],
            [
             0.2,
             "#de77ae"
            ],
            [
             0.3,
             "#f1b6da"
            ],
            [
             0.4,
             "#fde0ef"
            ],
            [
             0.5,
             "#f7f7f7"
            ],
            [
             0.6,
             "#e6f5d0"
            ],
            [
             0.7,
             "#b8e186"
            ],
            [
             0.8,
             "#7fbc41"
            ],
            [
             0.9,
             "#4d9221"
            ],
            [
             1,
             "#276419"
            ]
           ],
           "sequential": [
            [
             0,
             "#0d0887"
            ],
            [
             0.1111111111111111,
             "#46039f"
            ],
            [
             0.2222222222222222,
             "#7201a8"
            ],
            [
             0.3333333333333333,
             "#9c179e"
            ],
            [
             0.4444444444444444,
             "#bd3786"
            ],
            [
             0.5555555555555556,
             "#d8576b"
            ],
            [
             0.6666666666666666,
             "#ed7953"
            ],
            [
             0.7777777777777778,
             "#fb9f3a"
            ],
            [
             0.8888888888888888,
             "#fdca26"
            ],
            [
             1,
             "#f0f921"
            ]
           ],
           "sequentialminus": [
            [
             0,
             "#0d0887"
            ],
            [
             0.1111111111111111,
             "#46039f"
            ],
            [
             0.2222222222222222,
             "#7201a8"
            ],
            [
             0.3333333333333333,
             "#9c179e"
            ],
            [
             0.4444444444444444,
             "#bd3786"
            ],
            [
             0.5555555555555556,
             "#d8576b"
            ],
            [
             0.6666666666666666,
             "#ed7953"
            ],
            [
             0.7777777777777778,
             "#fb9f3a"
            ],
            [
             0.8888888888888888,
             "#fdca26"
            ],
            [
             1,
             "#f0f921"
            ]
           ]
          },
          "colorway": [
           "#636efa",
           "#EF553B",
           "#00cc96",
           "#ab63fa",
           "#FFA15A",
           "#19d3f3",
           "#FF6692",
           "#B6E880",
           "#FF97FF",
           "#FECB52"
          ],
          "font": {
           "color": "#2a3f5f"
          },
          "geo": {
           "bgcolor": "white",
           "lakecolor": "white",
           "landcolor": "#E5ECF6",
           "showlakes": true,
           "showland": true,
           "subunitcolor": "white"
          },
          "hoverlabel": {
           "align": "left"
          },
          "hovermode": "closest",
          "mapbox": {
           "style": "light"
          },
          "paper_bgcolor": "white",
          "plot_bgcolor": "#E5ECF6",
          "polar": {
           "angularaxis": {
            "gridcolor": "white",
            "linecolor": "white",
            "ticks": ""
           },
           "bgcolor": "#E5ECF6",
           "radialaxis": {
            "gridcolor": "white",
            "linecolor": "white",
            "ticks": ""
           }
          },
          "scene": {
           "xaxis": {
            "backgroundcolor": "#E5ECF6",
            "gridcolor": "white",
            "gridwidth": 2,
            "linecolor": "white",
            "showbackground": true,
            "ticks": "",
            "zerolinecolor": "white"
           },
           "yaxis": {
            "backgroundcolor": "#E5ECF6",
            "gridcolor": "white",
            "gridwidth": 2,
            "linecolor": "white",
            "showbackground": true,
            "ticks": "",
            "zerolinecolor": "white"
           },
           "zaxis": {
            "backgroundcolor": "#E5ECF6",
            "gridcolor": "white",
            "gridwidth": 2,
            "linecolor": "white",
            "showbackground": true,
            "ticks": "",
            "zerolinecolor": "white"
           }
          },
          "shapedefaults": {
           "line": {
            "color": "#2a3f5f"
           }
          },
          "ternary": {
           "aaxis": {
            "gridcolor": "white",
            "linecolor": "white",
            "ticks": ""
           },
           "baxis": {
            "gridcolor": "white",
            "linecolor": "white",
            "ticks": ""
           },
           "bgcolor": "#E5ECF6",
           "caxis": {
            "gridcolor": "white",
            "linecolor": "white",
            "ticks": ""
           }
          },
          "title": {
           "x": 0.05
          },
          "xaxis": {
           "automargin": true,
           "gridcolor": "white",
           "linecolor": "white",
           "ticks": "",
           "title": {
            "standoff": 15
           },
           "zerolinecolor": "white",
           "zerolinewidth": 2
          },
          "yaxis": {
           "automargin": true,
           "gridcolor": "white",
           "linecolor": "white",
           "ticks": "",
           "title": {
            "standoff": 15
           },
           "zerolinecolor": "white",
           "zerolinewidth": 2
          }
         }
        },
        "width": 1400,
        "xaxis": {
         "anchor": "y",
         "domain": [
          0,
          1
         ],
         "showgrid": false,
         "title": {
          "text": "Energy usage per capita log(tWH)"
         }
        },
        "yaxis": {
         "anchor": "x",
         "domain": [
          0,
          1
         ],
         "gridcolor": "LightGrey",
         "gridwidth": 1,
         "showgrid": true,
         "title": {
          "text": "Price (£/kWh)"
         }
        }
       }
      }
     },
     "metadata": {},
     "output_type": "display_data"
    }
   ],
   "source": [
    "#plot of price vs usage per cap, again this could be driven by higher standards of living driving up the prices in countries which use more energy\n",
    "scatter_chart(data=joined_energy_data, x_var='energy_per_capita_log', y_var='price', x_label='Energy usage per capita log(tWH)', y_label='Price (£/kWh)', hover_labels='country')"
   ]
  },
  {
   "cell_type": "code",
   "execution_count": 39,
   "metadata": {},
   "outputs": [],
   "source": [
    "#Regression modelling for section 4"
   ]
  },
  {
   "cell_type": "code",
   "execution_count": 40,
   "metadata": {},
   "outputs": [
    {
     "data": {
      "text/plain": [
       "<AxesSubplot:>"
      ]
     },
     "execution_count": 40,
     "metadata": {},
     "output_type": "execute_result"
    },
    {
     "data": {
      "image/png": "[encoded data removed]",
      "text/plain": [
       "<Figure size 864x720 with 2 Axes>"
      ]
     },
     "metadata": {
      "needs_background": "light"
     },
     "output_type": "display_data"
    }
   ],
   "source": [
    "#remove energy per cap as it correlates with gdp per cap\n",
    "features = joined_energy_data[['price', 'gdp_per_cap_log', 'oil_and_gas_prod_per_capita_log', 'low_carbon_share_elec', 'energy_per_capita_log']]\n",
    "corr_matrix = features.corr()\n",
    "\n",
    "\n",
    "f, ax = plt.subplots(figsize=(12, 10))\n",
    "mask = np.triu(np.ones_like(corr_matrix, dtype=bool))\n",
    "cmap = sns.diverging_palette(230, 20, as_cmap=True)\n",
    "sns.heatmap(corr_matrix, annot=True, mask = mask, cmap=cmap)"
   ]
  },
  {
   "cell_type": "code",
   "execution_count": 41,
   "metadata": {},
   "outputs": [
    {
     "name": "stdout",
     "output_type": "stream",
     "text": [
      "                            OLS Regression Results                            \n",
      "==============================================================================\n",
      "Dep. Variable:                  price   R-squared:                       0.670\n",
      "Model:                            OLS   Adj. R-squared:                  0.648\n",
      "Method:                 Least Squares   F-statistic:                     30.49\n",
      "Date:                Fri, 08 Sep 2023   Prob (F-statistic):           6.49e-11\n",
      "Time:                        12:07:28   Log-Likelihood:                 55.374\n",
      "No. Observations:                  49   AIC:                            -102.7\n",
      "Df Residuals:                      45   BIC:                            -95.18\n",
      "Df Model:                           3                                         \n",
      "Covariance Type:            nonrobust                                         \n",
      "===================================================================================================\n",
      "                                      coef    std err          t      P>|t|      [0.025      0.975]\n",
      "---------------------------------------------------------------------------------------------------\n",
      "const                              -0.6946      0.134     -5.171      0.000      -0.965      -0.424\n",
      "gdp_per_cap_log                     0.3105      0.039      7.923      0.000       0.232       0.389\n",
      "oil_and_gas_prod_per_capita_log    -0.1315      0.019     -6.994      0.000      -0.169      -0.094\n",
      "low_carbon_share_elec               0.0012      0.000      2.722      0.009       0.000       0.002\n",
      "==============================================================================\n",
      "Omnibus:                       10.887   Durbin-Watson:                   1.145\n",
      "Prob(Omnibus):                  0.004   Jarque-Bera (JB):               10.877\n",
      "Skew:                           0.939   Prob(JB):                      0.00435\n",
      "Kurtosis:                       4.341   Cond. No.                         508.\n",
      "==============================================================================\n",
      "\n",
      "Notes:\n",
      "[1] Standard Errors assume that the covariance matrix of the errors is correctly specified.\n"
     ]
    },
    {
     "name": "stderr",
     "output_type": "stream",
     "text": [
      "d:\\Python37\\lib\\site-packages\\pandas\\core\\frame.py:4906: SettingWithCopyWarning:\n",
      "\n",
      "\n",
      "A value is trying to be set on a copy of a slice from a DataFrame\n",
      "\n",
      "See the caveats in the documentation: https://pandas.pydata.org/pandas-docs/stable/user_guide/indexing.html#returning-a-view-versus-a-copy\n",
      "\n"
     ]
    }
   ],
   "source": [
    "#drop target\n",
    "features.drop(['price', 'energy_per_capita_log'], axis=1, inplace=True)\n",
    "\n",
    "#add constant to predictor variables\n",
    "features = sm.add_constant(features)\n",
    "\n",
    "#assign target var\n",
    "target = joined_energy_data[['price']]\n",
    "\n",
    "#fit linear regression model\n",
    "model = sm.OLS(target, features, missing='drop').fit()\n",
    "\n",
    "#view model summary\n",
    "print(model.summary())"
   ]
  },
  {
   "cell_type": "code",
   "execution_count": 42,
   "metadata": {},
   "outputs": [],
   "source": [
    "#scaled model to get feature importance\n",
    "scaler = StandardScaler()\n",
    "\n",
    "features = joined_energy_data[['gdp_per_cap_log', 'oil_and_gas_prod_per_capita_log', 'low_carbon_share_elec']]\n",
    "\n",
    "features_scaled = scaler.fit_transform(features)\n",
    "target_scaled = scaler.fit_transform(target)"
   ]
  },
  {
   "cell_type": "code",
   "execution_count": 43,
   "metadata": {},
   "outputs": [
    {
     "name": "stdout",
     "output_type": "stream",
     "text": [
      "                            OLS Regression Results                            \n",
      "==============================================================================\n",
      "Dep. Variable:                      y   R-squared:                       0.670\n",
      "Model:                            OLS   Adj. R-squared:                  0.648\n",
      "Method:                 Least Squares   F-statistic:                     30.49\n",
      "Date:                Fri, 08 Sep 2023   Prob (F-statistic):           6.49e-11\n",
      "Time:                        12:07:28   Log-Likelihood:                -46.807\n",
      "No. Observations:                  49   AIC:                             101.6\n",
      "Df Residuals:                      45   BIC:                             109.2\n",
      "Df Model:                           3                                         \n",
      "Covariance Type:            nonrobust                                         \n",
      "==============================================================================\n",
      "                 coef    std err          t      P>|t|      [0.025      0.975]\n",
      "------------------------------------------------------------------------------\n",
      "const         -0.4931      0.119     -4.148      0.000      -0.733      -0.254\n",
      "x1             1.2292      0.155      7.923      0.000       0.917       1.542\n",
      "x2            -0.8622      0.123     -6.994      0.000      -1.111      -0.614\n",
      "x3             0.3058      0.112      2.722      0.009       0.080       0.532\n",
      "==============================================================================\n",
      "Omnibus:                       10.887   Durbin-Watson:                   1.145\n",
      "Prob(Omnibus):                  0.004   Jarque-Bera (JB):               10.877\n",
      "Skew:                           0.939   Prob(JB):                      0.00435\n",
      "Kurtosis:                       4.341   Cond. No.                         2.71\n",
      "==============================================================================\n",
      "\n",
      "Notes:\n",
      "[1] Standard Errors assume that the covariance matrix of the errors is correctly specified.\n"
     ]
    }
   ],
   "source": [
    "#make regression model to explain price - does renewable mix matter? Nope, not once you've controlled for gdp per cap.\n",
    "\n",
    "features_scaled = sm.add_constant(features_scaled)\n",
    "\n",
    "#fit linear regression model\n",
    "scaled_model = sm.OLS(target_scaled, features_scaled, missing='drop').fit()\n",
    "\n",
    "#view model summary\n",
    "print(scaled_model.summary())\n"
   ]
  },
  {
   "cell_type": "code",
   "execution_count": 44,
   "metadata": {},
   "outputs": [],
   "source": [
    "#CLUSTERING EDA - NOT USED IN REPORT"
   ]
  },
  {
   "cell_type": "code",
   "execution_count": 66,
   "metadata": {},
   "outputs": [],
   "source": [
    "#create data for clustering\n",
    "cluster_data = joined_energy_data[['price', 'gdp_per_cap_log', 'oil_and_gas_prod_per_capita_log', 'low_carbon_share_elec']]\n",
    "cluster_data[['oil_and_gas_prod_per_capita_log', 'low_carbon_share_elec']] = cluster_data[['oil_and_gas_prod_per_capita_log', 'low_carbon_share_elec']].replace(np.nan, 0)\n",
    "cluster_data = cluster_data.dropna().values"
   ]
  },
  {
   "cell_type": "code",
   "execution_count": 67,
   "metadata": {},
   "outputs": [
    {
     "data": {
      "text/plain": [
       "134"
      ]
     },
     "execution_count": 67,
     "metadata": {},
     "output_type": "execute_result"
    }
   ],
   "source": [
    "len(cluster_data)"
   ]
  },
  {
   "cell_type": "code",
   "execution_count": 68,
   "metadata": {},
   "outputs": [
    {
     "name": "stderr",
     "output_type": "stream",
     "text": [
      "D:\\Users\\sean.ogara\\AppData\\Roaming\\Python\\Python39\\site-packages\\sklearn\\cluster\\_kmeans.py:1412: FutureWarning:\n",
      "\n",
      "The default value of `n_init` will change from 10 to 'auto' in 1.4. Set the value of `n_init` explicitly to suppress the warning\n",
      "\n",
      "D:\\Users\\sean.ogara\\AppData\\Roaming\\Python\\Python39\\site-packages\\sklearn\\cluster\\_kmeans.py:1436: UserWarning:\n",
      "\n",
      "KMeans is known to have a memory leak on Windows with MKL, when there are less chunks than available threads. You can avoid it by setting the environment variable OMP_NUM_THREADS=1.\n",
      "\n",
      "D:\\Users\\sean.ogara\\AppData\\Roaming\\Python\\Python39\\site-packages\\sklearn\\cluster\\_kmeans.py:1412: FutureWarning:\n",
      "\n",
      "The default value of `n_init` will change from 10 to 'auto' in 1.4. Set the value of `n_init` explicitly to suppress the warning\n",
      "\n",
      "D:\\Users\\sean.ogara\\AppData\\Roaming\\Python\\Python39\\site-packages\\sklearn\\cluster\\_kmeans.py:1436: UserWarning:\n",
      "\n",
      "KMeans is known to have a memory leak on Windows with MKL, when there are less chunks than available threads. You can avoid it by setting the environment variable OMP_NUM_THREADS=1.\n",
      "\n",
      "D:\\Users\\sean.ogara\\AppData\\Roaming\\Python\\Python39\\site-packages\\sklearn\\cluster\\_kmeans.py:1412: FutureWarning:\n",
      "\n",
      "The default value of `n_init` will change from 10 to 'auto' in 1.4. Set the value of `n_init` explicitly to suppress the warning\n",
      "\n",
      "D:\\Users\\sean.ogara\\AppData\\Roaming\\Python\\Python39\\site-packages\\sklearn\\cluster\\_kmeans.py:1436: UserWarning:\n",
      "\n",
      "KMeans is known to have a memory leak on Windows with MKL, when there are less chunks than available threads. You can avoid it by setting the environment variable OMP_NUM_THREADS=1.\n",
      "\n",
      "D:\\Users\\sean.ogara\\AppData\\Roaming\\Python\\Python39\\site-packages\\sklearn\\cluster\\_kmeans.py:1412: FutureWarning:\n",
      "\n",
      "The default value of `n_init` will change from 10 to 'auto' in 1.4. Set the value of `n_init` explicitly to suppress the warning\n",
      "\n",
      "D:\\Users\\sean.ogara\\AppData\\Roaming\\Python\\Python39\\site-packages\\sklearn\\cluster\\_kmeans.py:1436: UserWarning:\n",
      "\n",
      "KMeans is known to have a memory leak on Windows with MKL, when there are less chunks than available threads. You can avoid it by setting the environment variable OMP_NUM_THREADS=1.\n",
      "\n",
      "D:\\Users\\sean.ogara\\AppData\\Roaming\\Python\\Python39\\site-packages\\sklearn\\cluster\\_kmeans.py:1412: FutureWarning:\n",
      "\n",
      "The default value of `n_init` will change from 10 to 'auto' in 1.4. Set the value of `n_init` explicitly to suppress the warning\n",
      "\n",
      "D:\\Users\\sean.ogara\\AppData\\Roaming\\Python\\Python39\\site-packages\\sklearn\\cluster\\_kmeans.py:1436: UserWarning:\n",
      "\n",
      "KMeans is known to have a memory leak on Windows with MKL, when there are less chunks than available threads. You can avoid it by setting the environment variable OMP_NUM_THREADS=1.\n",
      "\n",
      "D:\\Users\\sean.ogara\\AppData\\Roaming\\Python\\Python39\\site-packages\\sklearn\\cluster\\_kmeans.py:1412: FutureWarning:\n",
      "\n",
      "The default value of `n_init` will change from 10 to 'auto' in 1.4. Set the value of `n_init` explicitly to suppress the warning\n",
      "\n",
      "D:\\Users\\sean.ogara\\AppData\\Roaming\\Python\\Python39\\site-packages\\sklearn\\cluster\\_kmeans.py:1436: UserWarning:\n",
      "\n",
      "KMeans is known to have a memory leak on Windows with MKL, when there are less chunks than available threads. You can avoid it by setting the environment variable OMP_NUM_THREADS=1.\n",
      "\n",
      "D:\\Users\\sean.ogara\\AppData\\Roaming\\Python\\Python39\\site-packages\\sklearn\\cluster\\_kmeans.py:1412: FutureWarning:\n",
      "\n",
      "The default value of `n_init` will change from 10 to 'auto' in 1.4. Set the value of `n_init` explicitly to suppress the warning\n",
      "\n",
      "D:\\Users\\sean.ogara\\AppData\\Roaming\\Python\\Python39\\site-packages\\sklearn\\cluster\\_kmeans.py:1436: UserWarning:\n",
      "\n",
      "KMeans is known to have a memory leak on Windows with MKL, when there are less chunks than available threads. You can avoid it by setting the environment variable OMP_NUM_THREADS=1.\n",
      "\n",
      "D:\\Users\\sean.ogara\\AppData\\Roaming\\Python\\Python39\\site-packages\\sklearn\\cluster\\_kmeans.py:1412: FutureWarning:\n",
      "\n",
      "The default value of `n_init` will change from 10 to 'auto' in 1.4. Set the value of `n_init` explicitly to suppress the warning\n",
      "\n",
      "D:\\Users\\sean.ogara\\AppData\\Roaming\\Python\\Python39\\site-packages\\sklearn\\cluster\\_kmeans.py:1436: UserWarning:\n",
      "\n",
      "KMeans is known to have a memory leak on Windows with MKL, when there are less chunks than available threads. You can avoid it by setting the environment variable OMP_NUM_THREADS=1.\n",
      "\n",
      "D:\\Users\\sean.ogara\\AppData\\Roaming\\Python\\Python39\\site-packages\\sklearn\\cluster\\_kmeans.py:1412: FutureWarning:\n",
      "\n",
      "The default value of `n_init` will change from 10 to 'auto' in 1.4. Set the value of `n_init` explicitly to suppress the warning\n",
      "\n",
      "D:\\Users\\sean.ogara\\AppData\\Roaming\\Python\\Python39\\site-packages\\sklearn\\cluster\\_kmeans.py:1436: UserWarning:\n",
      "\n",
      "KMeans is known to have a memory leak on Windows with MKL, when there are less chunks than available threads. You can avoid it by setting the environment variable OMP_NUM_THREADS=1.\n",
      "\n",
      "D:\\Users\\sean.ogara\\AppData\\Roaming\\Python\\Python39\\site-packages\\sklearn\\cluster\\_kmeans.py:1412: FutureWarning:\n",
      "\n",
      "The default value of `n_init` will change from 10 to 'auto' in 1.4. Set the value of `n_init` explicitly to suppress the warning\n",
      "\n",
      "D:\\Users\\sean.ogara\\AppData\\Roaming\\Python\\Python39\\site-packages\\sklearn\\cluster\\_kmeans.py:1436: UserWarning:\n",
      "\n",
      "KMeans is known to have a memory leak on Windows with MKL, when there are less chunks than available threads. You can avoid it by setting the environment variable OMP_NUM_THREADS=1.\n",
      "\n"
     ]
    },
    {
     "data": {
      "image/png": "[encoded data removed]",
      "text/plain": [
       "<Figure size 504x504 with 1 Axes>"
      ]
     },
     "metadata": {
      "needs_background": "light"
     },
     "output_type": "display_data"
    }
   ],
   "source": [
    "from sklearn.cluster import KMeans\n",
    "\n",
    "#find the optimal number of clusters using elbow method\n",
    "#using Within-Cluster Sum of Square as variance metric - WCSS\n",
    "WCSS = []\n",
    "for i in range(1,11):\n",
    "    model = KMeans(n_clusters= i, init=\"random\", # method for selecting initial cluster points\n",
    "                      max_iter=10, # iterations before stopping\n",
    "                      random_state=123)\n",
    "    model.fit(cluster_data)\n",
    "    WCSS.append(model.inertia_)\n",
    "fig = plt.figure(figsize = (7,7))\n",
    "plt.plot(range(1,11), WCSS, linewidth=4, markersize=12, marker='o',color = 'green')\n",
    "plt.xticks(np.arange(11))\n",
    "plt.xlabel(\"Number of clusters\")\n",
    "plt.ylabel(\"WCSS\")\n",
    "plt.show()"
   ]
  },
  {
   "cell_type": "code",
   "execution_count": 69,
   "metadata": {},
   "outputs": [
    {
     "name": "stderr",
     "output_type": "stream",
     "text": [
      "D:\\Users\\sean.ogara\\AppData\\Roaming\\Python\\Python39\\site-packages\\sklearn\\cluster\\_kmeans.py:1412: FutureWarning:\n",
      "\n",
      "The default value of `n_init` will change from 10 to 'auto' in 1.4. Set the value of `n_init` explicitly to suppress the warning\n",
      "\n",
      "D:\\Users\\sean.ogara\\AppData\\Roaming\\Python\\Python39\\site-packages\\sklearn\\cluster\\_kmeans.py:1436: UserWarning:\n",
      "\n",
      "KMeans is known to have a memory leak on Windows with MKL, when there are less chunks than available threads. You can avoid it by setting the environment variable OMP_NUM_THREADS=1.\n",
      "\n"
     ]
    }
   ],
   "source": [
    "#k=4 is optimal\n",
    "x=cluster_data\n",
    "model = KMeans(n_clusters = 4, init = 'random', max_iter = 10)\n",
    "y_clusters = model.fit_predict(cluster_data)"
   ]
  },
  {
   "cell_type": "code",
   "execution_count": 48,
   "metadata": {},
   "outputs": [
    {
     "data": {
      "text/plain": [
       "array([2, 2, 2, 1, 2, 2, 3, 2, 2, 2, 3, 0, 2, 2, 1, 2, 2, 0, 2, 2, 3, 2,\n",
       "       3, 2, 2, 3, 3, 0, 1, 0, 1, 0, 1, 0, 1, 1, 3, 2, 1, 1, 0, 3, 0, 1,\n",
       "       3, 3, 3, 1, 3])"
      ]
     },
     "execution_count": 48,
     "metadata": {},
     "output_type": "execute_result"
    }
   ],
   "source": [
    "y_clusters"
   ]
  },
  {
   "cell_type": "code",
   "execution_count": 49,
   "metadata": {},
   "outputs": [
    {
     "data": {
      "text/plain": [
       "array([[2.40000000e-02, 3.69643882e+00, 3.80537225e+00, 2.56520000e+01],\n",
       "       [3.80000000e-02, 4.36254788e+00, 4.50869340e+00, 1.93140000e+01],\n",
       "       [6.20000000e-02, 3.79777567e+00, 2.68425543e+00, 2.19470000e+01],\n",
       "       [7.50000000e-02, 4.05055035e+00, 3.55638368e+00, 1.81730000e+01],\n",
       "       [7.70000000e-02, 4.19966653e+00, 4.07497795e+00, 2.73270000e+01],\n",
       "       [1.11000000e-01, 4.19585893e+00, 3.82537671e+00, 1.45070000e+01],\n",
       "       [1.55000000e-01, 4.43933967e+00, 3.00602382e+00, 1.70950000e+01],\n",
       "       [1.81000000e-01, 4.67926359e+00, 4.81588428e+00, 2.91350000e+01]])"
      ]
     },
     "execution_count": 49,
     "metadata": {},
     "output_type": "execute_result"
    }
   ],
   "source": [
    "x[y_clusters == 0]"
   ]
  },
  {
   "cell_type": "code",
   "execution_count": 70,
   "metadata": {},
   "outputs": [
    {
     "data": {
      "image/png": "[encoded data removed]",
      "text/plain": [
       "<Figure size 1440x720 with 1 Axes>"
      ]
     },
     "metadata": {
      "needs_background": "light"
     },
     "output_type": "display_data"
    }
   ],
   "source": [
    "#2D plot\n",
    "\n",
    "plt.figure(figsize = (20,10))\n",
    "plt.scatter(x[y_clusters == 0,1],x[y_clusters == 0,0],s = 50, c = 'green', label = \"1\")\n",
    "plt.scatter(x[y_clusters == 1,1],x[y_clusters == 1,0],s = 50, c = 'blue', label = \"2\")\n",
    "plt.scatter(x[y_clusters == 2,1],x[y_clusters == 2,0],s = 50, c = 'black', label = \"3\")\n",
    "plt.scatter(x[y_clusters == 3,1],x[y_clusters == 3,0],s = 50, c = 'red', label = \"4\")\n",
    "plt.scatter(model.cluster_centers_[:,1],model.cluster_centers_[:,0], s = 100, c = \"yellow\", label = \"centroids\")\n",
    "plt.xlabel(\"Price (£/kWh\")\n",
    "plt.ylabel(\"GDP per cap log($)\")\n",
    "plt.legend()\n",
    "plt.show()"
   ]
  },
  {
   "cell_type": "code",
   "execution_count": 51,
   "metadata": {},
   "outputs": [],
   "source": [
    "# display 3 var results using 3d scatter (renewable share, oil + gas prod, price)\n",
    "#display 4 var results on 2d plot using pca\n",
    "#get avg values for each cluster and find which cluster uk is in, join cluster label to o.g dataframe and groupby to get mean/s.d for each var for each cluster\n",
    "#could impute values to make cluster results better\n",
    "#use regression model to see if UK is outlier for elec price based on input var"
   ]
  }
 ],
 "metadata": {
  "kernelspec": {
   "display_name": "Python 3.9.7 ('base')",
   "language": "python",
   "name": "python3"
  },
  "language_info": {
   "codemirror_mode": {
    "name": "ipython",
    "version": 3
   },
   "file_extension": ".py",
   "mimetype": "text/x-python",
   "name": "python",
   "nbconvert_exporter": "python",
   "pygments_lexer": "ipython3",
   "version": "3.9.7"
  },
  "orig_nbformat": 4,
  "vscode": {
   "interpreter": {
    "hash": "caf831573a0ff294614842876d2763885d6da16fb80bd95fae4076843946dd1d"
   }
  }
 },
 "nbformat": 4,
 "nbformat_minor": 2
}
