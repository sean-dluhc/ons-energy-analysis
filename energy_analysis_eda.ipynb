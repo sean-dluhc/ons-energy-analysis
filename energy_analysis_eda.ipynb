{
 "cells": [
  {
   "cell_type": "code",
   "execution_count": 189,
   "metadata": {},
   "outputs": [
    {
     "name": "stdout",
     "output_type": "stream",
     "text": [
      "d:\\Users\\sean.ogara\\Documents\\ons-energy-analysis\n"
     ]
    }
   ],
   "source": [
    "%cd \"D:\\Users\\sean.ogara\\Documents\\ons-energy-analysis\""
   ]
  },
  {
   "cell_type": "code",
   "execution_count": 190,
   "metadata": {},
   "outputs": [],
   "source": [
    "import pandas as pd\n",
    "import plotly.express as px\n",
    "import matplotlib.pyplot as plt\n",
    "import numpy as np\n",
    "import seaborn as sns\n",
    "import statsmodels.api as sm\n",
    "from sklearn.preprocessing import StandardScaler\n",
    "\n",
    "from src.visualisations.scatter_chart import scatter_chart"
   ]
  },
  {
   "cell_type": "code",
   "execution_count": 191,
   "metadata": {},
   "outputs": [
    {
     "data": {
      "text/html": [
       "<div>\n",
       "<style scoped>\n",
       "    .dataframe tbody tr th:only-of-type {\n",
       "        vertical-align: middle;\n",
       "    }\n",
       "\n",
       "    .dataframe tbody tr th {\n",
       "        vertical-align: top;\n",
       "    }\n",
       "\n",
       "    .dataframe thead th {\n",
       "        text-align: right;\n",
       "    }\n",
       "</style>\n",
       "<table border=\"1\" class=\"dataframe\">\n",
       "  <thead>\n",
       "    <tr style=\"text-align: right;\">\n",
       "      <th></th>\n",
       "      <th>country</th>\n",
       "      <th>iso2</th>\n",
       "      <th>iso3</th>\n",
       "      <th>price</th>\n",
       "    </tr>\n",
       "  </thead>\n",
       "  <tbody>\n",
       "    <tr>\n",
       "      <th>0</th>\n",
       "      <td>Lebanon</td>\n",
       "      <td>LB</td>\n",
       "      <td>LBN</td>\n",
       "      <td>0.001</td>\n",
       "    </tr>\n",
       "    <tr>\n",
       "      <th>1</th>\n",
       "      <td>Iran</td>\n",
       "      <td>IR</td>\n",
       "      <td>IRN</td>\n",
       "      <td>0.002</td>\n",
       "    </tr>\n",
       "    <tr>\n",
       "      <th>2</th>\n",
       "      <td>Syria</td>\n",
       "      <td>SY</td>\n",
       "      <td>SYR</td>\n",
       "      <td>0.004</td>\n",
       "    </tr>\n",
       "    <tr>\n",
       "      <th>3</th>\n",
       "      <td>Ethiopia</td>\n",
       "      <td>ET</td>\n",
       "      <td>ETH</td>\n",
       "      <td>0.005</td>\n",
       "    </tr>\n",
       "    <tr>\n",
       "      <th>4</th>\n",
       "      <td>Sudan</td>\n",
       "      <td>SD</td>\n",
       "      <td>SDN</td>\n",
       "      <td>0.007</td>\n",
       "    </tr>\n",
       "  </tbody>\n",
       "</table>\n",
       "</div>"
      ],
      "text/plain": [
       "    country iso2 iso3  price\n",
       "0   Lebanon   LB  LBN  0.001\n",
       "1      Iran   IR  IRN  0.002\n",
       "2     Syria   SY  SYR  0.004\n",
       "3  Ethiopia   ET  ETH  0.005\n",
       "4     Sudan   SD  SDN  0.007"
      ]
     },
     "execution_count": 191,
     "metadata": {},
     "output_type": "execute_result"
    }
   ],
   "source": [
    "electricity_price_data = pd.read_csv(\"data/processed/global_electricity_household_prices.csv\")\n",
    "electricity_price_data.head()"
   ]
  },
  {
   "cell_type": "code",
   "execution_count": 192,
   "metadata": {},
   "outputs": [
    {
     "data": {
      "image/png": "[encoded data removed]",
      "text/plain": [
       "<Figure size 432x288 with 1 Axes>"
      ]
     },
     "metadata": {
      "needs_background": "light"
     },
     "output_type": "display_data"
    }
   ],
   "source": [
    "#distribution of prices\n",
    "num_bins = 10\n",
    "n, bins, patches = plt.hist(electricity_price_data['price'], num_bins,\n",
    "                            density = 1,\n",
    "                            color ='green',\n",
    "                            alpha = 0.7)\n",
    "\n",
    "plt.xlabel('Price (£/kWh)')\n",
    "plt.ylabel('Count')\n",
    "plt.title('International Electricty Prices December 2022',\n",
    "          fontweight = 'bold')\n",
    "plt.show()"
   ]
  },
  {
   "cell_type": "code",
   "execution_count": 193,
   "metadata": {},
   "outputs": [
    {
     "data": {
      "text/plain": [
       "0.13707586206896552"
      ]
     },
     "execution_count": 193,
     "metadata": {},
     "output_type": "execute_result"
    }
   ],
   "source": [
    "#global mean price\n",
    "global_mean_price = electricity_price_data['price'].mean()\n",
    "global_mean_price"
   ]
  },
  {
   "cell_type": "code",
   "execution_count": 194,
   "metadata": {},
   "outputs": [
    {
     "data": {
      "text/plain": [
       "0.387"
      ]
     },
     "execution_count": 194,
     "metadata": {},
     "output_type": "execute_result"
    }
   ],
   "source": [
    "#uk price\n",
    "uk_price = electricity_price_data[electricity_price_data['iso2'] == 'GB']['price'].values[0]\n",
    "uk_price"
   ]
  },
  {
   "cell_type": "code",
   "execution_count": 195,
   "metadata": {},
   "outputs": [
    {
     "data": {
      "text/plain": [
       "2.823254175890521"
      ]
     },
     "execution_count": 195,
     "metadata": {},
     "output_type": "execute_result"
    }
   ],
   "source": [
    "#ratio between uk and global mean\n",
    "uk_price / global_mean_price"
   ]
  },
  {
   "cell_type": "code",
   "execution_count": 196,
   "metadata": {},
   "outputs": [
    {
     "data": {
      "text/html": [
       "<div>\n",
       "<style scoped>\n",
       "    .dataframe tbody tr th:only-of-type {\n",
       "        vertical-align: middle;\n",
       "    }\n",
       "\n",
       "    .dataframe tbody tr th {\n",
       "        vertical-align: top;\n",
       "    }\n",
       "\n",
       "    .dataframe thead th {\n",
       "        text-align: right;\n",
       "    }\n",
       "</style>\n",
       "<table border=\"1\" class=\"dataframe\">\n",
       "  <thead>\n",
       "    <tr style=\"text-align: right;\">\n",
       "      <th></th>\n",
       "      <th>country</th>\n",
       "      <th>year</th>\n",
       "      <th>iso_code</th>\n",
       "      <th>population</th>\n",
       "      <th>gdp</th>\n",
       "      <th>biofuel_cons_change_pct</th>\n",
       "      <th>biofuel_cons_change_twh</th>\n",
       "      <th>biofuel_cons_per_capita</th>\n",
       "      <th>biofuel_consumption</th>\n",
       "      <th>biofuel_elec_per_capita</th>\n",
       "      <th>...</th>\n",
       "      <th>solar_share_elec</th>\n",
       "      <th>solar_share_energy</th>\n",
       "      <th>wind_cons_change_pct</th>\n",
       "      <th>wind_cons_change_twh</th>\n",
       "      <th>wind_consumption</th>\n",
       "      <th>wind_elec_per_capita</th>\n",
       "      <th>wind_electricity</th>\n",
       "      <th>wind_energy_per_capita</th>\n",
       "      <th>wind_share_elec</th>\n",
       "      <th>wind_share_energy</th>\n",
       "    </tr>\n",
       "  </thead>\n",
       "  <tbody>\n",
       "    <tr>\n",
       "      <th>22007</th>\n",
       "      <td>Zimbabwe</td>\n",
       "      <td>2018</td>\n",
       "      <td>ZWE</td>\n",
       "      <td>15052191.0</td>\n",
       "      <td>2.271535e+10</td>\n",
       "      <td>NaN</td>\n",
       "      <td>NaN</td>\n",
       "      <td>NaN</td>\n",
       "      <td>NaN</td>\n",
       "      <td>25.910</td>\n",
       "      <td>...</td>\n",
       "      <td>0.218</td>\n",
       "      <td>NaN</td>\n",
       "      <td>NaN</td>\n",
       "      <td>NaN</td>\n",
       "      <td>NaN</td>\n",
       "      <td>0.0</td>\n",
       "      <td>0.0</td>\n",
       "      <td>NaN</td>\n",
       "      <td>0.0</td>\n",
       "      <td>NaN</td>\n",
       "    </tr>\n",
       "    <tr>\n",
       "      <th>22008</th>\n",
       "      <td>Zimbabwe</td>\n",
       "      <td>2019</td>\n",
       "      <td>ZWE</td>\n",
       "      <td>15354606.0</td>\n",
       "      <td>NaN</td>\n",
       "      <td>NaN</td>\n",
       "      <td>NaN</td>\n",
       "      <td>NaN</td>\n",
       "      <td>NaN</td>\n",
       "      <td>24.748</td>\n",
       "      <td>...</td>\n",
       "      <td>0.364</td>\n",
       "      <td>NaN</td>\n",
       "      <td>NaN</td>\n",
       "      <td>NaN</td>\n",
       "      <td>NaN</td>\n",
       "      <td>0.0</td>\n",
       "      <td>0.0</td>\n",
       "      <td>NaN</td>\n",
       "      <td>0.0</td>\n",
       "      <td>NaN</td>\n",
       "    </tr>\n",
       "    <tr>\n",
       "      <th>22009</th>\n",
       "      <td>Zimbabwe</td>\n",
       "      <td>2020</td>\n",
       "      <td>ZWE</td>\n",
       "      <td>15669663.0</td>\n",
       "      <td>NaN</td>\n",
       "      <td>NaN</td>\n",
       "      <td>NaN</td>\n",
       "      <td>NaN</td>\n",
       "      <td>NaN</td>\n",
       "      <td>22.336</td>\n",
       "      <td>...</td>\n",
       "      <td>0.395</td>\n",
       "      <td>NaN</td>\n",
       "      <td>NaN</td>\n",
       "      <td>NaN</td>\n",
       "      <td>NaN</td>\n",
       "      <td>0.0</td>\n",
       "      <td>0.0</td>\n",
       "      <td>NaN</td>\n",
       "      <td>0.0</td>\n",
       "      <td>NaN</td>\n",
       "    </tr>\n",
       "    <tr>\n",
       "      <th>22010</th>\n",
       "      <td>Zimbabwe</td>\n",
       "      <td>2021</td>\n",
       "      <td>ZWE</td>\n",
       "      <td>15993525.0</td>\n",
       "      <td>NaN</td>\n",
       "      <td>NaN</td>\n",
       "      <td>NaN</td>\n",
       "      <td>NaN</td>\n",
       "      <td>NaN</td>\n",
       "      <td>23.760</td>\n",
       "      <td>...</td>\n",
       "      <td>0.498</td>\n",
       "      <td>NaN</td>\n",
       "      <td>NaN</td>\n",
       "      <td>NaN</td>\n",
       "      <td>NaN</td>\n",
       "      <td>0.0</td>\n",
       "      <td>0.0</td>\n",
       "      <td>NaN</td>\n",
       "      <td>0.0</td>\n",
       "      <td>NaN</td>\n",
       "    </tr>\n",
       "    <tr>\n",
       "      <th>22011</th>\n",
       "      <td>Zimbabwe</td>\n",
       "      <td>2022</td>\n",
       "      <td>ZWE</td>\n",
       "      <td>16320539.0</td>\n",
       "      <td>NaN</td>\n",
       "      <td>NaN</td>\n",
       "      <td>NaN</td>\n",
       "      <td>NaN</td>\n",
       "      <td>NaN</td>\n",
       "      <td>NaN</td>\n",
       "      <td>...</td>\n",
       "      <td>NaN</td>\n",
       "      <td>NaN</td>\n",
       "      <td>NaN</td>\n",
       "      <td>NaN</td>\n",
       "      <td>NaN</td>\n",
       "      <td>NaN</td>\n",
       "      <td>NaN</td>\n",
       "      <td>NaN</td>\n",
       "      <td>NaN</td>\n",
       "      <td>NaN</td>\n",
       "    </tr>\n",
       "  </tbody>\n",
       "</table>\n",
       "<p>5 rows × 129 columns</p>\n",
       "</div>"
      ],
      "text/plain": [
       "        country  year iso_code  population           gdp  \\\n",
       "22007  Zimbabwe  2018      ZWE  15052191.0  2.271535e+10   \n",
       "22008  Zimbabwe  2019      ZWE  15354606.0           NaN   \n",
       "22009  Zimbabwe  2020      ZWE  15669663.0           NaN   \n",
       "22010  Zimbabwe  2021      ZWE  15993525.0           NaN   \n",
       "22011  Zimbabwe  2022      ZWE  16320539.0           NaN   \n",
       "\n",
       "       biofuel_cons_change_pct  biofuel_cons_change_twh  \\\n",
       "22007                      NaN                      NaN   \n",
       "22008                      NaN                      NaN   \n",
       "22009                      NaN                      NaN   \n",
       "22010                      NaN                      NaN   \n",
       "22011                      NaN                      NaN   \n",
       "\n",
       "       biofuel_cons_per_capita  biofuel_consumption  biofuel_elec_per_capita  \\\n",
       "22007                      NaN                  NaN                   25.910   \n",
       "22008                      NaN                  NaN                   24.748   \n",
       "22009                      NaN                  NaN                   22.336   \n",
       "22010                      NaN                  NaN                   23.760   \n",
       "22011                      NaN                  NaN                      NaN   \n",
       "\n",
       "       ...  solar_share_elec  solar_share_energy  wind_cons_change_pct  \\\n",
       "22007  ...             0.218                 NaN                   NaN   \n",
       "22008  ...             0.364                 NaN                   NaN   \n",
       "22009  ...             0.395                 NaN                   NaN   \n",
       "22010  ...             0.498                 NaN                   NaN   \n",
       "22011  ...               NaN                 NaN                   NaN   \n",
       "\n",
       "       wind_cons_change_twh  wind_consumption  wind_elec_per_capita  \\\n",
       "22007                   NaN               NaN                   0.0   \n",
       "22008                   NaN               NaN                   0.0   \n",
       "22009                   NaN               NaN                   0.0   \n",
       "22010                   NaN               NaN                   0.0   \n",
       "22011                   NaN               NaN                   NaN   \n",
       "\n",
       "       wind_electricity  wind_energy_per_capita  wind_share_elec  \\\n",
       "22007               0.0                     NaN              0.0   \n",
       "22008               0.0                     NaN              0.0   \n",
       "22009               0.0                     NaN              0.0   \n",
       "22010               0.0                     NaN              0.0   \n",
       "22011               NaN                     NaN              NaN   \n",
       "\n",
       "       wind_share_energy  \n",
       "22007                NaN  \n",
       "22008                NaN  \n",
       "22009                NaN  \n",
       "22010                NaN  \n",
       "22011                NaN  \n",
       "\n",
       "[5 rows x 129 columns]"
      ]
     },
     "execution_count": 196,
     "metadata": {},
     "output_type": "execute_result"
    }
   ],
   "source": [
    "#bring in energy mix data\n",
    "energy_mix_data = pd.read_csv(\"data/raw/owid-energy-data.csv\")\n",
    "energy_mix_data.tail()"
   ]
  },
  {
   "cell_type": "code",
   "execution_count": 197,
   "metadata": {},
   "outputs": [
    {
     "data": {
      "text/html": [
       "<div>\n",
       "<style scoped>\n",
       "    .dataframe tbody tr th:only-of-type {\n",
       "        vertical-align: middle;\n",
       "    }\n",
       "\n",
       "    .dataframe tbody tr th {\n",
       "        vertical-align: top;\n",
       "    }\n",
       "\n",
       "    .dataframe thead th {\n",
       "        text-align: right;\n",
       "    }\n",
       "</style>\n",
       "<table border=\"1\" class=\"dataframe\">\n",
       "  <thead>\n",
       "    <tr style=\"text-align: right;\">\n",
       "      <th></th>\n",
       "      <th>country</th>\n",
       "      <th>year</th>\n",
       "      <th>iso_code</th>\n",
       "      <th>population</th>\n",
       "      <th>gdp</th>\n",
       "      <th>biofuel_cons_change_pct</th>\n",
       "      <th>biofuel_cons_change_twh</th>\n",
       "      <th>biofuel_cons_per_capita</th>\n",
       "      <th>biofuel_consumption</th>\n",
       "      <th>biofuel_elec_per_capita</th>\n",
       "      <th>...</th>\n",
       "      <th>solar_share_elec</th>\n",
       "      <th>solar_share_energy</th>\n",
       "      <th>wind_cons_change_pct</th>\n",
       "      <th>wind_cons_change_twh</th>\n",
       "      <th>wind_consumption</th>\n",
       "      <th>wind_elec_per_capita</th>\n",
       "      <th>wind_electricity</th>\n",
       "      <th>wind_energy_per_capita</th>\n",
       "      <th>wind_share_elec</th>\n",
       "      <th>wind_share_energy</th>\n",
       "    </tr>\n",
       "  </thead>\n",
       "  <tbody>\n",
       "    <tr>\n",
       "      <th>21</th>\n",
       "      <td>ASEAN (Ember)</td>\n",
       "      <td>2021</td>\n",
       "      <td>NaN</td>\n",
       "      <td>NaN</td>\n",
       "      <td>NaN</td>\n",
       "      <td>NaN</td>\n",
       "      <td>NaN</td>\n",
       "      <td>NaN</td>\n",
       "      <td>NaN</td>\n",
       "      <td>NaN</td>\n",
       "      <td>...</td>\n",
       "      <td>2.983</td>\n",
       "      <td>NaN</td>\n",
       "      <td>NaN</td>\n",
       "      <td>NaN</td>\n",
       "      <td>NaN</td>\n",
       "      <td>NaN</td>\n",
       "      <td>8.30</td>\n",
       "      <td>NaN</td>\n",
       "      <td>0.719</td>\n",
       "      <td>NaN</td>\n",
       "    </tr>\n",
       "    <tr>\n",
       "      <th>144</th>\n",
       "      <td>Afghanistan</td>\n",
       "      <td>2021</td>\n",
       "      <td>AFG</td>\n",
       "      <td>4.009946e+07</td>\n",
       "      <td>NaN</td>\n",
       "      <td>NaN</td>\n",
       "      <td>NaN</td>\n",
       "      <td>NaN</td>\n",
       "      <td>NaN</td>\n",
       "      <td>0.000</td>\n",
       "      <td>...</td>\n",
       "      <td>9.639</td>\n",
       "      <td>NaN</td>\n",
       "      <td>NaN</td>\n",
       "      <td>NaN</td>\n",
       "      <td>NaN</td>\n",
       "      <td>0.000</td>\n",
       "      <td>0.00</td>\n",
       "      <td>NaN</td>\n",
       "      <td>0.000</td>\n",
       "      <td>NaN</td>\n",
       "    </tr>\n",
       "    <tr>\n",
       "      <th>266</th>\n",
       "      <td>Africa</td>\n",
       "      <td>2021</td>\n",
       "      <td>NaN</td>\n",
       "      <td>1.393677e+09</td>\n",
       "      <td>NaN</td>\n",
       "      <td>27.27</td>\n",
       "      <td>0.238</td>\n",
       "      <td>0.796</td>\n",
       "      <td>1.11</td>\n",
       "      <td>2.705</td>\n",
       "      <td>...</td>\n",
       "      <td>2.040</td>\n",
       "      <td>0.835</td>\n",
       "      <td>19.233</td>\n",
       "      <td>9.431</td>\n",
       "      <td>59.609</td>\n",
       "      <td>14.989</td>\n",
       "      <td>20.89</td>\n",
       "      <td>42.771</td>\n",
       "      <td>2.489</td>\n",
       "      <td>1.062</td>\n",
       "    </tr>\n",
       "    <tr>\n",
       "      <th>324</th>\n",
       "      <td>Africa (EI)</td>\n",
       "      <td>2021</td>\n",
       "      <td>NaN</td>\n",
       "      <td>NaN</td>\n",
       "      <td>NaN</td>\n",
       "      <td>27.27</td>\n",
       "      <td>0.238</td>\n",
       "      <td>NaN</td>\n",
       "      <td>1.11</td>\n",
       "      <td>NaN</td>\n",
       "      <td>...</td>\n",
       "      <td>1.996</td>\n",
       "      <td>0.835</td>\n",
       "      <td>19.233</td>\n",
       "      <td>9.432</td>\n",
       "      <td>59.609</td>\n",
       "      <td>NaN</td>\n",
       "      <td>22.78</td>\n",
       "      <td>NaN</td>\n",
       "      <td>2.540</td>\n",
       "      <td>1.062</td>\n",
       "    </tr>\n",
       "    <tr>\n",
       "      <th>347</th>\n",
       "      <td>Africa (Ember)</td>\n",
       "      <td>2021</td>\n",
       "      <td>NaN</td>\n",
       "      <td>NaN</td>\n",
       "      <td>NaN</td>\n",
       "      <td>NaN</td>\n",
       "      <td>NaN</td>\n",
       "      <td>NaN</td>\n",
       "      <td>NaN</td>\n",
       "      <td>NaN</td>\n",
       "      <td>...</td>\n",
       "      <td>2.040</td>\n",
       "      <td>NaN</td>\n",
       "      <td>NaN</td>\n",
       "      <td>NaN</td>\n",
       "      <td>NaN</td>\n",
       "      <td>NaN</td>\n",
       "      <td>20.89</td>\n",
       "      <td>NaN</td>\n",
       "      <td>2.489</td>\n",
       "      <td>NaN</td>\n",
       "    </tr>\n",
       "  </tbody>\n",
       "</table>\n",
       "<p>5 rows × 129 columns</p>\n",
       "</div>"
      ],
      "text/plain": [
       "            country  year iso_code    population  gdp  \\\n",
       "21    ASEAN (Ember)  2021      NaN           NaN  NaN   \n",
       "144     Afghanistan  2021      AFG  4.009946e+07  NaN   \n",
       "266          Africa  2021      NaN  1.393677e+09  NaN   \n",
       "324     Africa (EI)  2021      NaN           NaN  NaN   \n",
       "347  Africa (Ember)  2021      NaN           NaN  NaN   \n",
       "\n",
       "     biofuel_cons_change_pct  biofuel_cons_change_twh  \\\n",
       "21                       NaN                      NaN   \n",
       "144                      NaN                      NaN   \n",
       "266                    27.27                    0.238   \n",
       "324                    27.27                    0.238   \n",
       "347                      NaN                      NaN   \n",
       "\n",
       "     biofuel_cons_per_capita  biofuel_consumption  biofuel_elec_per_capita  \\\n",
       "21                       NaN                  NaN                      NaN   \n",
       "144                      NaN                  NaN                    0.000   \n",
       "266                    0.796                 1.11                    2.705   \n",
       "324                      NaN                 1.11                      NaN   \n",
       "347                      NaN                  NaN                      NaN   \n",
       "\n",
       "     ...  solar_share_elec  solar_share_energy  wind_cons_change_pct  \\\n",
       "21   ...             2.983                 NaN                   NaN   \n",
       "144  ...             9.639                 NaN                   NaN   \n",
       "266  ...             2.040               0.835                19.233   \n",
       "324  ...             1.996               0.835                19.233   \n",
       "347  ...             2.040                 NaN                   NaN   \n",
       "\n",
       "     wind_cons_change_twh  wind_consumption  wind_elec_per_capita  \\\n",
       "21                    NaN               NaN                   NaN   \n",
       "144                   NaN               NaN                 0.000   \n",
       "266                 9.431            59.609                14.989   \n",
       "324                 9.432            59.609                   NaN   \n",
       "347                   NaN               NaN                   NaN   \n",
       "\n",
       "     wind_electricity  wind_energy_per_capita  wind_share_elec  \\\n",
       "21               8.30                     NaN            0.719   \n",
       "144              0.00                     NaN            0.000   \n",
       "266             20.89                  42.771            2.489   \n",
       "324             22.78                     NaN            2.540   \n",
       "347             20.89                     NaN            2.489   \n",
       "\n",
       "     wind_share_energy  \n",
       "21                 NaN  \n",
       "144                NaN  \n",
       "266              1.062  \n",
       "324              1.062  \n",
       "347                NaN  \n",
       "\n",
       "[5 rows x 129 columns]"
      ]
     },
     "execution_count": 197,
     "metadata": {},
     "output_type": "execute_result"
    }
   ],
   "source": [
    "#filter for 2021 as this is the most recent complete data\n",
    "energy_mix_2021 = energy_mix_data.loc[energy_mix_data['year'] == 2021, :]\n",
    "energy_mix_2021.head()"
   ]
  },
  {
   "cell_type": "code",
   "execution_count": 198,
   "metadata": {},
   "outputs": [],
   "source": [
    "#fileter for columns of interest\n",
    "cols_of_interest = [\n",
    "                    'country', \n",
    "                    'year',\n",
    "                    'iso_code',\n",
    "                    'population',\n",
    "                    'energy_per_capita',\n",
    "                    'fossil_elec_per_capita',\n",
    "                    'low_carbon_energy_per_capita',\n",
    "                    'low_carbon_share_energy',\n",
    "                    'gas_prod_per_capita',\n",
    "                    'oil_prod_per_capita',\n",
    "                    'gas_production',\n",
    "                    'oil_production'\n",
    "                    ]           \n",
    "energy_mix_2021 = energy_mix_2021[cols_of_interest]"
   ]
  },
  {
   "cell_type": "code",
   "execution_count": 199,
   "metadata": {},
   "outputs": [
    {
     "data": {
      "text/plain": [
       "<AxesSubplot:>"
      ]
     },
     "execution_count": 199,
     "metadata": {},
     "output_type": "execute_result"
    },
    {
     "data": {
      "image/png": "[encoded data removed]",
      "text/plain": [
       "<Figure size 432x288 with 1 Axes>"
      ]
     },
     "metadata": {
      "needs_background": "light"
     },
     "output_type": "display_data"
    }
   ],
   "source": [
    "energy_mix_2021['energy_per_capita'].hist()"
   ]
  },
  {
   "cell_type": "code",
   "execution_count": 200,
   "metadata": {},
   "outputs": [
    {
     "data": {
      "text/plain": [
       "<AxesSubplot:>"
      ]
     },
     "execution_count": 200,
     "metadata": {},
     "output_type": "execute_result"
    },
    {
     "data": {
      "image/png": "[encoded data removed]",
      "text/plain": [
       "<Figure size 432x288 with 1 Axes>"
      ]
     },
     "metadata": {
      "needs_background": "light"
     },
     "output_type": "display_data"
    }
   ],
   "source": [
    "energy_mix_2021['energy_per_capita_log'] = np.log10(energy_mix_2021[energy_mix_2021['energy_per_capita'] != 0]['energy_per_capita'])\n",
    "energy_mix_2021['energy_per_capita_log'].hist()\n"
   ]
  },
  {
   "cell_type": "code",
   "execution_count": 201,
   "metadata": {},
   "outputs": [
    {
     "data": {
      "text/plain": [
       "<AxesSubplot:>"
      ]
     },
     "execution_count": 201,
     "metadata": {},
     "output_type": "execute_result"
    },
    {
     "data": {
      "image/png": "[encoded data removed]",
      "text/plain": [
       "<Figure size 432x288 with 1 Axes>"
      ]
     },
     "metadata": {
      "needs_background": "light"
     },
     "output_type": "display_data"
    }
   ],
   "source": [
    "energy_mix_2021['gas_prod_per_capita'].hist()"
   ]
  },
  {
   "cell_type": "code",
   "execution_count": 202,
   "metadata": {},
   "outputs": [
    {
     "data": {
      "text/plain": [
       "<AxesSubplot:>"
      ]
     },
     "execution_count": 202,
     "metadata": {},
     "output_type": "execute_result"
    },
    {
     "data": {
      "image/png": "[encoded data removed]",
      "text/plain": [
       "<Figure size 432x288 with 1 Axes>"
      ]
     },
     "metadata": {
      "needs_background": "light"
     },
     "output_type": "display_data"
    }
   ],
   "source": [
    "energy_mix_2021['oil_prod_per_capita'].hist()"
   ]
  },
  {
   "cell_type": "code",
   "execution_count": 203,
   "metadata": {},
   "outputs": [
    {
     "data": {
      "text/plain": [
       "<AxesSubplot:>"
      ]
     },
     "execution_count": 203,
     "metadata": {},
     "output_type": "execute_result"
    },
    {
     "data": {
      "image/png": "[encoded data removed]",
      "text/plain": [
       "<Figure size 432x288 with 1 Axes>"
      ]
     },
     "metadata": {
      "needs_background": "light"
     },
     "output_type": "display_data"
    }
   ],
   "source": [
    "#combine oil and gas energy production per cap for total and log to make normally distributed\n",
    "energy_mix_2021['oil_and_gas_prod_per_capita'] = energy_mix_2021['oil_prod_per_capita'] + energy_mix_2021['gas_prod_per_capita']\n",
    "energy_mix_2021['oil_and_gas_prod_per_capita_log'] = np.log10(energy_mix_2021['oil_prod_per_capita'] + energy_mix_2021['gas_prod_per_capita'])\n",
    "energy_mix_2021['oil_and_gas_prod_per_capita_log'].hist()"
   ]
  },
  {
   "cell_type": "code",
   "execution_count": 204,
   "metadata": {},
   "outputs": [
    {
     "data": {
      "text/plain": [
       "<AxesSubplot:>"
      ]
     },
     "execution_count": 204,
     "metadata": {},
     "output_type": "execute_result"
    },
    {
     "data": {
      "image/png": "[encoded data removed]",
      "text/plain": [
       "<Figure size 432x288 with 1 Axes>"
      ]
     },
     "metadata": {
      "needs_background": "light"
     },
     "output_type": "display_data"
    }
   ],
   "source": [
    "energy_mix_2021['low_carbon_energy_per_capita'].hist()"
   ]
  },
  {
   "cell_type": "code",
   "execution_count": 205,
   "metadata": {},
   "outputs": [
    {
     "data": {
      "text/plain": [
       "<AxesSubplot:>"
      ]
     },
     "execution_count": 205,
     "metadata": {},
     "output_type": "execute_result"
    },
    {
     "data": {
      "image/png": "[encoded data removed]",
      "text/plain": [
       "<Figure size 432x288 with 1 Axes>"
      ]
     },
     "metadata": {
      "needs_background": "light"
     },
     "output_type": "display_data"
    }
   ],
   "source": [
    "energy_mix_2021['low_carbon_energy_per_capita_log'] = np.log10(energy_mix_2021['low_carbon_energy_per_capita'])\n",
    "energy_mix_2021['low_carbon_energy_per_capita_log'].hist()"
   ]
  },
  {
   "cell_type": "code",
   "execution_count": 206,
   "metadata": {},
   "outputs": [],
   "source": [
    "#join on 2018 gdp data\n",
    "joined_energy_data = pd.merge(left=energy_mix_data.loc[energy_mix_data['year'] == 2018, :][['iso_code', 'gdp']], right=energy_mix_2021, on='iso_code')\n",
    "joined_energy_data['gdp_per_cap'] = joined_energy_data['gdp'] / joined_energy_data['population']\n",
    "joined_energy_data['gdp_per_cap_log'] = np.log10(joined_energy_data['gdp'] / joined_energy_data['population'])\n"
   ]
  },
  {
   "cell_type": "code",
   "execution_count": 207,
   "metadata": {},
   "outputs": [],
   "source": [
    "#join with price data\n",
    "joined_energy_data = pd.merge(left=electricity_price_data[['iso3', 'price']], right=joined_energy_data, left_on='iso3', right_on='iso_code')"
   ]
  },
  {
   "cell_type": "code",
   "execution_count": 208,
   "metadata": {},
   "outputs": [
    {
     "data": {
      "application/vnd.plotly.v1+json": {
       "config": {
        "plotlyServerURL": "https://plot.ly"
       },
       "data": [
        {
         "customdata": [
          [
           "Lebanon"
          ],
          [
           "Iran"
          ],
          [
           "Syria"
          ],
          [
           "Ethiopia"
          ],
          [
           "Sudan"
          ],
          [
           "Kyrgyzstan"
          ],
          [
           "Libya"
          ],
          [
           "Angola"
          ],
          [
           "Zimbabwe"
          ],
          [
           "Iraq"
          ],
          [
           "Bhutan"
          ],
          [
           "Suriname"
          ],
          [
           "Uzbekistan"
          ],
          [
           "Argentina"
          ],
          [
           "Oman"
          ],
          [
           "Egypt"
          ],
          [
           "Zambia"
          ],
          [
           "Kuwait"
          ],
          [
           "Myanmar"
          ],
          [
           "Laos"
          ],
          [
           "Cuba"
          ],
          [
           "Nigeria"
          ],
          [
           "Qatar"
          ],
          [
           "Uganda"
          ],
          [
           "Algeria"
          ],
          [
           "Nepal"
          ],
          [
           "Venezuela"
          ],
          [
           "Kazakhstan"
          ],
          [
           "Azerbaijan"
          ],
          [
           "Malaysia"
          ],
          [
           "Bahrain"
          ],
          [
           "Saudi Arabia"
          ],
          [
           "Pakistan"
          ],
          [
           "Bangladesh"
          ],
          [
           "Russia"
          ],
          [
           "Afghanistan"
          ],
          [
           "Trinidad and Tobago"
          ],
          [
           "Paraguay"
          ],
          [
           "Democratic Republic of Congo"
          ],
          [
           "Tunisia"
          ],
          [
           "Ghana"
          ],
          [
           "China"
          ],
          [
           "Georgia"
          ],
          [
           "Vietnam"
          ],
          [
           "India"
          ],
          [
           "Ukraine"
          ],
          [
           "Cameroon"
          ],
          [
           "Turkey"
          ],
          [
           "Lesotho"
          ],
          [
           "Taiwan"
          ],
          [
           "Sri Lanka"
          ],
          [
           "Jordan"
          ],
          [
           "Belarus"
          ],
          [
           "Tanzania"
          ],
          [
           "Botswana"
          ],
          [
           "Eswatini"
          ],
          [
           "Indonesia"
          ],
          [
           "Ecuador"
          ],
          [
           "Mexico"
          ],
          [
           "Bosnia and Herzegovina"
          ],
          [
           "Maldives"
          ],
          [
           "Serbia"
          ],
          [
           "Armenia"
          ],
          [
           "Malawi"
          ],
          [
           "Hungary"
          ],
          [
           "South Korea"
          ],
          [
           "Albania"
          ],
          [
           "Namibia"
          ],
          [
           "Morocco"
          ],
          [
           "Cote d'Ivoire"
          ],
          [
           "Canada"
          ],
          [
           "Mozambique"
          ],
          [
           "Madagascar"
          ],
          [
           "Mauritius"
          ],
          [
           "Bulgaria"
          ],
          [
           "Thailand"
          ],
          [
           "Malta"
          ],
          [
           "South Africa"
          ],
          [
           "Cambodia"
          ],
          [
           "Costa Rica"
          ],
          [
           "Iceland"
          ],
          [
           "Sierra Leone"
          ],
          [
           "Macao"
          ],
          [
           "Israel"
          ],
          [
           "Brazil"
          ],
          [
           "Senegal"
          ],
          [
           "Chile"
          ],
          [
           "Panama"
          ],
          [
           "Romania"
          ],
          [
           "Kenya"
          ],
          [
           "Philippines"
          ],
          [
           "United States"
          ],
          [
           "Nicaragua"
          ],
          [
           "United Arab Emirates"
          ],
          [
           "New Zealand"
          ],
          [
           "Norway"
          ],
          [
           "Hong Kong"
          ],
          [
           "Colombia"
          ],
          [
           "Togo"
          ],
          [
           "Poland"
          ],
          [
           "Gabon"
          ],
          [
           "Burkina Faso"
          ],
          [
           "Mali"
          ],
          [
           "France"
          ],
          [
           "Belize"
          ],
          [
           "Rwanda"
          ],
          [
           "Slovakia"
          ],
          [
           "Aruba"
          ],
          [
           "Australia"
          ],
          [
           "Slovenia"
          ],
          [
           "Singapore"
          ],
          [
           "Japan"
          ],
          [
           "El Salvador"
          ],
          [
           "Peru"
          ],
          [
           "Uruguay"
          ],
          [
           "Honduras"
          ],
          [
           "Moldova"
          ],
          [
           "Barbados"
          ],
          [
           "Greece"
          ],
          [
           "Portugal"
          ],
          [
           "Guatemala"
          ],
          [
           "Spain"
          ],
          [
           "Bahamas"
          ],
          [
           "Cape Verde"
          ],
          [
           "Jamaica"
          ],
          [
           "Luxembourg"
          ],
          [
           "Switzerland"
          ],
          [
           "Cyprus"
          ],
          [
           "Finland"
          ],
          [
           "Sweden"
          ],
          [
           "Bermuda"
          ],
          [
           "Latvia"
          ],
          [
           "Czechia"
          ],
          [
           "Estonia"
          ],
          [
           "Cayman Islands"
          ],
          [
           "United Kingdom"
          ],
          [
           "Netherlands"
          ],
          [
           "Lithuania"
          ],
          [
           "Ireland"
          ],
          [
           "Germany"
          ],
          [
           "Denmark"
          ],
          [
           "Belgium"
          ],
          [
           "Austria"
          ],
          [
           "Italy"
          ]
         ],
         "hovertemplate": "gdp=%{x}<br>Price (£/kWh)=%{y}<br>country=%{customdata[0]}<extra></extra>",
         "legendgroup": "",
         "marker": {
          "color": "#80b1d3",
          "symbol": "circle"
         },
         "mode": "markers",
         "name": "",
         "orientation": "v",
         "showlegend": false,
         "type": "scatter",
         "x": [
          4.238260452814697,
          4.201711823217592,
          3.424788229422818,
          3.2114759553732037,
          null,
          3.6565455867362404,
          4.1734473511607515,
          3.707472223856793,
          3.1523752983515343,
          4.071794329905868,
          null,
          null,
          3.99495039220223,
          4.2628744320222705,
          4.581248029239132,
          4.048541833275761,
          3.4957418014653014,
          4.814263117106964,
          3.771112316934065,
          3.7983098441659293,
          3.914982697776612,
          3.6964388231834326,
          5.17329660632835,
          3.2760628748563763,
          4.125879999113361,
          3.4311386885544035,
          4.040291601182104,
          4.383035009565215,
          4.191890696236162,
          4.362547876262618,
          4.63096863877512,
          4.668917064754443,
          3.7191677462267125,
          3.6078531156575275,
          4.396241648076457,
          3.2267758495464194,
          4.35683543033487,
          3.995145596491146,
          2.9312074896147275,
          4.026423134547817,
          3.5587754348060074,
          4.104828305769413,
          4.195785186360685,
          3.831660072742587,
          3.7977756672186023,
          3.995996630225981,
          3.4472268661193466,
          4.290786307105245,
          3.370983236013164,
          4.640094639421117,
          4.0659775169586725,
          3.973543337102529,
          4.270198047406638,
          3.406278317276078,
          4.141385191508425,
          3.8667110378671796,
          4.050550353949476,
          3.9939734185750897,
          4.199666529897796,
          4.101132578814744,
          null,
          4.136747902940822,
          4.076643457217363,
          3.0549919815590356,
          4.411470699093969,
          4.577317300794251,
          4.0760333033594405,
          3.960380845197199,
          3.9079926779858187,
          3.57208067668995,
          4.6410092160081255,
          2.9628901359309947,
          3.103129760903462,
          4.3253500852289815,
          4.283218640620047,
          4.195858926603319,
          4.4716972226735505,
          4.054460839927546,
          3.5550013213419147,
          4.153182107742017,
          4.6165261089713425,
          3.101139679727393,
          null,
          4.495909690698676,
          4.141008190525521,
          3.404211851715219,
          4.325892266918761,
          4.29606347856988,
          4.300653837325472,
          3.5149923730160375,
          3.9037572138760477,
          4.731025894954344,
          3.643373089041826,
          4.894717232025993,
          4.522936109336441,
          4.919937457756246,
          4.697755616616062,
          4.1022344927669225,
          3.1375837412750314,
          4.439339672409569,
          4.1951505929404656,
          3.1513469426167715,
          3.0991309666724964,
          4.6021299577885255,
          null,
          3.2324124762067954,
          4.42950165111307,
          null,
          4.67926359027254,
          4.4551090217936755,
          4.8390678134838065,
          4.591700584870545,
          3.938118515140877,
          4.059113675882414,
          4.301254367171658,
          3.6449675382705733,
          3.8814094581067353,
          4.097047261511857,
          4.379078531933713,
          4.429029415103151,
          3.8599584300827106,
          4.4972820858513645,
          null,
          3.8198014092720287,
          3.837080938217745,
          4.738529758920488,
          4.786797889255152,
          4.349003227581696,
          4.588304969629612,
          4.64613684379001,
          null,
          4.3980728252387005,
          4.491717601514252,
          4.425690624490317,
          null,
          4.576976963896021,
          4.6697029002215285,
          4.439245371566522,
          4.799576317046316,
          4.668287849357945,
          4.6611782288523695,
          4.592538151991103,
          4.631903193859809,
          4.544862710337162
         ],
         "xaxis": "x",
         "y": [
          0.001,
          0.002,
          0.004,
          0.005,
          0.007,
          0.008,
          0.008,
          0.011,
          0.012,
          0.012,
          0.012,
          0.012,
          0.019,
          0.02,
          0.021,
          0.021,
          0.022,
          0.023,
          0.023,
          0.024,
          0.024,
          0.024,
          0.025,
          0.031,
          0.031,
          0.035,
          0.036,
          0.036,
          0.037,
          0.038,
          0.038,
          0.038,
          0.039,
          0.041,
          0.041,
          0.041,
          0.042,
          0.044,
          0.053,
          0.054,
          0.057,
          0.059,
          0.06,
          0.062,
          0.062,
          0.063,
          0.065,
          0.065,
          0.07,
          0.07,
          0.071,
          0.072,
          0.073,
          0.074,
          0.074,
          0.074,
          0.075,
          0.076,
          0.077,
          0.077,
          0.079,
          0.082,
          0.083,
          0.084,
          0.087,
          0.087,
          0.09,
          0.091,
          0.092,
          0.094,
          0.096,
          0.101,
          0.103,
          0.106,
          0.108,
          0.111,
          0.114,
          0.115,
          0.117,
          0.119,
          0.121,
          0.124,
          0.125,
          0.129,
          0.132,
          0.134,
          0.135,
          0.136,
          0.138,
          0.138,
          0.138,
          0.138,
          0.139,
          0.139,
          0.143,
          0.144,
          0.145,
          0.146,
          0.151,
          0.155,
          0.16,
          0.161,
          0.171,
          0.172,
          0.172,
          0.172,
          0.173,
          0.18,
          0.181,
          0.184,
          0.186,
          0.188,
          0.193,
          0.193,
          0.2,
          0.209,
          0.213,
          0.215,
          0.219,
          0.22,
          0.231,
          0.236,
          0.246,
          0.246,
          0.26,
          0.26,
          0.268,
          0.286,
          0.288,
          0.333,
          0.34,
          0.347,
          0.35,
          0.37,
          0.383,
          0.387,
          0.405,
          0.447,
          0.469,
          0.48,
          0.49,
          0.507,
          0.542,
          0.613
         ],
         "yaxis": "y"
        },
        {
         "hovertemplate": "<b>OLS trendline</b><br>price = 0.0948339 * gdp_per_cap_log + -0.253394<br>R<sup>2</sup>=0.141958<br><br>gdp=%{x}<br>Price (£/kWh)=%{y} <b>(trend)</b><extra></extra>",
         "legendgroup": "Overall Trendline",
         "line": {
          "color": "#969696"
         },
         "mode": "lines",
         "name": "Overall Trendline",
         "showlegend": true,
         "type": "scatter",
         "x": [
          2.9312074896147275,
          2.9628901359309947,
          3.0549919815590356,
          3.0991309666724964,
          3.101139679727393,
          3.103129760903462,
          3.1375837412750314,
          3.1513469426167715,
          3.1523752983515343,
          3.2114759553732037,
          3.2267758495464194,
          3.2324124762067954,
          3.2760628748563763,
          3.370983236013164,
          3.404211851715219,
          3.406278317276078,
          3.424788229422818,
          3.4311386885544035,
          3.4472268661193466,
          3.4957418014653014,
          3.5149923730160375,
          3.5550013213419147,
          3.5587754348060074,
          3.57208067668995,
          3.6078531156575275,
          3.643373089041826,
          3.6449675382705733,
          3.6565455867362404,
          3.6964388231834326,
          3.707472223856793,
          3.7191677462267125,
          3.771112316934065,
          3.7977756672186023,
          3.7983098441659293,
          3.8198014092720287,
          3.831660072742587,
          3.837080938217745,
          3.8599584300827106,
          3.8667110378671796,
          3.8814094581067353,
          3.9037572138760477,
          3.9079926779858187,
          3.914982697776612,
          3.938118515140877,
          3.960380845197199,
          3.973543337102529,
          3.9939734185750897,
          3.99495039220223,
          3.995145596491146,
          3.995996630225981,
          4.026423134547817,
          4.040291601182104,
          4.048541833275761,
          4.050550353949476,
          4.054460839927546,
          4.059113675882414,
          4.0659775169586725,
          4.071794329905868,
          4.0760333033594405,
          4.076643457217363,
          4.097047261511857,
          4.101132578814744,
          4.1022344927669225,
          4.104828305769413,
          4.125879999113361,
          4.136747902940822,
          4.141008190525521,
          4.141385191508425,
          4.153182107742017,
          4.1734473511607515,
          4.191890696236162,
          4.1951505929404656,
          4.195785186360685,
          4.195858926603319,
          4.199666529897796,
          4.201711823217592,
          4.238260452814697,
          4.2628744320222705,
          4.270198047406638,
          4.283218640620047,
          4.290786307105245,
          4.29606347856988,
          4.300653837325472,
          4.301254367171658,
          4.3253500852289815,
          4.325892266918761,
          4.349003227581696,
          4.35683543033487,
          4.362547876262618,
          4.379078531933713,
          4.383035009565215,
          4.396241648076457,
          4.3980728252387005,
          4.411470699093969,
          4.425690624490317,
          4.429029415103151,
          4.42950165111307,
          4.439245371566522,
          4.439339672409569,
          4.4551090217936755,
          4.4716972226735505,
          4.491717601514252,
          4.495909690698676,
          4.4972820858513645,
          4.522936109336441,
          4.544862710337162,
          4.576976963896021,
          4.577317300794251,
          4.581248029239132,
          4.588304969629612,
          4.591700584870545,
          4.592538151991103,
          4.6021299577885255,
          4.6165261089713425,
          4.63096863877512,
          4.631903193859809,
          4.640094639421117,
          4.6410092160081255,
          4.64613684379001,
          4.6611782288523695,
          4.668287849357945,
          4.668917064754443,
          4.6697029002215285,
          4.67926359027254,
          4.697755616616062,
          4.731025894954344,
          4.738529758920488,
          4.786797889255152,
          4.799576317046316,
          4.814263117106964,
          4.8390678134838065,
          4.894717232025993,
          4.919937457756246,
          5.17329660632835
         ],
         "xaxis": "x",
         "y": [
          0.024583943336038472,
          0.02758853231662456,
          0.03632290973267921,
          0.0405087819278962,
          0.04069927602519019,
          0.04088800318871055,
          0.044155408591920076,
          0.045460626681223026,
          0.04555814966834815,
          0.05116289559329734,
          0.05261384426021387,
          0.0531483875613758,
          0.05728792519568576,
          0.06628959343759971,
          0.06944079272764336,
          0.06963676372043665,
          0.07139213091775176,
          0.07199436973763929,
          0.07352007439459285,
          0.07812093502596812,
          0.07994654184472771,
          0.08374074653535823,
          0.08409866044231212,
          0.08536044844920604,
          0.08875288842589718,
          0.09212138610616755,
          0.09227259394830856,
          0.09337058546358085,
          0.09715381674523066,
          0.09820015718506153,
          0.09930928920907478,
          0.1042353955447205,
          0.10676398509657536,
          0.10681464318092859,
          0.10885277216323458,
          0.10997737549442232,
          0.11049145732045773,
          0.11266101914540005,
          0.11330139529128463,
          0.11469530383803117,
          0.1168146287219134,
          0.11721629431085606,
          0.11787918516371743,
          0.12007324500378297,
          0.12218446863395849,
          0.1234327191033488,
          0.12537018345061873,
          0.12546283367197736,
          0.12548134565641156,
          0.1255620525063466,
          0.1284475166399472,
          0.1297627174477033,
          0.1305451191507817,
          0.1307355950038176,
          0.13110644164841784,
          0.13154768823807833,
          0.13219861307107217,
          0.13275024414092695,
          0.13315224253463637,
          0.1332101058058946,
          0.135145078185831,
          0.1355325047671816,
          0.1356370035670994,
          0.135882984975571,
          0.13787939920222692,
          0.1389100449303678,
          0.13931406462630275,
          0.13934981710062566,
          0.140468564700385,
          0.1423903968117879,
          0.1441394511939742,
          0.14444859991904674,
          0.14450878088936442,
          0.1445157739643188,
          0.14487686384257042,
          0.1450708269891265,
          0.14853687615202738,
          0.15087111584770196,
          0.15156564287244184,
          0.1528004365351674,
          0.15351810787812276,
          0.1540185626404248,
          0.1544538842734825,
          0.1545108348621534,
          0.15679592583061747,
          0.15684734303593317,
          0.15903904561801707,
          0.15978180396752462,
          0.16032353750566952,
          0.16189120408804497,
          0.16226641230060657,
          0.16351884936490219,
          0.1636925070407243,
          0.16496307969892277,
          0.1663116107125296,
          0.1666282412548039,
          0.16667302523835997,
          0.16759706027041227,
          0.16760600318733437,
          0.169101472123784,
          0.1706745959428581,
          0.17257320659082803,
          0.17297075876634466,
          0.1731009083539648,
          0.17553377950688298,
          0.1776131646406509,
          0.18065868462024787,
          0.18069096009635238,
          0.18106372641306956,
          0.18173296360753338,
          0.18205498305102852,
          0.18213441280938286,
          0.18304404118181028,
          0.1844092843744073,
          0.1857789258326063,
          0.18586755333806082,
          0.18664438008488277,
          0.18673111295144312,
          0.18721738590276804,
          0.18864381914196104,
          0.18931805219730508,
          0.18937772314864737,
          0.18945224699243834,
          0.19035892453721526,
          0.1921125955540181,
          0.19526774587442897,
          0.1959793665755355,
          0.20055682172462014,
          0.20176864989538862,
          0.2031614564552256,
          0.2055137826042689,
          0.2107912341169611,
          0.2131829665360458,
          0.23721000324034913
         ],
         "yaxis": "y"
        }
       ],
       "layout": {
        "font": {
         "family": "Arial",
         "size": 22
        },
        "height": 750,
        "legend": {
         "tracegroupgap": 0
        },
        "margin": {
         "pad": 20,
         "t": 60
        },
        "paper_bgcolor": "white",
        "plot_bgcolor": "white",
        "template": {
         "data": {
          "bar": [
           {
            "error_x": {
             "color": "#2a3f5f"
            },
            "error_y": {
             "color": "#2a3f5f"
            },
            "marker": {
             "line": {
              "color": "#E5ECF6",
              "width": 0.5
             },
             "pattern": {
              "fillmode": "overlay",
              "size": 10,
              "solidity": 0.2
             }
            },
            "type": "bar"
           }
          ],
          "barpolar": [
           {
            "marker": {
             "line": {
              "color": "#E5ECF6",
              "width": 0.5
             },
             "pattern": {
              "fillmode": "overlay",
              "size": 10,
              "solidity": 0.2
             }
            },
            "type": "barpolar"
           }
          ],
          "carpet": [
           {
            "aaxis": {
             "endlinecolor": "#2a3f5f",
             "gridcolor": "white",
             "linecolor": "white",
             "minorgridcolor": "white",
             "startlinecolor": "#2a3f5f"
            },
            "baxis": {
             "endlinecolor": "#2a3f5f",
             "gridcolor": "white",
             "linecolor": "white",
             "minorgridcolor": "white",
             "startlinecolor": "#2a3f5f"
            },
            "type": "carpet"
           }
          ],
          "choropleth": [
           {
            "colorbar": {
             "outlinewidth": 0,
             "ticks": ""
            },
            "type": "choropleth"
           }
          ],
          "contour": [
           {
            "colorbar": {
             "outlinewidth": 0,
             "ticks": ""
            },
            "colorscale": [
             [
              0,
              "#0d0887"
             ],
             [
              0.1111111111111111,
              "#46039f"
             ],
             [
              0.2222222222222222,
              "#7201a8"
             ],
             [
              0.3333333333333333,
              "#9c179e"
             ],
             [
              0.4444444444444444,
              "#bd3786"
             ],
             [
              0.5555555555555556,
              "#d8576b"
             ],
             [
              0.6666666666666666,
              "#ed7953"
             ],
             [
              0.7777777777777778,
              "#fb9f3a"
             ],
             [
              0.8888888888888888,
              "#fdca26"
             ],
             [
              1,
              "#f0f921"
             ]
            ],
            "type": "contour"
           }
          ],
          "contourcarpet": [
           {
            "colorbar": {
             "outlinewidth": 0,
             "ticks": ""
            },
            "type": "contourcarpet"
           }
          ],
          "heatmap": [
           {
            "colorbar": {
             "outlinewidth": 0,
             "ticks": ""
            },
            "colorscale": [
             [
              0,
              "#0d0887"
             ],
             [
              0.1111111111111111,
              "#46039f"
             ],
             [
              0.2222222222222222,
              "#7201a8"
             ],
             [
              0.3333333333333333,
              "#9c179e"
             ],
             [
              0.4444444444444444,
              "#bd3786"
             ],
             [
              0.5555555555555556,
              "#d8576b"
             ],
             [
              0.6666666666666666,
              "#ed7953"
             ],
             [
              0.7777777777777778,
              "#fb9f3a"
             ],
             [
              0.8888888888888888,
              "#fdca26"
             ],
             [
              1,
              "#f0f921"
             ]
            ],
            "type": "heatmap"
           }
          ],
          "heatmapgl": [
           {
            "colorbar": {
             "outlinewidth": 0,
             "ticks": ""
            },
            "colorscale": [
             [
              0,
              "#0d0887"
             ],
             [
              0.1111111111111111,
              "#46039f"
             ],
             [
              0.2222222222222222,
              "#7201a8"
             ],
             [
              0.3333333333333333,
              "#9c179e"
             ],
             [
              0.4444444444444444,
              "#bd3786"
             ],
             [
              0.5555555555555556,
              "#d8576b"
             ],
             [
              0.6666666666666666,
              "#ed7953"
             ],
             [
              0.7777777777777778,
              "#fb9f3a"
             ],
             [
              0.8888888888888888,
              "#fdca26"
             ],
             [
              1,
              "#f0f921"
             ]
            ],
            "type": "heatmapgl"
           }
          ],
          "histogram": [
           {
            "marker": {
             "pattern": {
              "fillmode": "overlay",
              "size": 10,
              "solidity": 0.2
             }
            },
            "type": "histogram"
           }
          ],
          "histogram2d": [
           {
            "colorbar": {
             "outlinewidth": 0,
             "ticks": ""
            },
            "colorscale": [
             [
              0,
              "#0d0887"
             ],
             [
              0.1111111111111111,
              "#46039f"
             ],
             [
              0.2222222222222222,
              "#7201a8"
             ],
             [
              0.3333333333333333,
              "#9c179e"
             ],
             [
              0.4444444444444444,
              "#bd3786"
             ],
             [
              0.5555555555555556,
              "#d8576b"
             ],
             [
              0.6666666666666666,
              "#ed7953"
             ],
             [
              0.7777777777777778,
              "#fb9f3a"
             ],
             [
              0.8888888888888888,
              "#fdca26"
             ],
             [
              1,
              "#f0f921"
             ]
            ],
            "type": "histogram2d"
           }
          ],
          "histogram2dcontour": [
           {
            "colorbar": {
             "outlinewidth": 0,
             "ticks": ""
            },
            "colorscale": [
             [
              0,
              "#0d0887"
             ],
             [
              0.1111111111111111,
              "#46039f"
             ],
             [
              0.2222222222222222,
              "#7201a8"
             ],
             [
              0.3333333333333333,
              "#9c179e"
             ],
             [
              0.4444444444444444,
              "#bd3786"
             ],
             [
              0.5555555555555556,
              "#d8576b"
             ],
             [
              0.6666666666666666,
              "#ed7953"
             ],
             [
              0.7777777777777778,
              "#fb9f3a"
             ],
             [
              0.8888888888888888,
              "#fdca26"
             ],
             [
              1,
              "#f0f921"
             ]
            ],
            "type": "histogram2dcontour"
           }
          ],
          "mesh3d": [
           {
            "colorbar": {
             "outlinewidth": 0,
             "ticks": ""
            },
            "type": "mesh3d"
           }
          ],
          "parcoords": [
           {
            "line": {
             "colorbar": {
              "outlinewidth": 0,
              "ticks": ""
             }
            },
            "type": "parcoords"
           }
          ],
          "pie": [
           {
            "automargin": true,
            "type": "pie"
           }
          ],
          "scatter": [
           {
            "fillpattern": {
             "fillmode": "overlay",
             "size": 10,
             "solidity": 0.2
            },
            "type": "scatter"
           }
          ],
          "scatter3d": [
           {
            "line": {
             "colorbar": {
              "outlinewidth": 0,
              "ticks": ""
             }
            },
            "marker": {
             "colorbar": {
              "outlinewidth": 0,
              "ticks": ""
             }
            },
            "type": "scatter3d"
           }
          ],
          "scattercarpet": [
           {
            "marker": {
             "colorbar": {
              "outlinewidth": 0,
              "ticks": ""
             }
            },
            "type": "scattercarpet"
           }
          ],
          "scattergeo": [
           {
            "marker": {
             "colorbar": {
              "outlinewidth": 0,
              "ticks": ""
             }
            },
            "type": "scattergeo"
           }
          ],
          "scattergl": [
           {
            "marker": {
             "colorbar": {
              "outlinewidth": 0,
              "ticks": ""
             }
            },
            "type": "scattergl"
           }
          ],
          "scattermapbox": [
           {
            "marker": {
             "colorbar": {
              "outlinewidth": 0,
              "ticks": ""
             }
            },
            "type": "scattermapbox"
           }
          ],
          "scatterpolar": [
           {
            "marker": {
             "colorbar": {
              "outlinewidth": 0,
              "ticks": ""
             }
            },
            "type": "scatterpolar"
           }
          ],
          "scatterpolargl": [
           {
            "marker": {
             "colorbar": {
              "outlinewidth": 0,
              "ticks": ""
             }
            },
            "type": "scatterpolargl"
           }
          ],
          "scatterternary": [
           {
            "marker": {
             "colorbar": {
              "outlinewidth": 0,
              "ticks": ""
             }
            },
            "type": "scatterternary"
           }
          ],
          "surface": [
           {
            "colorbar": {
             "outlinewidth": 0,
             "ticks": ""
            },
            "colorscale": [
             [
              0,
              "#0d0887"
             ],
             [
              0.1111111111111111,
              "#46039f"
             ],
             [
              0.2222222222222222,
              "#7201a8"
             ],
             [
              0.3333333333333333,
              "#9c179e"
             ],
             [
              0.4444444444444444,
              "#bd3786"
             ],
             [
              0.5555555555555556,
              "#d8576b"
             ],
             [
              0.6666666666666666,
              "#ed7953"
             ],
             [
              0.7777777777777778,
              "#fb9f3a"
             ],
             [
              0.8888888888888888,
              "#fdca26"
             ],
             [
              1,
              "#f0f921"
             ]
            ],
            "type": "surface"
           }
          ],
          "table": [
           {
            "cells": {
             "fill": {
              "color": "#EBF0F8"
             },
             "line": {
              "color": "white"
             }
            },
            "header": {
             "fill": {
              "color": "#C8D4E3"
             },
             "line": {
              "color": "white"
             }
            },
            "type": "table"
           }
          ]
         },
         "layout": {
          "annotationdefaults": {
           "arrowcolor": "#2a3f5f",
           "arrowhead": 0,
           "arrowwidth": 1
          },
          "autotypenumbers": "strict",
          "coloraxis": {
           "colorbar": {
            "outlinewidth": 0,
            "ticks": ""
           }
          },
          "colorscale": {
           "diverging": [
            [
             0,
             "#8e0152"
            ],
            [
             0.1,
             "#c51b7d"
            ],
            [
             0.2,
             "#de77ae"
            ],
            [
             0.3,
             "#f1b6da"
            ],
            [
             0.4,
             "#fde0ef"
            ],
            [
             0.5,
             "#f7f7f7"
            ],
            [
             0.6,
             "#e6f5d0"
            ],
            [
             0.7,
             "#b8e186"
            ],
            [
             0.8,
             "#7fbc41"
            ],
            [
             0.9,
             "#4d9221"
            ],
            [
             1,
             "#276419"
            ]
           ],
           "sequential": [
            [
             0,
             "#0d0887"
            ],
            [
             0.1111111111111111,
             "#46039f"
            ],
            [
             0.2222222222222222,
             "#7201a8"
            ],
            [
             0.3333333333333333,
             "#9c179e"
            ],
            [
             0.4444444444444444,
             "#bd3786"
            ],
            [
             0.5555555555555556,
             "#d8576b"
            ],
            [
             0.6666666666666666,
             "#ed7953"
            ],
            [
             0.7777777777777778,
             "#fb9f3a"
            ],
            [
             0.8888888888888888,
             "#fdca26"
            ],
            [
             1,
             "#f0f921"
            ]
           ],
           "sequentialminus": [
            [
             0,
             "#0d0887"
            ],
            [
             0.1111111111111111,
             "#46039f"
            ],
            [
             0.2222222222222222,
             "#7201a8"
            ],
            [
             0.3333333333333333,
             "#9c179e"
            ],
            [
             0.4444444444444444,
             "#bd3786"
            ],
            [
             0.5555555555555556,
             "#d8576b"
            ],
            [
             0.6666666666666666,
             "#ed7953"
            ],
            [
             0.7777777777777778,
             "#fb9f3a"
            ],
            [
             0.8888888888888888,
             "#fdca26"
            ],
            [
             1,
             "#f0f921"
            ]
           ]
          },
          "colorway": [
           "#636efa",
           "#EF553B",
           "#00cc96",
           "#ab63fa",
           "#FFA15A",
           "#19d3f3",
           "#FF6692",
           "#B6E880",
           "#FF97FF",
           "#FECB52"
          ],
          "font": {
           "color": "#2a3f5f"
          },
          "geo": {
           "bgcolor": "white",
           "lakecolor": "white",
           "landcolor": "#E5ECF6",
           "showlakes": true,
           "showland": true,
           "subunitcolor": "white"
          },
          "hoverlabel": {
           "align": "left"
          },
          "hovermode": "closest",
          "mapbox": {
           "style": "light"
          },
          "paper_bgcolor": "white",
          "plot_bgcolor": "#E5ECF6",
          "polar": {
           "angularaxis": {
            "gridcolor": "white",
            "linecolor": "white",
            "ticks": ""
           },
           "bgcolor": "#E5ECF6",
           "radialaxis": {
            "gridcolor": "white",
            "linecolor": "white",
            "ticks": ""
           }
          },
          "scene": {
           "xaxis": {
            "backgroundcolor": "#E5ECF6",
            "gridcolor": "white",
            "gridwidth": 2,
            "linecolor": "white",
            "showbackground": true,
            "ticks": "",
            "zerolinecolor": "white"
           },
           "yaxis": {
            "backgroundcolor": "#E5ECF6",
            "gridcolor": "white",
            "gridwidth": 2,
            "linecolor": "white",
            "showbackground": true,
            "ticks": "",
            "zerolinecolor": "white"
           },
           "zaxis": {
            "backgroundcolor": "#E5ECF6",
            "gridcolor": "white",
            "gridwidth": 2,
            "linecolor": "white",
            "showbackground": true,
            "ticks": "",
            "zerolinecolor": "white"
           }
          },
          "shapedefaults": {
           "line": {
            "color": "#2a3f5f"
           }
          },
          "ternary": {
           "aaxis": {
            "gridcolor": "white",
            "linecolor": "white",
            "ticks": ""
           },
           "baxis": {
            "gridcolor": "white",
            "linecolor": "white",
            "ticks": ""
           },
           "bgcolor": "#E5ECF6",
           "caxis": {
            "gridcolor": "white",
            "linecolor": "white",
            "ticks": ""
           }
          },
          "title": {
           "x": 0.05
          },
          "xaxis": {
           "automargin": true,
           "gridcolor": "white",
           "linecolor": "white",
           "ticks": "",
           "title": {
            "standoff": 15
           },
           "zerolinecolor": "white",
           "zerolinewidth": 2
          },
          "yaxis": {
           "automargin": true,
           "gridcolor": "white",
           "linecolor": "white",
           "ticks": "",
           "title": {
            "standoff": 15
           },
           "zerolinecolor": "white",
           "zerolinewidth": 2
          }
         }
        },
        "width": 1400,
        "xaxis": {
         "anchor": "y",
         "domain": [
          0,
          1
         ],
         "showgrid": false,
         "title": {
          "text": "gdp"
         }
        },
        "yaxis": {
         "anchor": "x",
         "domain": [
          0,
          1
         ],
         "gridcolor": "LightGrey",
         "gridwidth": 1,
         "showgrid": true,
         "title": {
          "text": "Price (£/kWh)"
         }
        }
       }
      }
     },
     "metadata": {},
     "output_type": "display_data"
    }
   ],
   "source": [
    "scatter_chart(data=joined_energy_data, x_var='gdp_per_cap_log', y_var='price', x_label='gdp', y_label='Price (£/kWh)', hover_labels='country')"
   ]
  },
  {
   "cell_type": "code",
   "execution_count": 209,
   "metadata": {},
   "outputs": [
    {
     "data": {
      "application/vnd.plotly.v1+json": {
       "config": {
        "plotlyServerURL": "https://plot.ly"
       },
       "data": [
        {
         "customdata": [
          [
           "Lebanon"
          ],
          [
           "Iran"
          ],
          [
           "Syria"
          ],
          [
           "Ethiopia"
          ],
          [
           "Sudan"
          ],
          [
           "Kyrgyzstan"
          ],
          [
           "Libya"
          ],
          [
           "Angola"
          ],
          [
           "Zimbabwe"
          ],
          [
           "Iraq"
          ],
          [
           "Bhutan"
          ],
          [
           "Suriname"
          ],
          [
           "Uzbekistan"
          ],
          [
           "Argentina"
          ],
          [
           "Oman"
          ],
          [
           "Egypt"
          ],
          [
           "Zambia"
          ],
          [
           "Kuwait"
          ],
          [
           "Myanmar"
          ],
          [
           "Laos"
          ],
          [
           "Cuba"
          ],
          [
           "Nigeria"
          ],
          [
           "Qatar"
          ],
          [
           "Uganda"
          ],
          [
           "Algeria"
          ],
          [
           "Nepal"
          ],
          [
           "Venezuela"
          ],
          [
           "Kazakhstan"
          ],
          [
           "Azerbaijan"
          ],
          [
           "Malaysia"
          ],
          [
           "Bahrain"
          ],
          [
           "Saudi Arabia"
          ],
          [
           "Pakistan"
          ],
          [
           "Bangladesh"
          ],
          [
           "Russia"
          ],
          [
           "Afghanistan"
          ],
          [
           "Trinidad and Tobago"
          ],
          [
           "Paraguay"
          ],
          [
           "Democratic Republic of Congo"
          ],
          [
           "Tunisia"
          ],
          [
           "Ghana"
          ],
          [
           "China"
          ],
          [
           "Georgia"
          ],
          [
           "Vietnam"
          ],
          [
           "India"
          ],
          [
           "Ukraine"
          ],
          [
           "Cameroon"
          ],
          [
           "Turkey"
          ],
          [
           "Lesotho"
          ],
          [
           "Taiwan"
          ],
          [
           "Sri Lanka"
          ],
          [
           "Jordan"
          ],
          [
           "Belarus"
          ],
          [
           "Tanzania"
          ],
          [
           "Botswana"
          ],
          [
           "Eswatini"
          ],
          [
           "Indonesia"
          ],
          [
           "Ecuador"
          ],
          [
           "Mexico"
          ],
          [
           "Bosnia and Herzegovina"
          ],
          [
           "Maldives"
          ],
          [
           "Serbia"
          ],
          [
           "Armenia"
          ],
          [
           "Malawi"
          ],
          [
           "Hungary"
          ],
          [
           "South Korea"
          ],
          [
           "Albania"
          ],
          [
           "Namibia"
          ],
          [
           "Morocco"
          ],
          [
           "Cote d'Ivoire"
          ],
          [
           "Canada"
          ],
          [
           "Mozambique"
          ],
          [
           "Madagascar"
          ],
          [
           "Mauritius"
          ],
          [
           "Bulgaria"
          ],
          [
           "Thailand"
          ],
          [
           "Malta"
          ],
          [
           "South Africa"
          ],
          [
           "Cambodia"
          ],
          [
           "Costa Rica"
          ],
          [
           "Iceland"
          ],
          [
           "Sierra Leone"
          ],
          [
           "Macao"
          ],
          [
           "Israel"
          ],
          [
           "Brazil"
          ],
          [
           "Senegal"
          ],
          [
           "Chile"
          ],
          [
           "Panama"
          ],
          [
           "Romania"
          ],
          [
           "Kenya"
          ],
          [
           "Philippines"
          ],
          [
           "United States"
          ],
          [
           "Nicaragua"
          ],
          [
           "United Arab Emirates"
          ],
          [
           "New Zealand"
          ],
          [
           "Norway"
          ],
          [
           "Hong Kong"
          ],
          [
           "Colombia"
          ],
          [
           "Togo"
          ],
          [
           "Poland"
          ],
          [
           "Gabon"
          ],
          [
           "Burkina Faso"
          ],
          [
           "Mali"
          ],
          [
           "France"
          ],
          [
           "Belize"
          ],
          [
           "Rwanda"
          ],
          [
           "Slovakia"
          ],
          [
           "Aruba"
          ],
          [
           "Australia"
          ],
          [
           "Slovenia"
          ],
          [
           "Singapore"
          ],
          [
           "Japan"
          ],
          [
           "El Salvador"
          ],
          [
           "Peru"
          ],
          [
           "Uruguay"
          ],
          [
           "Honduras"
          ],
          [
           "Moldova"
          ],
          [
           "Barbados"
          ],
          [
           "Greece"
          ],
          [
           "Portugal"
          ],
          [
           "Guatemala"
          ],
          [
           "Spain"
          ],
          [
           "Bahamas"
          ],
          [
           "Cape Verde"
          ],
          [
           "Jamaica"
          ],
          [
           "Luxembourg"
          ],
          [
           "Switzerland"
          ],
          [
           "Cyprus"
          ],
          [
           "Finland"
          ],
          [
           "Sweden"
          ],
          [
           "Bermuda"
          ],
          [
           "Latvia"
          ],
          [
           "Czechia"
          ],
          [
           "Estonia"
          ],
          [
           "Cayman Islands"
          ],
          [
           "United Kingdom"
          ],
          [
           "Netherlands"
          ],
          [
           "Lithuania"
          ],
          [
           "Ireland"
          ],
          [
           "Germany"
          ],
          [
           "Denmark"
          ],
          [
           "Belgium"
          ],
          [
           "Austria"
          ],
          [
           "Italy"
          ]
         ],
         "hovertemplate": "Oil and gas production per capita log(tWH)=%{x}<br>Price (£/kWh)=%{y}<br>country=%{customdata[0]}<extra></extra>",
         "legendgroup": "",
         "marker": {
          "color": "#80b1d3",
          "symbol": "circle"
         },
         "mode": "markers",
         "name": "",
         "orientation": "v",
         "showlegend": false,
         "type": "scatter",
         "x": [
          null,
          4.711951787094338,
          3.596608090284298,
          null,
          null,
          null,
          5.095131156255973,
          null,
          null,
          4.746194327028382,
          null,
          null,
          4.201919165635729,
          4.204068298537313,
          5.321122626782307,
          3.9710907237438375,
          null,
          5.584277294990131,
          null,
          null,
          null,
          3.805372249890922,
          5.988288107218028,
          null,
          4.582127422307589,
          null,
          4.382393850276806,
          4.819114218936313,
          4.848868087426388,
          4.508693400309022,
          null,
          5.297649197114063,
          null,
          null,
          4.961758545015676,
          null,
          5.275657824769682,
          null,
          null,
          null,
          null,
          3.489870206074218,
          null,
          3.271235726503035,
          2.684255433318093,
          null,
          null,
          null,
          null,
          null,
          null,
          null,
          null,
          null,
          null,
          null,
          3.556383682119967,
          null,
          4.074977954994644,
          null,
          null,
          null,
          null,
          null,
          null,
          null,
          null,
          null,
          null,
          null,
          5.10187952387181,
          null,
          null,
          null,
          null,
          3.8253767131490575,
          null,
          null,
          null,
          null,
          null,
          null,
          null,
          null,
          3.9843839950219584,
          null,
          null,
          null,
          3.8106818407735403,
          null,
          null,
          4.7217999925857255,
          null,
          5.4236764199400325,
          null,
          5.616626876158399,
          null,
          4.0490159899745395,
          null,
          null,
          null,
          null,
          null,
          null,
          null,
          null,
          null,
          null,
          4.815884275934656,
          null,
          null,
          null,
          null,
          3.7189852883396406,
          null,
          null,
          null,
          null,
          null,
          null,
          null,
          null,
          null,
          null,
          null,
          null,
          null,
          null,
          null,
          null,
          null,
          null,
          null,
          null,
          null,
          4.076876201935375,
          null,
          null,
          null,
          null,
          3.950523644693247,
          null,
          null,
          3.172526455959315
         ],
         "xaxis": "x",
         "y": [
          0.001,
          0.002,
          0.004,
          0.005,
          0.007,
          0.008,
          0.008,
          0.011,
          0.012,
          0.012,
          0.012,
          0.012,
          0.019,
          0.02,
          0.021,
          0.021,
          0.022,
          0.023,
          0.023,
          0.024,
          0.024,
          0.024,
          0.025,
          0.031,
          0.031,
          0.035,
          0.036,
          0.036,
          0.037,
          0.038,
          0.038,
          0.038,
          0.039,
          0.041,
          0.041,
          0.041,
          0.042,
          0.044,
          0.053,
          0.054,
          0.057,
          0.059,
          0.06,
          0.062,
          0.062,
          0.063,
          0.065,
          0.065,
          0.07,
          0.07,
          0.071,
          0.072,
          0.073,
          0.074,
          0.074,
          0.074,
          0.075,
          0.076,
          0.077,
          0.077,
          0.079,
          0.082,
          0.083,
          0.084,
          0.087,
          0.087,
          0.09,
          0.091,
          0.092,
          0.094,
          0.096,
          0.101,
          0.103,
          0.106,
          0.108,
          0.111,
          0.114,
          0.115,
          0.117,
          0.119,
          0.121,
          0.124,
          0.125,
          0.129,
          0.132,
          0.134,
          0.135,
          0.136,
          0.138,
          0.138,
          0.138,
          0.138,
          0.139,
          0.139,
          0.143,
          0.144,
          0.145,
          0.146,
          0.151,
          0.155,
          0.16,
          0.161,
          0.171,
          0.172,
          0.172,
          0.172,
          0.173,
          0.18,
          0.181,
          0.184,
          0.186,
          0.188,
          0.193,
          0.193,
          0.2,
          0.209,
          0.213,
          0.215,
          0.219,
          0.22,
          0.231,
          0.236,
          0.246,
          0.246,
          0.26,
          0.26,
          0.268,
          0.286,
          0.288,
          0.333,
          0.34,
          0.347,
          0.35,
          0.37,
          0.383,
          0.387,
          0.405,
          0.447,
          0.469,
          0.48,
          0.49,
          0.507,
          0.542,
          0.613
         ],
         "yaxis": "y"
        },
        {
         "hovertemplate": "<b>OLS trendline</b><br>price = -0.0532358 * oil_and_gas_prod_per_capita_log + 0.335448<br>R<sup>2</sup>=0.095371<br><br>Oil and gas production per capita log(tWH)=%{x}<br>Price (£/kWh)=%{y} <b>(trend)</b><extra></extra>",
         "legendgroup": "Overall Trendline",
         "line": {
          "color": "#969696"
         },
         "mode": "lines",
         "name": "Overall Trendline",
         "showlegend": true,
         "type": "scatter",
         "x": [
          2.684255433318093,
          3.172526455959315,
          3.271235726503035,
          3.489870206074218,
          3.556383682119967,
          3.596608090284298,
          3.7189852883396406,
          3.805372249890922,
          3.8106818407735403,
          3.8253767131490575,
          3.950523644693247,
          3.9710907237438375,
          3.9843839950219584,
          4.0490159899745395,
          4.074977954994644,
          4.076876201935375,
          4.201919165635729,
          4.204068298537313,
          4.382393850276806,
          4.508693400309022,
          4.582127422307589,
          4.711951787094338,
          4.7217999925857255,
          4.746194327028382,
          4.815884275934656,
          4.819114218936313,
          4.848868087426388,
          4.961758545015676,
          5.095131156255973,
          5.10187952387181,
          5.275657824769682,
          5.297649197114063,
          5.321122626782307,
          5.4236764199400325,
          5.584277294990131,
          5.616626876158399,
          5.988288107218028
         ],
         "xaxis": "x",
         "y": [
          0.19255001700874122,
          0.16655654279889898,
          0.16130168072604595,
          0.14966251017815188,
          0.14612161537991084,
          0.14398023883339808,
          0.13746539688288226,
          0.13286652217390768,
          0.132583862119814,
          0.13180156956424982,
          0.12513927877349557,
          0.12404437489003053,
          0.12333669762042085,
          0.11989596487973345,
          0.11851386019423221,
          0.1184128055942052,
          0.1117560496096181,
          0.11164163890724088,
          0.10214834437376127,
          0.09542469307305856,
          0.09151537781896185,
          0.08460408036035116,
          0.08407980375251795,
          0.08278115305690337,
          0.07907115634282125,
          0.07889920790390159,
          0.07731523839234594,
          0.07130543018785496,
          0.06420523916725984,
          0.0638459847543481,
          0.054594766530943195,
          0.05342403932542411,
          0.05217441368637327,
          0.04671488556785619,
          0.038165177495664726,
          0.036443023272282826,
          0.01665735880239816
         ],
         "yaxis": "y"
        }
       ],
       "layout": {
        "font": {
         "family": "Arial",
         "size": 22
        },
        "height": 750,
        "legend": {
         "tracegroupgap": 0
        },
        "margin": {
         "pad": 20,
         "t": 60
        },
        "paper_bgcolor": "white",
        "plot_bgcolor": "white",
        "template": {
         "data": {
          "bar": [
           {
            "error_x": {
             "color": "#2a3f5f"
            },
            "error_y": {
             "color": "#2a3f5f"
            },
            "marker": {
             "line": {
              "color": "#E5ECF6",
              "width": 0.5
             },
             "pattern": {
              "fillmode": "overlay",
              "size": 10,
              "solidity": 0.2
             }
            },
            "type": "bar"
           }
          ],
          "barpolar": [
           {
            "marker": {
             "line": {
              "color": "#E5ECF6",
              "width": 0.5
             },
             "pattern": {
              "fillmode": "overlay",
              "size": 10,
              "solidity": 0.2
             }
            },
            "type": "barpolar"
           }
          ],
          "carpet": [
           {
            "aaxis": {
             "endlinecolor": "#2a3f5f",
             "gridcolor": "white",
             "linecolor": "white",
             "minorgridcolor": "white",
             "startlinecolor": "#2a3f5f"
            },
            "baxis": {
             "endlinecolor": "#2a3f5f",
             "gridcolor": "white",
             "linecolor": "white",
             "minorgridcolor": "white",
             "startlinecolor": "#2a3f5f"
            },
            "type": "carpet"
           }
          ],
          "choropleth": [
           {
            "colorbar": {
             "outlinewidth": 0,
             "ticks": ""
            },
            "type": "choropleth"
           }
          ],
          "contour": [
           {
            "colorbar": {
             "outlinewidth": 0,
             "ticks": ""
            },
            "colorscale": [
             [
              0,
              "#0d0887"
             ],
             [
              0.1111111111111111,
              "#46039f"
             ],
             [
              0.2222222222222222,
              "#7201a8"
             ],
             [
              0.3333333333333333,
              "#9c179e"
             ],
             [
              0.4444444444444444,
              "#bd3786"
             ],
             [
              0.5555555555555556,
              "#d8576b"
             ],
             [
              0.6666666666666666,
              "#ed7953"
             ],
             [
              0.7777777777777778,
              "#fb9f3a"
             ],
             [
              0.8888888888888888,
              "#fdca26"
             ],
             [
              1,
              "#f0f921"
             ]
            ],
            "type": "contour"
           }
          ],
          "contourcarpet": [
           {
            "colorbar": {
             "outlinewidth": 0,
             "ticks": ""
            },
            "type": "contourcarpet"
           }
          ],
          "heatmap": [
           {
            "colorbar": {
             "outlinewidth": 0,
             "ticks": ""
            },
            "colorscale": [
             [
              0,
              "#0d0887"
             ],
             [
              0.1111111111111111,
              "#46039f"
             ],
             [
              0.2222222222222222,
              "#7201a8"
             ],
             [
              0.3333333333333333,
              "#9c179e"
             ],
             [
              0.4444444444444444,
              "#bd3786"
             ],
             [
              0.5555555555555556,
              "#d8576b"
             ],
             [
              0.6666666666666666,
              "#ed7953"
             ],
             [
              0.7777777777777778,
              "#fb9f3a"
             ],
             [
              0.8888888888888888,
              "#fdca26"
             ],
             [
              1,
              "#f0f921"
             ]
            ],
            "type": "heatmap"
           }
          ],
          "heatmapgl": [
           {
            "colorbar": {
             "outlinewidth": 0,
             "ticks": ""
            },
            "colorscale": [
             [
              0,
              "#0d0887"
             ],
             [
              0.1111111111111111,
              "#46039f"
             ],
             [
              0.2222222222222222,
              "#7201a8"
             ],
             [
              0.3333333333333333,
              "#9c179e"
             ],
             [
              0.4444444444444444,
              "#bd3786"
             ],
             [
              0.5555555555555556,
              "#d8576b"
             ],
             [
              0.6666666666666666,
              "#ed7953"
             ],
             [
              0.7777777777777778,
              "#fb9f3a"
             ],
             [
              0.8888888888888888,
              "#fdca26"
             ],
             [
              1,
              "#f0f921"
             ]
            ],
            "type": "heatmapgl"
           }
          ],
          "histogram": [
           {
            "marker": {
             "pattern": {
              "fillmode": "overlay",
              "size": 10,
              "solidity": 0.2
             }
            },
            "type": "histogram"
           }
          ],
          "histogram2d": [
           {
            "colorbar": {
             "outlinewidth": 0,
             "ticks": ""
            },
            "colorscale": [
             [
              0,
              "#0d0887"
             ],
             [
              0.1111111111111111,
              "#46039f"
             ],
             [
              0.2222222222222222,
              "#7201a8"
             ],
             [
              0.3333333333333333,
              "#9c179e"
             ],
             [
              0.4444444444444444,
              "#bd3786"
             ],
             [
              0.5555555555555556,
              "#d8576b"
             ],
             [
              0.6666666666666666,
              "#ed7953"
             ],
             [
              0.7777777777777778,
              "#fb9f3a"
             ],
             [
              0.8888888888888888,
              "#fdca26"
             ],
             [
              1,
              "#f0f921"
             ]
            ],
            "type": "histogram2d"
           }
          ],
          "histogram2dcontour": [
           {
            "colorbar": {
             "outlinewidth": 0,
             "ticks": ""
            },
            "colorscale": [
             [
              0,
              "#0d0887"
             ],
             [
              0.1111111111111111,
              "#46039f"
             ],
             [
              0.2222222222222222,
              "#7201a8"
             ],
             [
              0.3333333333333333,
              "#9c179e"
             ],
             [
              0.4444444444444444,
              "#bd3786"
             ],
             [
              0.5555555555555556,
              "#d8576b"
             ],
             [
              0.6666666666666666,
              "#ed7953"
             ],
             [
              0.7777777777777778,
              "#fb9f3a"
             ],
             [
              0.8888888888888888,
              "#fdca26"
             ],
             [
              1,
              "#f0f921"
             ]
            ],
            "type": "histogram2dcontour"
           }
          ],
          "mesh3d": [
           {
            "colorbar": {
             "outlinewidth": 0,
             "ticks": ""
            },
            "type": "mesh3d"
           }
          ],
          "parcoords": [
           {
            "line": {
             "colorbar": {
              "outlinewidth": 0,
              "ticks": ""
             }
            },
            "type": "parcoords"
           }
          ],
          "pie": [
           {
            "automargin": true,
            "type": "pie"
           }
          ],
          "scatter": [
           {
            "fillpattern": {
             "fillmode": "overlay",
             "size": 10,
             "solidity": 0.2
            },
            "type": "scatter"
           }
          ],
          "scatter3d": [
           {
            "line": {
             "colorbar": {
              "outlinewidth": 0,
              "ticks": ""
             }
            },
            "marker": {
             "colorbar": {
              "outlinewidth": 0,
              "ticks": ""
             }
            },
            "type": "scatter3d"
           }
          ],
          "scattercarpet": [
           {
            "marker": {
             "colorbar": {
              "outlinewidth": 0,
              "ticks": ""
             }
            },
            "type": "scattercarpet"
           }
          ],
          "scattergeo": [
           {
            "marker": {
             "colorbar": {
              "outlinewidth": 0,
              "ticks": ""
             }
            },
            "type": "scattergeo"
           }
          ],
          "scattergl": [
           {
            "marker": {
             "colorbar": {
              "outlinewidth": 0,
              "ticks": ""
             }
            },
            "type": "scattergl"
           }
          ],
          "scattermapbox": [
           {
            "marker": {
             "colorbar": {
              "outlinewidth": 0,
              "ticks": ""
             }
            },
            "type": "scattermapbox"
           }
          ],
          "scatterpolar": [
           {
            "marker": {
             "colorbar": {
              "outlinewidth": 0,
              "ticks": ""
             }
            },
            "type": "scatterpolar"
           }
          ],
          "scatterpolargl": [
           {
            "marker": {
             "colorbar": {
              "outlinewidth": 0,
              "ticks": ""
             }
            },
            "type": "scatterpolargl"
           }
          ],
          "scatterternary": [
           {
            "marker": {
             "colorbar": {
              "outlinewidth": 0,
              "ticks": ""
             }
            },
            "type": "scatterternary"
           }
          ],
          "surface": [
           {
            "colorbar": {
             "outlinewidth": 0,
             "ticks": ""
            },
            "colorscale": [
             [
              0,
              "#0d0887"
             ],
             [
              0.1111111111111111,
              "#46039f"
             ],
             [
              0.2222222222222222,
              "#7201a8"
             ],
             [
              0.3333333333333333,
              "#9c179e"
             ],
             [
              0.4444444444444444,
              "#bd3786"
             ],
             [
              0.5555555555555556,
              "#d8576b"
             ],
             [
              0.6666666666666666,
              "#ed7953"
             ],
             [
              0.7777777777777778,
              "#fb9f3a"
             ],
             [
              0.8888888888888888,
              "#fdca26"
             ],
             [
              1,
              "#f0f921"
             ]
            ],
            "type": "surface"
           }
          ],
          "table": [
           {
            "cells": {
             "fill": {
              "color": "#EBF0F8"
             },
             "line": {
              "color": "white"
             }
            },
            "header": {
             "fill": {
              "color": "#C8D4E3"
             },
             "line": {
              "color": "white"
             }
            },
            "type": "table"
           }
          ]
         },
         "layout": {
          "annotationdefaults": {
           "arrowcolor": "#2a3f5f",
           "arrowhead": 0,
           "arrowwidth": 1
          },
          "autotypenumbers": "strict",
          "coloraxis": {
           "colorbar": {
            "outlinewidth": 0,
            "ticks": ""
           }
          },
          "colorscale": {
           "diverging": [
            [
             0,
             "#8e0152"
            ],
            [
             0.1,
             "#c51b7d"
            ],
            [
             0.2,
             "#de77ae"
            ],
            [
             0.3,
             "#f1b6da"
            ],
            [
             0.4,
             "#fde0ef"
            ],
            [
             0.5,
             "#f7f7f7"
            ],
            [
             0.6,
             "#e6f5d0"
            ],
            [
             0.7,
             "#b8e186"
            ],
            [
             0.8,
             "#7fbc41"
            ],
            [
             0.9,
             "#4d9221"
            ],
            [
             1,
             "#276419"
            ]
           ],
           "sequential": [
            [
             0,
             "#0d0887"
            ],
            [
             0.1111111111111111,
             "#46039f"
            ],
            [
             0.2222222222222222,
             "#7201a8"
            ],
            [
             0.3333333333333333,
             "#9c179e"
            ],
            [
             0.4444444444444444,
             "#bd3786"
            ],
            [
             0.5555555555555556,
             "#d8576b"
            ],
            [
             0.6666666666666666,
             "#ed7953"
            ],
            [
             0.7777777777777778,
             "#fb9f3a"
            ],
            [
             0.8888888888888888,
             "#fdca26"
            ],
            [
             1,
             "#f0f921"
            ]
           ],
           "sequentialminus": [
            [
             0,
             "#0d0887"
            ],
            [
             0.1111111111111111,
             "#46039f"
            ],
            [
             0.2222222222222222,
             "#7201a8"
            ],
            [
             0.3333333333333333,
             "#9c179e"
            ],
            [
             0.4444444444444444,
             "#bd3786"
            ],
            [
             0.5555555555555556,
             "#d8576b"
            ],
            [
             0.6666666666666666,
             "#ed7953"
            ],
            [
             0.7777777777777778,
             "#fb9f3a"
            ],
            [
             0.8888888888888888,
             "#fdca26"
            ],
            [
             1,
             "#f0f921"
            ]
           ]
          },
          "colorway": [
           "#636efa",
           "#EF553B",
           "#00cc96",
           "#ab63fa",
           "#FFA15A",
           "#19d3f3",
           "#FF6692",
           "#B6E880",
           "#FF97FF",
           "#FECB52"
          ],
          "font": {
           "color": "#2a3f5f"
          },
          "geo": {
           "bgcolor": "white",
           "lakecolor": "white",
           "landcolor": "#E5ECF6",
           "showlakes": true,
           "showland": true,
           "subunitcolor": "white"
          },
          "hoverlabel": {
           "align": "left"
          },
          "hovermode": "closest",
          "mapbox": {
           "style": "light"
          },
          "paper_bgcolor": "white",
          "plot_bgcolor": "#E5ECF6",
          "polar": {
           "angularaxis": {
            "gridcolor": "white",
            "linecolor": "white",
            "ticks": ""
           },
           "bgcolor": "#E5ECF6",
           "radialaxis": {
            "gridcolor": "white",
            "linecolor": "white",
            "ticks": ""
           }
          },
          "scene": {
           "xaxis": {
            "backgroundcolor": "#E5ECF6",
            "gridcolor": "white",
            "gridwidth": 2,
            "linecolor": "white",
            "showbackground": true,
            "ticks": "",
            "zerolinecolor": "white"
           },
           "yaxis": {
            "backgroundcolor": "#E5ECF6",
            "gridcolor": "white",
            "gridwidth": 2,
            "linecolor": "white",
            "showbackground": true,
            "ticks": "",
            "zerolinecolor": "white"
           },
           "zaxis": {
            "backgroundcolor": "#E5ECF6",
            "gridcolor": "white",
            "gridwidth": 2,
            "linecolor": "white",
            "showbackground": true,
            "ticks": "",
            "zerolinecolor": "white"
           }
          },
          "shapedefaults": {
           "line": {
            "color": "#2a3f5f"
           }
          },
          "ternary": {
           "aaxis": {
            "gridcolor": "white",
            "linecolor": "white",
            "ticks": ""
           },
           "baxis": {
            "gridcolor": "white",
            "linecolor": "white",
            "ticks": ""
           },
           "bgcolor": "#E5ECF6",
           "caxis": {
            "gridcolor": "white",
            "linecolor": "white",
            "ticks": ""
           }
          },
          "title": {
           "x": 0.05
          },
          "xaxis": {
           "automargin": true,
           "gridcolor": "white",
           "linecolor": "white",
           "ticks": "",
           "title": {
            "standoff": 15
           },
           "zerolinecolor": "white",
           "zerolinewidth": 2
          },
          "yaxis": {
           "automargin": true,
           "gridcolor": "white",
           "linecolor": "white",
           "ticks": "",
           "title": {
            "standoff": 15
           },
           "zerolinecolor": "white",
           "zerolinewidth": 2
          }
         }
        },
        "width": 1400,
        "xaxis": {
         "anchor": "y",
         "domain": [
          0,
          1
         ],
         "showgrid": false,
         "title": {
          "text": "Oil and gas production per capita log(tWH)"
         }
        },
        "yaxis": {
         "anchor": "x",
         "domain": [
          0,
          1
         ],
         "gridcolor": "LightGrey",
         "gridwidth": 1,
         "showgrid": true,
         "title": {
          "text": "Price (£/kWh)"
         }
        }
       }
      }
     },
     "metadata": {},
     "output_type": "display_data"
    }
   ],
   "source": [
    "scatter_chart(data=joined_energy_data, x_var='oil_and_gas_prod_per_capita_log', y_var='price', x_label='Oil and gas production per capita log(tWH)', y_label='Price (£/kWh)', hover_labels='country')"
   ]
  },
  {
   "cell_type": "code",
   "execution_count": 210,
   "metadata": {},
   "outputs": [
    {
     "data": {
      "application/vnd.plotly.v1+json": {
       "config": {
        "plotlyServerURL": "https://plot.ly"
       },
       "data": [
        {
         "customdata": [
          [
           "Lebanon"
          ],
          [
           "Iran"
          ],
          [
           "Syria"
          ],
          [
           "Ethiopia"
          ],
          [
           "Sudan"
          ],
          [
           "Kyrgyzstan"
          ],
          [
           "Libya"
          ],
          [
           "Angola"
          ],
          [
           "Zimbabwe"
          ],
          [
           "Iraq"
          ],
          [
           "Bhutan"
          ],
          [
           "Suriname"
          ],
          [
           "Uzbekistan"
          ],
          [
           "Argentina"
          ],
          [
           "Oman"
          ],
          [
           "Egypt"
          ],
          [
           "Zambia"
          ],
          [
           "Kuwait"
          ],
          [
           "Myanmar"
          ],
          [
           "Laos"
          ],
          [
           "Cuba"
          ],
          [
           "Nigeria"
          ],
          [
           "Qatar"
          ],
          [
           "Uganda"
          ],
          [
           "Algeria"
          ],
          [
           "Nepal"
          ],
          [
           "Venezuela"
          ],
          [
           "Kazakhstan"
          ],
          [
           "Azerbaijan"
          ],
          [
           "Malaysia"
          ],
          [
           "Bahrain"
          ],
          [
           "Saudi Arabia"
          ],
          [
           "Pakistan"
          ],
          [
           "Bangladesh"
          ],
          [
           "Russia"
          ],
          [
           "Afghanistan"
          ],
          [
           "Trinidad and Tobago"
          ],
          [
           "Paraguay"
          ],
          [
           "Democratic Republic of Congo"
          ],
          [
           "Tunisia"
          ],
          [
           "Ghana"
          ],
          [
           "China"
          ],
          [
           "Georgia"
          ],
          [
           "Vietnam"
          ],
          [
           "India"
          ],
          [
           "Ukraine"
          ],
          [
           "Cameroon"
          ],
          [
           "Turkey"
          ],
          [
           "Lesotho"
          ],
          [
           "Taiwan"
          ],
          [
           "Sri Lanka"
          ],
          [
           "Jordan"
          ],
          [
           "Belarus"
          ],
          [
           "Tanzania"
          ],
          [
           "Botswana"
          ],
          [
           "Eswatini"
          ],
          [
           "Indonesia"
          ],
          [
           "Ecuador"
          ],
          [
           "Mexico"
          ],
          [
           "Bosnia and Herzegovina"
          ],
          [
           "Maldives"
          ],
          [
           "Serbia"
          ],
          [
           "Armenia"
          ],
          [
           "Malawi"
          ],
          [
           "Hungary"
          ],
          [
           "South Korea"
          ],
          [
           "Albania"
          ],
          [
           "Namibia"
          ],
          [
           "Morocco"
          ],
          [
           "Cote d'Ivoire"
          ],
          [
           "Canada"
          ],
          [
           "Mozambique"
          ],
          [
           "Madagascar"
          ],
          [
           "Mauritius"
          ],
          [
           "Bulgaria"
          ],
          [
           "Thailand"
          ],
          [
           "Malta"
          ],
          [
           "South Africa"
          ],
          [
           "Cambodia"
          ],
          [
           "Costa Rica"
          ],
          [
           "Iceland"
          ],
          [
           "Sierra Leone"
          ],
          [
           "Macao"
          ],
          [
           "Israel"
          ],
          [
           "Brazil"
          ],
          [
           "Senegal"
          ],
          [
           "Chile"
          ],
          [
           "Panama"
          ],
          [
           "Romania"
          ],
          [
           "Kenya"
          ],
          [
           "Philippines"
          ],
          [
           "United States"
          ],
          [
           "Nicaragua"
          ],
          [
           "United Arab Emirates"
          ],
          [
           "New Zealand"
          ],
          [
           "Norway"
          ],
          [
           "Hong Kong"
          ],
          [
           "Colombia"
          ],
          [
           "Togo"
          ],
          [
           "Poland"
          ],
          [
           "Gabon"
          ],
          [
           "Burkina Faso"
          ],
          [
           "Mali"
          ],
          [
           "France"
          ],
          [
           "Belize"
          ],
          [
           "Rwanda"
          ],
          [
           "Slovakia"
          ],
          [
           "Aruba"
          ],
          [
           "Australia"
          ],
          [
           "Slovenia"
          ],
          [
           "Singapore"
          ],
          [
           "Japan"
          ],
          [
           "El Salvador"
          ],
          [
           "Peru"
          ],
          [
           "Uruguay"
          ],
          [
           "Honduras"
          ],
          [
           "Moldova"
          ],
          [
           "Barbados"
          ],
          [
           "Greece"
          ],
          [
           "Portugal"
          ],
          [
           "Guatemala"
          ],
          [
           "Spain"
          ],
          [
           "Bahamas"
          ],
          [
           "Cape Verde"
          ],
          [
           "Jamaica"
          ],
          [
           "Luxembourg"
          ],
          [
           "Switzerland"
          ],
          [
           "Cyprus"
          ],
          [
           "Finland"
          ],
          [
           "Sweden"
          ],
          [
           "Bermuda"
          ],
          [
           "Latvia"
          ],
          [
           "Czechia"
          ],
          [
           "Estonia"
          ],
          [
           "Cayman Islands"
          ],
          [
           "United Kingdom"
          ],
          [
           "Netherlands"
          ],
          [
           "Lithuania"
          ],
          [
           "Ireland"
          ],
          [
           "Germany"
          ],
          [
           "Denmark"
          ],
          [
           "Belgium"
          ],
          [
           "Austria"
          ],
          [
           "Italy"
          ]
         ],
         "hovertemplate": "Low carbon energy share (%)=%{x}<br>Price (£/kWh)=%{y}<br>country=%{customdata[0]}<extra></extra>",
         "legendgroup": "",
         "marker": {
          "color": "#80b1d3",
          "symbol": "circle"
         },
         "mode": "markers",
         "name": "",
         "orientation": "v",
         "showlegend": false,
         "type": "scatter",
         "x": [
          null,
          1.561,
          null,
          null,
          null,
          null,
          null,
          null,
          null,
          null,
          null,
          null,
          2.347,
          13.895,
          null,
          6.147,
          null,
          null,
          null,
          null,
          null,
          null,
          null,
          null,
          0.254,
          null,
          30.441,
          4.043,
          2.062,
          8.161,
          null,
          null,
          13.931,
          0.698,
          13.007,
          null,
          0.009,
          null,
          null,
          null,
          null,
          17.219,
          null,
          22.623,
          10.804,
          29.287,
          null,
          16.453,
          null,
          8.086,
          null,
          null,
          5.669,
          null,
          null,
          null,
          11.139,
          32.359,
          11.169,
          null,
          null,
          null,
          null,
          null,
          22.12,
          14.978,
          null,
          null,
          7.553,
          null,
          36.248,
          null,
          null,
          null,
          32.38,
          7.208,
          null,
          5.689,
          null,
          null,
          null,
          null,
          null,
          5.197,
          45.948,
          null,
          24.356,
          null,
          26.413,
          null,
          12.527,
          18.449,
          null,
          null,
          40.136,
          72.297,
          0.313,
          31.012,
          null,
          7.893,
          null,
          null,
          null,
          50.048,
          null,
          null,
          30.812,
          null,
          12.895,
          39.057,
          null,
          14.916,
          null,
          30.909,
          null,
          null,
          null,
          null,
          20.098,
          33.324,
          null,
          31.805,
          null,
          null,
          null,
          10.161,
          52.978,
          null,
          54.213,
          73.18,
          null,
          25.44,
          24.02,
          14.843,
          null,
          23.703,
          12.911,
          12.442,
          18.401,
          23.939,
          40.554,
          26.657,
          36.084,
          18.163
         ],
         "xaxis": "x",
         "y": [
          0.001,
          0.002,
          0.004,
          0.005,
          0.007,
          0.008,
          0.008,
          0.011,
          0.012,
          0.012,
          0.012,
          0.012,
          0.019,
          0.02,
          0.021,
          0.021,
          0.022,
          0.023,
          0.023,
          0.024,
          0.024,
          0.024,
          0.025,
          0.031,
          0.031,
          0.035,
          0.036,
          0.036,
          0.037,
          0.038,
          0.038,
          0.038,
          0.039,
          0.041,
          0.041,
          0.041,
          0.042,
          0.044,
          0.053,
          0.054,
          0.057,
          0.059,
          0.06,
          0.062,
          0.062,
          0.063,
          0.065,
          0.065,
          0.07,
          0.07,
          0.071,
          0.072,
          0.073,
          0.074,
          0.074,
          0.074,
          0.075,
          0.076,
          0.077,
          0.077,
          0.079,
          0.082,
          0.083,
          0.084,
          0.087,
          0.087,
          0.09,
          0.091,
          0.092,
          0.094,
          0.096,
          0.101,
          0.103,
          0.106,
          0.108,
          0.111,
          0.114,
          0.115,
          0.117,
          0.119,
          0.121,
          0.124,
          0.125,
          0.129,
          0.132,
          0.134,
          0.135,
          0.136,
          0.138,
          0.138,
          0.138,
          0.138,
          0.139,
          0.139,
          0.143,
          0.144,
          0.145,
          0.146,
          0.151,
          0.155,
          0.16,
          0.161,
          0.171,
          0.172,
          0.172,
          0.172,
          0.173,
          0.18,
          0.181,
          0.184,
          0.186,
          0.188,
          0.193,
          0.193,
          0.2,
          0.209,
          0.213,
          0.215,
          0.219,
          0.22,
          0.231,
          0.236,
          0.246,
          0.246,
          0.26,
          0.26,
          0.268,
          0.286,
          0.288,
          0.333,
          0.34,
          0.347,
          0.35,
          0.37,
          0.383,
          0.387,
          0.405,
          0.447,
          0.469,
          0.48,
          0.49,
          0.507,
          0.542,
          0.613
         ],
         "yaxis": "y"
        },
        {
         "hovertemplate": "<b>OLS trendline</b><br>price = 0.00309048 * low_carbon_share_energy + 0.110729<br>R<sup>2</sup>=0.112344<br><br>Low carbon energy share (%)=%{x}<br>Price (£/kWh)=%{y} <b>(trend)</b><extra></extra>",
         "legendgroup": "Overall Trendline",
         "line": {
          "color": "#969696"
         },
         "mode": "lines",
         "name": "Overall Trendline",
         "showlegend": true,
         "type": "scatter",
         "x": [
          0.009,
          0.254,
          0.313,
          0.698,
          1.561,
          2.062,
          2.347,
          4.043,
          5.197,
          5.669,
          5.689,
          6.147,
          7.208,
          7.553,
          7.893,
          8.086,
          8.161,
          10.161,
          10.804,
          11.139,
          11.169,
          12.442,
          12.527,
          12.895,
          12.911,
          13.007,
          13.895,
          13.931,
          14.843,
          14.916,
          14.978,
          16.453,
          17.219,
          18.163,
          18.401,
          18.449,
          20.098,
          22.12,
          22.623,
          23.703,
          23.939,
          24.02,
          24.356,
          25.44,
          26.413,
          26.657,
          29.287,
          30.441,
          30.812,
          30.909,
          31.012,
          31.805,
          32.359,
          32.38,
          33.324,
          36.084,
          36.248,
          39.057,
          40.136,
          40.554,
          45.948,
          50.048,
          52.978,
          54.213,
          72.297,
          73.18
         ],
         "xaxis": "x",
         "y": [
          0.11075649012220802,
          0.11151365852419505,
          0.11169599703732663,
          0.11288583309759198,
          0.11555292016255041,
          0.11710125228253207,
          0.11798204001545577,
          0.12322349964717014,
          0.12678991734469278,
          0.12824862544974536,
          0.12831043511521367,
          0.12972587645443845,
          0.13300487920753334,
          0.134071095936862,
          0.13512186024982362,
          0.13571832352159302,
          0.13595010976709926,
          0.14213107631393224,
          0.14411825705873904,
          0.14515356895533355,
          0.14524628345353605,
          0.14918046866059526,
          0.14944315973883565,
          0.1505804575834529,
          0.15062990531582757,
          0.15092659171007555,
          0.1536709408568694,
          0.1537821982547124,
          0.15660071900006822,
          0.15682632427902765,
          0.15701793424197946,
          0.16157639707026877,
          0.16394370725770582,
          0.16686112346781098,
          0.1675966584868841,
          0.1677450016840081,
          0.1728412086018719,
          0.17909016578072004,
          0.18064467886724855,
          0.18398240080253836,
          0.18471175485506464,
          0.18496208400021136,
          0.18600048638007932,
          0.1893505702484628,
          0.19235761047349703,
          0.19311168839221066,
          0.201239659401296,
          0.20480607709881865,
          0.20595264639325617,
          0.20625242327077759,
          0.2065707430479395,
          0.20902149628375877,
          0.2107336240172315,
          0.21079852416597322,
          0.21371594037607838,
          0.22224567421070793,
          0.2227525134675482,
          0.23143368098257516,
          0.23476831243459156,
          0.23606013444287965,
          0.2527302012196882,
          0.2654011826406958,
          0.2744562986318061,
          0.27827304547447546,
          0.3341613449909393,
          0.33689024172136606
         ],
         "yaxis": "y"
        }
       ],
       "layout": {
        "font": {
         "family": "Arial",
         "size": 22
        },
        "height": 750,
        "legend": {
         "tracegroupgap": 0
        },
        "margin": {
         "pad": 20,
         "t": 60
        },
        "paper_bgcolor": "white",
        "plot_bgcolor": "white",
        "template": {
         "data": {
          "bar": [
           {
            "error_x": {
             "color": "#2a3f5f"
            },
            "error_y": {
             "color": "#2a3f5f"
            },
            "marker": {
             "line": {
              "color": "#E5ECF6",
              "width": 0.5
             },
             "pattern": {
              "fillmode": "overlay",
              "size": 10,
              "solidity": 0.2
             }
            },
            "type": "bar"
           }
          ],
          "barpolar": [
           {
            "marker": {
             "line": {
              "color": "#E5ECF6",
              "width": 0.5
             },
             "pattern": {
              "fillmode": "overlay",
              "size": 10,
              "solidity": 0.2
             }
            },
            "type": "barpolar"
           }
          ],
          "carpet": [
           {
            "aaxis": {
             "endlinecolor": "#2a3f5f",
             "gridcolor": "white",
             "linecolor": "white",
             "minorgridcolor": "white",
             "startlinecolor": "#2a3f5f"
            },
            "baxis": {
             "endlinecolor": "#2a3f5f",
             "gridcolor": "white",
             "linecolor": "white",
             "minorgridcolor": "white",
             "startlinecolor": "#2a3f5f"
            },
            "type": "carpet"
           }
          ],
          "choropleth": [
           {
            "colorbar": {
             "outlinewidth": 0,
             "ticks": ""
            },
            "type": "choropleth"
           }
          ],
          "contour": [
           {
            "colorbar": {
             "outlinewidth": 0,
             "ticks": ""
            },
            "colorscale": [
             [
              0,
              "#0d0887"
             ],
             [
              0.1111111111111111,
              "#46039f"
             ],
             [
              0.2222222222222222,
              "#7201a8"
             ],
             [
              0.3333333333333333,
              "#9c179e"
             ],
             [
              0.4444444444444444,
              "#bd3786"
             ],
             [
              0.5555555555555556,
              "#d8576b"
             ],
             [
              0.6666666666666666,
              "#ed7953"
             ],
             [
              0.7777777777777778,
              "#fb9f3a"
             ],
             [
              0.8888888888888888,
              "#fdca26"
             ],
             [
              1,
              "#f0f921"
             ]
            ],
            "type": "contour"
           }
          ],
          "contourcarpet": [
           {
            "colorbar": {
             "outlinewidth": 0,
             "ticks": ""
            },
            "type": "contourcarpet"
           }
          ],
          "heatmap": [
           {
            "colorbar": {
             "outlinewidth": 0,
             "ticks": ""
            },
            "colorscale": [
             [
              0,
              "#0d0887"
             ],
             [
              0.1111111111111111,
              "#46039f"
             ],
             [
              0.2222222222222222,
              "#7201a8"
             ],
             [
              0.3333333333333333,
              "#9c179e"
             ],
             [
              0.4444444444444444,
              "#bd3786"
             ],
             [
              0.5555555555555556,
              "#d8576b"
             ],
             [
              0.6666666666666666,
              "#ed7953"
             ],
             [
              0.7777777777777778,
              "#fb9f3a"
             ],
             [
              0.8888888888888888,
              "#fdca26"
             ],
             [
              1,
              "#f0f921"
             ]
            ],
            "type": "heatmap"
           }
          ],
          "heatmapgl": [
           {
            "colorbar": {
             "outlinewidth": 0,
             "ticks": ""
            },
            "colorscale": [
             [
              0,
              "#0d0887"
             ],
             [
              0.1111111111111111,
              "#46039f"
             ],
             [
              0.2222222222222222,
              "#7201a8"
             ],
             [
              0.3333333333333333,
              "#9c179e"
             ],
             [
              0.4444444444444444,
              "#bd3786"
             ],
             [
              0.5555555555555556,
              "#d8576b"
             ],
             [
              0.6666666666666666,
              "#ed7953"
             ],
             [
              0.7777777777777778,
              "#fb9f3a"
             ],
             [
              0.8888888888888888,
              "#fdca26"
             ],
             [
              1,
              "#f0f921"
             ]
            ],
            "type": "heatmapgl"
           }
          ],
          "histogram": [
           {
            "marker": {
             "pattern": {
              "fillmode": "overlay",
              "size": 10,
              "solidity": 0.2
             }
            },
            "type": "histogram"
           }
          ],
          "histogram2d": [
           {
            "colorbar": {
             "outlinewidth": 0,
             "ticks": ""
            },
            "colorscale": [
             [
              0,
              "#0d0887"
             ],
             [
              0.1111111111111111,
              "#46039f"
             ],
             [
              0.2222222222222222,
              "#7201a8"
             ],
             [
              0.3333333333333333,
              "#9c179e"
             ],
             [
              0.4444444444444444,
              "#bd3786"
             ],
             [
              0.5555555555555556,
              "#d8576b"
             ],
             [
              0.6666666666666666,
              "#ed7953"
             ],
             [
              0.7777777777777778,
              "#fb9f3a"
             ],
             [
              0.8888888888888888,
              "#fdca26"
             ],
             [
              1,
              "#f0f921"
             ]
            ],
            "type": "histogram2d"
           }
          ],
          "histogram2dcontour": [
           {
            "colorbar": {
             "outlinewidth": 0,
             "ticks": ""
            },
            "colorscale": [
             [
              0,
              "#0d0887"
             ],
             [
              0.1111111111111111,
              "#46039f"
             ],
             [
              0.2222222222222222,
              "#7201a8"
             ],
             [
              0.3333333333333333,
              "#9c179e"
             ],
             [
              0.4444444444444444,
              "#bd3786"
             ],
             [
              0.5555555555555556,
              "#d8576b"
             ],
             [
              0.6666666666666666,
              "#ed7953"
             ],
             [
              0.7777777777777778,
              "#fb9f3a"
             ],
             [
              0.8888888888888888,
              "#fdca26"
             ],
             [
              1,
              "#f0f921"
             ]
            ],
            "type": "histogram2dcontour"
           }
          ],
          "mesh3d": [
           {
            "colorbar": {
             "outlinewidth": 0,
             "ticks": ""
            },
            "type": "mesh3d"
           }
          ],
          "parcoords": [
           {
            "line": {
             "colorbar": {
              "outlinewidth": 0,
              "ticks": ""
             }
            },
            "type": "parcoords"
           }
          ],
          "pie": [
           {
            "automargin": true,
            "type": "pie"
           }
          ],
          "scatter": [
           {
            "fillpattern": {
             "fillmode": "overlay",
             "size": 10,
             "solidity": 0.2
            },
            "type": "scatter"
           }
          ],
          "scatter3d": [
           {
            "line": {
             "colorbar": {
              "outlinewidth": 0,
              "ticks": ""
             }
            },
            "marker": {
             "colorbar": {
              "outlinewidth": 0,
              "ticks": ""
             }
            },
            "type": "scatter3d"
           }
          ],
          "scattercarpet": [
           {
            "marker": {
             "colorbar": {
              "outlinewidth": 0,
              "ticks": ""
             }
            },
            "type": "scattercarpet"
           }
          ],
          "scattergeo": [
           {
            "marker": {
             "colorbar": {
              "outlinewidth": 0,
              "ticks": ""
             }
            },
            "type": "scattergeo"
           }
          ],
          "scattergl": [
           {
            "marker": {
             "colorbar": {
              "outlinewidth": 0,
              "ticks": ""
             }
            },
            "type": "scattergl"
           }
          ],
          "scattermapbox": [
           {
            "marker": {
             "colorbar": {
              "outlinewidth": 0,
              "ticks": ""
             }
            },
            "type": "scattermapbox"
           }
          ],
          "scatterpolar": [
           {
            "marker": {
             "colorbar": {
              "outlinewidth": 0,
              "ticks": ""
             }
            },
            "type": "scatterpolar"
           }
          ],
          "scatterpolargl": [
           {
            "marker": {
             "colorbar": {
              "outlinewidth": 0,
              "ticks": ""
             }
            },
            "type": "scatterpolargl"
           }
          ],
          "scatterternary": [
           {
            "marker": {
             "colorbar": {
              "outlinewidth": 0,
              "ticks": ""
             }
            },
            "type": "scatterternary"
           }
          ],
          "surface": [
           {
            "colorbar": {
             "outlinewidth": 0,
             "ticks": ""
            },
            "colorscale": [
             [
              0,
              "#0d0887"
             ],
             [
              0.1111111111111111,
              "#46039f"
             ],
             [
              0.2222222222222222,
              "#7201a8"
             ],
             [
              0.3333333333333333,
              "#9c179e"
             ],
             [
              0.4444444444444444,
              "#bd3786"
             ],
             [
              0.5555555555555556,
              "#d8576b"
             ],
             [
              0.6666666666666666,
              "#ed7953"
             ],
             [
              0.7777777777777778,
              "#fb9f3a"
             ],
             [
              0.8888888888888888,
              "#fdca26"
             ],
             [
              1,
              "#f0f921"
             ]
            ],
            "type": "surface"
           }
          ],
          "table": [
           {
            "cells": {
             "fill": {
              "color": "#EBF0F8"
             },
             "line": {
              "color": "white"
             }
            },
            "header": {
             "fill": {
              "color": "#C8D4E3"
             },
             "line": {
              "color": "white"
             }
            },
            "type": "table"
           }
          ]
         },
         "layout": {
          "annotationdefaults": {
           "arrowcolor": "#2a3f5f",
           "arrowhead": 0,
           "arrowwidth": 1
          },
          "autotypenumbers": "strict",
          "coloraxis": {
           "colorbar": {
            "outlinewidth": 0,
            "ticks": ""
           }
          },
          "colorscale": {
           "diverging": [
            [
             0,
             "#8e0152"
            ],
            [
             0.1,
             "#c51b7d"
            ],
            [
             0.2,
             "#de77ae"
            ],
            [
             0.3,
             "#f1b6da"
            ],
            [
             0.4,
             "#fde0ef"
            ],
            [
             0.5,
             "#f7f7f7"
            ],
            [
             0.6,
             "#e6f5d0"
            ],
            [
             0.7,
             "#b8e186"
            ],
            [
             0.8,
             "#7fbc41"
            ],
            [
             0.9,
             "#4d9221"
            ],
            [
             1,
             "#276419"
            ]
           ],
           "sequential": [
            [
             0,
             "#0d0887"
            ],
            [
             0.1111111111111111,
             "#46039f"
            ],
            [
             0.2222222222222222,
             "#7201a8"
            ],
            [
             0.3333333333333333,
             "#9c179e"
            ],
            [
             0.4444444444444444,
             "#bd3786"
            ],
            [
             0.5555555555555556,
             "#d8576b"
            ],
            [
             0.6666666666666666,
             "#ed7953"
            ],
            [
             0.7777777777777778,
             "#fb9f3a"
            ],
            [
             0.8888888888888888,
             "#fdca26"
            ],
            [
             1,
             "#f0f921"
            ]
           ],
           "sequentialminus": [
            [
             0,
             "#0d0887"
            ],
            [
             0.1111111111111111,
             "#46039f"
            ],
            [
             0.2222222222222222,
             "#7201a8"
            ],
            [
             0.3333333333333333,
             "#9c179e"
            ],
            [
             0.4444444444444444,
             "#bd3786"
            ],
            [
             0.5555555555555556,
             "#d8576b"
            ],
            [
             0.6666666666666666,
             "#ed7953"
            ],
            [
             0.7777777777777778,
             "#fb9f3a"
            ],
            [
             0.8888888888888888,
             "#fdca26"
            ],
            [
             1,
             "#f0f921"
            ]
           ]
          },
          "colorway": [
           "#636efa",
           "#EF553B",
           "#00cc96",
           "#ab63fa",
           "#FFA15A",
           "#19d3f3",
           "#FF6692",
           "#B6E880",
           "#FF97FF",
           "#FECB52"
          ],
          "font": {
           "color": "#2a3f5f"
          },
          "geo": {
           "bgcolor": "white",
           "lakecolor": "white",
           "landcolor": "#E5ECF6",
           "showlakes": true,
           "showland": true,
           "subunitcolor": "white"
          },
          "hoverlabel": {
           "align": "left"
          },
          "hovermode": "closest",
          "mapbox": {
           "style": "light"
          },
          "paper_bgcolor": "white",
          "plot_bgcolor": "#E5ECF6",
          "polar": {
           "angularaxis": {
            "gridcolor": "white",
            "linecolor": "white",
            "ticks": ""
           },
           "bgcolor": "#E5ECF6",
           "radialaxis": {
            "gridcolor": "white",
            "linecolor": "white",
            "ticks": ""
           }
          },
          "scene": {
           "xaxis": {
            "backgroundcolor": "#E5ECF6",
            "gridcolor": "white",
            "gridwidth": 2,
            "linecolor": "white",
            "showbackground": true,
            "ticks": "",
            "zerolinecolor": "white"
           },
           "yaxis": {
            "backgroundcolor": "#E5ECF6",
            "gridcolor": "white",
            "gridwidth": 2,
            "linecolor": "white",
            "showbackground": true,
            "ticks": "",
            "zerolinecolor": "white"
           },
           "zaxis": {
            "backgroundcolor": "#E5ECF6",
            "gridcolor": "white",
            "gridwidth": 2,
            "linecolor": "white",
            "showbackground": true,
            "ticks": "",
            "zerolinecolor": "white"
           }
          },
          "shapedefaults": {
           "line": {
            "color": "#2a3f5f"
           }
          },
          "ternary": {
           "aaxis": {
            "gridcolor": "white",
            "linecolor": "white",
            "ticks": ""
           },
           "baxis": {
            "gridcolor": "white",
            "linecolor": "white",
            "ticks": ""
           },
           "bgcolor": "#E5ECF6",
           "caxis": {
            "gridcolor": "white",
            "linecolor": "white",
            "ticks": ""
           }
          },
          "title": {
           "x": 0.05
          },
          "xaxis": {
           "automargin": true,
           "gridcolor": "white",
           "linecolor": "white",
           "ticks": "",
           "title": {
            "standoff": 15
           },
           "zerolinecolor": "white",
           "zerolinewidth": 2
          },
          "yaxis": {
           "automargin": true,
           "gridcolor": "white",
           "linecolor": "white",
           "ticks": "",
           "title": {
            "standoff": 15
           },
           "zerolinecolor": "white",
           "zerolinewidth": 2
          }
         }
        },
        "width": 1400,
        "xaxis": {
         "anchor": "y",
         "domain": [
          0,
          1
         ],
         "showgrid": false,
         "title": {
          "text": "Low carbon energy share (%)"
         }
        },
        "yaxis": {
         "anchor": "x",
         "domain": [
          0,
          1
         ],
         "gridcolor": "LightGrey",
         "gridwidth": 1,
         "showgrid": true,
         "title": {
          "text": "Price (£/kWh)"
         }
        }
       }
      }
     },
     "metadata": {},
     "output_type": "display_data"
    }
   ],
   "source": [
    "#global relationship of price against renewable share shows negative correlation, this could be caused by higher standards of leaving in countries with high renewable share\n",
    "scatter_chart(data=joined_energy_data, x_var='low_carbon_share_energy', y_var='price', x_label='Low carbon energy share (%)', y_label='Price (£/kWh)', hover_labels='country')"
   ]
  },
  {
   "cell_type": "code",
   "execution_count": 211,
   "metadata": {},
   "outputs": [
    {
     "data": {
      "application/vnd.plotly.v1+json": {
       "config": {
        "plotlyServerURL": "https://plot.ly"
       },
       "data": [
        {
         "customdata": [
          [
           "Hungary"
          ],
          [
           "Bulgaria"
          ],
          [
           "Malta"
          ],
          [
           "Romania"
          ],
          [
           "Poland"
          ],
          [
           "France"
          ],
          [
           "Slovakia"
          ],
          [
           "Slovenia"
          ],
          [
           "Greece"
          ],
          [
           "Portugal"
          ],
          [
           "Spain"
          ],
          [
           "Luxembourg"
          ],
          [
           "Cyprus"
          ],
          [
           "Finland"
          ],
          [
           "Sweden"
          ],
          [
           "Latvia"
          ],
          [
           "Czechia"
          ],
          [
           "Estonia"
          ],
          [
           "United Kingdom"
          ],
          [
           "Netherlands"
          ],
          [
           "Lithuania"
          ],
          [
           "Ireland"
          ],
          [
           "Germany"
          ],
          [
           "Denmark"
          ],
          [
           "Belgium"
          ],
          [
           "Austria"
          ],
          [
           "Italy"
          ]
         ],
         "hovertemplate": "Low carbon energy share (%)=%{x}<br>Price (£/kWh)=%{y}<br>country=%{customdata[0]}<extra></extra>",
         "legendgroup": "",
         "marker": {
          "color": "#80b1d3",
          "symbol": "circle"
         },
         "mode": "markers",
         "name": "",
         "orientation": "v",
         "showlegend": false,
         "type": "scatter",
         "x": [
          22.12,
          32.38,
          null,
          26.413,
          7.893,
          50.048,
          30.812,
          39.057,
          20.098,
          33.324,
          31.805,
          10.161,
          null,
          54.213,
          73.18,
          25.44,
          24.02,
          14.843,
          23.703,
          12.911,
          12.442,
          18.401,
          23.939,
          40.554,
          26.657,
          36.084,
          18.163
         ],
         "xaxis": "x",
         "y": [
          0.087,
          0.108,
          0.114,
          0.138,
          0.155,
          0.172,
          0.173,
          0.184,
          0.219,
          0.22,
          0.236,
          0.26,
          0.286,
          0.288,
          0.333,
          0.347,
          0.35,
          0.37,
          0.387,
          0.405,
          0.447,
          0.469,
          0.48,
          0.49,
          0.507,
          0.542,
          0.613
         ],
         "yaxis": "y"
        },
        {
         "hovertemplate": "<b>OLS trendline</b><br>price = -0.00113074 * low_carbon_share_energy + 0.351252<br>R<sup>2</sup>=0.012823<br><br>Low carbon energy share (%)=%{x}<br>Price (£/kWh)=%{y} <b>(trend)</b><extra></extra>",
         "legendgroup": "Overall Trendline",
         "line": {
          "color": "#969696"
         },
         "mode": "lines",
         "name": "Overall Trendline",
         "showlegend": true,
         "type": "scatter",
         "x": [
          7.893,
          10.161,
          12.442,
          12.911,
          14.843,
          18.163,
          18.401,
          20.098,
          22.12,
          23.703,
          23.939,
          24.02,
          25.44,
          26.413,
          26.657,
          30.812,
          31.805,
          32.38,
          33.324,
          36.084,
          39.057,
          40.554,
          50.048,
          54.213,
          73.18
         ],
         "xaxis": "x",
         "y": [
          0.3423275325605672,
          0.33976301315222485,
          0.33718379411764415,
          0.33665347683258573,
          0.33446888622547927,
          0.33071482783231493,
          0.33044571159810615,
          0.32852684500376883,
          0.3262404877534742,
          0.3244505255738419,
          0.3241836708205929,
          0.32409208084172353,
          0.32248642936030986,
          0.3213862188733976,
          0.3211103181963096,
          0.3164120915024548,
          0.3152892662059451,
          0.3146390904300206,
          0.31357167141702447,
          0.31045082769258664,
          0.3070891362459368,
          0.30539641774757326,
          0.29466116763169914,
          0.2899516335330457,
          0.2685048788513747
         ],
         "yaxis": "y"
        }
       ],
       "layout": {
        "font": {
         "family": "Arial",
         "size": 22
        },
        "height": 750,
        "legend": {
         "tracegroupgap": 0
        },
        "margin": {
         "pad": 20,
         "t": 60
        },
        "paper_bgcolor": "white",
        "plot_bgcolor": "white",
        "template": {
         "data": {
          "bar": [
           {
            "error_x": {
             "color": "#2a3f5f"
            },
            "error_y": {
             "color": "#2a3f5f"
            },
            "marker": {
             "line": {
              "color": "#E5ECF6",
              "width": 0.5
             },
             "pattern": {
              "fillmode": "overlay",
              "size": 10,
              "solidity": 0.2
             }
            },
            "type": "bar"
           }
          ],
          "barpolar": [
           {
            "marker": {
             "line": {
              "color": "#E5ECF6",
              "width": 0.5
             },
             "pattern": {
              "fillmode": "overlay",
              "size": 10,
              "solidity": 0.2
             }
            },
            "type": "barpolar"
           }
          ],
          "carpet": [
           {
            "aaxis": {
             "endlinecolor": "#2a3f5f",
             "gridcolor": "white",
             "linecolor": "white",
             "minorgridcolor": "white",
             "startlinecolor": "#2a3f5f"
            },
            "baxis": {
             "endlinecolor": "#2a3f5f",
             "gridcolor": "white",
             "linecolor": "white",
             "minorgridcolor": "white",
             "startlinecolor": "#2a3f5f"
            },
            "type": "carpet"
           }
          ],
          "choropleth": [
           {
            "colorbar": {
             "outlinewidth": 0,
             "ticks": ""
            },
            "type": "choropleth"
           }
          ],
          "contour": [
           {
            "colorbar": {
             "outlinewidth": 0,
             "ticks": ""
            },
            "colorscale": [
             [
              0,
              "#0d0887"
             ],
             [
              0.1111111111111111,
              "#46039f"
             ],
             [
              0.2222222222222222,
              "#7201a8"
             ],
             [
              0.3333333333333333,
              "#9c179e"
             ],
             [
              0.4444444444444444,
              "#bd3786"
             ],
             [
              0.5555555555555556,
              "#d8576b"
             ],
             [
              0.6666666666666666,
              "#ed7953"
             ],
             [
              0.7777777777777778,
              "#fb9f3a"
             ],
             [
              0.8888888888888888,
              "#fdca26"
             ],
             [
              1,
              "#f0f921"
             ]
            ],
            "type": "contour"
           }
          ],
          "contourcarpet": [
           {
            "colorbar": {
             "outlinewidth": 0,
             "ticks": ""
            },
            "type": "contourcarpet"
           }
          ],
          "heatmap": [
           {
            "colorbar": {
             "outlinewidth": 0,
             "ticks": ""
            },
            "colorscale": [
             [
              0,
              "#0d0887"
             ],
             [
              0.1111111111111111,
              "#46039f"
             ],
             [
              0.2222222222222222,
              "#7201a8"
             ],
             [
              0.3333333333333333,
              "#9c179e"
             ],
             [
              0.4444444444444444,
              "#bd3786"
             ],
             [
              0.5555555555555556,
              "#d8576b"
             ],
             [
              0.6666666666666666,
              "#ed7953"
             ],
             [
              0.7777777777777778,
              "#fb9f3a"
             ],
             [
              0.8888888888888888,
              "#fdca26"
             ],
             [
              1,
              "#f0f921"
             ]
            ],
            "type": "heatmap"
           }
          ],
          "heatmapgl": [
           {
            "colorbar": {
             "outlinewidth": 0,
             "ticks": ""
            },
            "colorscale": [
             [
              0,
              "#0d0887"
             ],
             [
              0.1111111111111111,
              "#46039f"
             ],
             [
              0.2222222222222222,
              "#7201a8"
             ],
             [
              0.3333333333333333,
              "#9c179e"
             ],
             [
              0.4444444444444444,
              "#bd3786"
             ],
             [
              0.5555555555555556,
              "#d8576b"
             ],
             [
              0.6666666666666666,
              "#ed7953"
             ],
             [
              0.7777777777777778,
              "#fb9f3a"
             ],
             [
              0.8888888888888888,
              "#fdca26"
             ],
             [
              1,
              "#f0f921"
             ]
            ],
            "type": "heatmapgl"
           }
          ],
          "histogram": [
           {
            "marker": {
             "pattern": {
              "fillmode": "overlay",
              "size": 10,
              "solidity": 0.2
             }
            },
            "type": "histogram"
           }
          ],
          "histogram2d": [
           {
            "colorbar": {
             "outlinewidth": 0,
             "ticks": ""
            },
            "colorscale": [
             [
              0,
              "#0d0887"
             ],
             [
              0.1111111111111111,
              "#46039f"
             ],
             [
              0.2222222222222222,
              "#7201a8"
             ],
             [
              0.3333333333333333,
              "#9c179e"
             ],
             [
              0.4444444444444444,
              "#bd3786"
             ],
             [
              0.5555555555555556,
              "#d8576b"
             ],
             [
              0.6666666666666666,
              "#ed7953"
             ],
             [
              0.7777777777777778,
              "#fb9f3a"
             ],
             [
              0.8888888888888888,
              "#fdca26"
             ],
             [
              1,
              "#f0f921"
             ]
            ],
            "type": "histogram2d"
           }
          ],
          "histogram2dcontour": [
           {
            "colorbar": {
             "outlinewidth": 0,
             "ticks": ""
            },
            "colorscale": [
             [
              0,
              "#0d0887"
             ],
             [
              0.1111111111111111,
              "#46039f"
             ],
             [
              0.2222222222222222,
              "#7201a8"
             ],
             [
              0.3333333333333333,
              "#9c179e"
             ],
             [
              0.4444444444444444,
              "#bd3786"
             ],
             [
              0.5555555555555556,
              "#d8576b"
             ],
             [
              0.6666666666666666,
              "#ed7953"
             ],
             [
              0.7777777777777778,
              "#fb9f3a"
             ],
             [
              0.8888888888888888,
              "#fdca26"
             ],
             [
              1,
              "#f0f921"
             ]
            ],
            "type": "histogram2dcontour"
           }
          ],
          "mesh3d": [
           {
            "colorbar": {
             "outlinewidth": 0,
             "ticks": ""
            },
            "type": "mesh3d"
           }
          ],
          "parcoords": [
           {
            "line": {
             "colorbar": {
              "outlinewidth": 0,
              "ticks": ""
             }
            },
            "type": "parcoords"
           }
          ],
          "pie": [
           {
            "automargin": true,
            "type": "pie"
           }
          ],
          "scatter": [
           {
            "fillpattern": {
             "fillmode": "overlay",
             "size": 10,
             "solidity": 0.2
            },
            "type": "scatter"
           }
          ],
          "scatter3d": [
           {
            "line": {
             "colorbar": {
              "outlinewidth": 0,
              "ticks": ""
             }
            },
            "marker": {
             "colorbar": {
              "outlinewidth": 0,
              "ticks": ""
             }
            },
            "type": "scatter3d"
           }
          ],
          "scattercarpet": [
           {
            "marker": {
             "colorbar": {
              "outlinewidth": 0,
              "ticks": ""
             }
            },
            "type": "scattercarpet"
           }
          ],
          "scattergeo": [
           {
            "marker": {
             "colorbar": {
              "outlinewidth": 0,
              "ticks": ""
             }
            },
            "type": "scattergeo"
           }
          ],
          "scattergl": [
           {
            "marker": {
             "colorbar": {
              "outlinewidth": 0,
              "ticks": ""
             }
            },
            "type": "scattergl"
           }
          ],
          "scattermapbox": [
           {
            "marker": {
             "colorbar": {
              "outlinewidth": 0,
              "ticks": ""
             }
            },
            "type": "scattermapbox"
           }
          ],
          "scatterpolar": [
           {
            "marker": {
             "colorbar": {
              "outlinewidth": 0,
              "ticks": ""
             }
            },
            "type": "scatterpolar"
           }
          ],
          "scatterpolargl": [
           {
            "marker": {
             "colorbar": {
              "outlinewidth": 0,
              "ticks": ""
             }
            },
            "type": "scatterpolargl"
           }
          ],
          "scatterternary": [
           {
            "marker": {
             "colorbar": {
              "outlinewidth": 0,
              "ticks": ""
             }
            },
            "type": "scatterternary"
           }
          ],
          "surface": [
           {
            "colorbar": {
             "outlinewidth": 0,
             "ticks": ""
            },
            "colorscale": [
             [
              0,
              "#0d0887"
             ],
             [
              0.1111111111111111,
              "#46039f"
             ],
             [
              0.2222222222222222,
              "#7201a8"
             ],
             [
              0.3333333333333333,
              "#9c179e"
             ],
             [
              0.4444444444444444,
              "#bd3786"
             ],
             [
              0.5555555555555556,
              "#d8576b"
             ],
             [
              0.6666666666666666,
              "#ed7953"
             ],
             [
              0.7777777777777778,
              "#fb9f3a"
             ],
             [
              0.8888888888888888,
              "#fdca26"
             ],
             [
              1,
              "#f0f921"
             ]
            ],
            "type": "surface"
           }
          ],
          "table": [
           {
            "cells": {
             "fill": {
              "color": "#EBF0F8"
             },
             "line": {
              "color": "white"
             }
            },
            "header": {
             "fill": {
              "color": "#C8D4E3"
             },
             "line": {
              "color": "white"
             }
            },
            "type": "table"
           }
          ]
         },
         "layout": {
          "annotationdefaults": {
           "arrowcolor": "#2a3f5f",
           "arrowhead": 0,
           "arrowwidth": 1
          },
          "autotypenumbers": "strict",
          "coloraxis": {
           "colorbar": {
            "outlinewidth": 0,
            "ticks": ""
           }
          },
          "colorscale": {
           "diverging": [
            [
             0,
             "#8e0152"
            ],
            [
             0.1,
             "#c51b7d"
            ],
            [
             0.2,
             "#de77ae"
            ],
            [
             0.3,
             "#f1b6da"
            ],
            [
             0.4,
             "#fde0ef"
            ],
            [
             0.5,
             "#f7f7f7"
            ],
            [
             0.6,
             "#e6f5d0"
            ],
            [
             0.7,
             "#b8e186"
            ],
            [
             0.8,
             "#7fbc41"
            ],
            [
             0.9,
             "#4d9221"
            ],
            [
             1,
             "#276419"
            ]
           ],
           "sequential": [
            [
             0,
             "#0d0887"
            ],
            [
             0.1111111111111111,
             "#46039f"
            ],
            [
             0.2222222222222222,
             "#7201a8"
            ],
            [
             0.3333333333333333,
             "#9c179e"
            ],
            [
             0.4444444444444444,
             "#bd3786"
            ],
            [
             0.5555555555555556,
             "#d8576b"
            ],
            [
             0.6666666666666666,
             "#ed7953"
            ],
            [
             0.7777777777777778,
             "#fb9f3a"
            ],
            [
             0.8888888888888888,
             "#fdca26"
            ],
            [
             1,
             "#f0f921"
            ]
           ],
           "sequentialminus": [
            [
             0,
             "#0d0887"
            ],
            [
             0.1111111111111111,
             "#46039f"
            ],
            [
             0.2222222222222222,
             "#7201a8"
            ],
            [
             0.3333333333333333,
             "#9c179e"
            ],
            [
             0.4444444444444444,
             "#bd3786"
            ],
            [
             0.5555555555555556,
             "#d8576b"
            ],
            [
             0.6666666666666666,
             "#ed7953"
            ],
            [
             0.7777777777777778,
             "#fb9f3a"
            ],
            [
             0.8888888888888888,
             "#fdca26"
            ],
            [
             1,
             "#f0f921"
            ]
           ]
          },
          "colorway": [
           "#636efa",
           "#EF553B",
           "#00cc96",
           "#ab63fa",
           "#FFA15A",
           "#19d3f3",
           "#FF6692",
           "#B6E880",
           "#FF97FF",
           "#FECB52"
          ],
          "font": {
           "color": "#2a3f5f"
          },
          "geo": {
           "bgcolor": "white",
           "lakecolor": "white",
           "landcolor": "#E5ECF6",
           "showlakes": true,
           "showland": true,
           "subunitcolor": "white"
          },
          "hoverlabel": {
           "align": "left"
          },
          "hovermode": "closest",
          "mapbox": {
           "style": "light"
          },
          "paper_bgcolor": "white",
          "plot_bgcolor": "#E5ECF6",
          "polar": {
           "angularaxis": {
            "gridcolor": "white",
            "linecolor": "white",
            "ticks": ""
           },
           "bgcolor": "#E5ECF6",
           "radialaxis": {
            "gridcolor": "white",
            "linecolor": "white",
            "ticks": ""
           }
          },
          "scene": {
           "xaxis": {
            "backgroundcolor": "#E5ECF6",
            "gridcolor": "white",
            "gridwidth": 2,
            "linecolor": "white",
            "showbackground": true,
            "ticks": "",
            "zerolinecolor": "white"
           },
           "yaxis": {
            "backgroundcolor": "#E5ECF6",
            "gridcolor": "white",
            "gridwidth": 2,
            "linecolor": "white",
            "showbackground": true,
            "ticks": "",
            "zerolinecolor": "white"
           },
           "zaxis": {
            "backgroundcolor": "#E5ECF6",
            "gridcolor": "white",
            "gridwidth": 2,
            "linecolor": "white",
            "showbackground": true,
            "ticks": "",
            "zerolinecolor": "white"
           }
          },
          "shapedefaults": {
           "line": {
            "color": "#2a3f5f"
           }
          },
          "ternary": {
           "aaxis": {
            "gridcolor": "white",
            "linecolor": "white",
            "ticks": ""
           },
           "baxis": {
            "gridcolor": "white",
            "linecolor": "white",
            "ticks": ""
           },
           "bgcolor": "#E5ECF6",
           "caxis": {
            "gridcolor": "white",
            "linecolor": "white",
            "ticks": ""
           }
          },
          "title": {
           "x": 0.05
          },
          "xaxis": {
           "automargin": true,
           "gridcolor": "white",
           "linecolor": "white",
           "ticks": "",
           "title": {
            "standoff": 15
           },
           "zerolinecolor": "white",
           "zerolinewidth": 2
          },
          "yaxis": {
           "automargin": true,
           "gridcolor": "white",
           "linecolor": "white",
           "ticks": "",
           "title": {
            "standoff": 15
           },
           "zerolinecolor": "white",
           "zerolinewidth": 2
          }
         }
        },
        "width": 1400,
        "xaxis": {
         "anchor": "y",
         "domain": [
          0,
          1
         ],
         "showgrid": false,
         "title": {
          "text": "Low carbon energy share (%)"
         }
        },
        "yaxis": {
         "anchor": "x",
         "domain": [
          0,
          1
         ],
         "gridcolor": "LightGrey",
         "gridwidth": 1,
         "showgrid": true,
         "title": {
          "text": "Price (£/kWh)"
         }
        }
       }
      }
     },
     "metadata": {},
     "output_type": "display_data"
    }
   ],
   "source": [
    "#eu + uk only\n",
    "\n",
    "europe_country_codes = [\n",
    "    'GBR', 'AUT', 'BEL', 'BGR', 'HRV', 'CYP', 'CZE', 'DNK', 'EST', 'FIN', 'FRA', 'DEU', \n",
    "    'GRC', 'HUN', 'IRL', 'ITA', 'LVA', 'LTU', 'LUX', 'MLT', 'NLD', 'POL', 'PRT', 'ROU', \n",
    "    'SVK', 'SVN', 'ESP', 'SWE'\n",
    "]\n",
    "\n",
    "#opposite trend is true for europe but weak relationship\n",
    "scatter_chart(data=joined_energy_data[joined_energy_data['iso3'].isin(europe_country_codes)], x_var='low_carbon_share_energy', y_var='price', x_label='Low carbon energy share (%)', y_label='Price (£/kWh)', hover_labels='country')"
   ]
  },
  {
   "cell_type": "code",
   "execution_count": 212,
   "metadata": {},
   "outputs": [
    {
     "data": {
      "application/vnd.plotly.v1+json": {
       "config": {
        "plotlyServerURL": "https://plot.ly"
       },
       "data": [
        {
         "customdata": [
          [
           "Lebanon"
          ],
          [
           "Iran"
          ],
          [
           "Syria"
          ],
          [
           "Ethiopia"
          ],
          [
           "Sudan"
          ],
          [
           "Kyrgyzstan"
          ],
          [
           "Libya"
          ],
          [
           "Angola"
          ],
          [
           "Zimbabwe"
          ],
          [
           "Iraq"
          ],
          [
           "Bhutan"
          ],
          [
           "Suriname"
          ],
          [
           "Uzbekistan"
          ],
          [
           "Argentina"
          ],
          [
           "Oman"
          ],
          [
           "Egypt"
          ],
          [
           "Zambia"
          ],
          [
           "Kuwait"
          ],
          [
           "Myanmar"
          ],
          [
           "Laos"
          ],
          [
           "Cuba"
          ],
          [
           "Nigeria"
          ],
          [
           "Qatar"
          ],
          [
           "Uganda"
          ],
          [
           "Algeria"
          ],
          [
           "Nepal"
          ],
          [
           "Venezuela"
          ],
          [
           "Kazakhstan"
          ],
          [
           "Azerbaijan"
          ],
          [
           "Malaysia"
          ],
          [
           "Bahrain"
          ],
          [
           "Saudi Arabia"
          ],
          [
           "Pakistan"
          ],
          [
           "Bangladesh"
          ],
          [
           "Russia"
          ],
          [
           "Afghanistan"
          ],
          [
           "Trinidad and Tobago"
          ],
          [
           "Paraguay"
          ],
          [
           "Democratic Republic of Congo"
          ],
          [
           "Tunisia"
          ],
          [
           "Ghana"
          ],
          [
           "China"
          ],
          [
           "Georgia"
          ],
          [
           "Vietnam"
          ],
          [
           "India"
          ],
          [
           "Ukraine"
          ],
          [
           "Cameroon"
          ],
          [
           "Turkey"
          ],
          [
           "Lesotho"
          ],
          [
           "Taiwan"
          ],
          [
           "Sri Lanka"
          ],
          [
           "Jordan"
          ],
          [
           "Belarus"
          ],
          [
           "Tanzania"
          ],
          [
           "Botswana"
          ],
          [
           "Eswatini"
          ],
          [
           "Indonesia"
          ],
          [
           "Ecuador"
          ],
          [
           "Mexico"
          ],
          [
           "Bosnia and Herzegovina"
          ],
          [
           "Maldives"
          ],
          [
           "Serbia"
          ],
          [
           "Armenia"
          ],
          [
           "Malawi"
          ],
          [
           "Hungary"
          ],
          [
           "South Korea"
          ],
          [
           "Albania"
          ],
          [
           "Namibia"
          ],
          [
           "Morocco"
          ],
          [
           "Cote d'Ivoire"
          ],
          [
           "Canada"
          ],
          [
           "Mozambique"
          ],
          [
           "Madagascar"
          ],
          [
           "Mauritius"
          ],
          [
           "Bulgaria"
          ],
          [
           "Thailand"
          ],
          [
           "Malta"
          ],
          [
           "South Africa"
          ],
          [
           "Cambodia"
          ],
          [
           "Costa Rica"
          ],
          [
           "Iceland"
          ],
          [
           "Sierra Leone"
          ],
          [
           "Macao"
          ],
          [
           "Israel"
          ],
          [
           "Brazil"
          ],
          [
           "Senegal"
          ],
          [
           "Chile"
          ],
          [
           "Panama"
          ],
          [
           "Romania"
          ],
          [
           "Kenya"
          ],
          [
           "Philippines"
          ],
          [
           "United States"
          ],
          [
           "Nicaragua"
          ],
          [
           "United Arab Emirates"
          ],
          [
           "New Zealand"
          ],
          [
           "Norway"
          ],
          [
           "Hong Kong"
          ],
          [
           "Colombia"
          ],
          [
           "Togo"
          ],
          [
           "Poland"
          ],
          [
           "Gabon"
          ],
          [
           "Burkina Faso"
          ],
          [
           "Mali"
          ],
          [
           "France"
          ],
          [
           "Belize"
          ],
          [
           "Rwanda"
          ],
          [
           "Slovakia"
          ],
          [
           "Aruba"
          ],
          [
           "Australia"
          ],
          [
           "Slovenia"
          ],
          [
           "Singapore"
          ],
          [
           "Japan"
          ],
          [
           "El Salvador"
          ],
          [
           "Peru"
          ],
          [
           "Uruguay"
          ],
          [
           "Honduras"
          ],
          [
           "Moldova"
          ],
          [
           "Barbados"
          ],
          [
           "Greece"
          ],
          [
           "Portugal"
          ],
          [
           "Guatemala"
          ],
          [
           "Spain"
          ],
          [
           "Bahamas"
          ],
          [
           "Cape Verde"
          ],
          [
           "Jamaica"
          ],
          [
           "Luxembourg"
          ],
          [
           "Switzerland"
          ],
          [
           "Cyprus"
          ],
          [
           "Finland"
          ],
          [
           "Sweden"
          ],
          [
           "Bermuda"
          ],
          [
           "Latvia"
          ],
          [
           "Czechia"
          ],
          [
           "Estonia"
          ],
          [
           "Cayman Islands"
          ],
          [
           "United Kingdom"
          ],
          [
           "Netherlands"
          ],
          [
           "Lithuania"
          ],
          [
           "Ireland"
          ],
          [
           "Germany"
          ],
          [
           "Denmark"
          ],
          [
           "Belgium"
          ],
          [
           "Austria"
          ],
          [
           "Italy"
          ]
         ],
         "hovertemplate": "Energy usage per capita log(tWH)=%{x}<br>Price (£/kWh)=%{y}<br>country=%{customdata[0]}<extra></extra>",
         "legendgroup": "",
         "marker": {
          "color": "#80b1d3",
          "symbol": "circle"
         },
         "mode": "markers",
         "name": "",
         "orientation": "v",
         "showlegend": false,
         "type": "scatter",
         "x": [
          4.274888650636774,
          4.582355481166459,
          3.7409321892551795,
          2.9403092491379055,
          3.3649996907853135,
          3.9672956564640085,
          4.451330939494121,
          3.4458114943864997,
          3.420806000723473,
          4.122781829357265,
          4.443815981187405,
          4.30717492640179,
          4.218873592885831,
          4.328953919505146,
          4.9403198275326,
          3.984037386953765,
          3.5338816981829333,
          4.991516246983445,
          3.48640894071474,
          4.275244212263345,
          3.9651799622315087,
          3.406191583111311,
          5.299766976219299,
          2.8847081565625317,
          4.201791934274033,
          3.2061874526962857,
          4.315685212029166,
          4.627800834536558,
          4.278166541078661,
          4.578606355894813,
          5.207125740493191,
          4.919610984744277,
          3.67057729370243,
          3.451964720546008,
          4.7801085125144445,
          2.8303936093443203,
          5.045524124008304,
          4.198169551488612,
          2.6137224008929794,
          3.978824129107844,
          3.54199873448763,
          4.488110925839638,
          4.318788668849895,
          4.092577212613557,
          3.833122877476998,
          4.331628604571819,
          3.202384771528377,
          4.358262006540512,
          3.3289529828306574,
          4.763348135939335,
          3.6888226924022125,
          3.9629915836707346,
          4.503937991453498,
          2.957800689382388,
          3.97245269416981,
          3.7767819349194727,
          3.896076423721862,
          4.076404411660222,
          4.243415224716673,
          4.361982635471652,
          4.247220942152413,
          4.441551425576105,
          4.247593939586449,
          2.6674370751670424,
          4.466091674877395,
          4.8282105817858865,
          4.149232418495248,
          3.9419223272398107,
          3.8595411692927315,
          3.3748575472635234,
          5.0031971655485785,
          3.3504856519853545,
          2.705559257490922,
          4.295010824929941,
          4.508081120394373,
          4.288375358395467,
          4.871131768390605,
          4.369075227165228,
          3.6058522571497753,
          4.077643948873696,
          5.195688417747899,
          2.6924926442251165,
          4.330404965605433,
          4.513062052160913,
          4.2216743975041435,
          3.3988439632413554,
          4.38850538353292,
          4.432441214012641,
          4.301804628636596,
          3.2906341918164723,
          3.6805111903428434,
          4.886427268420867,
          3.6299466298917236,
          5.145596524985757,
          4.661871562037714,
          5.0225441923480165,
          4.511441799846284,
          4.04719099955403,
          3.0475489901054464,
          4.505164554083857,
          3.9036132136783186,
          2.956517071243279,
          3.067653617794664,
          4.607073802751954,
          3.8714311245868296,
          2.673348118314424,
          4.5543244481822285,
          4.663609761084328,
          4.788450570849432,
          4.558417867868158,
          5.185528431725165,
          4.602006634973379,
          3.8498143991044556,
          3.97369525352081,
          4.262852590879065,
          3.7064561029504524,
          4.204292933134865,
          4.3622184626039555,
          4.461819057060518,
          4.413039612533337,
          3.756797170445208,
          4.51177173963538,
          4.549586517813417,
          3.8603078744740684,
          4.0876318017193025,
          4.830511078926453,
          4.536158164373609,
          4.379939940084904,
          4.761670153228188,
          4.779498807299571,
          4.667361629371669,
          4.354600354458941,
          4.647239854329627,
          4.666333487895786,
          4.645095600304939,
          4.473002143689581,
          4.7635020793796485,
          4.40094179045251,
          4.55620570262983,
          4.628951196974825,
          4.507162767579525,
          4.803403071302696,
          4.655532685515102,
          4.473093605835615
         ],
         "xaxis": "x",
         "y": [
          0.001,
          0.002,
          0.004,
          0.005,
          0.007,
          0.008,
          0.008,
          0.011,
          0.012,
          0.012,
          0.012,
          0.012,
          0.019,
          0.02,
          0.021,
          0.021,
          0.022,
          0.023,
          0.023,
          0.024,
          0.024,
          0.024,
          0.025,
          0.031,
          0.031,
          0.035,
          0.036,
          0.036,
          0.037,
          0.038,
          0.038,
          0.038,
          0.039,
          0.041,
          0.041,
          0.041,
          0.042,
          0.044,
          0.053,
          0.054,
          0.057,
          0.059,
          0.06,
          0.062,
          0.062,
          0.063,
          0.065,
          0.065,
          0.07,
          0.07,
          0.071,
          0.072,
          0.073,
          0.074,
          0.074,
          0.074,
          0.075,
          0.076,
          0.077,
          0.077,
          0.079,
          0.082,
          0.083,
          0.084,
          0.087,
          0.087,
          0.09,
          0.091,
          0.092,
          0.094,
          0.096,
          0.101,
          0.103,
          0.106,
          0.108,
          0.111,
          0.114,
          0.115,
          0.117,
          0.119,
          0.121,
          0.124,
          0.125,
          0.129,
          0.132,
          0.134,
          0.135,
          0.136,
          0.138,
          0.138,
          0.138,
          0.138,
          0.139,
          0.139,
          0.143,
          0.144,
          0.145,
          0.146,
          0.151,
          0.155,
          0.16,
          0.161,
          0.171,
          0.172,
          0.172,
          0.172,
          0.173,
          0.18,
          0.181,
          0.184,
          0.186,
          0.188,
          0.193,
          0.193,
          0.2,
          0.209,
          0.213,
          0.215,
          0.219,
          0.22,
          0.231,
          0.236,
          0.246,
          0.246,
          0.26,
          0.26,
          0.268,
          0.286,
          0.288,
          0.333,
          0.34,
          0.347,
          0.35,
          0.37,
          0.383,
          0.387,
          0.405,
          0.447,
          0.469,
          0.48,
          0.49,
          0.507,
          0.542,
          0.613
         ],
         "yaxis": "y"
        },
        {
         "hovertemplate": "<b>OLS trendline</b><br>price = 0.0561279 * energy_per_capita_log + -0.096713<br>R<sup>2</sup>=0.075923<br><br>Energy usage per capita log(tWH)=%{x}<br>Price (£/kWh)=%{y} <b>(trend)</b><extra></extra>",
         "legendgroup": "Overall Trendline",
         "line": {
          "color": "#969696"
         },
         "mode": "lines",
         "name": "Overall Trendline",
         "showlegend": true,
         "type": "scatter",
         "x": [
          2.6137224008929794,
          2.6674370751670424,
          2.673348118314424,
          2.6924926442251165,
          2.705559257490922,
          2.8303936093443203,
          2.8847081565625317,
          2.9403092491379055,
          2.956517071243279,
          2.957800689382388,
          3.0475489901054464,
          3.067653617794664,
          3.202384771528377,
          3.2061874526962857,
          3.2906341918164723,
          3.3289529828306574,
          3.3504856519853545,
          3.3649996907853135,
          3.3748575472635234,
          3.3988439632413554,
          3.406191583111311,
          3.420806000723473,
          3.4458114943864997,
          3.451964720546008,
          3.48640894071474,
          3.5338816981829333,
          3.54199873448763,
          3.6058522571497753,
          3.6299466298917236,
          3.67057729370243,
          3.6805111903428434,
          3.6888226924022125,
          3.7064561029504524,
          3.7409321892551795,
          3.756797170445208,
          3.7767819349194727,
          3.833122877476998,
          3.8498143991044556,
          3.8595411692927315,
          3.8603078744740684,
          3.8714311245868296,
          3.896076423721862,
          3.9036132136783186,
          3.9419223272398107,
          3.9629915836707346,
          3.9651799622315087,
          3.9672956564640085,
          3.97245269416981,
          3.97369525352081,
          3.978824129107844,
          3.984037386953765,
          4.04719099955403,
          4.076404411660222,
          4.077643948873696,
          4.0876318017193025,
          4.092577212613557,
          4.122781829357265,
          4.149232418495248,
          4.198169551488612,
          4.201791934274033,
          4.204292933134865,
          4.218873592885831,
          4.2216743975041435,
          4.243415224716673,
          4.247220942152413,
          4.247593939586449,
          4.262852590879065,
          4.274888650636774,
          4.275244212263345,
          4.278166541078661,
          4.288375358395467,
          4.295010824929941,
          4.301804628636596,
          4.30717492640179,
          4.315685212029166,
          4.318788668849895,
          4.328953919505146,
          4.330404965605433,
          4.331628604571819,
          4.354600354458941,
          4.358262006540512,
          4.361982635471652,
          4.3622184626039555,
          4.369075227165228,
          4.379939940084904,
          4.38850538353292,
          4.40094179045251,
          4.413039612533337,
          4.432441214012641,
          4.441551425576105,
          4.443815981187405,
          4.451330939494121,
          4.461819057060518,
          4.466091674877395,
          4.473002143689581,
          4.473093605835615,
          4.488110925839638,
          4.503937991453498,
          4.505164554083857,
          4.507162767579525,
          4.508081120394373,
          4.511441799846284,
          4.51177173963538,
          4.513062052160913,
          4.536158164373609,
          4.549586517813417,
          4.5543244481822285,
          4.55620570262983,
          4.558417867868158,
          4.578606355894813,
          4.582355481166459,
          4.602006634973379,
          4.607073802751954,
          4.627800834536558,
          4.628951196974825,
          4.645095600304939,
          4.647239854329627,
          4.655532685515102,
          4.661871562037714,
          4.663609761084328,
          4.666333487895786,
          4.667361629371669,
          4.761670153228188,
          4.763348135939335,
          4.7635020793796485,
          4.779498807299571,
          4.7801085125144445,
          4.788450570849432,
          4.803403071302696,
          4.8282105817858865,
          4.830511078926453,
          4.871131768390605,
          4.886427268420867,
          4.919610984744277,
          4.9403198275326,
          4.991516246983445,
          5.0031971655485785,
          5.0225441923480165,
          5.045524124008304,
          5.145596524985757,
          5.185528431725165,
          5.195688417747899,
          5.207125740493191,
          5.299766976219299
         ],
         "xaxis": "x",
         "y": [
          0.04998970766848149,
          0.053004599130112046,
          0.05333637352426443,
          0.05441091541593859,
          0.055144316880248095,
          0.06215100595743994,
          0.06519956702317437,
          0.06832033916837132,
          0.06923005006464894,
          0.06930209684553135,
          0.07433947981773817,
          0.07546791019879609,
          0.08303008590770747,
          0.0832435223873915,
          0.08798333988003765,
          0.09013409286160151,
          0.09134267620047432,
          0.09215731860952081,
          0.09271061931789884,
          0.09405692629460527,
          0.09446933271256494,
          0.09528960917278889,
          0.09669311483222687,
          0.0970384824484416,
          0.0989717639342306,
          0.10163630976058452,
          0.10209190190145673,
          0.10567586555516714,
          0.10702823191752114,
          0.1093087454468088,
          0.10986631412923428,
          0.11033282122307356,
          0.11132254739417657,
          0.1132576174590201,
          0.11414808541726745,
          0.11526978812868557,
          0.11843208649412354,
          0.11936894642516369,
          0.11991488953635623,
          0.11995792308232928,
          0.12058224766855763,
          0.12196553636826066,
          0.12238856050449368,
          0.12453877031103341,
          0.12572134327037776,
          0.12584417234691708,
          0.1259629218052949,
          0.1262523754631017,
          0.12632211770074023,
          0.12660999067817313,
          0.12690259985395913,
          0.13044727903097877,
          0.13208696628431058,
          0.13215653889573908,
          0.13271713602624763,
          0.1329947115171325,
          0.13469003299777302,
          0.13617464882063593,
          0.13892138695900003,
          0.13912470367045957,
          0.13926507946558397,
          0.14008346116820475,
          0.1402406644286464,
          0.1414609312406057,
          0.14167453813960407,
          0.1416954736994726,
          0.14255190963843764,
          0.1432274683062617,
          0.1432474252310038,
          0.1434114493885072,
          0.1439844487890946,
          0.1443568835412193,
          0.14473820542511795,
          0.14503962892060612,
          0.145517293317175,
          0.14569148380788927,
          0.14626203790358167,
          0.14634348206306527,
          0.14641216233939075,
          0.14770151824686648,
          0.14790703906115765,
          0.14811587012171956,
          0.1481291066016426,
          0.14851396234561892,
          0.14912377578407474,
          0.14960453607286928,
          0.15030256538314546,
          0.15098159064000016,
          0.15207056164154556,
          0.15258189861654414,
          0.15270900335038398,
          0.15313080212212796,
          0.15371947805709077,
          0.1539592910904751,
          0.1543471611408718,
          0.15435229471836934,
          0.15519518524071887,
          0.1560835250775842,
          0.15615236945300673,
          0.15626452496522056,
          0.1563160701732604,
          0.15650469802815806,
          0.15652321685316153,
          0.15659563937584522,
          0.15789197547855796,
          0.15864568065645532,
          0.15891161070271884,
          0.15901720155005952,
          0.1591413657226788,
          0.16027450300773874,
          0.16048493350783635,
          0.1615879113555914,
          0.1618723208037867,
          0.16303568541498234,
          0.1631002528342171,
          0.16400640416829645,
          0.16412675662761914,
          0.16459221576465619,
          0.16494800354448794,
          0.165045564993665,
          0.16519844203925185,
          0.16525614945345254,
          0.17054948813932616,
          0.1706436697725013,
          0.17065231029336544,
          0.17155017291790134,
          0.17158439438663917,
          0.1720526165398306,
          0.17289186887740535,
          0.17428426215821494,
          0.17441338421434457,
          0.17669333790458133,
          0.17755184208553057,
          0.1794143741470333,
          0.18057671784820165,
          0.1834502649739065,
          0.18410589031506266,
          0.18519179815484507,
          0.1864816132880052,
          0.19209846624912383,
          0.19433976001665207,
          0.19491001861961668,
          0.19555197144079098,
          0.20075172875776712
         ],
         "yaxis": "y"
        }
       ],
       "layout": {
        "font": {
         "family": "Arial",
         "size": 22
        },
        "height": 750,
        "legend": {
         "tracegroupgap": 0
        },
        "margin": {
         "pad": 20,
         "t": 60
        },
        "paper_bgcolor": "white",
        "plot_bgcolor": "white",
        "template": {
         "data": {
          "bar": [
           {
            "error_x": {
             "color": "#2a3f5f"
            },
            "error_y": {
             "color": "#2a3f5f"
            },
            "marker": {
             "line": {
              "color": "#E5ECF6",
              "width": 0.5
             },
             "pattern": {
              "fillmode": "overlay",
              "size": 10,
              "solidity": 0.2
             }
            },
            "type": "bar"
           }
          ],
          "barpolar": [
           {
            "marker": {
             "line": {
              "color": "#E5ECF6",
              "width": 0.5
             },
             "pattern": {
              "fillmode": "overlay",
              "size": 10,
              "solidity": 0.2
             }
            },
            "type": "barpolar"
           }
          ],
          "carpet": [
           {
            "aaxis": {
             "endlinecolor": "#2a3f5f",
             "gridcolor": "white",
             "linecolor": "white",
             "minorgridcolor": "white",
             "startlinecolor": "#2a3f5f"
            },
            "baxis": {
             "endlinecolor": "#2a3f5f",
             "gridcolor": "white",
             "linecolor": "white",
             "minorgridcolor": "white",
             "startlinecolor": "#2a3f5f"
            },
            "type": "carpet"
           }
          ],
          "choropleth": [
           {
            "colorbar": {
             "outlinewidth": 0,
             "ticks": ""
            },
            "type": "choropleth"
           }
          ],
          "contour": [
           {
            "colorbar": {
             "outlinewidth": 0,
             "ticks": ""
            },
            "colorscale": [
             [
              0,
              "#0d0887"
             ],
             [
              0.1111111111111111,
              "#46039f"
             ],
             [
              0.2222222222222222,
              "#7201a8"
             ],
             [
              0.3333333333333333,
              "#9c179e"
             ],
             [
              0.4444444444444444,
              "#bd3786"
             ],
             [
              0.5555555555555556,
              "#d8576b"
             ],
             [
              0.6666666666666666,
              "#ed7953"
             ],
             [
              0.7777777777777778,
              "#fb9f3a"
             ],
             [
              0.8888888888888888,
              "#fdca26"
             ],
             [
              1,
              "#f0f921"
             ]
            ],
            "type": "contour"
           }
          ],
          "contourcarpet": [
           {
            "colorbar": {
             "outlinewidth": 0,
             "ticks": ""
            },
            "type": "contourcarpet"
           }
          ],
          "heatmap": [
           {
            "colorbar": {
             "outlinewidth": 0,
             "ticks": ""
            },
            "colorscale": [
             [
              0,
              "#0d0887"
             ],
             [
              0.1111111111111111,
              "#46039f"
             ],
             [
              0.2222222222222222,
              "#7201a8"
             ],
             [
              0.3333333333333333,
              "#9c179e"
             ],
             [
              0.4444444444444444,
              "#bd3786"
             ],
             [
              0.5555555555555556,
              "#d8576b"
             ],
             [
              0.6666666666666666,
              "#ed7953"
             ],
             [
              0.7777777777777778,
              "#fb9f3a"
             ],
             [
              0.8888888888888888,
              "#fdca26"
             ],
             [
              1,
              "#f0f921"
             ]
            ],
            "type": "heatmap"
           }
          ],
          "heatmapgl": [
           {
            "colorbar": {
             "outlinewidth": 0,
             "ticks": ""
            },
            "colorscale": [
             [
              0,
              "#0d0887"
             ],
             [
              0.1111111111111111,
              "#46039f"
             ],
             [
              0.2222222222222222,
              "#7201a8"
             ],
             [
              0.3333333333333333,
              "#9c179e"
             ],
             [
              0.4444444444444444,
              "#bd3786"
             ],
             [
              0.5555555555555556,
              "#d8576b"
             ],
             [
              0.6666666666666666,
              "#ed7953"
             ],
             [
              0.7777777777777778,
              "#fb9f3a"
             ],
             [
              0.8888888888888888,
              "#fdca26"
             ],
             [
              1,
              "#f0f921"
             ]
            ],
            "type": "heatmapgl"
           }
          ],
          "histogram": [
           {
            "marker": {
             "pattern": {
              "fillmode": "overlay",
              "size": 10,
              "solidity": 0.2
             }
            },
            "type": "histogram"
           }
          ],
          "histogram2d": [
           {
            "colorbar": {
             "outlinewidth": 0,
             "ticks": ""
            },
            "colorscale": [
             [
              0,
              "#0d0887"
             ],
             [
              0.1111111111111111,
              "#46039f"
             ],
             [
              0.2222222222222222,
              "#7201a8"
             ],
             [
              0.3333333333333333,
              "#9c179e"
             ],
             [
              0.4444444444444444,
              "#bd3786"
             ],
             [
              0.5555555555555556,
              "#d8576b"
             ],
             [
              0.6666666666666666,
              "#ed7953"
             ],
             [
              0.7777777777777778,
              "#fb9f3a"
             ],
             [
              0.8888888888888888,
              "#fdca26"
             ],
             [
              1,
              "#f0f921"
             ]
            ],
            "type": "histogram2d"
           }
          ],
          "histogram2dcontour": [
           {
            "colorbar": {
             "outlinewidth": 0,
             "ticks": ""
            },
            "colorscale": [
             [
              0,
              "#0d0887"
             ],
             [
              0.1111111111111111,
              "#46039f"
             ],
             [
              0.2222222222222222,
              "#7201a8"
             ],
             [
              0.3333333333333333,
              "#9c179e"
             ],
             [
              0.4444444444444444,
              "#bd3786"
             ],
             [
              0.5555555555555556,
              "#d8576b"
             ],
             [
              0.6666666666666666,
              "#ed7953"
             ],
             [
              0.7777777777777778,
              "#fb9f3a"
             ],
             [
              0.8888888888888888,
              "#fdca26"
             ],
             [
              1,
              "#f0f921"
             ]
            ],
            "type": "histogram2dcontour"
           }
          ],
          "mesh3d": [
           {
            "colorbar": {
             "outlinewidth": 0,
             "ticks": ""
            },
            "type": "mesh3d"
           }
          ],
          "parcoords": [
           {
            "line": {
             "colorbar": {
              "outlinewidth": 0,
              "ticks": ""
             }
            },
            "type": "parcoords"
           }
          ],
          "pie": [
           {
            "automargin": true,
            "type": "pie"
           }
          ],
          "scatter": [
           {
            "fillpattern": {
             "fillmode": "overlay",
             "size": 10,
             "solidity": 0.2
            },
            "type": "scatter"
           }
          ],
          "scatter3d": [
           {
            "line": {
             "colorbar": {
              "outlinewidth": 0,
              "ticks": ""
             }
            },
            "marker": {
             "colorbar": {
              "outlinewidth": 0,
              "ticks": ""
             }
            },
            "type": "scatter3d"
           }
          ],
          "scattercarpet": [
           {
            "marker": {
             "colorbar": {
              "outlinewidth": 0,
              "ticks": ""
             }
            },
            "type": "scattercarpet"
           }
          ],
          "scattergeo": [
           {
            "marker": {
             "colorbar": {
              "outlinewidth": 0,
              "ticks": ""
             }
            },
            "type": "scattergeo"
           }
          ],
          "scattergl": [
           {
            "marker": {
             "colorbar": {
              "outlinewidth": 0,
              "ticks": ""
             }
            },
            "type": "scattergl"
           }
          ],
          "scattermapbox": [
           {
            "marker": {
             "colorbar": {
              "outlinewidth": 0,
              "ticks": ""
             }
            },
            "type": "scattermapbox"
           }
          ],
          "scatterpolar": [
           {
            "marker": {
             "colorbar": {
              "outlinewidth": 0,
              "ticks": ""
             }
            },
            "type": "scatterpolar"
           }
          ],
          "scatterpolargl": [
           {
            "marker": {
             "colorbar": {
              "outlinewidth": 0,
              "ticks": ""
             }
            },
            "type": "scatterpolargl"
           }
          ],
          "scatterternary": [
           {
            "marker": {
             "colorbar": {
              "outlinewidth": 0,
              "ticks": ""
             }
            },
            "type": "scatterternary"
           }
          ],
          "surface": [
           {
            "colorbar": {
             "outlinewidth": 0,
             "ticks": ""
            },
            "colorscale": [
             [
              0,
              "#0d0887"
             ],
             [
              0.1111111111111111,
              "#46039f"
             ],
             [
              0.2222222222222222,
              "#7201a8"
             ],
             [
              0.3333333333333333,
              "#9c179e"
             ],
             [
              0.4444444444444444,
              "#bd3786"
             ],
             [
              0.5555555555555556,
              "#d8576b"
             ],
             [
              0.6666666666666666,
              "#ed7953"
             ],
             [
              0.7777777777777778,
              "#fb9f3a"
             ],
             [
              0.8888888888888888,
              "#fdca26"
             ],
             [
              1,
              "#f0f921"
             ]
            ],
            "type": "surface"
           }
          ],
          "table": [
           {
            "cells": {
             "fill": {
              "color": "#EBF0F8"
             },
             "line": {
              "color": "white"
             }
            },
            "header": {
             "fill": {
              "color": "#C8D4E3"
             },
             "line": {
              "color": "white"
             }
            },
            "type": "table"
           }
          ]
         },
         "layout": {
          "annotationdefaults": {
           "arrowcolor": "#2a3f5f",
           "arrowhead": 0,
           "arrowwidth": 1
          },
          "autotypenumbers": "strict",
          "coloraxis": {
           "colorbar": {
            "outlinewidth": 0,
            "ticks": ""
           }
          },
          "colorscale": {
           "diverging": [
            [
             0,
             "#8e0152"
            ],
            [
             0.1,
             "#c51b7d"
            ],
            [
             0.2,
             "#de77ae"
            ],
            [
             0.3,
             "#f1b6da"
            ],
            [
             0.4,
             "#fde0ef"
            ],
            [
             0.5,
             "#f7f7f7"
            ],
            [
             0.6,
             "#e6f5d0"
            ],
            [
             0.7,
             "#b8e186"
            ],
            [
             0.8,
             "#7fbc41"
            ],
            [
             0.9,
             "#4d9221"
            ],
            [
             1,
             "#276419"
            ]
           ],
           "sequential": [
            [
             0,
             "#0d0887"
            ],
            [
             0.1111111111111111,
             "#46039f"
            ],
            [
             0.2222222222222222,
             "#7201a8"
            ],
            [
             0.3333333333333333,
             "#9c179e"
            ],
            [
             0.4444444444444444,
             "#bd3786"
            ],
            [
             0.5555555555555556,
             "#d8576b"
            ],
            [
             0.6666666666666666,
             "#ed7953"
            ],
            [
             0.7777777777777778,
             "#fb9f3a"
            ],
            [
             0.8888888888888888,
             "#fdca26"
            ],
            [
             1,
             "#f0f921"
            ]
           ],
           "sequentialminus": [
            [
             0,
             "#0d0887"
            ],
            [
             0.1111111111111111,
             "#46039f"
            ],
            [
             0.2222222222222222,
             "#7201a8"
            ],
            [
             0.3333333333333333,
             "#9c179e"
            ],
            [
             0.4444444444444444,
             "#bd3786"
            ],
            [
             0.5555555555555556,
             "#d8576b"
            ],
            [
             0.6666666666666666,
             "#ed7953"
            ],
            [
             0.7777777777777778,
             "#fb9f3a"
            ],
            [
             0.8888888888888888,
             "#fdca26"
            ],
            [
             1,
             "#f0f921"
            ]
           ]
          },
          "colorway": [
           "#636efa",
           "#EF553B",
           "#00cc96",
           "#ab63fa",
           "#FFA15A",
           "#19d3f3",
           "#FF6692",
           "#B6E880",
           "#FF97FF",
           "#FECB52"
          ],
          "font": {
           "color": "#2a3f5f"
          },
          "geo": {
           "bgcolor": "white",
           "lakecolor": "white",
           "landcolor": "#E5ECF6",
           "showlakes": true,
           "showland": true,
           "subunitcolor": "white"
          },
          "hoverlabel": {
           "align": "left"
          },
          "hovermode": "closest",
          "mapbox": {
           "style": "light"
          },
          "paper_bgcolor": "white",
          "plot_bgcolor": "#E5ECF6",
          "polar": {
           "angularaxis": {
            "gridcolor": "white",
            "linecolor": "white",
            "ticks": ""
           },
           "bgcolor": "#E5ECF6",
           "radialaxis": {
            "gridcolor": "white",
            "linecolor": "white",
            "ticks": ""
           }
          },
          "scene": {
           "xaxis": {
            "backgroundcolor": "#E5ECF6",
            "gridcolor": "white",
            "gridwidth": 2,
            "linecolor": "white",
            "showbackground": true,
            "ticks": "",
            "zerolinecolor": "white"
           },
           "yaxis": {
            "backgroundcolor": "#E5ECF6",
            "gridcolor": "white",
            "gridwidth": 2,
            "linecolor": "white",
            "showbackground": true,
            "ticks": "",
            "zerolinecolor": "white"
           },
           "zaxis": {
            "backgroundcolor": "#E5ECF6",
            "gridcolor": "white",
            "gridwidth": 2,
            "linecolor": "white",
            "showbackground": true,
            "ticks": "",
            "zerolinecolor": "white"
           }
          },
          "shapedefaults": {
           "line": {
            "color": "#2a3f5f"
           }
          },
          "ternary": {
           "aaxis": {
            "gridcolor": "white",
            "linecolor": "white",
            "ticks": ""
           },
           "baxis": {
            "gridcolor": "white",
            "linecolor": "white",
            "ticks": ""
           },
           "bgcolor": "#E5ECF6",
           "caxis": {
            "gridcolor": "white",
            "linecolor": "white",
            "ticks": ""
           }
          },
          "title": {
           "x": 0.05
          },
          "xaxis": {
           "automargin": true,
           "gridcolor": "white",
           "linecolor": "white",
           "ticks": "",
           "title": {
            "standoff": 15
           },
           "zerolinecolor": "white",
           "zerolinewidth": 2
          },
          "yaxis": {
           "automargin": true,
           "gridcolor": "white",
           "linecolor": "white",
           "ticks": "",
           "title": {
            "standoff": 15
           },
           "zerolinecolor": "white",
           "zerolinewidth": 2
          }
         }
        },
        "width": 1400,
        "xaxis": {
         "anchor": "y",
         "domain": [
          0,
          1
         ],
         "showgrid": false,
         "title": {
          "text": "Energy usage per capita log(tWH)"
         }
        },
        "yaxis": {
         "anchor": "x",
         "domain": [
          0,
          1
         ],
         "gridcolor": "LightGrey",
         "gridwidth": 1,
         "showgrid": true,
         "title": {
          "text": "Price (£/kWh)"
         }
        }
       }
      }
     },
     "metadata": {},
     "output_type": "display_data"
    }
   ],
   "source": [
    "#plot of price vs usage per cap, again this could be driven by higher standards of living driving up the prices in countries which use more energy\n",
    "scatter_chart(data=joined_energy_data, x_var='energy_per_capita_log', y_var='price', x_label='Energy usage per capita log(tWH)', y_label='Price (£/kWh)', hover_labels='country')"
   ]
  },
  {
   "cell_type": "code",
   "execution_count": 213,
   "metadata": {},
   "outputs": [
    {
     "data": {
      "text/plain": [
       "<AxesSubplot:>"
      ]
     },
     "execution_count": 213,
     "metadata": {},
     "output_type": "execute_result"
    },
    {
     "data": {
      "image/png": "[encoded data removed]",
      "text/plain": [
       "<Figure size 864x720 with 2 Axes>"
      ]
     },
     "metadata": {
      "needs_background": "light"
     },
     "output_type": "display_data"
    }
   ],
   "source": [
    "#remove energy per cap as it correlates with gdp per cap\n",
    "features = joined_energy_data[['price', 'gdp_per_cap_log', 'oil_and_gas_prod_per_capita_log', 'low_carbon_share_energy', 'energy_per_capita_log']]\n",
    "corr_matrix = features.corr()\n",
    "\n",
    "\n",
    "f, ax = plt.subplots(figsize=(12, 10))\n",
    "mask = np.triu(np.ones_like(corr_matrix, dtype=bool))\n",
    "cmap = sns.diverging_palette(230, 20, as_cmap=True)\n",
    "sns.heatmap(corr_matrix, annot=True, mask = mask, cmap=cmap)"
   ]
  },
  {
   "cell_type": "code",
   "execution_count": 214,
   "metadata": {},
   "outputs": [
    {
     "name": "stdout",
     "output_type": "stream",
     "text": [
      "                            OLS Regression Results                            \n",
      "==============================================================================\n",
      "Dep. Variable:                  price   R-squared:                       0.731\n",
      "Model:                            OLS   Adj. R-squared:                  0.697\n",
      "Method:                 Least Squares   F-statistic:                     21.69\n",
      "Date:                Wed, 06 Sep 2023   Prob (F-statistic):           5.13e-07\n",
      "Time:                        15:54:39   Log-Likelihood:                 33.170\n",
      "No. Observations:                  28   AIC:                            -58.34\n",
      "Df Residuals:                      24   BIC:                            -53.01\n",
      "Df Model:                           3                                         \n",
      "Covariance Type:            nonrobust                                         \n",
      "===================================================================================================\n",
      "                                      coef    std err          t      P>|t|      [0.025      0.975]\n",
      "---------------------------------------------------------------------------------------------------\n",
      "const                              -1.2644      0.263     -4.808      0.000      -1.807      -0.722\n",
      "gdp_per_cap_log                     0.5061      0.077      6.610      0.000       0.348       0.664\n",
      "oil_and_gas_prod_per_capita_log    -0.1864      0.029     -6.455      0.000      -0.246      -0.127\n",
      "low_carbon_share_energy             0.0004      0.001      0.407      0.688      -0.002       0.003\n",
      "==============================================================================\n",
      "Omnibus:                        2.002   Durbin-Watson:                   1.366\n",
      "Prob(Omnibus):                  0.368   Jarque-Bera (JB):                1.280\n",
      "Skew:                           0.238   Prob(JB):                        0.527\n",
      "Kurtosis:                       2.067   Cond. No.                         452.\n",
      "==============================================================================\n",
      "\n",
      "Notes:\n",
      "[1] Standard Errors assume that the covariance matrix of the errors is correctly specified.\n"
     ]
    },
    {
     "name": "stderr",
     "output_type": "stream",
     "text": [
      "d:\\Python37\\lib\\site-packages\\pandas\\core\\frame.py:4906: SettingWithCopyWarning:\n",
      "\n",
      "\n",
      "A value is trying to be set on a copy of a slice from a DataFrame\n",
      "\n",
      "See the caveats in the documentation: https://pandas.pydata.org/pandas-docs/stable/user_guide/indexing.html#returning-a-view-versus-a-copy\n",
      "\n"
     ]
    }
   ],
   "source": [
    "#drop target\n",
    "features.drop(['price', 'energy_per_capita_log'], axis=1, inplace=True)\n",
    "\n",
    "#add constant to predictor variables\n",
    "features = sm.add_constant(features)\n",
    "\n",
    "#assign target var\n",
    "target = joined_energy_data[['price']]\n",
    "\n",
    "#fit linear regression model\n",
    "model = sm.OLS(target, features, missing='drop').fit()\n",
    "\n",
    "#view model summary\n",
    "print(model.summary())"
   ]
  },
  {
   "cell_type": "code",
   "execution_count": 218,
   "metadata": {},
   "outputs": [],
   "source": [
    "#scaled model to get feature importance\n",
    "scaler = StandardScaler()\n",
    "\n",
    "features = joined_energy_data[['gdp_per_cap_log', 'oil_and_gas_prod_per_capita_log', 'low_carbon_share_energy']]\n",
    "\n",
    "features_scaled = scaler.fit_transform(features)\n",
    "target_scaled = scaler.fit_transform(target)"
   ]
  },
  {
   "cell_type": "code",
   "execution_count": 219,
   "metadata": {},
   "outputs": [
    {
     "name": "stdout",
     "output_type": "stream",
     "text": [
      "                            OLS Regression Results                            \n",
      "==============================================================================\n",
      "Dep. Variable:                      y   R-squared:                       0.731\n",
      "Model:                            OLS   Adj. R-squared:                  0.697\n",
      "Method:                 Least Squares   F-statistic:                     21.69\n",
      "Date:                Wed, 06 Sep 2023   Prob (F-statistic):           5.13e-07\n",
      "Time:                        15:58:38   Log-Likelihood:                -25.219\n",
      "No. Observations:                  28   AIC:                             58.44\n",
      "Df Residuals:                      24   BIC:                             63.77\n",
      "Df Model:                           3                                         \n",
      "Covariance Type:            nonrobust                                         \n",
      "==============================================================================\n",
      "                 coef    std err          t      P>|t|      [0.025      0.975]\n",
      "------------------------------------------------------------------------------\n",
      "const         -1.1398      0.198     -5.758      0.000      -1.548      -0.731\n",
      "x1             2.0036      0.303      6.610      0.000       1.378       2.629\n",
      "x2            -1.1421      0.177     -6.455      0.000      -1.507      -0.777\n",
      "x3             0.0557      0.137      0.407      0.688      -0.227       0.339\n",
      "==============================================================================\n",
      "Omnibus:                        2.002   Durbin-Watson:                   1.366\n",
      "Prob(Omnibus):                  0.368   Jarque-Bera (JB):                1.280\n",
      "Skew:                           0.238   Prob(JB):                        0.527\n",
      "Kurtosis:                       2.067   Cond. No.                         3.51\n",
      "==============================================================================\n",
      "\n",
      "Notes:\n",
      "[1] Standard Errors assume that the covariance matrix of the errors is correctly specified.\n"
     ]
    }
   ],
   "source": [
    "#make regression model to explain price - does renewable mix matter? Nope, not once you've controlled for gdp per cap.\n",
    "\n",
    "features_scaled = sm.add_constant(features_scaled)\n",
    "\n",
    "#fit linear regression model\n",
    "scaled_model = sm.OLS(target_scaled, features_scaled, missing='drop').fit()\n",
    "\n",
    "#view model summary\n",
    "print(scaled_model.summary())\n"
   ]
  },
  {
   "cell_type": "code",
   "execution_count": 217,
   "metadata": {},
   "outputs": [],
   "source": [
    "#cluster countries based on 3/4 variables\n",
    "#display 3 var results using 3d scatter (renewable share, oil + gas prod, price)\n",
    "#display 4 var results on 2d plot using pca\n",
    "#get avg values for each var and rough distributions (where is UK an outlier)\n"
   ]
  }
 ],
 "metadata": {
  "kernelspec": {
   "display_name": "Python 3.9.7 ('base')",
   "language": "python",
   "name": "python3"
  },
  "language_info": {
   "codemirror_mode": {
    "name": "ipython",
    "version": 3
   },
   "file_extension": ".py",
   "mimetype": "text/x-python",
   "name": "python",
   "nbconvert_exporter": "python",
   "pygments_lexer": "ipython3",
   "version": "3.9.7"
  },
  "orig_nbformat": 4,
  "vscode": {
   "interpreter": {
    "hash": "caf831573a0ff294614842876d2763885d6da16fb80bd95fae4076843946dd1d"
   }
  }
 },
 "nbformat": 4,
 "nbformat_minor": 2
}
